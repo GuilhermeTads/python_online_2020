{
 "cells": [
  {
   "cell_type": "markdown",
   "metadata": {},
   "source": [
    "# Calculo Diferencial e Integral: `Sympy`"
   ]
  },
  {
   "cell_type": "markdown",
   "metadata": {},
   "source": [
    "This note was prepared by [Renan Serpa](https://www.linkedin.com/in/renan-santos-serpa/) based on the video lecture at [SymPy (Symbolic Expressions on Python) in one video](https://youtu.be/kx2GzBeGPco)"
   ]
  },
  {
   "cell_type": "markdown",
   "metadata": {},
   "source": [
    "O objetivo dessa seção é conhecer o pacote [Sympy](https://www.sympy.org/). Esse pacote extente a funcionalidade do Python para calculo symbolico. No Python puro, as variaveis sempre tem que ter um valor numero, ou seja, não podemos ter uma variavel incógnita. Usando o `sympy` podemos resolver integrais e equações diferenciais analiticamente, entre outras coisas. Aqui vamos aprender como definir uma função symbolica, como calcular a integral e a derivada dela. <br>\n"
   ]
  },
  {
   "cell_type": "markdown",
   "metadata": {},
   "source": [
    "## Introdução"
   ]
  },
  {
   "cell_type": "code",
   "execution_count": 1,
   "metadata": {
    "colab": {},
    "colab_type": "code",
    "id": "ppUreVkx55XS"
   },
   "outputs": [],
   "source": [
    "import sympy as sp"
   ]
  },
  {
   "cell_type": "markdown",
   "metadata": {},
   "source": [
    "O proximo comando é para ter output bonito!"
   ]
  },
  {
   "cell_type": "code",
   "execution_count": 2,
   "metadata": {},
   "outputs": [],
   "source": [
    "sp.init_printing() # escolhe a forma mais bonita para exibir o resultado. Se não for legal use `pprint()`"
   ]
  },
  {
   "cell_type": "markdown",
   "metadata": {},
   "source": [
    "A primeira coisa a fazer apos importar o Sympy é definir variavles que vamos usar posteriormente. Não se preocupe, sempre pode acrescentar mais variavel se for necessario. A maneira mais facil é "
   ]
  },
  {
   "cell_type": "code",
   "execution_count": 3,
   "metadata": {
    "colab": {},
    "colab_type": "code",
    "id": "jlFh_eEp6Z5B"
   },
   "outputs": [],
   "source": [
    "x ,y, z = sp.symbols('x y z')"
   ]
  },
  {
   "cell_type": "markdown",
   "metadata": {},
   "source": [
    "Outra forma de definir é "
   ]
  },
  {
   "cell_type": "code",
   "execution_count": 8,
   "metadata": {},
   "outputs": [],
   "source": [
    "from sympy.abc import x, y, z"
   ]
  },
  {
   "cell_type": "markdown",
   "metadata": {},
   "source": [
    "Agora vamos criar uma expressão (função) com essas variaveis. Prestem atenção que o nome da expressão *f* não foi definido anteriormente mas o Sympy a criou automaticamente. "
   ]
  },
  {
   "cell_type": "code",
   "execution_count": 4,
   "metadata": {
    "colab": {
     "base_uri": "https://localhost:8080/",
     "height": 34
    },
    "colab_type": "code",
    "id": "R__NLxy86vOk",
    "outputId": "d6748257-dba0-4223-c74e-a80c20851aae",
    "scrolled": true
   },
   "outputs": [
    {
     "data": {
      "image/png": "[encoded data removed]",
      "text/latex": [
       "$\\displaystyle \\log{\\left(z \\right)} + \\sin{\\left(y \\right)} + \\frac{x^{2} + 1}{x - 1}$"
      ],
      "text/plain": [
       "                   2    \n",
       "                  x  + 1\n",
       "log(z) + sin(y) + ──────\n",
       "                  x - 1 "
      ]
     },
     "execution_count": 4,
     "metadata": {},
     "output_type": "execute_result"
    }
   ],
   "source": [
    "f= (x**2+1)/(x-1) + sp.sin(y)+sp.log(z)\n",
    "f"
   ]
  },
  {
   "cell_type": "markdown",
   "metadata": {},
   "source": [
    "Para definir uma função geral, sem ter uma expressão "
   ]
  },
  {
   "cell_type": "code",
   "execution_count": 4,
   "metadata": {},
   "outputs": [],
   "source": [
    "F = sp.Function(\"F\")"
   ]
  },
  {
   "cell_type": "code",
   "execution_count": 6,
   "metadata": {},
   "outputs": [
    {
     "data": {
      "image/png": "[encoded data removed]",
      "text/latex": [
       "$\\displaystyle F{\\left(x \\right)}$"
      ],
      "text/plain": [
       "F(x)"
      ]
     },
     "execution_count": 6,
     "metadata": {},
     "output_type": "execute_result"
    }
   ],
   "source": [
    "F(x)"
   ]
  },
  {
   "cell_type": "code",
   "execution_count": 7,
   "metadata": {},
   "outputs": [
    {
     "data": {
      "image/png": "[encoded data removed]",
      "text/latex": [
       "$\\displaystyle F{\\left(y \\right)}$"
      ],
      "text/plain": [
       "F(y)"
      ]
     },
     "execution_count": 7,
     "metadata": {},
     "output_type": "execute_result"
    }
   ],
   "source": [
    "F(y)"
   ]
  },
  {
   "cell_type": "markdown",
   "metadata": {},
   "source": [
    "Ou seja, a função `F` não tem uma variavel ou expressão vinculada."
   ]
  },
  {
   "cell_type": "markdown",
   "metadata": {
    "colab_type": "text",
    "id": "smTjHqYk7Fq8"
   },
   "source": [
    "### Substituição"
   ]
  },
  {
   "cell_type": "markdown",
   "metadata": {},
   "source": [
    "Para calcular a função em um ponto especifico, temos que substituir a variavel simbolica por um numero"
   ]
  },
  {
   "cell_type": "code",
   "execution_count": 66,
   "metadata": {},
   "outputs": [
    {
     "data": {
      "image/png": "[encoded data removed]",
      "text/latex": [
       "$\\displaystyle \\sin{\\left(x \\right)} \\cos{\\left(y \\right)}$"
      ],
      "text/plain": [
       "sin(x)*cos(y)"
      ]
     },
     "execution_count": 66,
     "metadata": {},
     "output_type": "execute_result"
    }
   ],
   "source": [
    "f = sp.sin(x)*sp.cos(y)\n",
    "f"
   ]
  },
  {
   "cell_type": "code",
   "execution_count": 67,
   "metadata": {},
   "outputs": [
    {
     "data": {
      "image/png": "[encoded data removed]",
      "text/latex": [
       "$\\displaystyle \\cos{\\left(y \\right)}$"
      ],
      "text/plain": [
       "cos(y)"
      ]
     },
     "execution_count": 67,
     "metadata": {},
     "output_type": "execute_result"
    }
   ],
   "source": [
    "f.subs(x,sp.pi/2)"
   ]
  },
  {
   "cell_type": "code",
   "execution_count": 68,
   "metadata": {
    "colab": {
     "base_uri": "https://localhost:8080/",
     "height": 34
    },
    "colab_type": "code",
    "id": "mJdZrQGKEYdq",
    "outputId": "f01af24a-e765-424a-e279-144382ab3294",
    "scrolled": true
   },
   "outputs": [
    {
     "data": {
      "image/png": "[encoded data removed]",
      "text/latex": [
       "$\\displaystyle -1$"
      ],
      "text/plain": [
       "-1"
      ]
     },
     "execution_count": 68,
     "metadata": {},
     "output_type": "execute_result"
    }
   ],
   "source": [
    "f.subs(x,sp.pi/2).subs(y,sp.pi) #para substituir os dois valores"
   ]
  },
  {
   "cell_type": "markdown",
   "metadata": {},
   "source": [
    "### Valor numerico"
   ]
  },
  {
   "cell_type": "markdown",
   "metadata": {},
   "source": [
    "Para pegar o valor numerico de uma expressão temos a função `N()`"
   ]
  },
  {
   "cell_type": "code",
   "execution_count": 6,
   "metadata": {
    "colab": {
     "base_uri": "https://localhost:8080/",
     "height": 34
    },
    "colab_type": "code",
    "id": "4eFQEUsH7rjg",
    "outputId": "09568b22-f1a7-4b6a-d424-2fc9adba00cd"
   },
   "outputs": [
    {
     "data": {
      "image/png": "[encoded data removed]",
      "text/latex": [
       "$\\displaystyle \\sqrt{2}$"
      ],
      "text/plain": [
       "√2"
      ]
     },
     "execution_count": 6,
     "metadata": {},
     "output_type": "execute_result"
    }
   ],
   "source": [
    "sp.sqrt(2)"
   ]
  },
  {
   "cell_type": "code",
   "execution_count": 7,
   "metadata": {
    "colab": {
     "base_uri": "https://localhost:8080/",
     "height": 34
    },
    "colab_type": "code",
    "id": "GaZNg68G7yRy",
    "outputId": "43d7f9a8-e428-4e12-df20-eb81b79b93a0",
    "scrolled": true
   },
   "outputs": [
    {
     "data": {
      "image/png": "[encoded data removed]",
      "text/latex": [
       "$\\displaystyle 1.4142135623731$"
      ],
      "text/plain": [
       "1.41421356237310"
      ]
     },
     "execution_count": 7,
     "metadata": {},
     "output_type": "execute_result"
    }
   ],
   "source": [
    "sp.N(sp.sqrt(2))"
   ]
  },
  {
   "cell_type": "markdown",
   "metadata": {
    "colab_type": "text",
    "id": "5-3MokN09xjH"
   },
   "source": [
    "## Plot 2D"
   ]
  },
  {
   "cell_type": "markdown",
   "metadata": {},
   "source": [
    "O backend do `sympy` para plotar é o pacote `matplotlib` mas a gente não precisa importar ele separadamente. "
   ]
  },
  {
   "cell_type": "code",
   "execution_count": 9,
   "metadata": {},
   "outputs": [],
   "source": [
    "from sympy.plotting import plot"
   ]
  },
  {
   "cell_type": "code",
   "execution_count": 10,
   "metadata": {
    "colab": {
     "base_uri": "https://localhost:8080/",
     "height": 312
    },
    "colab_type": "code",
    "id": "j17a7UMf717Y",
    "outputId": "bf3e29a4-c8a9-40b8-ca56-e5f39d7d4696"
   },
   "outputs": [
    {
     "data": {
      "image/png": "[encoded data removed]",
      "text/plain": [
       "<Figure size 432x288 with 1 Axes>"
      ]
     },
     "metadata": {
      "needs_background": "light"
     },
     "output_type": "display_data"
    },
    {
     "data": {
      "text/plain": [
       "<sympy.plotting.plot.Plot at 0x7f6bc763bc90>"
      ]
     },
     "execution_count": 10,
     "metadata": {},
     "output_type": "execute_result"
    }
   ],
   "source": [
    "f=sp.sin(x)\n",
    "plot(f) # essa função 'plot' é do pacote Sympy"
   ]
  },
  {
   "cell_type": "markdown",
   "metadata": {},
   "source": [
    "Podemos delimitar os intervalo do plot"
   ]
  },
  {
   "cell_type": "code",
   "execution_count": 18,
   "metadata": {},
   "outputs": [
    {
     "data": {
      "image/png": "[encoded data removed]",
      "text/plain": [
       "<Figure size 432x288 with 1 Axes>"
      ]
     },
     "metadata": {
      "needs_background": "light"
     },
     "output_type": "display_data"
    },
    {
     "data": {
      "text/plain": [
       "<sympy.plotting.plot.Plot at 0x7f3cc62b4d90>"
      ]
     },
     "execution_count": 18,
     "metadata": {},
     "output_type": "execute_result"
    }
   ],
   "source": [
    "plot(f, (x,-2*sp.pi, 2*sp.pi), title = 'sin(x)', xlabel = \"X\")"
   ]
  },
  {
   "cell_type": "markdown",
   "metadata": {},
   "source": [
    "Podemos plotar varias funções no mesmo intervalo"
   ]
  },
  {
   "cell_type": "code",
   "execution_count": 16,
   "metadata": {},
   "outputs": [
    {
     "data": {
      "image/png": "[encoded data removed]",
      "text/plain": [
       "<Figure size 432x288 with 1 Axes>"
      ]
     },
     "metadata": {
      "needs_background": "light"
     },
     "output_type": "display_data"
    },
    {
     "data": {
      "text/plain": [
       "<sympy.plotting.plot.Plot at 0x7f3cc611cbd0>"
      ]
     },
     "execution_count": 16,
     "metadata": {},
     "output_type": "execute_result"
    }
   ],
   "source": [
    "plot(sp.sin(x), sp.cos(x), (x,-2*sp.pi, 2*sp.pi),line_color='red')"
   ]
  },
  {
   "cell_type": "markdown",
   "metadata": {},
   "source": [
    "Cada plot pode ter seu intervalo"
   ]
  },
  {
   "cell_type": "code",
   "execution_count": 19,
   "metadata": {},
   "outputs": [
    {
     "data": {
      "image/png": "[encoded data removed]",
      "text/plain": [
       "<Figure size 432x288 with 1 Axes>"
      ]
     },
     "metadata": {
      "needs_background": "light"
     },
     "output_type": "display_data"
    },
    {
     "data": {
      "text/plain": [
       "<sympy.plotting.plot.Plot at 0x7f3cc5c223d0>"
      ]
     },
     "execution_count": 19,
     "metadata": {},
     "output_type": "execute_result"
    }
   ],
   "source": [
    "plot((sp.sin(x),(x,-2*sp.pi, 2*sp.pi)), (sp.cos(x), (x,-3*sp.pi, 3*sp.pi)),line_color='red')"
   ]
  },
  {
   "cell_type": "markdown",
   "metadata": {},
   "source": [
    "Para que cada plot tenha uma cor difernte temos que fazer o seguinte"
   ]
  },
  {
   "cell_type": "code",
   "execution_count": 12,
   "metadata": {},
   "outputs": [
    {
     "data": {
      "image/png": "[encoded data removed]",
      "text/plain": [
       "<Figure size 432x288 with 1 Axes>"
      ]
     },
     "metadata": {
      "needs_background": "light"
     },
     "output_type": "display_data"
    }
   ],
   "source": [
    "p1 = plot(sp.sin(x), (x,-2*sp.pi, 2*sp.pi), line_color = 'red', show = False, legend = True)\n",
    "p2 = plot(sp.cos(x), (x,-2*sp.pi, 2*sp.pi), line_color = 'blue',show= False, legend = True)\n",
    "p2.extend(p1)\n",
    "p2.show()"
   ]
  },
  {
   "cell_type": "markdown",
   "metadata": {},
   "source": [
    "## Plot 3D"
   ]
  },
  {
   "cell_type": "code",
   "execution_count": 27,
   "metadata": {},
   "outputs": [],
   "source": [
    "from sympy.plotting import plot3d\n",
    "%matplotlib notebook"
   ]
  },
  {
   "cell_type": "markdown",
   "metadata": {},
   "source": [
    "O comando magico `%matplotlib notebook` é para tornar o grafico dinamico. Para voltar o modo estatico temos que executar o comando `%matplotlib inline`.\n",
    "\n",
    "Agora vamos plotar a superficie (não-parametrizada) $z = \\sin(x)\\cos(x)$ no intervale $-\\pi \\leqslant x \\leqslant\\pi \\quad \\text{e} \\quad -\\pi \\leqslant y \\leqslant\\pi$"
   ]
  },
  {
   "cell_type": "code",
   "execution_count": 28,
   "metadata": {
    "scrolled": true
   },
   "outputs": [
    {
     "data": {
      "application/javascript": [
       "/* Put everything inside the global mpl namespace */\n",
       "window.mpl = {};\n",
       "\n",
       "\n",
       "mpl.get_websocket_type = function() {\n",
       "    if (typeof(WebSocket) !== 'undefined') {\n",
       "        return WebSocket;\n",
       "    } else if (typeof(MozWebSocket) !== 'undefined') {\n",
       "        return MozWebSocket;\n",
       "    } else {\n",
       "        alert('Your browser does not have WebSocket support. ' +\n",
       "              'Please try Chrome, Safari or Firefox ≥ 6. ' +\n",
       "              'Firefox 4 and 5 are also supported but you ' +\n",
       "              'have to enable WebSockets in about:config.');\n",
       "    };\n",
       "}\n",
       "\n",
       "mpl.figure = function(figure_id, websocket, ondownload, parent_element) {\n",
       "    this.id = figure_id;\n",
       "\n",
       "    this.ws = websocket;\n",
       "\n",
       "    this.supports_binary = (this.ws.binaryType != undefined);\n",
       "\n",
       "    if (!this.supports_binary) {\n",
       "        var warnings = document.getElementById(\"mpl-warnings\");\n",
       "        if (warnings) {\n",
       "            warnings.style.display = 'block';\n",
       "            warnings.textContent = (\n",
       "                \"This browser does not support binary websocket messages. \" +\n",
       "                    \"Performance may be slow.\");\n",
       "        }\n",
       "    }\n",
       "\n",
       "    this.imageObj = new Image();\n",
       "\n",
       "    this.context = undefined;\n",
       "    this.message = undefined;\n",
       "    this.canvas = undefined;\n",
       "    this.rubberband_canvas = undefined;\n",
       "    this.rubberband_context = undefined;\n",
       "    this.format_dropdown = undefined;\n",
       "\n",
       "    this.image_mode = 'full';\n",
       "\n",
       "    this.root = $('<div/>');\n",
       "    this._root_extra_style(this.root)\n",
       "    this.root.attr('style', 'display: inline-block');\n",
       "\n",
       "    $(parent_element).append(this.root);\n",
       "\n",
       "    this._init_header(this);\n",
       "    this._init_canvas(this);\n",
       "    this._init_toolbar(this);\n",
       "\n",
       "    var fig = this;\n",
       "\n",
       "    this.waiting = false;\n",
       "\n",
       "    this.ws.onopen =  function () {\n",
       "            fig.send_message(\"supports_binary\", {value: fig.supports_binary});\n",
       "            fig.send_message(\"send_image_mode\", {});\n",
       "            if (mpl.ratio != 1) {\n",
       "                fig.send_message(\"set_dpi_ratio\", {'dpi_ratio': mpl.ratio});\n",
       "            }\n",
       "            fig.send_message(\"refresh\", {});\n",
       "        }\n",
       "\n",
       "    this.imageObj.onload = function() {\n",
       "            if (fig.image_mode == 'full') {\n",
       "                // Full images could contain transparency (where diff images\n",
       "                // almost always do), so we need to clear the canvas so that\n",
       "                // there is no ghosting.\n",
       "                fig.context.clearRect(0, 0, fig.canvas.width, fig.canvas.height);\n",
       "            }\n",
       "            fig.context.drawImage(fig.imageObj, 0, 0);\n",
       "        };\n",
       "\n",
       "    this.imageObj.onunload = function() {\n",
       "        fig.ws.close();\n",
       "    }\n",
       "\n",
       "    this.ws.onmessage = this._make_on_message_function(this);\n",
       "\n",
       "    this.ondownload = ondownload;\n",
       "}\n",
       "\n",
       "mpl.figure.prototype._init_header = function() {\n",
       "    var titlebar = $(\n",
       "        '<div class=\"ui-dialog-titlebar ui-widget-header ui-corner-all ' +\n",
       "        'ui-helper-clearfix\"/>');\n",
       "    var titletext = $(\n",
       "        '<div class=\"ui-dialog-title\" style=\"width: 100%; ' +\n",
       "        'text-align: center; padding: 3px;\"/>');\n",
       "    titlebar.append(titletext)\n",
       "    this.root.append(titlebar);\n",
       "    this.header = titletext[0];\n",
       "}\n",
       "\n",
       "\n",
       "\n",
       "mpl.figure.prototype._canvas_extra_style = function(canvas_div) {\n",
       "\n",
       "}\n",
       "\n",
       "\n",
       "mpl.figure.prototype._root_extra_style = function(canvas_div) {\n",
       "\n",
       "}\n",
       "\n",
       "mpl.figure.prototype._init_canvas = function() {\n",
       "    var fig = this;\n",
       "\n",
       "    var canvas_div = $('<div/>');\n",
       "\n",
       "    canvas_div.attr('style', 'position: relative; clear: both; outline: 0');\n",
       "\n",
       "    function canvas_keyboard_event(event) {\n",
       "        return fig.key_event(event, event['data']);\n",
       "    }\n",
       "\n",
       "    canvas_div.keydown('key_press', canvas_keyboard_event);\n",
       "    canvas_div.keyup('key_release', canvas_keyboard_event);\n",
       "    this.canvas_div = canvas_div\n",
       "    this._canvas_extra_style(canvas_div)\n",
       "    this.root.append(canvas_div);\n",
       "\n",
       "    var canvas = $('<canvas/>');\n",
       "    canvas.addClass('mpl-canvas');\n",
       "    canvas.attr('style', \"left: 0; top: 0; z-index: 0; outline: 0\")\n",
       "\n",
       "    this.canvas = canvas[0];\n",
       "    this.context = canvas[0].getContext(\"2d\");\n",
       "\n",
       "    var backingStore = this.context.backingStorePixelRatio ||\n",
       "\tthis.context.webkitBackingStorePixelRatio ||\n",
       "\tthis.context.mozBackingStorePixelRatio ||\n",
       "\tthis.context.msBackingStorePixelRatio ||\n",
       "\tthis.context.oBackingStorePixelRatio ||\n",
       "\tthis.context.backingStorePixelRatio || 1;\n",
       "\n",
       "    mpl.ratio = (window.devicePixelRatio || 1) / backingStore;\n",
       "\n",
       "    var rubberband = $('<canvas/>');\n",
       "    rubberband.attr('style', \"position: absolute; left: 0; top: 0; z-index: 1;\")\n",
       "\n",
       "    var pass_mouse_events = true;\n",
       "\n",
       "    canvas_div.resizable({\n",
       "        start: function(event, ui) {\n",
       "            pass_mouse_events = false;\n",
       "        },\n",
       "        resize: function(event, ui) {\n",
       "            fig.request_resize(ui.size.width, ui.size.height);\n",
       "        },\n",
       "        stop: function(event, ui) {\n",
       "            pass_mouse_events = true;\n",
       "            fig.request_resize(ui.size.width, ui.size.height);\n",
       "        },\n",
       "    });\n",
       "\n",
       "    function mouse_event_fn(event) {\n",
       "        if (pass_mouse_events)\n",
       "            return fig.mouse_event(event, event['data']);\n",
       "    }\n",
       "\n",
       "    rubberband.mousedown('button_press', mouse_event_fn);\n",
       "    rubberband.mouseup('button_release', mouse_event_fn);\n",
       "    // Throttle sequential mouse events to 1 every 20ms.\n",
       "    rubberband.mousemove('motion_notify', mouse_event_fn);\n",
       "\n",
       "    rubberband.mouseenter('figure_enter', mouse_event_fn);\n",
       "    rubberband.mouseleave('figure_leave', mouse_event_fn);\n",
       "\n",
       "    canvas_div.on(\"wheel\", function (event) {\n",
       "        event = event.originalEvent;\n",
       "        event['data'] = 'scroll'\n",
       "        if (event.deltaY < 0) {\n",
       "            event.step = 1;\n",
       "        } else {\n",
       "            event.step = -1;\n",
       "        }\n",
       "        mouse_event_fn(event);\n",
       "    });\n",
       "\n",
       "    canvas_div.append(canvas);\n",
       "    canvas_div.append(rubberband);\n",
       "\n",
       "    this.rubberband = rubberband;\n",
       "    this.rubberband_canvas = rubberband[0];\n",
       "    this.rubberband_context = rubberband[0].getContext(\"2d\");\n",
       "    this.rubberband_context.strokeStyle = \"#000000\";\n",
       "\n",
       "    this._resize_canvas = function(width, height) {\n",
       "        // Keep the size of the canvas, canvas container, and rubber band\n",
       "        // canvas in synch.\n",
       "        canvas_div.css('width', width)\n",
       "        canvas_div.css('height', height)\n",
       "\n",
       "        canvas.attr('width', width * mpl.ratio);\n",
       "        canvas.attr('height', height * mpl.ratio);\n",
       "        canvas.attr('style', 'width: ' + width + 'px; height: ' + height + 'px;');\n",
       "\n",
       "        rubberband.attr('width', width);\n",
       "        rubberband.attr('height', height);\n",
       "    }\n",
       "\n",
       "    // Set the figure to an initial 600x600px, this will subsequently be updated\n",
       "    // upon first draw.\n",
       "    this._resize_canvas(600, 600);\n",
       "\n",
       "    // Disable right mouse context menu.\n",
       "    $(this.rubberband_canvas).bind(\"contextmenu\",function(e){\n",
       "        return false;\n",
       "    });\n",
       "\n",
       "    function set_focus () {\n",
       "        canvas.focus();\n",
       "        canvas_div.focus();\n",
       "    }\n",
       "\n",
       "    window.setTimeout(set_focus, 100);\n",
       "}\n",
       "\n",
       "mpl.figure.prototype._init_toolbar = function() {\n",
       "    var fig = this;\n",
       "\n",
       "    var nav_element = $('<div/>');\n",
       "    nav_element.attr('style', 'width: 100%');\n",
       "    this.root.append(nav_element);\n",
       "\n",
       "    // Define a callback function for later on.\n",
       "    function toolbar_event(event) {\n",
       "        return fig.toolbar_button_onclick(event['data']);\n",
       "    }\n",
       "    function toolbar_mouse_event(event) {\n",
       "        return fig.toolbar_button_onmouseover(event['data']);\n",
       "    }\n",
       "\n",
       "    for(var toolbar_ind in mpl.toolbar_items) {\n",
       "        var name = mpl.toolbar_items[toolbar_ind][0];\n",
       "        var tooltip = mpl.toolbar_items[toolbar_ind][1];\n",
       "        var image = mpl.toolbar_items[toolbar_ind][2];\n",
       "        var method_name = mpl.toolbar_items[toolbar_ind][3];\n",
       "\n",
       "        if (!name) {\n",
       "            // put a spacer in here.\n",
       "            continue;\n",
       "        }\n",
       "        var button = $('<button/>');\n",
       "        button.addClass('ui-button ui-widget ui-state-default ui-corner-all ' +\n",
       "                        'ui-button-icon-only');\n",
       "        button.attr('role', 'button');\n",
       "        button.attr('aria-disabled', 'false');\n",
       "        button.click(method_name, toolbar_event);\n",
       "        button.mouseover(tooltip, toolbar_mouse_event);\n",
       "\n",
       "        var icon_img = $('<span/>');\n",
       "        icon_img.addClass('ui-button-icon-primary ui-icon');\n",
       "        icon_img.addClass(image);\n",
       "        icon_img.addClass('ui-corner-all');\n",
       "\n",
       "        var tooltip_span = $('<span/>');\n",
       "        tooltip_span.addClass('ui-button-text');\n",
       "        tooltip_span.html(tooltip);\n",
       "\n",
       "        button.append(icon_img);\n",
       "        button.append(tooltip_span);\n",
       "\n",
       "        nav_element.append(button);\n",
       "    }\n",
       "\n",
       "    var fmt_picker_span = $('<span/>');\n",
       "\n",
       "    var fmt_picker = $('<select/>');\n",
       "    fmt_picker.addClass('mpl-toolbar-option ui-widget ui-widget-content');\n",
       "    fmt_picker_span.append(fmt_picker);\n",
       "    nav_element.append(fmt_picker_span);\n",
       "    this.format_dropdown = fmt_picker[0];\n",
       "\n",
       "    for (var ind in mpl.extensions) {\n",
       "        var fmt = mpl.extensions[ind];\n",
       "        var option = $(\n",
       "            '<option/>', {selected: fmt === mpl.default_extension}).html(fmt);\n",
       "        fmt_picker.append(option);\n",
       "    }\n",
       "\n",
       "    // Add hover states to the ui-buttons\n",
       "    $( \".ui-button\" ).hover(\n",
       "        function() { $(this).addClass(\"ui-state-hover\");},\n",
       "        function() { $(this).removeClass(\"ui-state-hover\");}\n",
       "    );\n",
       "\n",
       "    var status_bar = $('<span class=\"mpl-message\"/>');\n",
       "    nav_element.append(status_bar);\n",
       "    this.message = status_bar[0];\n",
       "}\n",
       "\n",
       "mpl.figure.prototype.request_resize = function(x_pixels, y_pixels) {\n",
       "    // Request matplotlib to resize the figure. Matplotlib will then trigger a resize in the client,\n",
       "    // which will in turn request a refresh of the image.\n",
       "    this.send_message('resize', {'width': x_pixels, 'height': y_pixels});\n",
       "}\n",
       "\n",
       "mpl.figure.prototype.send_message = function(type, properties) {\n",
       "    properties['type'] = type;\n",
       "    properties['figure_id'] = this.id;\n",
       "    this.ws.send(JSON.stringify(properties));\n",
       "}\n",
       "\n",
       "mpl.figure.prototype.send_draw_message = function() {\n",
       "    if (!this.waiting) {\n",
       "        this.waiting = true;\n",
       "        this.ws.send(JSON.stringify({type: \"draw\", figure_id: this.id}));\n",
       "    }\n",
       "}\n",
       "\n",
       "\n",
       "mpl.figure.prototype.handle_save = function(fig, msg) {\n",
       "    var format_dropdown = fig.format_dropdown;\n",
       "    var format = format_dropdown.options[format_dropdown.selectedIndex].value;\n",
       "    fig.ondownload(fig, format);\n",
       "}\n",
       "\n",
       "\n",
       "mpl.figure.prototype.handle_resize = function(fig, msg) {\n",
       "    var size = msg['size'];\n",
       "    if (size[0] != fig.canvas.width || size[1] != fig.canvas.height) {\n",
       "        fig._resize_canvas(size[0], size[1]);\n",
       "        fig.send_message(\"refresh\", {});\n",
       "    };\n",
       "}\n",
       "\n",
       "mpl.figure.prototype.handle_rubberband = function(fig, msg) {\n",
       "    var x0 = msg['x0'] / mpl.ratio;\n",
       "    var y0 = (fig.canvas.height - msg['y0']) / mpl.ratio;\n",
       "    var x1 = msg['x1'] / mpl.ratio;\n",
       "    var y1 = (fig.canvas.height - msg['y1']) / mpl.ratio;\n",
       "    x0 = Math.floor(x0) + 0.5;\n",
       "    y0 = Math.floor(y0) + 0.5;\n",
       "    x1 = Math.floor(x1) + 0.5;\n",
       "    y1 = Math.floor(y1) + 0.5;\n",
       "    var min_x = Math.min(x0, x1);\n",
       "    var min_y = Math.min(y0, y1);\n",
       "    var width = Math.abs(x1 - x0);\n",
       "    var height = Math.abs(y1 - y0);\n",
       "\n",
       "    fig.rubberband_context.clearRect(\n",
       "        0, 0, fig.canvas.width / mpl.ratio, fig.canvas.height / mpl.ratio);\n",
       "\n",
       "    fig.rubberband_context.strokeRect(min_x, min_y, width, height);\n",
       "}\n",
       "\n",
       "mpl.figure.prototype.handle_figure_label = function(fig, msg) {\n",
       "    // Updates the figure title.\n",
       "    fig.header.textContent = msg['label'];\n",
       "}\n",
       "\n",
       "mpl.figure.prototype.handle_cursor = function(fig, msg) {\n",
       "    var cursor = msg['cursor'];\n",
       "    switch(cursor)\n",
       "    {\n",
       "    case 0:\n",
       "        cursor = 'pointer';\n",
       "        break;\n",
       "    case 1:\n",
       "        cursor = 'default';\n",
       "        break;\n",
       "    case 2:\n",
       "        cursor = 'crosshair';\n",
       "        break;\n",
       "    case 3:\n",
       "        cursor = 'move';\n",
       "        break;\n",
       "    }\n",
       "    fig.rubberband_canvas.style.cursor = cursor;\n",
       "}\n",
       "\n",
       "mpl.figure.prototype.handle_message = function(fig, msg) {\n",
       "    fig.message.textContent = msg['message'];\n",
       "}\n",
       "\n",
       "mpl.figure.prototype.handle_draw = function(fig, msg) {\n",
       "    // Request the server to send over a new figure.\n",
       "    fig.send_draw_message();\n",
       "}\n",
       "\n",
       "mpl.figure.prototype.handle_image_mode = function(fig, msg) {\n",
       "    fig.image_mode = msg['mode'];\n",
       "}\n",
       "\n",
       "mpl.figure.prototype.updated_canvas_event = function() {\n",
       "    // Called whenever the canvas gets updated.\n",
       "    this.send_message(\"ack\", {});\n",
       "}\n",
       "\n",
       "// A function to construct a web socket function for onmessage handling.\n",
       "// Called in the figure constructor.\n",
       "mpl.figure.prototype._make_on_message_function = function(fig) {\n",
       "    return function socket_on_message(evt) {\n",
       "        if (evt.data instanceof Blob) {\n",
       "            /* FIXME: We get \"Resource interpreted as Image but\n",
       "             * transferred with MIME type text/plain:\" errors on\n",
       "             * Chrome.  But how to set the MIME type?  It doesn't seem\n",
       "             * to be part of the websocket stream */\n",
       "            evt.data.type = \"image/png\";\n",
       "\n",
       "            /* Free the memory for the previous frames */\n",
       "            if (fig.imageObj.src) {\n",
       "                (window.URL || window.webkitURL).revokeObjectURL(\n",
       "                    fig.imageObj.src);\n",
       "            }\n",
       "\n",
       "            fig.imageObj.src = (window.URL || window.webkitURL).createObjectURL(\n",
       "                evt.data);\n",
       "            fig.updated_canvas_event();\n",
       "            fig.waiting = false;\n",
       "            return;\n",
       "        }\n",
       "        else if (typeof evt.data === 'string' && evt.data.slice(0, 21) == \"data:image/png;base64\") {\n",
       "            fig.imageObj.src = evt.data;\n",
       "            fig.updated_canvas_event();\n",
       "            fig.waiting = false;\n",
       "            return;\n",
       "        }\n",
       "\n",
       "        var msg = JSON.parse(evt.data);\n",
       "        var msg_type = msg['type'];\n",
       "\n",
       "        // Call the  \"handle_{type}\" callback, which takes\n",
       "        // the figure and JSON message as its only arguments.\n",
       "        try {\n",
       "            var callback = fig[\"handle_\" + msg_type];\n",
       "        } catch (e) {\n",
       "            console.log(\"No handler for the '\" + msg_type + \"' message type: \", msg);\n",
       "            return;\n",
       "        }\n",
       "\n",
       "        if (callback) {\n",
       "            try {\n",
       "                // console.log(\"Handling '\" + msg_type + \"' message: \", msg);\n",
       "                callback(fig, msg);\n",
       "            } catch (e) {\n",
       "                console.log(\"Exception inside the 'handler_\" + msg_type + \"' callback:\", e, e.stack, msg);\n",
       "            }\n",
       "        }\n",
       "    };\n",
       "}\n",
       "\n",
       "// from http://stackoverflow.com/questions/1114465/getting-mouse-location-in-canvas\n",
       "mpl.findpos = function(e) {\n",
       "    //this section is from http://www.quirksmode.org/js/events_properties.html\n",
       "    var targ;\n",
       "    if (!e)\n",
       "        e = window.event;\n",
       "    if (e.target)\n",
       "        targ = e.target;\n",
       "    else if (e.srcElement)\n",
       "        targ = e.srcElement;\n",
       "    if (targ.nodeType == 3) // defeat Safari bug\n",
       "        targ = targ.parentNode;\n",
       "\n",
       "    // jQuery normalizes the pageX and pageY\n",
       "    // pageX,Y are the mouse positions relative to the document\n",
       "    // offset() returns the position of the element relative to the document\n",
       "    var x = e.pageX - $(targ).offset().left;\n",
       "    var y = e.pageY - $(targ).offset().top;\n",
       "\n",
       "    return {\"x\": x, \"y\": y};\n",
       "};\n",
       "\n",
       "/*\n",
       " * return a copy of an object with only non-object keys\n",
       " * we need this to avoid circular references\n",
       " * http://stackoverflow.com/a/24161582/3208463\n",
       " */\n",
       "function simpleKeys (original) {\n",
       "  return Object.keys(original).reduce(function (obj, key) {\n",
       "    if (typeof original[key] !== 'object')\n",
       "        obj[key] = original[key]\n",
       "    return obj;\n",
       "  }, {});\n",
       "}\n",
       "\n",
       "mpl.figure.prototype.mouse_event = function(event, name) {\n",
       "    var canvas_pos = mpl.findpos(event)\n",
       "\n",
       "    if (name === 'button_press')\n",
       "    {\n",
       "        this.canvas.focus();\n",
       "        this.canvas_div.focus();\n",
       "    }\n",
       "\n",
       "    var x = canvas_pos.x * mpl.ratio;\n",
       "    var y = canvas_pos.y * mpl.ratio;\n",
       "\n",
       "    this.send_message(name, {x: x, y: y, button: event.button,\n",
       "                             step: event.step,\n",
       "                             guiEvent: simpleKeys(event)});\n",
       "\n",
       "    /* This prevents the web browser from automatically changing to\n",
       "     * the text insertion cursor when the button is pressed.  We want\n",
       "     * to control all of the cursor setting manually through the\n",
       "     * 'cursor' event from matplotlib */\n",
       "    event.preventDefault();\n",
       "    return false;\n",
       "}\n",
       "\n",
       "mpl.figure.prototype._key_event_extra = function(event, name) {\n",
       "    // Handle any extra behaviour associated with a key event\n",
       "}\n",
       "\n",
       "mpl.figure.prototype.key_event = function(event, name) {\n",
       "\n",
       "    // Prevent repeat events\n",
       "    if (name == 'key_press')\n",
       "    {\n",
       "        if (event.which === this._key)\n",
       "            return;\n",
       "        else\n",
       "            this._key = event.which;\n",
       "    }\n",
       "    if (name == 'key_release')\n",
       "        this._key = null;\n",
       "\n",
       "    var value = '';\n",
       "    if (event.ctrlKey && event.which != 17)\n",
       "        value += \"ctrl+\";\n",
       "    if (event.altKey && event.which != 18)\n",
       "        value += \"alt+\";\n",
       "    if (event.shiftKey && event.which != 16)\n",
       "        value += \"shift+\";\n",
       "\n",
       "    value += 'k';\n",
       "    value += event.which.toString();\n",
       "\n",
       "    this._key_event_extra(event, name);\n",
       "\n",
       "    this.send_message(name, {key: value,\n",
       "                             guiEvent: simpleKeys(event)});\n",
       "    return false;\n",
       "}\n",
       "\n",
       "mpl.figure.prototype.toolbar_button_onclick = function(name) {\n",
       "    if (name == 'download') {\n",
       "        this.handle_save(this, null);\n",
       "    } else {\n",
       "        this.send_message(\"toolbar_button\", {name: name});\n",
       "    }\n",
       "};\n",
       "\n",
       "mpl.figure.prototype.toolbar_button_onmouseover = function(tooltip) {\n",
       "    this.message.textContent = tooltip;\n",
       "};\n",
       "mpl.toolbar_items = [[\"Home\", \"Reset original view\", \"fa fa-home icon-home\", \"home\"], [\"Back\", \"Back to previous view\", \"fa fa-arrow-left icon-arrow-left\", \"back\"], [\"Forward\", \"Forward to next view\", \"fa fa-arrow-right icon-arrow-right\", \"forward\"], [\"\", \"\", \"\", \"\"], [\"Pan\", \"Pan axes with left mouse, zoom with right\", \"fa fa-arrows icon-move\", \"pan\"], [\"Zoom\", \"Zoom to rectangle\", \"fa fa-square-o icon-check-empty\", \"zoom\"], [\"\", \"\", \"\", \"\"], [\"Download\", \"Download plot\", \"fa fa-floppy-o icon-save\", \"download\"]];\n",
       "\n",
       "mpl.extensions = [\"eps\", \"jpeg\", \"pdf\", \"png\", \"ps\", \"raw\", \"svg\", \"tif\"];\n",
       "\n",
       "mpl.default_extension = \"png\";var comm_websocket_adapter = function(comm) {\n",
       "    // Create a \"websocket\"-like object which calls the given IPython comm\n",
       "    // object with the appropriate methods. Currently this is a non binary\n",
       "    // socket, so there is still some room for performance tuning.\n",
       "    var ws = {};\n",
       "\n",
       "    ws.close = function() {\n",
       "        comm.close()\n",
       "    };\n",
       "    ws.send = function(m) {\n",
       "        //console.log('sending', m);\n",
       "        comm.send(m);\n",
       "    };\n",
       "    // Register the callback with on_msg.\n",
       "    comm.on_msg(function(msg) {\n",
       "        //console.log('receiving', msg['content']['data'], msg);\n",
       "        // Pass the mpl event to the overridden (by mpl) onmessage function.\n",
       "        ws.onmessage(msg['content']['data'])\n",
       "    });\n",
       "    return ws;\n",
       "}\n",
       "\n",
       "mpl.mpl_figure_comm = function(comm, msg) {\n",
       "    // This is the function which gets called when the mpl process\n",
       "    // starts-up an IPython Comm through the \"matplotlib\" channel.\n",
       "\n",
       "    var id = msg.content.data.id;\n",
       "    // Get hold of the div created by the display call when the Comm\n",
       "    // socket was opened in Python.\n",
       "    var element = $(\"#\" + id);\n",
       "    var ws_proxy = comm_websocket_adapter(comm)\n",
       "\n",
       "    function ondownload(figure, format) {\n",
       "        window.open(figure.imageObj.src);\n",
       "    }\n",
       "\n",
       "    var fig = new mpl.figure(id, ws_proxy,\n",
       "                           ondownload,\n",
       "                           element.get(0));\n",
       "\n",
       "    // Call onopen now - mpl needs it, as it is assuming we've passed it a real\n",
       "    // web socket which is closed, not our websocket->open comm proxy.\n",
       "    ws_proxy.onopen();\n",
       "\n",
       "    fig.parent_element = element.get(0);\n",
       "    fig.cell_info = mpl.find_output_cell(\"<div id='\" + id + \"'></div>\");\n",
       "    if (!fig.cell_info) {\n",
       "        console.error(\"Failed to find cell for figure\", id, fig);\n",
       "        return;\n",
       "    }\n",
       "\n",
       "    var output_index = fig.cell_info[2]\n",
       "    var cell = fig.cell_info[0];\n",
       "\n",
       "};\n",
       "\n",
       "mpl.figure.prototype.handle_close = function(fig, msg) {\n",
       "    var width = fig.canvas.width/mpl.ratio\n",
       "    fig.root.unbind('remove')\n",
       "\n",
       "    // Update the output cell to use the data from the current canvas.\n",
       "    fig.push_to_output();\n",
       "    var dataURL = fig.canvas.toDataURL();\n",
       "    // Re-enable the keyboard manager in IPython - without this line, in FF,\n",
       "    // the notebook keyboard shortcuts fail.\n",
       "    IPython.keyboard_manager.enable()\n",
       "    $(fig.parent_element).html('<img src=\"' + dataURL + '\" width=\"' + width + '\">');\n",
       "    fig.close_ws(fig, msg);\n",
       "}\n",
       "\n",
       "mpl.figure.prototype.close_ws = function(fig, msg){\n",
       "    fig.send_message('closing', msg);\n",
       "    // fig.ws.close()\n",
       "}\n",
       "\n",
       "mpl.figure.prototype.push_to_output = function(remove_interactive) {\n",
       "    // Turn the data on the canvas into data in the output cell.\n",
       "    var width = this.canvas.width/mpl.ratio\n",
       "    var dataURL = this.canvas.toDataURL();\n",
       "    this.cell_info[1]['text/html'] = '<img src=\"' + dataURL + '\" width=\"' + width + '\">';\n",
       "}\n",
       "\n",
       "mpl.figure.prototype.updated_canvas_event = function() {\n",
       "    // Tell IPython that the notebook contents must change.\n",
       "    IPython.notebook.set_dirty(true);\n",
       "    this.send_message(\"ack\", {});\n",
       "    var fig = this;\n",
       "    // Wait a second, then push the new image to the DOM so\n",
       "    // that it is saved nicely (might be nice to debounce this).\n",
       "    setTimeout(function () { fig.push_to_output() }, 1000);\n",
       "}\n",
       "\n",
       "mpl.figure.prototype._init_toolbar = function() {\n",
       "    var fig = this;\n",
       "\n",
       "    var nav_element = $('<div/>');\n",
       "    nav_element.attr('style', 'width: 100%');\n",
       "    this.root.append(nav_element);\n",
       "\n",
       "    // Define a callback function for later on.\n",
       "    function toolbar_event(event) {\n",
       "        return fig.toolbar_button_onclick(event['data']);\n",
       "    }\n",
       "    function toolbar_mouse_event(event) {\n",
       "        return fig.toolbar_button_onmouseover(event['data']);\n",
       "    }\n",
       "\n",
       "    for(var toolbar_ind in mpl.toolbar_items){\n",
       "        var name = mpl.toolbar_items[toolbar_ind][0];\n",
       "        var tooltip = mpl.toolbar_items[toolbar_ind][1];\n",
       "        var image = mpl.toolbar_items[toolbar_ind][2];\n",
       "        var method_name = mpl.toolbar_items[toolbar_ind][3];\n",
       "\n",
       "        if (!name) { continue; };\n",
       "\n",
       "        var button = $('<button class=\"btn btn-default\" href=\"#\" title=\"' + name + '\"><i class=\"fa ' + image + ' fa-lg\"></i></button>');\n",
       "        button.click(method_name, toolbar_event);\n",
       "        button.mouseover(tooltip, toolbar_mouse_event);\n",
       "        nav_element.append(button);\n",
       "    }\n",
       "\n",
       "    // Add the status bar.\n",
       "    var status_bar = $('<span class=\"mpl-message\" style=\"text-align:right; float: right;\"/>');\n",
       "    nav_element.append(status_bar);\n",
       "    this.message = status_bar[0];\n",
       "\n",
       "    // Add the close button to the window.\n",
       "    var buttongrp = $('<div class=\"btn-group inline pull-right\"></div>');\n",
       "    var button = $('<button class=\"btn btn-mini btn-primary\" href=\"#\" title=\"Stop Interaction\"><i class=\"fa fa-power-off icon-remove icon-large\"></i></button>');\n",
       "    button.click(function (evt) { fig.handle_close(fig, {}); } );\n",
       "    button.mouseover('Stop Interaction', toolbar_mouse_event);\n",
       "    buttongrp.append(button);\n",
       "    var titlebar = this.root.find($('.ui-dialog-titlebar'));\n",
       "    titlebar.prepend(buttongrp);\n",
       "}\n",
       "\n",
       "mpl.figure.prototype._root_extra_style = function(el){\n",
       "    var fig = this\n",
       "    el.on(\"remove\", function(){\n",
       "\tfig.close_ws(fig, {});\n",
       "    });\n",
       "}\n",
       "\n",
       "mpl.figure.prototype._canvas_extra_style = function(el){\n",
       "    // this is important to make the div 'focusable\n",
       "    el.attr('tabindex', 0)\n",
       "    // reach out to IPython and tell the keyboard manager to turn it's self\n",
       "    // off when our div gets focus\n",
       "\n",
       "    // location in version 3\n",
       "    if (IPython.notebook.keyboard_manager) {\n",
       "        IPython.notebook.keyboard_manager.register_events(el);\n",
       "    }\n",
       "    else {\n",
       "        // location in version 2\n",
       "        IPython.keyboard_manager.register_events(el);\n",
       "    }\n",
       "\n",
       "}\n",
       "\n",
       "mpl.figure.prototype._key_event_extra = function(event, name) {\n",
       "    var manager = IPython.notebook.keyboard_manager;\n",
       "    if (!manager)\n",
       "        manager = IPython.keyboard_manager;\n",
       "\n",
       "    // Check for shift+enter\n",
       "    if (event.shiftKey && event.which == 13) {\n",
       "        this.canvas_div.blur();\n",
       "        // select the cell after this one\n",
       "        var index = IPython.notebook.find_cell_index(this.cell_info[0]);\n",
       "        IPython.notebook.select(index + 1);\n",
       "    }\n",
       "}\n",
       "\n",
       "mpl.figure.prototype.handle_save = function(fig, msg) {\n",
       "    fig.ondownload(fig, null);\n",
       "}\n",
       "\n",
       "\n",
       "mpl.find_output_cell = function(html_output) {\n",
       "    // Return the cell and output element which can be found *uniquely* in the notebook.\n",
       "    // Note - this is a bit hacky, but it is done because the \"notebook_saving.Notebook\"\n",
       "    // IPython event is triggered only after the cells have been serialised, which for\n",
       "    // our purposes (turning an active figure into a static one), is too late.\n",
       "    var cells = IPython.notebook.get_cells();\n",
       "    var ncells = cells.length;\n",
       "    for (var i=0; i<ncells; i++) {\n",
       "        var cell = cells[i];\n",
       "        if (cell.cell_type === 'code'){\n",
       "            for (var j=0; j<cell.output_area.outputs.length; j++) {\n",
       "                var data = cell.output_area.outputs[j];\n",
       "                if (data.data) {\n",
       "                    // IPython >= 3 moved mimebundle to data attribute of output\n",
       "                    data = data.data;\n",
       "                }\n",
       "                if (data['text/html'] == html_output) {\n",
       "                    return [cell, data, j];\n",
       "                }\n",
       "            }\n",
       "        }\n",
       "    }\n",
       "}\n",
       "\n",
       "// Register the function which deals with the matplotlib target/channel.\n",
       "// The kernel may be null if the page has been refreshed.\n",
       "if (IPython.notebook.kernel != null) {\n",
       "    IPython.notebook.kernel.comm_manager.register_target('matplotlib', mpl.mpl_figure_comm);\n",
       "}\n"
      ],
      "text/plain": [
       "<IPython.core.display.Javascript object>"
      ]
     },
     "metadata": {},
     "output_type": "display_data"
    },
    {
     "data": {
      "text/html": [
       "<img src=\"data:image/png;base64,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\" width=\"640\">"
      ],
      "text/plain": [
       "<IPython.core.display.HTML object>"
      ]
     },
     "metadata": {},
     "output_type": "display_data"
    },
    {
     "data": {
      "text/plain": [
       "<sympy.plotting.plot.Plot at 0x7f3cc50ad1d0>"
      ]
     },
     "execution_count": 28,
     "metadata": {},
     "output_type": "execute_result"
    }
   ],
   "source": [
    "plot3d(sp.sin(x) * sp.cos(y), (x,-sp.pi, sp.pi),(y,-sp.pi, sp.pi))"
   ]
  },
  {
   "cell_type": "markdown",
   "metadata": {},
   "source": [
    "### Outros plots"
   ]
  },
  {
   "cell_type": "markdown",
   "metadata": {},
   "source": [
    "No total, o modulo `sympy.plotting` tem as seguintes funções de plot\n",
    "\n",
    "- plot: Plots 2D line plots.\n",
    "\n",
    "- plot_parametric: Plots 2D parametric plots.\n",
    "\n",
    "- plot_implicit: Plots 2D implicit and region plots.\n",
    "\n",
    "- plot3d: Plots 3D plots of functions in two variables.\n",
    "\n",
    "- plot3d_parametric_line: Plots 3D line plots, defined by a parameter.\n",
    "\n",
    "- plot3d_parametric_surface: Plots 3D parametric surface plots.\n",
    "\n",
    "Podem consultar a documentação no [Plotting](https://docs.sympy.org/latest/modules/plotting.html)"
   ]
  },
  {
   "cell_type": "markdown",
   "metadata": {},
   "source": [
    "## Algumas funções"
   ]
  },
  {
   "cell_type": "markdown",
   "metadata": {
    "colab": {
     "base_uri": "https://localhost:8080/",
     "height": 68
    },
    "colab_type": "code",
    "id": "CCl7nj-w-aUI",
    "outputId": "6e8195e7-2515-4749-af17-2cbf53928f56"
   },
   "source": [
    "Para definir uma integral"
   ]
  },
  {
   "cell_type": "code",
   "execution_count": 22,
   "metadata": {
    "colab": {
     "base_uri": "https://localhost:8080/",
     "height": 119
    },
    "colab_type": "code",
    "id": "SJX0nS78DVsT",
    "outputId": "d44f6f27-58ee-438e-a1bd-22b6ce648fbf"
   },
   "outputs": [
    {
     "data": {
      "image/png": "[encoded data removed]",
      "text/latex": [
       "$\\displaystyle \\int \\frac{x^{2} + 1}{x - 1}\\, dx$"
      ],
      "text/plain": [
       "⌠          \n",
       "⎮  2       \n",
       "⎮ x  + 1   \n",
       "⎮ ────── dx\n",
       "⎮ x - 1    \n",
       "⌡          "
      ]
     },
     "execution_count": 22,
     "metadata": {},
     "output_type": "execute_result"
    }
   ],
   "source": [
    "integ = sp.Integral((x**2+1)/(x-1)) \n",
    "integ"
   ]
  },
  {
   "cell_type": "code",
   "execution_count": 26,
   "metadata": {},
   "outputs": [
    {
     "data": {
      "image/png": "[encoded data removed]",
      "text/latex": [
       "$\\displaystyle \\frac{x^{2}}{2} + x + 2 \\log{\\left(x - 1 \\right)}$"
      ],
      "text/plain": [
       " 2                   \n",
       "x                    \n",
       "── + x + 2⋅log(x - 1)\n",
       "2                    "
      ]
     },
     "execution_count": 26,
     "metadata": {},
     "output_type": "execute_result"
    }
   ],
   "source": [
    "integ.doit()"
   ]
  },
  {
   "cell_type": "markdown",
   "metadata": {},
   "source": [
    "Para definir uma matriz"
   ]
  },
  {
   "cell_type": "code",
   "execution_count": 18,
   "metadata": {
    "colab": {
     "base_uri": "https://localhost:8080/",
     "height": 102
    },
    "colab_type": "code",
    "id": "3rcSlJxX2zCz",
    "outputId": "8ad9003a-116b-4021-f882-be9caf012985"
   },
   "outputs": [
    {
     "data": {
      "image/png": "[encoded data removed]",
      "text/latex": [
       "$\\displaystyle \\left[\\begin{matrix}1 & 1 & 1\\\\1 & 1 & 2\\\\2 & 1 & -1\\end{matrix}\\right]$"
      ],
      "text/plain": [
       "⎡1  1  1 ⎤\n",
       "⎢        ⎥\n",
       "⎢1  1  2 ⎥\n",
       "⎢        ⎥\n",
       "⎣2  1  -1⎦"
      ]
     },
     "execution_count": 18,
     "metadata": {},
     "output_type": "execute_result"
    }
   ],
   "source": [
    "mat= sp.Matrix(((1,1,1),(1,1,2),(2,1,-1)))\n",
    "mat"
   ]
  },
  {
   "cell_type": "markdown",
   "metadata": {},
   "source": [
    "O objeto `mat` por fato de ser uma matriz tem metodos e atributos que podem ser chamados."
   ]
  },
  {
   "cell_type": "code",
   "execution_count": 19,
   "metadata": {},
   "outputs": [
    {
     "data": {
      "image/png": "[encoded data removed]",
      "text/latex": [
       "$\\displaystyle \\left[\\begin{matrix}-3 & 5 & -1\\\\2 & -3 & 1\\\\1 & -1 & 0\\end{matrix}\\right]$"
      ],
      "text/plain": [
       "⎡-3  5   -1⎤\n",
       "⎢          ⎥\n",
       "⎢2   -3  1 ⎥\n",
       "⎢          ⎥\n",
       "⎣1   -1  0 ⎦"
      ]
     },
     "execution_count": 19,
     "metadata": {},
     "output_type": "execute_result"
    }
   ],
   "source": [
    "mat.cofactor_matrix()"
   ]
  },
  {
   "cell_type": "code",
   "execution_count": 21,
   "metadata": {
    "scrolled": true
   },
   "outputs": [
    {
     "data": {
      "image/png": "[encoded data removed]",
      "text/latex": [
       "$\\displaystyle \\left[\\begin{matrix}-3 & 2 & 1\\\\5 & -3 & -1\\\\-1 & 1 & 0\\end{matrix}\\right]$"
      ],
      "text/plain": [
       "⎡-3  2   1 ⎤\n",
       "⎢          ⎥\n",
       "⎢5   -3  -1⎥\n",
       "⎢          ⎥\n",
       "⎣-1  1   0 ⎦"
      ]
     },
     "execution_count": 21,
     "metadata": {},
     "output_type": "execute_result"
    }
   ],
   "source": [
    "mat.inv()"
   ]
  },
  {
   "cell_type": "markdown",
   "metadata": {
    "colab_type": "text",
    "id": "koPGk7skFtjK"
   },
   "source": [
    "## Simplificação"
   ]
  },
  {
   "cell_type": "markdown",
   "metadata": {},
   "source": [
    "O sympy conhece muitas identidades para simplicar as expressões matematicas. "
   ]
  },
  {
   "cell_type": "code",
   "execution_count": 33,
   "metadata": {
    "colab": {
     "base_uri": "https://localhost:8080/",
     "height": 34
    },
    "colab_type": "code",
    "id": "jJBcHTsTF0n6",
    "outputId": "8156f0fd-ac62-4cb5-80d1-cc033eaf27f6"
   },
   "outputs": [
    {
     "data": {
      "image/png": "[encoded data removed]",
      "text/latex": [
       "$\\displaystyle \\sin^{2}{\\left(x \\right)} + \\cos^{2}{\\left(x \\right)}$"
      ],
      "text/plain": [
       "sin(x)**2 + cos(x)**2"
      ]
     },
     "execution_count": 33,
     "metadata": {},
     "output_type": "execute_result"
    }
   ],
   "source": [
    "f=sp.sin(x)**2 + sp.cos(x)**2\n",
    "f"
   ]
  },
  {
   "cell_type": "markdown",
   "metadata": {},
   "source": [
    "Agora esse `f` é um objeto e tem varios metodos que podemos aplicar nele. "
   ]
  },
  {
   "cell_type": "code",
   "execution_count": 34,
   "metadata": {
    "colab": {
     "base_uri": "https://localhost:8080/",
     "height": 34
    },
    "colab_type": "code",
    "id": "buYeNp6wF8Rv",
    "outputId": "857ed4d9-3189-433f-e46f-814815e42e29"
   },
   "outputs": [
    {
     "data": {
      "image/png": "[encoded data removed]",
      "text/latex": [
       "$\\displaystyle 1$"
      ],
      "text/plain": [
       "1"
      ]
     },
     "execution_count": 34,
     "metadata": {},
     "output_type": "execute_result"
    }
   ],
   "source": [
    "f.simplify()"
   ]
  },
  {
   "cell_type": "code",
   "execution_count": 35,
   "metadata": {
    "colab": {
     "base_uri": "https://localhost:8080/",
     "height": 34
    },
    "colab_type": "code",
    "id": "RtlbCz8a-dZa",
    "outputId": "1c1d3b65-0a26-4185-9bb0-fc5ee2b541bc"
   },
   "outputs": [
    {
     "data": {
      "image/png": "[encoded data removed]",
      "text/latex": [
       "$\\displaystyle 1$"
      ],
      "text/plain": [
       "1"
      ]
     },
     "execution_count": 35,
     "metadata": {},
     "output_type": "execute_result"
    }
   ],
   "source": [
    "f.trigsimp() #Mesma coisa mas focada mais em trigonométricas."
   ]
  },
  {
   "cell_type": "markdown",
   "metadata": {},
   "source": [
    "Podemos fatorizar o polinomial"
   ]
  },
  {
   "cell_type": "code",
   "execution_count": 27,
   "metadata": {
    "colab": {
     "base_uri": "https://localhost:8080/",
     "height": 51
    },
    "colab_type": "code",
    "id": "g3MbI_KmG4zl",
    "outputId": "4f252de8-8774-448d-bfde-be6ffeaaa7cd"
   },
   "outputs": [
    {
     "data": {
      "image/png": "[encoded data removed]",
      "text/latex": [
       "$\\displaystyle x^{3} - x^{2} + x - 1$"
      ],
      "text/plain": [
       " 3    2        \n",
       "x  - x  + x - 1"
      ]
     },
     "execution_count": 27,
     "metadata": {},
     "output_type": "execute_result"
    }
   ],
   "source": [
    "f= x**3-x**2+x-1\n",
    "f"
   ]
  },
  {
   "cell_type": "code",
   "execution_count": 28,
   "metadata": {
    "colab": {
     "base_uri": "https://localhost:8080/",
     "height": 51
    },
    "colab_type": "code",
    "id": "kEjbcJs5HYg2",
    "outputId": "40adba1e-d0c5-438f-93e2-c4fc6bf59be6"
   },
   "outputs": [
    {
     "data": {
      "image/png": "[encoded data removed]",
      "text/latex": [
       "$\\displaystyle \\left(x - 1\\right) \\left(x^{2} + 1\\right)$"
      ],
      "text/plain": [
       "        ⎛ 2    ⎞\n",
       "(x - 1)⋅⎝x  + 1⎠"
      ]
     },
     "execution_count": 28,
     "metadata": {},
     "output_type": "execute_result"
    }
   ],
   "source": [
    "f.factor()"
   ]
  },
  {
   "cell_type": "markdown",
   "metadata": {},
   "source": [
    "Ou colocar uma variavel em evidencia"
   ]
  },
  {
   "cell_type": "code",
   "execution_count": 29,
   "metadata": {
    "colab": {
     "base_uri": "https://localhost:8080/",
     "height": 51
    },
    "colab_type": "code",
    "id": "-E2sCPBCKug2",
    "outputId": "a84b9be7-f64c-4761-ad29-dc89ac1906f7"
   },
   "outputs": [
    {
     "data": {
      "image/png": "[encoded data removed]",
      "text/latex": [
       "$\\displaystyle x^{2} \\left(a + b\\right) + x \\left(a - b\\right)$"
      ],
      "text/plain": [
       " 2                    \n",
       "x ⋅(a + b) + x⋅(a - b)"
      ]
     },
     "execution_count": 29,
     "metadata": {},
     "output_type": "execute_result"
    }
   ],
   "source": [
    "a, b=sp.symbols('a b')\n",
    "\n",
    "sp.collect(a*x**2+b*x**2+a*x-b*x,x) #Evidência"
   ]
  },
  {
   "cell_type": "markdown",
   "metadata": {},
   "source": [
    "Tem uma função do subdominio da `simplify` mas só para cortar os fatores comuns no numerador e denominador"
   ]
  },
  {
   "cell_type": "code",
   "execution_count": 35,
   "metadata": {
    "colab": {
     "base_uri": "https://localhost:8080/",
     "height": 34
    },
    "colab_type": "code",
    "id": "YYumnjrTK5U5",
    "outputId": "d4443a14-1bf5-4dce-e0c9-ae893ac9a1f3",
    "scrolled": true
   },
   "outputs": [
    {
     "data": {
      "image/png": "[encoded data removed]",
      "text/latex": [
       "$\\displaystyle \\frac{x^{2} - 1}{x + 1}$"
      ],
      "text/plain": [
       " 2    \n",
       "x  - 1\n",
       "──────\n",
       "x + 1 "
      ]
     },
     "execution_count": 35,
     "metadata": {},
     "output_type": "execute_result"
    }
   ],
   "source": [
    "e = (x**2-1)/(x+1)\n",
    "e"
   ]
  },
  {
   "cell_type": "code",
   "execution_count": 37,
   "metadata": {},
   "outputs": [
    {
     "data": {
      "image/png": "[encoded data removed]",
      "text/latex": [
       "$\\displaystyle x - 1$"
      ],
      "text/plain": [
       "x - 1"
      ]
     },
     "execution_count": 37,
     "metadata": {},
     "output_type": "execute_result"
    }
   ],
   "source": [
    "sp.cancel(e) #Comando mais dedicado a cancelar num e den. Simplify da no mesmo."
   ]
  },
  {
   "cell_type": "markdown",
   "metadata": {},
   "source": [
    "Muitas vezes a gente não quer simplicar a expressão, só precisamos cortar os fatores comuns no numerador e denominador. Neste exemplo especifico, as duas operações tem o mesmo resultado"
   ]
  },
  {
   "cell_type": "code",
   "execution_count": 38,
   "metadata": {
    "scrolled": true
   },
   "outputs": [
    {
     "data": {
      "image/png": "[encoded data removed]",
      "text/latex": [
       "$\\displaystyle x - 1$"
      ],
      "text/plain": [
       "x - 1"
      ]
     },
     "execution_count": 38,
     "metadata": {},
     "output_type": "execute_result"
    }
   ],
   "source": [
    "e.simplify()"
   ]
  },
  {
   "cell_type": "markdown",
   "metadata": {
    "colab_type": "text",
    "id": "pqg2BzoQBCr7"
   },
   "source": [
    "Outra função do subdominio da `simplify` para simplificar a potencia de uma expressão"
   ]
  },
  {
   "cell_type": "code",
   "execution_count": 43,
   "metadata": {
    "colab": {
     "base_uri": "https://localhost:8080/",
     "height": 34
    },
    "colab_type": "code",
    "id": "iJqEVbmaBBaY",
    "outputId": "c3c23a57-26ac-45bd-85c3-bc8406dba0b6"
   },
   "outputs": [
    {
     "data": {
      "image/png": "[encoded data removed]",
      "text/latex": [
       "$\\displaystyle x^{a + b}$"
      ],
      "text/plain": [
       "x**(a + b)"
      ]
     },
     "execution_count": 43,
     "metadata": {},
     "output_type": "execute_result"
    }
   ],
   "source": [
    "sp.powsimp(x**a*x**b,)"
   ]
  },
  {
   "cell_type": "markdown",
   "metadata": {},
   "source": [
    "Para combinar os logaritmos"
   ]
  },
  {
   "cell_type": "code",
   "execution_count": 41,
   "metadata": {},
   "outputs": [
    {
     "data": {
      "image/png": "[encoded data removed]",
      "text/latex": [
       "$\\displaystyle a \\log{\\left(x \\right)}$"
      ],
      "text/plain": [
       "a⋅log(x)"
      ]
     },
     "execution_count": 41,
     "metadata": {},
     "output_type": "execute_result"
    }
   ],
   "source": [
    "l = a*sp.log(x);\n",
    "l"
   ]
  },
  {
   "cell_type": "code",
   "execution_count": 42,
   "metadata": {
    "colab": {
     "base_uri": "https://localhost:8080/",
     "height": 34
    },
    "colab_type": "code",
    "id": "1CwSiqMgCFY7",
    "outputId": "9cb6fba5-5c17-432f-8815-63433253a9b1",
    "scrolled": true
   },
   "outputs": [
    {
     "data": {
      "image/png": "[encoded data removed]",
      "text/latex": [
       "$\\displaystyle \\log{\\left(x^{a} \\right)}$"
      ],
      "text/plain": [
       "   ⎛ a⎞\n",
       "log⎝x ⎠"
      ]
     },
     "execution_count": 42,
     "metadata": {},
     "output_type": "execute_result"
    }
   ],
   "source": [
    "sp.logcombine(l,force=True) #Argumento force em todos pode dar problemas quando mistura com\n",
    "                                #números imaginários, cuidado se isso existir."
   ]
  },
  {
   "cell_type": "markdown",
   "metadata": {},
   "source": [
    "Podemos ver o `simplify` não dá o resultado desejado."
   ]
  },
  {
   "cell_type": "code",
   "execution_count": 43,
   "metadata": {
    "scrolled": true
   },
   "outputs": [
    {
     "data": {
      "image/png": "[encoded data removed]",
      "text/latex": [
       "$\\displaystyle a \\log{\\left(x \\right)}$"
      ],
      "text/plain": [
       "a⋅log(x)"
      ]
     },
     "execution_count": 43,
     "metadata": {},
     "output_type": "execute_result"
    }
   ],
   "source": [
    "sp.simplify(l, force=True)"
   ]
  },
  {
   "cell_type": "markdown",
   "metadata": {
    "colab_type": "text",
    "id": "1Sr8gqtCGgqP"
   },
   "source": [
    "## Algumas operações"
   ]
  },
  {
   "cell_type": "markdown",
   "metadata": {},
   "source": [
    "Para expandir uma expressão que tem potencia"
   ]
  },
  {
   "cell_type": "code",
   "execution_count": 45,
   "metadata": {
    "colab": {
     "base_uri": "https://localhost:8080/",
     "height": 34
    },
    "colab_type": "code",
    "id": "aEDftIeeGoHX",
    "outputId": "7f5856ed-078a-43fd-c9c6-b6d03f3c8f4c"
   },
   "outputs": [
    {
     "data": {
      "image/png": "[encoded data removed]",
      "text/latex": [
       "$\\displaystyle \\left(x + 2\\right)^{10}$"
      ],
      "text/plain": [
       "       10\n",
       "(x + 2)  "
      ]
     },
     "execution_count": 45,
     "metadata": {},
     "output_type": "execute_result"
    }
   ],
   "source": [
    "f = (x+2)**10\n",
    "f"
   ]
  },
  {
   "cell_type": "code",
   "execution_count": 46,
   "metadata": {},
   "outputs": [
    {
     "data": {
      "image/png": "[encoded data removed]",
      "text/latex": [
       "$\\displaystyle x^{10} + 20 x^{9} + 180 x^{8} + 960 x^{7} + 3360 x^{6} + 8064 x^{5} + 13440 x^{4} + 15360 x^{3} + 11520 x^{2} + 5120 x + 1024$"
      ],
      "text/plain": [
       " 10       9        8        7         6         5          4          3       \n",
       "x   + 20⋅x  + 180⋅x  + 960⋅x  + 3360⋅x  + 8064⋅x  + 13440⋅x  + 15360⋅x  + 1152\n",
       "\n",
       "   2                \n",
       "0⋅x  + 5120⋅x + 1024"
      ]
     },
     "execution_count": 46,
     "metadata": {},
     "output_type": "execute_result"
    }
   ],
   "source": [
    "f.expand()"
   ]
  },
  {
   "cell_type": "markdown",
   "metadata": {},
   "source": [
    "A função acima não expande as expressões trigonometrica, "
   ]
  },
  {
   "cell_type": "code",
   "execution_count": 47,
   "metadata": {
    "colab": {
     "base_uri": "https://localhost:8080/",
     "height": 51
    },
    "colab_type": "code",
    "id": "ybh7T-y3_eDb",
    "outputId": "3623c5e7-4149-403b-9354-5b9a7d5ea9f9"
   },
   "outputs": [
    {
     "data": {
      "image/png": "[encoded data removed]",
      "text/latex": [
       "$\\displaystyle \\sin{\\left(a + x \\right)}$"
      ],
      "text/plain": [
       "sin(a + x)"
      ]
     },
     "execution_count": 47,
     "metadata": {},
     "output_type": "execute_result"
    }
   ],
   "source": [
    "f = sp.sin(x+a)         \n",
    "f"
   ]
  },
  {
   "cell_type": "code",
   "execution_count": 48,
   "metadata": {},
   "outputs": [
    {
     "data": {
      "image/png": "[encoded data removed]",
      "text/latex": [
       "$\\displaystyle \\sin{\\left(a + x \\right)}$"
      ],
      "text/plain": [
       "sin(a + x)"
      ]
     },
     "execution_count": 48,
     "metadata": {},
     "output_type": "execute_result"
    }
   ],
   "source": [
    "f.expand()  "
   ]
  },
  {
   "cell_type": "markdown",
   "metadata": {},
   "source": [
    "Para as expressões trigonometricas temos"
   ]
  },
  {
   "cell_type": "code",
   "execution_count": 49,
   "metadata": {},
   "outputs": [
    {
     "data": {
      "image/png": "[encoded data removed]",
      "text/latex": [
       "$\\displaystyle \\sin{\\left(a \\right)} \\cos{\\left(x \\right)} + \\sin{\\left(x \\right)} \\cos{\\left(a \\right)}$"
      ],
      "text/plain": [
       "sin(a)⋅cos(x) + sin(x)⋅cos(a)"
      ]
     },
     "execution_count": 49,
     "metadata": {},
     "output_type": "execute_result"
    }
   ],
   "source": [
    "sp.expand_trig(f)"
   ]
  },
  {
   "cell_type": "markdown",
   "metadata": {},
   "source": [
    "Para dividir uma epressão nas frações simples"
   ]
  },
  {
   "cell_type": "code",
   "execution_count": 50,
   "metadata": {},
   "outputs": [
    {
     "data": {
      "image/png": "[encoded data removed]",
      "text/latex": [
       "$\\displaystyle \\frac{x^{3} + 1}{x}$"
      ],
      "text/plain": [
       " 3    \n",
       "x  + 1\n",
       "──────\n",
       "  x   "
      ]
     },
     "execution_count": 50,
     "metadata": {},
     "output_type": "execute_result"
    }
   ],
   "source": [
    "f = (x**3 + 1)/x\n",
    "f"
   ]
  },
  {
   "cell_type": "code",
   "execution_count": 51,
   "metadata": {
    "colab": {
     "base_uri": "https://localhost:8080/",
     "height": 34
    },
    "colab_type": "code",
    "id": "gqKiOZlGMFxJ",
    "outputId": "8d2ff125-2e82-40ed-f48f-892c9b04206c"
   },
   "outputs": [
    {
     "data": {
      "image/png": "[encoded data removed]",
      "text/latex": [
       "$\\displaystyle x^{2} + \\frac{1}{x}$"
      ],
      "text/plain": [
       " 2   1\n",
       "x  + ─\n",
       "     x"
      ]
     },
     "execution_count": 51,
     "metadata": {},
     "output_type": "execute_result"
    }
   ],
   "source": [
    "sp.apart(f)"
   ]
  },
  {
   "cell_type": "markdown",
   "metadata": {},
   "source": [
    "A famosa decomposição de frações parciais, boa pra integrar depois, lembra?"
   ]
  },
  {
   "cell_type": "code",
   "execution_count": 52,
   "metadata": {
    "colab": {
     "base_uri": "https://localhost:8080/",
     "height": 85
    },
    "colab_type": "code",
    "id": "A_8fdftyMMkL",
    "outputId": "2f2ca4fd-9e68-45b5-e15c-4eca5833aecb"
   },
   "outputs": [
    {
     "data": {
      "image/png": "[encoded data removed]",
      "text/latex": [
       "$\\displaystyle \\frac{4 x^{3} + 21 x^{2} + 10 x + 12}{x^{4} + 5 x^{3} + 5 x^{2} + 4 x}$"
      ],
      "text/plain": [
       "   3       2            \n",
       "4⋅x  + 21⋅x  + 10⋅x + 12\n",
       "────────────────────────\n",
       "  4      3      2       \n",
       " x  + 5⋅x  + 5⋅x  + 4⋅x "
      ]
     },
     "execution_count": 52,
     "metadata": {},
     "output_type": "execute_result"
    }
   ],
   "source": [
    "f=(4*x**3+21*x**2+10*x+12)/(x**4+5*x**3+5*x**2+4*x)\n",
    "f"
   ]
  },
  {
   "cell_type": "code",
   "execution_count": 53,
   "metadata": {},
   "outputs": [
    {
     "data": {
      "image/png": "[encoded data removed]",
      "text/latex": [
       "$\\displaystyle \\frac{2 x - 1}{x^{2} + x + 1} - \\frac{1}{x + 4} + \\frac{3}{x}$"
      ],
      "text/plain": [
       " 2⋅x - 1       1     3\n",
       "────────── - ───── + ─\n",
       " 2           x + 4   x\n",
       "x  + x + 1            "
      ]
     },
     "execution_count": 53,
     "metadata": {},
     "output_type": "execute_result"
    }
   ],
   "source": [
    "f.apart()"
   ]
  },
  {
   "cell_type": "markdown",
   "metadata": {
    "colab_type": "text",
    "id": "Z776CsL3CqeB"
   },
   "source": [
    "### Potências e logs"
   ]
  },
  {
   "cell_type": "markdown",
   "metadata": {},
   "source": [
    "Algumas subfunções da `expand`"
   ]
  },
  {
   "cell_type": "code",
   "execution_count": 54,
   "metadata": {},
   "outputs": [
    {
     "data": {
      "image/png": "[encoded data removed]",
      "text/latex": [
       "$\\displaystyle x^{a + b}$"
      ],
      "text/plain": [
       " a + b\n",
       "x     "
      ]
     },
     "execution_count": 54,
     "metadata": {},
     "output_type": "execute_result"
    }
   ],
   "source": [
    "f = x**(a+b)\n",
    "f"
   ]
  },
  {
   "cell_type": "code",
   "execution_count": 55,
   "metadata": {
    "colab": {
     "base_uri": "https://localhost:8080/",
     "height": 51
    },
    "colab_type": "code",
    "id": "nXfQaJXECsSF",
    "outputId": "715e7380-f37a-4fe0-983b-c0bfbab3d056",
    "scrolled": true
   },
   "outputs": [
    {
     "data": {
      "image/png": "[encoded data removed]",
      "text/latex": [
       "$\\displaystyle x^{a} x^{b}$"
      ],
      "text/plain": [
       " a  b\n",
       "x ⋅x "
      ]
     },
     "execution_count": 55,
     "metadata": {},
     "output_type": "execute_result"
    }
   ],
   "source": [
    "sp.expand_power_exp(f)"
   ]
  },
  {
   "cell_type": "code",
   "execution_count": 56,
   "metadata": {},
   "outputs": [
    {
     "data": {
      "image/png": "[encoded data removed]",
      "text/latex": [
       "$\\displaystyle \\log{\\left(x^{2} \\right)}$"
      ],
      "text/plain": [
       "   ⎛ 2⎞\n",
       "log⎝x ⎠"
      ]
     },
     "execution_count": 56,
     "metadata": {},
     "output_type": "execute_result"
    }
   ],
   "source": [
    "f = sp.log(x**2)\n",
    "f"
   ]
  },
  {
   "cell_type": "code",
   "execution_count": 57,
   "metadata": {
    "colab": {
     "base_uri": "https://localhost:8080/",
     "height": 34
    },
    "colab_type": "code",
    "id": "o3dmPvdpDDvk",
    "outputId": "8873f56b-b2ec-42a8-d3a7-d98970fe2118",
    "scrolled": true
   },
   "outputs": [
    {
     "data": {
      "image/png": "[encoded data removed]",
      "text/latex": [
       "$\\displaystyle 2 \\log{\\left(x \\right)}$"
      ],
      "text/plain": [
       "2⋅log(x)"
      ]
     },
     "execution_count": 57,
     "metadata": {},
     "output_type": "execute_result"
    }
   ],
   "source": [
    "sp.expand_log(f,force=True)"
   ]
  },
  {
   "cell_type": "markdown",
   "metadata": {},
   "source": [
    "O binomial é definido via"
   ]
  },
  {
   "cell_type": "code",
   "execution_count": 58,
   "metadata": {
    "colab": {
     "base_uri": "https://localhost:8080/",
     "height": 68
    },
    "colab_type": "code",
    "id": "CN1jc6lwEGkr",
    "outputId": "7b209388-27b1-44ce-8f60-9e20e2b0129a"
   },
   "outputs": [
    {
     "data": {
      "image/png": "[encoded data removed]",
      "text/latex": [
       "$\\displaystyle {\\binom{x}{a}}$"
      ],
      "text/plain": [
       "⎛x⎞\n",
       "⎜ ⎟\n",
       "⎝a⎠"
      ]
     },
     "execution_count": 58,
     "metadata": {},
     "output_type": "execute_result"
    }
   ],
   "source": [
    "f=sp.binomial(x,a)\n",
    "f"
   ]
  },
  {
   "cell_type": "markdown",
   "metadata": {
    "colab_type": "text",
    "id": "IjH3btPMGQRt"
   },
   "source": [
    "## Cálculo"
   ]
  },
  {
   "cell_type": "markdown",
   "metadata": {
    "colab_type": "text",
    "id": "w5BIslUodtJE"
   },
   "source": [
    "### Derivadas"
   ]
  },
  {
   "cell_type": "markdown",
   "metadata": {},
   "source": [
    "Para calcular a derivada de uma função temos duas opções"
   ]
  },
  {
   "cell_type": "code",
   "execution_count": 60,
   "metadata": {
    "colab": {
     "base_uri": "https://localhost:8080/",
     "height": 51
    },
    "colab_type": "code",
    "id": "xsLduUmPGSgQ",
    "outputId": "d0de9b52-31e7-441d-f037-17659b9d3ad8"
   },
   "outputs": [
    {
     "data": {
      "image/png": "[encoded data removed]",
      "text/latex": [
       "$\\displaystyle \\cos{\\left(x y \\right)}$"
      ],
      "text/plain": [
       "cos(x⋅y)"
      ]
     },
     "execution_count": 60,
     "metadata": {},
     "output_type": "execute_result"
    }
   ],
   "source": [
    "f=sp.cos(x*y)\n",
    "f"
   ]
  },
  {
   "cell_type": "code",
   "execution_count": 61,
   "metadata": {},
   "outputs": [
    {
     "data": {
      "image/png": "[encoded data removed]",
      "text/latex": [
       "$\\displaystyle - y \\sin{\\left(x y \\right)}$"
      ],
      "text/plain": [
       "-y⋅sin(x⋅y)"
      ]
     },
     "execution_count": 61,
     "metadata": {},
     "output_type": "execute_result"
    }
   ],
   "source": [
    "sp.diff(f,x)"
   ]
  },
  {
   "cell_type": "markdown",
   "metadata": {},
   "source": [
    "Ou"
   ]
  },
  {
   "cell_type": "code",
   "execution_count": 62,
   "metadata": {},
   "outputs": [
    {
     "data": {
      "image/png": "[encoded data removed]",
      "text/latex": [
       "$\\displaystyle - y \\sin{\\left(x y \\right)}$"
      ],
      "text/plain": [
       "-y⋅sin(x⋅y)"
      ]
     },
     "execution_count": 62,
     "metadata": {},
     "output_type": "execute_result"
    }
   ],
   "source": [
    "f.diff(x)"
   ]
  },
  {
   "cell_type": "markdown",
   "metadata": {},
   "source": [
    "A segunda derivada é calculada via"
   ]
  },
  {
   "cell_type": "code",
   "execution_count": 72,
   "metadata": {
    "colab": {
     "base_uri": "https://localhost:8080/",
     "height": 34
    },
    "colab_type": "code",
    "id": "ItGxLcYdbzCv",
    "outputId": "60d0797d-53f9-4779-ed43-02812032fe10"
   },
   "outputs": [
    {
     "data": {
      "image/png": "[encoded data removed]",
      "text/latex": [
       "$\\displaystyle - y^{2} \\cos{\\left(x y \\right)}$"
      ],
      "text/plain": [
       "-y**2*cos(x*y)"
      ]
     },
     "execution_count": 72,
     "metadata": {},
     "output_type": "execute_result"
    }
   ],
   "source": [
    "sp.diff(f,x,2) #Número de derivadas, deu o mesmo.\n",
    "            #Apenas mude o símbolo para derivar em outra variável."
   ]
  },
  {
   "cell_type": "code",
   "execution_count": 73,
   "metadata": {},
   "outputs": [
    {
     "data": {
      "image/png": "[encoded data removed]",
      "text/latex": [
       "$\\displaystyle - y^{2} \\cos{\\left(x y \\right)}$"
      ],
      "text/plain": [
       "-y**2*cos(x*y)"
      ]
     },
     "execution_count": 73,
     "metadata": {},
     "output_type": "execute_result"
    }
   ],
   "source": [
    "f.diff(x,2)"
   ]
  },
  {
   "cell_type": "markdown",
   "metadata": {},
   "source": [
    "Ou a derivada em relação das duas variaveis"
   ]
  },
  {
   "cell_type": "code",
   "execution_count": 74,
   "metadata": {},
   "outputs": [
    {
     "data": {
      "image/png": "[encoded data removed]",
      "text/latex": [
       "$\\displaystyle - (x y \\cos{\\left(x y \\right)} + \\sin{\\left(x y \\right)})$"
      ],
      "text/plain": [
       "-(x*y*cos(x*y) + sin(x*y))"
      ]
     },
     "execution_count": 74,
     "metadata": {},
     "output_type": "execute_result"
    }
   ],
   "source": [
    "f.diff(x,y)"
   ]
  },
  {
   "cell_type": "markdown",
   "metadata": {
    "colab_type": "text",
    "id": "LcEc4Qgsd1zb"
   },
   "source": [
    "### Integrais"
   ]
  },
  {
   "cell_type": "markdown",
   "metadata": {},
   "source": [
    "A integração definida é "
   ]
  },
  {
   "cell_type": "code",
   "execution_count": 63,
   "metadata": {
    "colab": {
     "base_uri": "https://localhost:8080/",
     "height": 34
    },
    "colab_type": "code",
    "id": "uqBr9bk6d5WN",
    "outputId": "4792abb2-a31f-458c-c7ae-a2b9acf36ba7",
    "scrolled": true
   },
   "outputs": [
    {
     "data": {
      "image/png": "[encoded data removed]",
      "text/latex": [
       "$\\displaystyle e^{- x}$"
      ],
      "text/plain": [
       " -x\n",
       "ℯ  "
      ]
     },
     "execution_count": 63,
     "metadata": {},
     "output_type": "execute_result"
    }
   ],
   "source": [
    "df= sp.exp(-x)\n",
    "df"
   ]
  },
  {
   "cell_type": "code",
   "execution_count": 64,
   "metadata": {},
   "outputs": [
    {
     "data": {
      "image/png": "[encoded data removed]",
      "text/latex": [
       "$\\displaystyle 1$"
      ],
      "text/plain": [
       "1"
      ]
     },
     "execution_count": 64,
     "metadata": {},
     "output_type": "execute_result"
    }
   ],
   "source": [
    "sp.integrate(df,(x,0,sp.oo)) #infinito é dois ós"
   ]
  },
  {
   "cell_type": "markdown",
   "metadata": {},
   "source": [
    "E indefinida "
   ]
  },
  {
   "cell_type": "code",
   "execution_count": 65,
   "metadata": {
    "colab": {
     "base_uri": "https://localhost:8080/",
     "height": 51
    },
    "colab_type": "code",
    "id": "3HEkR_E9gVAe",
    "outputId": "1b67f2ef-9199-4c4b-e5fd-324fd0e0de7b"
   },
   "outputs": [
    {
     "data": {
      "image/png": "[encoded data removed]",
      "text/latex": [
       "$\\displaystyle - e^{- x}$"
      ],
      "text/plain": [
       "  -x\n",
       "-ℯ  "
      ]
     },
     "execution_count": 65,
     "metadata": {},
     "output_type": "execute_result"
    }
   ],
   "source": [
    "sp.integrate(df,x) #Integral indefinida"
   ]
  },
  {
   "cell_type": "markdown",
   "metadata": {},
   "source": [
    "E a integral dupla"
   ]
  },
  {
   "cell_type": "code",
   "execution_count": 69,
   "metadata": {},
   "outputs": [
    {
     "data": {
      "image/png": "[encoded data removed]",
      "text/latex": [
       "$\\displaystyle e^{- x - y}$"
      ],
      "text/plain": [
       " -x - y\n",
       "ℯ      "
      ]
     },
     "execution_count": 69,
     "metadata": {},
     "output_type": "execute_result"
    }
   ],
   "source": [
    "f = sp.exp(-x**2-y**2)\n",
    "f"
   ]
  },
  {
   "cell_type": "code",
   "execution_count": 72,
   "metadata": {
    "colab": {
     "base_uri": "https://localhost:8080/",
     "height": 34
    },
    "colab_type": "code",
    "id": "G1TjFfxng15n",
    "outputId": "ce963f17-d96f-47cb-89df-73c3447bc587"
   },
   "outputs": [
    {
     "data": {
      "image/png": "[encoded data removed]",
      "text/latex": [
       "$\\displaystyle - \\frac{1}{2 e^{2}} + \\frac{1}{2 e^{4}} + 1$"
      ],
      "text/plain": [
       "   -2    -4    \n",
       "  ℯ     ℯ      \n",
       "- ─── + ─── + 1\n",
       "   2     2     "
      ]
     },
     "execution_count": 72,
     "metadata": {},
     "output_type": "execute_result"
    }
   ],
   "source": [
    "#Aqui é uma integral do tipo dS ... dxdy \n",
    "sp.integrate(f,(y,-x,x),(x,1,2))"
   ]
  },
  {
   "cell_type": "markdown",
   "metadata": {
    "colab_type": "text",
    "id": "CuJJKWcliwHs"
   },
   "source": [
    "### Limite"
   ]
  },
  {
   "cell_type": "code",
   "execution_count": 85,
   "metadata": {
    "colab": {
     "base_uri": "https://localhost:8080/",
     "height": 34
    },
    "colab_type": "code",
    "id": "_My6QdBlizL8",
    "outputId": "c06a1be5-5708-4b05-f669-d36c965d4421"
   },
   "outputs": [
    {
     "data": {
      "image/png": "[encoded data removed]",
      "text/latex": [
       "$\\displaystyle 1$"
      ],
      "text/plain": [
       "1"
      ]
     },
     "execution_count": 85,
     "metadata": {},
     "output_type": "execute_result"
    }
   ],
   "source": [
    "sp.limit(sp.sin(x)/x, x, 0)"
   ]
  },
  {
   "cell_type": "markdown",
   "metadata": {},
   "source": [
    "E os limites direcionais"
   ]
  },
  {
   "cell_type": "code",
   "execution_count": 86,
   "metadata": {
    "colab": {
     "base_uri": "https://localhost:8080/",
     "height": 51
    },
    "colab_type": "code",
    "id": "yXvMbv7Ejj89",
    "outputId": "28b534bc-d608-46c1-e020-c466e964fbe5"
   },
   "outputs": [
    {
     "data": {
      "image/png": "[encoded data removed]",
      "text/latex": [
       "$\\displaystyle \\infty$"
      ],
      "text/plain": [
       "oo"
      ]
     },
     "execution_count": 86,
     "metadata": {},
     "output_type": "execute_result"
    }
   ],
   "source": [
    "#Diferença de lados positivos e negativos\n",
    "sp.limit(1/x,x,0,'+')\n"
   ]
  },
  {
   "cell_type": "code",
   "execution_count": 88,
   "metadata": {},
   "outputs": [
    {
     "data": {
      "image/png": "[encoded data removed]",
      "text/latex": [
       "$\\displaystyle -\\infty$"
      ],
      "text/plain": [
       "-oo"
      ]
     },
     "execution_count": 88,
     "metadata": {},
     "output_type": "execute_result"
    }
   ],
   "source": [
    "sp.limit(1/x,x,0,'-')"
   ]
  },
  {
   "cell_type": "markdown",
   "metadata": {
    "colab_type": "text",
    "id": "gCs2R53zlSV8"
   },
   "source": [
    "# Solvers"
   ]
  },
  {
   "cell_type": "markdown",
   "metadata": {},
   "source": [
    "Primeiro temos que construir uma igualidade para depois resolver"
   ]
  },
  {
   "cell_type": "code",
   "execution_count": 91,
   "metadata": {
    "colab": {
     "base_uri": "https://localhost:8080/",
     "height": 34
    },
    "colab_type": "code",
    "id": "ziF0AJdZlUv_",
    "outputId": "665c9748-2001-4b2b-b9e3-2e5772f29d4b"
   },
   "outputs": [
    {
     "data": {
      "image/png": "[encoded data removed]",
      "text/latex": [
       "$\\displaystyle x^{2} = 1$"
      ],
      "text/plain": [
       "Eq(x**2, 1)"
      ]
     },
     "execution_count": 91,
     "metadata": {},
     "output_type": "execute_result"
    }
   ],
   "source": [
    "#Construindo equação, algo = a algo\n",
    "equ = sp.Eq(x**2,1) #x^2 =1\n",
    "equ"
   ]
  },
  {
   "cell_type": "code",
   "execution_count": 92,
   "metadata": {
    "colab": {
     "base_uri": "https://localhost:8080/",
     "height": 34
    },
    "colab_type": "code",
    "id": "Vla67VS5w1Kr",
    "outputId": "820e2f5d-6fc7-4171-d4c6-33ca0d6853a1",
    "scrolled": true
   },
   "outputs": [
    {
     "data": {
      "image/png": "[encoded data removed]",
      "text/latex": [
       "$\\displaystyle \\left\\{-1, 1\\right\\}$"
      ],
      "text/plain": [
       "FiniteSet(-1, 1)"
      ]
     },
     "execution_count": 92,
     "metadata": {},
     "output_type": "execute_result"
    }
   ],
   "source": [
    "sp.solveset(equ,x) #Todas as soluções possíveis"
   ]
  },
  {
   "cell_type": "code",
   "execution_count": 73,
   "metadata": {},
   "outputs": [
    {
     "data": {
      "image/png": "[encoded data removed]",
      "text/latex": [
       "$\\displaystyle \\sin{\\left(x \\right)} - 1$"
      ],
      "text/plain": [
       "sin(x) - 1"
      ]
     },
     "execution_count": 73,
     "metadata": {},
     "output_type": "execute_result"
    }
   ],
   "source": [
    "equ = sp.sin(x)-1\n",
    "equ"
   ]
  },
  {
   "cell_type": "code",
   "execution_count": 75,
   "metadata": {
    "colab": {
     "base_uri": "https://localhost:8080/",
     "height": 68
    },
    "colab_type": "code",
    "id": "O-zm3jURxrUl",
    "outputId": "eeb0ea39-fd50-439b-fe32-87f623617ba3",
    "scrolled": true
   },
   "outputs": [
    {
     "data": {
      "image/png": "[encoded data removed]",
      "text/latex": [
       "$\\displaystyle \\left\\{2 n \\pi + \\frac{\\pi}{2}\\; |\\; n \\in \\mathbb{Z}\\right\\}$"
      ],
      "text/plain": [
       "⎧        π        ⎫\n",
       "⎨2⋅n⋅π + ─ | n ∊ ℤ⎬\n",
       "⎩        2        ⎭"
      ]
     },
     "execution_count": 75,
     "metadata": {},
     "output_type": "execute_result"
    }
   ],
   "source": [
    "sp.solveset(equ,x) #Ciclo de soluções!"
   ]
  },
  {
   "cell_type": "markdown",
   "metadata": {
    "colab_type": "text",
    "id": "Osrd0rFdzBKI"
   },
   "source": [
    "## Sistema de equações lineares"
   ]
  },
  {
   "cell_type": "markdown",
   "metadata": {},
   "source": [
    "Aqui queremos resolver uma um sistema linear com tres equações e tres incognitas\n",
    "\n",
    "$$\n",
    "\\begin{cases}\n",
    "x+y+z = 1 \\\\\n",
    "x+y+2z = 3 \\\\\n",
    "2x+y-z = 10\n",
    "\\end{cases}\n",
    "$$\n",
    "\n",
    "Vamos definir as equaçoes de depois usamos o `linsolve` (ou `solve`) para resolver"
   ]
  },
  {
   "cell_type": "code",
   "execution_count": 4,
   "metadata": {},
   "outputs": [],
   "source": [
    "eq1 = sp.Eq(x+y+z,1)\n",
    "eq2 = sp.Eq(x+y+2*z,3)\n",
    "eq3 = sp.Eq(2*x+y-z,10)"
   ]
  },
  {
   "cell_type": "code",
   "execution_count": 6,
   "metadata": {
    "colab": {
     "base_uri": "https://localhost:8080/",
     "height": 34
    },
    "colab_type": "code",
    "id": "FYYNMeHbzL7M",
    "outputId": "362310a9-0c39-429e-c48f-0b21b64b25b4"
   },
   "outputs": [
    {
     "data": {
      "image/png": "[encoded data removed]",
      "text/latex": [
       "$\\displaystyle \\left\\{\\left( 13, \\  -14, \\  2\\right)\\right\\}$"
      ],
      "text/plain": [
       "{(13, -14, 2)}"
      ]
     },
     "execution_count": 6,
     "metadata": {},
     "output_type": "execute_result"
    }
   ],
   "source": [
    "sp.linsolve((eq1,eq2,eq3),(x,y,z))"
   ]
  },
  {
   "cell_type": "markdown",
   "metadata": {},
   "source": [
    "Um caso de solução impossível"
   ]
  },
  {
   "cell_type": "code",
   "execution_count": 7,
   "metadata": {},
   "outputs": [],
   "source": [
    "eq1 = sp.Eq(x+y+z,1)\n",
    "eq2 = sp.Eq(x+y+2*z,3)\n",
    "eq3 = sp.Eq(x+y-z,5)"
   ]
  },
  {
   "cell_type": "code",
   "execution_count": 8,
   "metadata": {
    "colab": {
     "base_uri": "https://localhost:8080/",
     "height": 34
    },
    "colab_type": "code",
    "id": "msYABRNL1qkF",
    "outputId": "bf35cec1-7849-4db3-b74f-ce0fdf007458"
   },
   "outputs": [
    {
     "data": {
      "image/png": "[encoded data removed]",
      "text/latex": [
       "$\\displaystyle \\emptyset$"
      ],
      "text/plain": [
       "∅"
      ]
     },
     "execution_count": 8,
     "metadata": {},
     "output_type": "execute_result"
    }
   ],
   "source": [
    "\n",
    "sp.linsolve((eq1,eq2,eq3),(x,y,z))"
   ]
  },
  {
   "cell_type": "markdown",
   "metadata": {},
   "source": [
    "Também te dá caso seja indeterminado, fica em função de variavel"
   ]
  },
  {
   "cell_type": "code",
   "execution_count": 9,
   "metadata": {},
   "outputs": [
    {
     "data": {
      "image/png": "[encoded data removed]",
      "text/latex": [
       "$\\displaystyle \\left\\{\\left( - y - 1, \\  y, \\  2\\right)\\right\\}$"
      ],
      "text/plain": [
       "{(-y - 1, y, 2)}"
      ]
     },
     "execution_count": 9,
     "metadata": {},
     "output_type": "execute_result"
    }
   ],
   "source": [
    "sp.linsolve([eq1,eq2],(x,y,z))"
   ]
  },
  {
   "cell_type": "markdown",
   "metadata": {
    "colab_type": "text",
    "id": "-Xma0-8B5VGf"
   },
   "source": [
    "## Sistema de equações não lineares"
   ]
  },
  {
   "cell_type": "code",
   "execution_count": 10,
   "metadata": {},
   "outputs": [],
   "source": [
    "eq1 = sp.Eq(x**2,1)\n",
    "eq2 = sp.Eq(y**2,1)"
   ]
  },
  {
   "cell_type": "code",
   "execution_count": 11,
   "metadata": {
    "colab": {
     "base_uri": "https://localhost:8080/",
     "height": 34
    },
    "colab_type": "code",
    "id": "6rHL4Son5axe",
    "outputId": "8f1da0fc-cd36-4be2-e6e2-ec5441bbda2d"
   },
   "outputs": [
    {
     "data": {
      "image/png": "[encoded data removed]",
      "text/latex": [
       "$\\displaystyle \\left\\{\\left( -1, \\  -1\\right), \\left( -1, \\  1\\right), \\left( 1, \\  -1\\right), \\left( 1, \\  1\\right)\\right\\}$"
      ],
      "text/plain": [
       "{(-1, -1), (-1, 1), (1, -1), (1, 1)}"
      ]
     },
     "execution_count": 11,
     "metadata": {},
     "output_type": "execute_result"
    }
   ],
   "source": [
    "sp.nonlinsolve((eq1,eq2),(x,y))"
   ]
  },
  {
   "cell_type": "markdown",
   "metadata": {},
   "source": [
    "Em vez de todas as funções acima podiamos usar a função `solve`. Essa função é mais geral das funções acima e engloba elas. "
   ]
  },
  {
   "cell_type": "code",
   "execution_count": 12,
   "metadata": {},
   "outputs": [
    {
     "data": {
      "image/png": "[encoded data removed]",
      "text/latex": [
       "$\\displaystyle \\left[ \\left( -1, \\  -1\\right), \\  \\left( -1, \\  1\\right), \\  \\left( 1, \\  -1\\right), \\  \\left( 1, \\  1\\right)\\right]$"
      ],
      "text/plain": [
       "[(-1, -1), (-1, 1), (1, -1), (1, 1)]"
      ]
     },
     "execution_count": 12,
     "metadata": {},
     "output_type": "execute_result"
    }
   ],
   "source": [
    "sp.solve((eq1,eq2),(x,y))"
   ]
  },
  {
   "cell_type": "code",
   "execution_count": 13,
   "metadata": {},
   "outputs": [],
   "source": [
    "eq1 = sp.Eq(x+y+z,1)\n",
    "eq2 = sp.Eq(x+y+2*z,3)\n",
    "eq3 = sp.Eq(2*x+y-z,10)"
   ]
  },
  {
   "cell_type": "code",
   "execution_count": 14,
   "metadata": {},
   "outputs": [
    {
     "data": {
      "image/png": "[encoded data removed]",
      "text/latex": [
       "$\\displaystyle \\left\\{ x : - y - 1, \\  z : 2\\right\\}$"
      ],
      "text/plain": [
       "{x: -y - 1, z: 2}"
      ]
     },
     "execution_count": 14,
     "metadata": {},
     "output_type": "execute_result"
    }
   ],
   "source": [
    "\n",
    "sp.solve([eq1,eq2],(x,y,z))"
   ]
  },
  {
   "cell_type": "code",
   "execution_count": 15,
   "metadata": {},
   "outputs": [
    {
     "data": {
      "image/png": "[encoded data removed]",
      "text/latex": [
       "$\\displaystyle \\left\\{ x : 13, \\  y : -14, \\  z : 2\\right\\}$"
      ],
      "text/plain": [
       "{x: 13, y: -14, z: 2}"
      ]
     },
     "execution_count": 15,
     "metadata": {},
     "output_type": "execute_result"
    }
   ],
   "source": [
    "sp.solve([eq1,eq2,eq3],(x,y,z))"
   ]
  },
  {
   "cell_type": "markdown",
   "metadata": {},
   "source": [
    "## Expansão de Taylor"
   ]
  },
  {
   "cell_type": "markdown",
   "metadata": {},
   "source": [
    "Em matemática, uma série de Taylor é a expressão de uma função como uma soma infinita cujos termos são expressos em termos dos valores das derivadas da função em um único ponto. É muito comum, na engenharia e fisica, trabalhar com a expansão de uma função em vez da sua forma original, expecialmente quando a gente precisa estudar o comportamento de uma função só perto de um ponto especifico.![Taylor1](./image/taylor2.gif)\n",
    "Essa expansão para algumas funções mias conhecidas resulta\n",
    "![Taylor](./image/taylor.png)"
   ]
  },
  {
   "cell_type": "markdown",
   "metadata": {},
   "source": [
    "Aqui vamos montar uma função de calcula a expansão da função $f(x)=\\sin(x)$ até a 5° ordem."
   ]
  },
  {
   "cell_type": "code",
   "execution_count": 140,
   "metadata": {},
   "outputs": [
    {
     "name": "stdout",
     "output_type": "stream",
     "text": [
      "Expansão de Tayler da f=sin(x) ate a ordem n=5  é x**5/120 - x**3/6 + x\n"
     ]
    }
   ],
   "source": [
    "\n",
    "import sympy as sp\n",
    "import numpy  as np\n",
    "\n",
    "\n",
    "# Definir uma variavle e uma função para aproximar\n",
    "x = sp.Symbol('x')\n",
    "f = sp.sin(x)\n",
    "\n",
    "# O ponto da expansão\n",
    "x0 = 0\n",
    "\n",
    "# A ordem da espansão\n",
    "j=5\n",
    "\n",
    "# Definir uma função para calcular as derivadas\n",
    "def taylor(function ,x0 ,n):\n",
    "    i = 0 ;\n",
    "    p = 0\n",
    "    while i<= n:\n",
    "        p = p + (function.diff(x,i).subs(x,x0))/(sp.factorial(i))*(x-x0)**i\n",
    "        i += 1\n",
    "    return p \n",
    "    \n",
    "func = taylor(f,x0 ,j)\n",
    "\n",
    "print(f'Expansão de Tayler da f={f} ate a ordem n={j}  é {func}')\n"
   ]
  },
  {
   "cell_type": "markdown",
   "metadata": {},
   "source": [
    "Agora podemos verificar se a função $sin(x)$ e a sua expanção tem aproxidamente o mesmo valor perto do ponto $x=0$."
   ]
  },
  {
   "cell_type": "code",
   "execution_count": 136,
   "metadata": {},
   "outputs": [
    {
     "data": {
      "text/latex": [
       "$\\displaystyle \\frac{101}{120}$"
      ],
      "text/plain": [
       "101/120"
      ]
     },
     "execution_count": 136,
     "metadata": {},
     "output_type": "execute_result"
    }
   ],
   "source": [
    "func.subs(x,1)"
   ]
  },
  {
   "cell_type": "code",
   "execution_count": 137,
   "metadata": {},
   "outputs": [
    {
     "data": {
      "text/latex": [
       "$\\displaystyle 0.841666666666667$"
      ],
      "text/plain": [
       "0.841666666666667"
      ]
     },
     "execution_count": 137,
     "metadata": {},
     "output_type": "execute_result"
    }
   ],
   "source": [
    "N(func.subs(x,1))"
   ]
  },
  {
   "cell_type": "code",
   "execution_count": 138,
   "metadata": {},
   "outputs": [
    {
     "data": {
      "text/latex": [
       "$\\displaystyle 0.841470984807897$"
      ],
      "text/plain": [
       "0.841470984807897"
      ]
     },
     "execution_count": 138,
     "metadata": {},
     "output_type": "execute_result"
    }
   ],
   "source": [
    "N(sp.sin(1))"
   ]
  },
  {
   "cell_type": "markdown",
   "metadata": {},
   "source": [
    "Até a terceira casa decimal são iguais. Para aumentar a precisão temos que calcular mais termos da expansão"
   ]
  },
  {
   "cell_type": "markdown",
   "metadata": {},
   "source": [
    "**EXERCICIO:** montam uma interface grafica que como entrada pega uma função e um valor como a ordem da expansão e como resultado exibe a expansão de Taylor da função dada até a ordem dada. "
   ]
  },
  {
   "cell_type": "markdown",
   "metadata": {},
   "source": [
    "## Equações Diferenciaos Ordinarias"
   ]
  },
  {
   "cell_type": "markdown",
   "metadata": {},
   "source": [
    "O SymPy fornece um solucionador de EDO genérico, `sympy.dsolve()`, capaz de encontrar soluções analíticas para muitos EDOs elementares. A função `sympy.dsolve()` tenta classificar automaticamente uma determinada EDO e pode tentar uma variedade de técnicas para encontrar sua solução. Vamos ver o funcionamento dessa função em ação. Aqui vamos tentar resolver a equação da [lei do resfriamento de Newton](https://pt.wikipedia.org/wiki/Lei_do_resfriamento_de_Newton) $\\frac{T(t)}{dt} = -k(T(t) - T_a) $, com o valor inicial $T(0) = T_0$. $T(t)$ é a temperatura do objeto em relação do tempo e $T_a$ é a temperatura de ambiente. Vamos definir essa equação"
   ]
  },
  {
   "cell_type": "code",
   "execution_count": 23,
   "metadata": {},
   "outputs": [],
   "source": [
    "import sympy as sp\n",
    "T = sp.Function('T')\n",
    "k, t, T_a = sp.symbols(\"k t T_a\")\n",
    "eq = sp.Eq(T(t).diff(t),- k*(T(t)-T_a))"
   ]
  },
  {
   "cell_type": "code",
   "execution_count": 84,
   "metadata": {},
   "outputs": [
    {
     "data": {
      "text/latex": [
       "$\\displaystyle \\frac{d}{d t} T{\\left(t \\right)} = - k \\left(- T_{a} + T{\\left(t \\right)}\\right)$"
      ],
      "text/plain": [
       "Eq(Derivative(T(t), t), -k*(-T_a + T(t)))"
      ]
     },
     "execution_count": 84,
     "metadata": {},
     "output_type": "execute_result"
    }
   ],
   "source": [
    "eq"
   ]
  },
  {
   "cell_type": "markdown",
   "metadata": {},
   "source": [
    "Sem considerar o valor inicial a solução é "
   ]
  },
  {
   "cell_type": "code",
   "execution_count": 85,
   "metadata": {},
   "outputs": [],
   "source": [
    "sol = sp.dsolve(eq)"
   ]
  },
  {
   "cell_type": "code",
   "execution_count": 86,
   "metadata": {},
   "outputs": [
    {
     "data": {
      "text/latex": [
       "$\\displaystyle T{\\left(t \\right)} = C_{1} e^{- k t} + T_{a}$"
      ],
      "text/plain": [
       "Eq(T(t), C1*exp(-k*t) + T_a)"
      ]
     },
     "execution_count": 86,
     "metadata": {},
     "output_type": "execute_result"
    }
   ],
   "source": [
    "sol"
   ]
  },
  {
   "cell_type": "markdown",
   "metadata": {},
   "source": [
    "Para impor a condição inicial (valor inicial, condição de contorno) usamos o agumento `ics` ($T(0) = 50$)"
   ]
  },
  {
   "cell_type": "code",
   "execution_count": 87,
   "metadata": {},
   "outputs": [],
   "source": [
    "sol1 = sp.dsolve(eq, ics={T(0):50})"
   ]
  },
  {
   "cell_type": "code",
   "execution_count": 88,
   "metadata": {},
   "outputs": [
    {
     "data": {
      "text/latex": [
       "$\\displaystyle T{\\left(t \\right)} = T_{a} + \\left(50 - T_{a}\\right) e^{- k t}$"
      ],
      "text/plain": [
       "Eq(T(t), T_a + (50 - T_a)*exp(-k*t))"
      ]
     },
     "execution_count": 88,
     "metadata": {},
     "output_type": "execute_result"
    }
   ],
   "source": [
    "sol1"
   ]
  },
  {
   "cell_type": "markdown",
   "metadata": {},
   "source": [
    "Como outro exemplo mais complicado vamos implementar a dinamica de um oscilador harmonico amortecido. Não pretendemos entrar na discussão fisica da equação, só a resolução da equação é nos intressa. A equação é \n",
    "$$\n",
    "\\frac{d^2x(t)}{dt^2} + 2 \\gamma \\omega_0 \\frac{dx(t)}{dt} + \\omega_0^2 x(t) = 0.\n",
    "$$\n",
    "onde $x(t)$ é a posição do oscilador no instante $t$, $\\omega_0$ é a do oscilador idealizado (não-amortecido) e $\\gamma$ é a taxa de amortecimento. \n",
    "\n",
    "Na primeira etapa vamos implementar a equação"
   ]
  },
  {
   "cell_type": "code",
   "execution_count": 24,
   "metadata": {},
   "outputs": [],
   "source": [
    "x = sp.Function('x')\n",
    "t, omega_0, gamma = sp.symbols(\"t , omega_0, gamma\", positive = True) \n",
    "damp = sp.Eq(x(t).diff(t, 2) + 2 * gamma * omega_0 * x(t).diff(t) +\n",
    "omega_0**2 * x(t), 0)"
   ]
  },
  {
   "cell_type": "code",
   "execution_count": 25,
   "metadata": {},
   "outputs": [
    {
     "data": {
      "text/latex": [
       "$\\displaystyle 2 \\gamma \\omega_{0} \\frac{d}{d t} x{\\left(t \\right)} + \\omega_{0}^{2} x{\\left(t \\right)} + \\frac{d^{2}}{d t^{2}} x{\\left(t \\right)} = 0$"
      ],
      "text/plain": [
       "Eq(2*gamma*omega_0*Derivative(x(t), t) + omega_0**2*x(t) + Derivative(x(t), (t, 2)), 0)"
      ]
     },
     "execution_count": 25,
     "metadata": {},
     "output_type": "execute_result"
    }
   ],
   "source": [
    "damp"
   ]
  },
  {
   "cell_type": "code",
   "execution_count": 26,
   "metadata": {},
   "outputs": [],
   "source": [
    "sol2 = sp.dsolve(damp)"
   ]
  },
  {
   "cell_type": "code",
   "execution_count": 27,
   "metadata": {},
   "outputs": [
    {
     "data": {
      "text/latex": [
       "$\\displaystyle x{\\left(t \\right)} = C_{1} e^{\\omega_{0} t \\left(- \\gamma - \\sqrt{\\gamma - 1} \\sqrt{\\gamma + 1}\\right)} + C_{2} e^{\\omega_{0} t \\left(- \\gamma + \\sqrt{\\gamma - 1} \\sqrt{\\gamma + 1}\\right)}$"
      ],
      "text/plain": [
       "Eq(x(t), C1*exp(omega_0*t*(-gamma - sqrt(gamma - 1)*sqrt(gamma + 1))) + C2*exp(omega_0*t*(-gamma + sqrt(gamma - 1)*sqrt(gamma + 1))))"
      ]
     },
     "execution_count": 27,
     "metadata": {},
     "output_type": "execute_result"
    }
   ],
   "source": [
    "sol2"
   ]
  },
  {
   "cell_type": "markdown",
   "metadata": {},
   "source": [
    "Como podemos ver que tem duas constantes de integração para fixar. Assumimos que o objeto pendurado no oscilador no momento inicial estava no $x(0)=1$ com a velocidade zero, $\\frac{dx(t)}{dt}|_{t=0}=0$"
   ]
  },
  {
   "cell_type": "code",
   "execution_count": 28,
   "metadata": {},
   "outputs": [],
   "source": [
    "sol2 = sp.dsolve(damp, ics = {x(0):1, x(t).diff(t).subs(t,0):0})"
   ]
  },
  {
   "cell_type": "code",
   "execution_count": 29,
   "metadata": {
    "scrolled": true
   },
   "outputs": [
    {
     "data": {
      "text/latex": [
       "$\\displaystyle x{\\left(t \\right)} = \\left(- \\frac{\\gamma}{2 \\sqrt{\\gamma^{2} - 1}} + \\frac{1}{2}\\right) e^{\\omega_{0} t \\left(- \\gamma - \\sqrt{\\gamma - 1} \\sqrt{\\gamma + 1}\\right)} + \\left(\\frac{\\gamma}{2 \\sqrt{\\gamma^{2} - 1}} + \\frac{1}{2}\\right) e^{\\omega_{0} t \\left(- \\gamma + \\sqrt{\\gamma - 1} \\sqrt{\\gamma + 1}\\right)}$"
      ],
      "text/plain": [
       "Eq(x(t), (-gamma/(2*sqrt(gamma**2 - 1)) + 1/2)*exp(omega_0*t*(-gamma - sqrt(gamma - 1)*sqrt(gamma + 1))) + (gamma/(2*sqrt(gamma**2 - 1)) + 1/2)*exp(omega_0*t*(-gamma + sqrt(gamma - 1)*sqrt(gamma + 1))))"
      ]
     },
     "execution_count": 29,
     "metadata": {},
     "output_type": "execute_result"
    }
   ],
   "source": [
    "sol2"
   ]
  },
  {
   "cell_type": "markdown",
   "metadata": {},
   "source": [
    "Todo mundo sabe que um oscilador harmonico amortecido vai perder a sua energia e vai parar de oscilar depois de um tempo. Vamos calcular o limite da equação acima quando $t \\rightarrow \\infty$. Primeiro temos que pegar o lado direito da equação"
   ]
  },
  {
   "cell_type": "code",
   "execution_count": 30,
   "metadata": {},
   "outputs": [],
   "source": [
    "sol2_right = sol2.rhs"
   ]
  },
  {
   "cell_type": "code",
   "execution_count": 31,
   "metadata": {},
   "outputs": [
    {
     "data": {
      "text/latex": [
       "$\\displaystyle \\left(- \\frac{\\gamma}{2 \\sqrt{\\gamma^{2} - 1}} + \\frac{1}{2}\\right) e^{\\omega_{0} t \\left(- \\gamma - \\sqrt{\\gamma - 1} \\sqrt{\\gamma + 1}\\right)} + \\left(\\frac{\\gamma}{2 \\sqrt{\\gamma^{2} - 1}} + \\frac{1}{2}\\right) e^{\\omega_{0} t \\left(- \\gamma + \\sqrt{\\gamma - 1} \\sqrt{\\gamma + 1}\\right)}$"
      ],
      "text/plain": [
       "(-gamma/(2*sqrt(gamma**2 - 1)) + 1/2)*exp(omega_0*t*(-gamma - sqrt(gamma - 1)*sqrt(gamma + 1))) + (gamma/(2*sqrt(gamma**2 - 1)) + 1/2)*exp(omega_0*t*(-gamma + sqrt(gamma - 1)*sqrt(gamma + 1)))"
      ]
     },
     "execution_count": 31,
     "metadata": {},
     "output_type": "execute_result"
    }
   ],
   "source": [
    "sol2_right"
   ]
  },
  {
   "cell_type": "markdown",
   "metadata": {},
   "source": [
    "Agora vamos fixar as constantes $\\omega_0$ e $\\gamma$"
   ]
  },
  {
   "cell_type": "code",
   "execution_count": 32,
   "metadata": {},
   "outputs": [],
   "source": [
    "sol2_right = sol2_right.subs(omega_0,3).subs(gamma,0.02)"
   ]
  },
  {
   "cell_type": "code",
   "execution_count": 33,
   "metadata": {},
   "outputs": [
    {
     "data": {
      "text/latex": [
       "$\\displaystyle \\left(\\frac{1}{2} + 0.0100020006002001 i\\right) e^{3 t \\left(-0.02 - 0.999799979995999 i\\right)} + \\left(\\frac{1}{2} - 0.0100020006002001 i\\right) e^{3 t \\left(-0.02 + 0.999799979995999 i\\right)}$"
      ],
      "text/plain": [
       "(1/2 + 0.0100020006002001*I)*exp(3*t*(-0.02 - 0.999799979995999*I)) + (1/2 - 0.0100020006002001*I)*exp(3*t*(-0.02 + 0.999799979995999*I))"
      ]
     },
     "execution_count": 33,
     "metadata": {},
     "output_type": "execute_result"
    }
   ],
   "source": [
    "sol2_right"
   ]
  },
  {
   "cell_type": "markdown",
   "metadata": {},
   "source": [
    "Como dá para ver, essa função é complexa! Para ver o limite da parte real temos que pegar a parte real"
   ]
  },
  {
   "cell_type": "code",
   "execution_count": 34,
   "metadata": {},
   "outputs": [
    {
     "data": {
      "text/latex": [
       "$\\displaystyle 0$"
      ],
      "text/plain": [
       "0"
      ]
     },
     "execution_count": 34,
     "metadata": {},
     "output_type": "execute_result"
    }
   ],
   "source": [
    "sp.limit(sp.re(sol2_right), t, sp.oo)"
   ]
  },
  {
   "cell_type": "markdown",
   "metadata": {},
   "source": [
    "## EDO Sem Solução Exata"
   ]
  },
  {
   "cell_type": "markdown",
   "metadata": {},
   "source": [
    "Mas nem sempre uma equação diferencial tem uma solução analitica e exata. Por exemplo a equação $\\frac{dy(x)}{dx} = x + y(x)^2$ não tem uma solução exata"
   ]
  },
  {
   "cell_type": "code",
   "execution_count": 100,
   "metadata": {},
   "outputs": [
    {
     "data": {
      "text/latex": [
       "$\\displaystyle \\frac{d}{d x} y{\\left(x \\right)} = x + y^{2}{\\left(x \\right)}$"
      ],
      "text/plain": [
       "Eq(Derivative(y(x), x), x + y(x)**2)"
      ]
     },
     "execution_count": 100,
     "metadata": {},
     "output_type": "execute_result"
    }
   ],
   "source": [
    "y = sp.Function('y')\n",
    "x = sp.symbols('x')\n",
    "eq1 = sp.Eq(y(x).diff(x), x+y(x)**2);\n",
    "eq1"
   ]
  },
  {
   "cell_type": "markdown",
   "metadata": {},
   "source": [
    "e a solução aproximada (analitica) é  "
   ]
  },
  {
   "cell_type": "code",
   "execution_count": 98,
   "metadata": {},
   "outputs": [],
   "source": [
    "sol3 = sp.dsolve(eq1)"
   ]
  },
  {
   "cell_type": "code",
   "execution_count": 99,
   "metadata": {},
   "outputs": [
    {
     "data": {
      "text/latex": [
       "$\\displaystyle y{\\left(x \\right)} = \\frac{x^{2} \\left(2 C_{1}^{3} + 1\\right)}{2} + \\frac{x^{5} \\left(10 C_{1}^{3} \\left(6 C_{1}^{3} + 1\\right) + 20 C_{1}^{3} + 3\\right)}{60} + C_{1} + \\frac{C_{1} x^{3} \\left(3 C_{1}^{3} + 1\\right)}{3} + C_{1}^{2} x + \\frac{C_{1}^{2} x^{4} \\left(12 C_{1}^{3} + 5\\right)}{12} + O\\left(x^{6}\\right)$"
      ],
      "text/plain": [
       "Eq(y(x), x**2*(2*C1**3 + 1)/2 + x**5*(10*C1**3*(6*C1**3 + 1) + 20*C1**3 + 3)/60 + C1 + C1*x**3*(3*C1**3 + 1)/3 + C1**2*x + C1**2*x**4*(12*C1**3 + 5)/12 + O(x**6))"
      ]
     },
     "execution_count": 99,
     "metadata": {},
     "output_type": "execute_result"
    }
   ],
   "source": [
    "sol3"
   ]
  },
  {
   "cell_type": "markdown",
   "metadata": {},
   "source": [
    "Como podemos ver a solução é uma expansão. Nestes casos é melhor ir para uma solução numerica que será discutida em outra seção"
   ]
  },
  {
   "cell_type": "markdown",
   "metadata": {},
   "source": [
    "## Opcional: Um programa para integrar e derivar"
   ]
  },
  {
   "cell_type": "markdown",
   "metadata": {},
   "source": [
    "Até agora a gente tinha de definir as variaves simbolicas para puder definir funções. Tem uma função interna do `sympy` que consegue transformar (não sempre!) uma equação no formato `string` em um equação simbolica."
   ]
  },
  {
   "cell_type": "code",
   "execution_count": 90,
   "metadata": {},
   "outputs": [],
   "source": [
    "eq = sp.sympify(\"sin(x)^2 + 3*cos(x)\")"
   ]
  },
  {
   "cell_type": "code",
   "execution_count": 91,
   "metadata": {},
   "outputs": [
    {
     "data": {
      "image/png": "[encoded data removed]",
      "text/latex": [
       "$\\displaystyle \\sin^{2}{\\left(x \\right)} + 3 \\cos{\\left(x \\right)}$"
      ],
      "text/plain": [
       "   2              \n",
       "sin (x) + 3⋅cos(x)"
      ]
     },
     "execution_count": 91,
     "metadata": {},
     "output_type": "execute_result"
    }
   ],
   "source": [
    "eq"
   ]
  },
  {
   "cell_type": "code",
   "execution_count": 92,
   "metadata": {},
   "outputs": [
    {
     "data": {
      "image/png": "[encoded data removed]",
      "text/latex": [
       "$\\displaystyle 2 \\sin{\\left(x \\right)} \\cos{\\left(x \\right)} - 3 \\sin{\\left(x \\right)}$"
      ],
      "text/plain": [
       "2⋅sin(x)⋅cos(x) - 3⋅sin(x)"
      ]
     },
     "execution_count": 92,
     "metadata": {},
     "output_type": "execute_result"
    }
   ],
   "source": [
    "eq.diff()"
   ]
  },
  {
   "cell_type": "markdown",
   "metadata": {},
   "source": [
    "Agora vamos escrever um programa com interface grafica que pede para o usuario inserir uma equação e depois calcular a integral dessa equação. O programa foi inspirado na resposta dada na questão [Displaying latex on a GUI with python](https://stackoverflow.com/questions/52211220/displaying-latex-on-a-gui-with-python)"
   ]
  },
  {
   "cell_type": "code",
   "execution_count": 10,
   "metadata": {
    "scrolled": true
   },
   "outputs": [],
   "source": [
    "import tkinter as tk\n",
    "import sympy as sp\n",
    "from io import BytesIO\n",
    "from PIL import Image, ImageTk\n",
    "\n",
    "\n",
    "\n",
    "def integrate():\n",
    "    global img # isso é importante para que o Python não elimine esse objeto via garbage collection.\n",
    "    x=sp.Symbol('x')\n",
    "    integral=sp.integrate(eq.get(),x)\n",
    "    var.set('Integration result='+ 'C\\u2081')\n",
    "    obj = BytesIO()\n",
    "    sp.preview(integral, viewer='BytesIO', output='png', outputbuffer=obj)\n",
    "    obj.seek(0)\n",
    "    img = ImageTk.PhotoImage(Image.open(obj))\n",
    "    img_lbl.configure(image=img)\n",
    "\n",
    "win=tk.Tk()   \n",
    "\n",
    "win2=tk.Frame(win)\n",
    "win2.grid(column=0, row=0)\n",
    "\n",
    "# Creates a static txt label\n",
    "eq_static=tk.Label(win2,text='Introduce the equation f(x)',font=(\"Times New Roman\", 14))\n",
    "eq_static.grid(column=0,row=0,padx=5,pady=5)\n",
    "\n",
    "eq=tk.StringVar(value='4*x')\n",
    "eq_Entered=tk.Entry(win2,width=40, textvariable=eq)\n",
    "eq_Entered.grid(column=1,row=0,padx=5,pady=5)\n",
    "\n",
    "# Creates a static txt label\n",
    "var=tk.StringVar()\n",
    "eq_static=tk.Label(win2,textvariable=var,font=(\"Times New Roman\", 14))\n",
    "var.set('Result')\n",
    "eq_static.grid(column=0,row=3,padx=5,pady=5)\n",
    "\n",
    "# Calculate button\n",
    "img = ''  # isso é importante para que o Python não elimine esse objeto via garbage collection.\n",
    "img_lbl = tk.Label(win2)\n",
    "img_lbl.grid()\n",
    "\n",
    "action=tk.Button(win2,text='Integrate',command=integrate)\n",
    "action.grid(column=2,row=0,padx=5,pady=5)\n",
    "win2.mainloop()"
   ]
  },
  {
   "cell_type": "markdown",
   "metadata": {},
   "source": [
    "**EXERCICIO:** Adiciona capacidade de derivar da função inserida."
   ]
  },
  {
   "cell_type": "code",
   "execution_count": null,
   "metadata": {},
   "outputs": [],
   "source": []
  }
 ],
 "metadata": {
  "kernelspec": {
   "display_name": "Python 3",
   "language": "python",
   "name": "python3"
  },
  "language_info": {
   "codemirror_mode": {
    "name": "ipython",
    "version": 3
   },
   "file_extension": ".py",
   "mimetype": "text/x-python",
   "name": "python",
   "nbconvert_exporter": "python",
   "pygments_lexer": "ipython3",
   "version": "3.7.7"
  },
  "toc": {
   "base_numbering": 1,
   "nav_menu": {},
   "number_sections": true,
   "sideBar": true,
   "skip_h1_title": false,
   "title_cell": "Table of Contents",
   "title_sidebar": "Contents",
   "toc_cell": false,
   "toc_position": {},
   "toc_section_display": true,
   "toc_window_display": false
  },
  "varInspector": {
   "cols": {
    "lenName": 16,
    "lenType": 16,
    "lenVar": 40
   },
   "kernels_config": {
    "python": {
     "delete_cmd_postfix": "",
     "delete_cmd_prefix": "del ",
     "library": "var_list.py",
     "varRefreshCmd": "print(var_dic_list())"
    },
    "r": {
     "delete_cmd_postfix": ") ",
     "delete_cmd_prefix": "rm(",
     "library": "var_list.r",
     "varRefreshCmd": "cat(var_dic_list()) "
    }
   },
   "types_to_exclude": [
    "module",
    "function",
    "builtin_function_or_method",
    "instance",
    "_Feature"
   ],
   "window_display": false
  }
 },
 "nbformat": 4,
 "nbformat_minor": 4
}
