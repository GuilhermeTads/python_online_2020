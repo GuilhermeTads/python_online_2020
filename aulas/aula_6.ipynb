{
 "cells": [
  {
   "cell_type": "markdown",
   "metadata": {},
   "source": [
    "# Sympy"
   ]
  },
  {
   "cell_type": "code",
   "execution_count": 1,
   "metadata": {},
   "outputs": [
    {
     "ename": "NameError",
     "evalue": "name 'x' is not defined",
     "output_type": "error",
     "traceback": [
      "\u001b[0;31m---------------------------------------------------------------------------\u001b[0m",
      "\u001b[0;31mNameError\u001b[0m                                 Traceback (most recent call last)",
      "\u001b[0;32m<ipython-input-1-6fcf9dfbd479>\u001b[0m in \u001b[0;36m<module>\u001b[0;34m\u001b[0m\n\u001b[0;32m----> 1\u001b[0;31m \u001b[0mx\u001b[0m\u001b[0;34m\u001b[0m\u001b[0;34m\u001b[0m\u001b[0m\n\u001b[0m",
      "\u001b[0;31mNameError\u001b[0m: name 'x' is not defined"
     ]
    }
   ],
   "source": [
    "x"
   ]
  },
  {
   "cell_type": "code",
   "execution_count": 2,
   "metadata": {},
   "outputs": [],
   "source": [
    "import sympy as sp"
   ]
  },
  {
   "cell_type": "code",
   "execution_count": 3,
   "metadata": {},
   "outputs": [],
   "source": [
    "x,y,z = sp.symbols('x y z')"
   ]
  },
  {
   "cell_type": "code",
   "execution_count": 4,
   "metadata": {},
   "outputs": [
    {
     "data": {
      "text/latex": [
       "$\\displaystyle x$"
      ],
      "text/plain": [
       "x"
      ]
     },
     "execution_count": 4,
     "metadata": {},
     "output_type": "execute_result"
    }
   ],
   "source": [
    "x"
   ]
  },
  {
   "cell_type": "code",
   "execution_count": 5,
   "metadata": {},
   "outputs": [],
   "source": [
    "f = x**2  + x"
   ]
  },
  {
   "cell_type": "code",
   "execution_count": 6,
   "metadata": {},
   "outputs": [
    {
     "data": {
      "text/latex": [
       "$\\displaystyle x^{2} + x$"
      ],
      "text/plain": [
       "x**2 + x"
      ]
     },
     "execution_count": 6,
     "metadata": {},
     "output_type": "execute_result"
    }
   ],
   "source": [
    "f"
   ]
  },
  {
   "cell_type": "code",
   "execution_count": 7,
   "metadata": {},
   "outputs": [],
   "source": [
    "F = sp.Function('F')"
   ]
  },
  {
   "cell_type": "code",
   "execution_count": 8,
   "metadata": {},
   "outputs": [
    {
     "data": {
      "text/latex": [
       "$\\displaystyle F{\\left(x \\right)}$"
      ],
      "text/plain": [
       "F(x)"
      ]
     },
     "execution_count": 8,
     "metadata": {},
     "output_type": "execute_result"
    }
   ],
   "source": [
    "F(x)"
   ]
  },
  {
   "cell_type": "code",
   "execution_count": 9,
   "metadata": {},
   "outputs": [
    {
     "data": {
      "text/latex": [
       "$\\displaystyle F{\\left(y \\right)}$"
      ],
      "text/plain": [
       "F(y)"
      ]
     },
     "execution_count": 9,
     "metadata": {},
     "output_type": "execute_result"
    }
   ],
   "source": [
    "F(y)"
   ]
  },
  {
   "cell_type": "code",
   "execution_count": 10,
   "metadata": {},
   "outputs": [
    {
     "data": {
      "text/latex": [
       "$\\displaystyle 6$"
      ],
      "text/plain": [
       "6"
      ]
     },
     "execution_count": 10,
     "metadata": {},
     "output_type": "execute_result"
    }
   ],
   "source": [
    "f.subs(x,2)"
   ]
  },
  {
   "cell_type": "code",
   "execution_count": 11,
   "metadata": {},
   "outputs": [
    {
     "data": {
      "text/latex": [
       "$\\displaystyle \\pi$"
      ],
      "text/plain": [
       "pi"
      ]
     },
     "execution_count": 11,
     "metadata": {},
     "output_type": "execute_result"
    }
   ],
   "source": [
    "sp.pi"
   ]
  },
  {
   "cell_type": "code",
   "execution_count": 12,
   "metadata": {},
   "outputs": [
    {
     "data": {
      "text/latex": [
       "$\\displaystyle 3.14159265358979$"
      ],
      "text/plain": [
       "3.14159265358979"
      ]
     },
     "execution_count": 12,
     "metadata": {},
     "output_type": "execute_result"
    }
   ],
   "source": [
    "sp.N(sp.pi)"
   ]
  },
  {
   "cell_type": "markdown",
   "metadata": {},
   "source": [
    "## Plot 2D"
   ]
  },
  {
   "cell_type": "code",
   "execution_count": 14,
   "metadata": {},
   "outputs": [],
   "source": [
    "from sympy.plotting import plot"
   ]
  },
  {
   "cell_type": "code",
   "execution_count": 15,
   "metadata": {},
   "outputs": [
    {
     "data": {
      "image/png": "[encoded data removed]",
      "text/plain": [
       "<Figure size 432x288 with 1 Axes>"
      ]
     },
     "metadata": {
      "needs_background": "light"
     },
     "output_type": "display_data"
    },
    {
     "data": {
      "text/plain": [
       "<sympy.plotting.plot.Plot at 0x7ff98e945bd0>"
      ]
     },
     "execution_count": 15,
     "metadata": {},
     "output_type": "execute_result"
    }
   ],
   "source": [
    "plot(f)"
   ]
  },
  {
   "cell_type": "code",
   "execution_count": 16,
   "metadata": {},
   "outputs": [],
   "source": [
    "f = sp.sin(x)"
   ]
  },
  {
   "cell_type": "code",
   "execution_count": 17,
   "metadata": {},
   "outputs": [
    {
     "data": {
      "text/latex": [
       "$\\displaystyle \\sin{\\left(x \\right)}$"
      ],
      "text/plain": [
       "sin(x)"
      ]
     },
     "execution_count": 17,
     "metadata": {},
     "output_type": "execute_result"
    }
   ],
   "source": [
    "f"
   ]
  },
  {
   "cell_type": "code",
   "execution_count": 18,
   "metadata": {},
   "outputs": [
    {
     "data": {
      "image/png": "[encoded data removed]",
      "text/plain": [
       "<Figure size 432x288 with 1 Axes>"
      ]
     },
     "metadata": {
      "needs_background": "light"
     },
     "output_type": "display_data"
    },
    {
     "data": {
      "text/plain": [
       "<sympy.plotting.plot.Plot at 0x7ff98c387a90>"
      ]
     },
     "execution_count": 18,
     "metadata": {},
     "output_type": "execute_result"
    }
   ],
   "source": [
    "plot(f, (x, -4,4))"
   ]
  },
  {
   "cell_type": "code",
   "execution_count": 19,
   "metadata": {},
   "outputs": [
    {
     "data": {
      "image/png": "[encoded data removed]",
      "text/plain": [
       "<Figure size 432x288 with 1 Axes>"
      ]
     },
     "metadata": {
      "needs_background": "light"
     },
     "output_type": "display_data"
    },
    {
     "data": {
      "text/plain": [
       "<sympy.plotting.plot.Plot at 0x7ff98c364410>"
      ]
     },
     "execution_count": 19,
     "metadata": {},
     "output_type": "execute_result"
    }
   ],
   "source": [
    "plot(f, (x, -2*sp.pi , 2 *sp.pi))"
   ]
  },
  {
   "cell_type": "code",
   "execution_count": 20,
   "metadata": {},
   "outputs": [],
   "source": [
    "g = sp.cos(x)"
   ]
  },
  {
   "cell_type": "code",
   "execution_count": 21,
   "metadata": {},
   "outputs": [
    {
     "data": {
      "image/png": "[encoded data removed]",
      "text/plain": [
       "<Figure size 432x288 with 1 Axes>"
      ]
     },
     "metadata": {
      "needs_background": "light"
     },
     "output_type": "display_data"
    },
    {
     "data": {
      "text/plain": [
       "<sympy.plotting.plot.Plot at 0x7ff98c2cfc90>"
      ]
     },
     "execution_count": 21,
     "metadata": {},
     "output_type": "execute_result"
    }
   ],
   "source": [
    "plot(f, g, (x, -2*sp.pi , 2 *sp.pi))"
   ]
  },
  {
   "cell_type": "code",
   "execution_count": 22,
   "metadata": {},
   "outputs": [
    {
     "data": {
      "image/png": "[encoded data removed]",
      "text/plain": [
       "<Figure size 432x288 with 1 Axes>"
      ]
     },
     "metadata": {
      "needs_background": "light"
     },
     "output_type": "display_data"
    },
    {
     "data": {
      "text/plain": [
       "<sympy.plotting.plot.Plot at 0x7ff98c339e10>"
      ]
     },
     "execution_count": 22,
     "metadata": {},
     "output_type": "execute_result"
    }
   ],
   "source": [
    "plot(f, g, (x, -2*sp.pi , 2 *sp.pi), line_color = 'red')"
   ]
  },
  {
   "cell_type": "code",
   "execution_count": 26,
   "metadata": {},
   "outputs": [
    {
     "data": {
      "image/png": "[encoded data removed]",
      "text/plain": [
       "<Figure size 432x288 with 1 Axes>"
      ]
     },
     "metadata": {
      "needs_background": "light"
     },
     "output_type": "display_data"
    }
   ],
   "source": [
    "p1 = plot(f, (x, -2*sp.pi , 2 *sp.pi), line_color = 'red', show = False, Legend=True)\n",
    "p2 = plot(g, (x, -2*sp.pi , 2 *sp.pi), line_color = 'blue', show = False, legend = True)\n",
    "p2.extend(p1)\n",
    "p2.show()"
   ]
  },
  {
   "cell_type": "markdown",
   "metadata": {},
   "source": [
    "## Plot 3D"
   ]
  },
  {
   "cell_type": "code",
   "execution_count": 34,
   "metadata": {},
   "outputs": [],
   "source": [
    "from sympy.plotting import plot3d\n",
    "%matplotlib notebook"
   ]
  },
  {
   "cell_type": "code",
   "execution_count": 29,
   "metadata": {},
   "outputs": [
    {
     "data": {
      "text/latex": [
       "$\\displaystyle \\sin{\\left(x \\right)} \\cos{\\left(y \\right)}$"
      ],
      "text/plain": [
       "sin(x)*cos(y)"
      ]
     },
     "execution_count": 29,
     "metadata": {},
     "output_type": "execute_result"
    }
   ],
   "source": [
    "f = sp.sin(x)*sp.cos(y)\n",
    "f"
   ]
  },
  {
   "cell_type": "code",
   "execution_count": 35,
   "metadata": {},
   "outputs": [
    {
     "data": {
      "application/javascript": [
       "/* Put everything inside the global mpl namespace */\n",
       "window.mpl = {};\n",
       "\n",
       "\n",
       "mpl.get_websocket_type = function() {\n",
       "    if (typeof(WebSocket) !== 'undefined') {\n",
       "        return WebSocket;\n",
       "    } else if (typeof(MozWebSocket) !== 'undefined') {\n",
       "        return MozWebSocket;\n",
       "    } else {\n",
       "        alert('Your browser does not have WebSocket support. ' +\n",
       "              'Please try Chrome, Safari or Firefox ≥ 6. ' +\n",
       "              'Firefox 4 and 5 are also supported but you ' +\n",
       "              'have to enable WebSockets in about:config.');\n",
       "    };\n",
       "}\n",
       "\n",
       "mpl.figure = function(figure_id, websocket, ondownload, parent_element) {\n",
       "    this.id = figure_id;\n",
       "\n",
       "    this.ws = websocket;\n",
       "\n",
       "    this.supports_binary = (this.ws.binaryType != undefined);\n",
       "\n",
       "    if (!this.supports_binary) {\n",
       "        var warnings = document.getElementById(\"mpl-warnings\");\n",
       "        if (warnings) {\n",
       "            warnings.style.display = 'block';\n",
       "            warnings.textContent = (\n",
       "                \"This browser does not support binary websocket messages. \" +\n",
       "                    \"Performance may be slow.\");\n",
       "        }\n",
       "    }\n",
       "\n",
       "    this.imageObj = new Image();\n",
       "\n",
       "    this.context = undefined;\n",
       "    this.message = undefined;\n",
       "    this.canvas = undefined;\n",
       "    this.rubberband_canvas = undefined;\n",
       "    this.rubberband_context = undefined;\n",
       "    this.format_dropdown = undefined;\n",
       "\n",
       "    this.image_mode = 'full';\n",
       "\n",
       "    this.root = $('<div/>');\n",
       "    this._root_extra_style(this.root)\n",
       "    this.root.attr('style', 'display: inline-block');\n",
       "\n",
       "    $(parent_element).append(this.root);\n",
       "\n",
       "    this._init_header(this);\n",
       "    this._init_canvas(this);\n",
       "    this._init_toolbar(this);\n",
       "\n",
       "    var fig = this;\n",
       "\n",
       "    this.waiting = false;\n",
       "\n",
       "    this.ws.onopen =  function () {\n",
       "            fig.send_message(\"supports_binary\", {value: fig.supports_binary});\n",
       "            fig.send_message(\"send_image_mode\", {});\n",
       "            if (mpl.ratio != 1) {\n",
       "                fig.send_message(\"set_dpi_ratio\", {'dpi_ratio': mpl.ratio});\n",
       "            }\n",
       "            fig.send_message(\"refresh\", {});\n",
       "        }\n",
       "\n",
       "    this.imageObj.onload = function() {\n",
       "            if (fig.image_mode == 'full') {\n",
       "                // Full images could contain transparency (where diff images\n",
       "                // almost always do), so we need to clear the canvas so that\n",
       "                // there is no ghosting.\n",
       "                fig.context.clearRect(0, 0, fig.canvas.width, fig.canvas.height);\n",
       "            }\n",
       "            fig.context.drawImage(fig.imageObj, 0, 0);\n",
       "        };\n",
       "\n",
       "    this.imageObj.onunload = function() {\n",
       "        fig.ws.close();\n",
       "    }\n",
       "\n",
       "    this.ws.onmessage = this._make_on_message_function(this);\n",
       "\n",
       "    this.ondownload = ondownload;\n",
       "}\n",
       "\n",
       "mpl.figure.prototype._init_header = function() {\n",
       "    var titlebar = $(\n",
       "        '<div class=\"ui-dialog-titlebar ui-widget-header ui-corner-all ' +\n",
       "        'ui-helper-clearfix\"/>');\n",
       "    var titletext = $(\n",
       "        '<div class=\"ui-dialog-title\" style=\"width: 100%; ' +\n",
       "        'text-align: center; padding: 3px;\"/>');\n",
       "    titlebar.append(titletext)\n",
       "    this.root.append(titlebar);\n",
       "    this.header = titletext[0];\n",
       "}\n",
       "\n",
       "\n",
       "\n",
       "mpl.figure.prototype._canvas_extra_style = function(canvas_div) {\n",
       "\n",
       "}\n",
       "\n",
       "\n",
       "mpl.figure.prototype._root_extra_style = function(canvas_div) {\n",
       "\n",
       "}\n",
       "\n",
       "mpl.figure.prototype._init_canvas = function() {\n",
       "    var fig = this;\n",
       "\n",
       "    var canvas_div = $('<div/>');\n",
       "\n",
       "    canvas_div.attr('style', 'position: relative; clear: both; outline: 0');\n",
       "\n",
       "    function canvas_keyboard_event(event) {\n",
       "        return fig.key_event(event, event['data']);\n",
       "    }\n",
       "\n",
       "    canvas_div.keydown('key_press', canvas_keyboard_event);\n",
       "    canvas_div.keyup('key_release', canvas_keyboard_event);\n",
       "    this.canvas_div = canvas_div\n",
       "    this._canvas_extra_style(canvas_div)\n",
       "    this.root.append(canvas_div);\n",
       "\n",
       "    var canvas = $('<canvas/>');\n",
       "    canvas.addClass('mpl-canvas');\n",
       "    canvas.attr('style', \"left: 0; top: 0; z-index: 0; outline: 0\")\n",
       "\n",
       "    this.canvas = canvas[0];\n",
       "    this.context = canvas[0].getContext(\"2d\");\n",
       "\n",
       "    var backingStore = this.context.backingStorePixelRatio ||\n",
       "\tthis.context.webkitBackingStorePixelRatio ||\n",
       "\tthis.context.mozBackingStorePixelRatio ||\n",
       "\tthis.context.msBackingStorePixelRatio ||\n",
       "\tthis.context.oBackingStorePixelRatio ||\n",
       "\tthis.context.backingStorePixelRatio || 1;\n",
       "\n",
       "    mpl.ratio = (window.devicePixelRatio || 1) / backingStore;\n",
       "\n",
       "    var rubberband = $('<canvas/>');\n",
       "    rubberband.attr('style', \"position: absolute; left: 0; top: 0; z-index: 1;\")\n",
       "\n",
       "    var pass_mouse_events = true;\n",
       "\n",
       "    canvas_div.resizable({\n",
       "        start: function(event, ui) {\n",
       "            pass_mouse_events = false;\n",
       "        },\n",
       "        resize: function(event, ui) {\n",
       "            fig.request_resize(ui.size.width, ui.size.height);\n",
       "        },\n",
       "        stop: function(event, ui) {\n",
       "            pass_mouse_events = true;\n",
       "            fig.request_resize(ui.size.width, ui.size.height);\n",
       "        },\n",
       "    });\n",
       "\n",
       "    function mouse_event_fn(event) {\n",
       "        if (pass_mouse_events)\n",
       "            return fig.mouse_event(event, event['data']);\n",
       "    }\n",
       "\n",
       "    rubberband.mousedown('button_press', mouse_event_fn);\n",
       "    rubberband.mouseup('button_release', mouse_event_fn);\n",
       "    // Throttle sequential mouse events to 1 every 20ms.\n",
       "    rubberband.mousemove('motion_notify', mouse_event_fn);\n",
       "\n",
       "    rubberband.mouseenter('figure_enter', mouse_event_fn);\n",
       "    rubberband.mouseleave('figure_leave', mouse_event_fn);\n",
       "\n",
       "    canvas_div.on(\"wheel\", function (event) {\n",
       "        event = event.originalEvent;\n",
       "        event['data'] = 'scroll'\n",
       "        if (event.deltaY < 0) {\n",
       "            event.step = 1;\n",
       "        } else {\n",
       "            event.step = -1;\n",
       "        }\n",
       "        mouse_event_fn(event);\n",
       "    });\n",
       "\n",
       "    canvas_div.append(canvas);\n",
       "    canvas_div.append(rubberband);\n",
       "\n",
       "    this.rubberband = rubberband;\n",
       "    this.rubberband_canvas = rubberband[0];\n",
       "    this.rubberband_context = rubberband[0].getContext(\"2d\");\n",
       "    this.rubberband_context.strokeStyle = \"#000000\";\n",
       "\n",
       "    this._resize_canvas = function(width, height) {\n",
       "        // Keep the size of the canvas, canvas container, and rubber band\n",
       "        // canvas in synch.\n",
       "        canvas_div.css('width', width)\n",
       "        canvas_div.css('height', height)\n",
       "\n",
       "        canvas.attr('width', width * mpl.ratio);\n",
       "        canvas.attr('height', height * mpl.ratio);\n",
       "        canvas.attr('style', 'width: ' + width + 'px; height: ' + height + 'px;');\n",
       "\n",
       "        rubberband.attr('width', width);\n",
       "        rubberband.attr('height', height);\n",
       "    }\n",
       "\n",
       "    // Set the figure to an initial 600x600px, this will subsequently be updated\n",
       "    // upon first draw.\n",
       "    this._resize_canvas(600, 600);\n",
       "\n",
       "    // Disable right mouse context menu.\n",
       "    $(this.rubberband_canvas).bind(\"contextmenu\",function(e){\n",
       "        return false;\n",
       "    });\n",
       "\n",
       "    function set_focus () {\n",
       "        canvas.focus();\n",
       "        canvas_div.focus();\n",
       "    }\n",
       "\n",
       "    window.setTimeout(set_focus, 100);\n",
       "}\n",
       "\n",
       "mpl.figure.prototype._init_toolbar = function() {\n",
       "    var fig = this;\n",
       "\n",
       "    var nav_element = $('<div/>');\n",
       "    nav_element.attr('style', 'width: 100%');\n",
       "    this.root.append(nav_element);\n",
       "\n",
       "    // Define a callback function for later on.\n",
       "    function toolbar_event(event) {\n",
       "        return fig.toolbar_button_onclick(event['data']);\n",
       "    }\n",
       "    function toolbar_mouse_event(event) {\n",
       "        return fig.toolbar_button_onmouseover(event['data']);\n",
       "    }\n",
       "\n",
       "    for(var toolbar_ind in mpl.toolbar_items) {\n",
       "        var name = mpl.toolbar_items[toolbar_ind][0];\n",
       "        var tooltip = mpl.toolbar_items[toolbar_ind][1];\n",
       "        var image = mpl.toolbar_items[toolbar_ind][2];\n",
       "        var method_name = mpl.toolbar_items[toolbar_ind][3];\n",
       "\n",
       "        if (!name) {\n",
       "            // put a spacer in here.\n",
       "            continue;\n",
       "        }\n",
       "        var button = $('<button/>');\n",
       "        button.addClass('ui-button ui-widget ui-state-default ui-corner-all ' +\n",
       "                        'ui-button-icon-only');\n",
       "        button.attr('role', 'button');\n",
       "        button.attr('aria-disabled', 'false');\n",
       "        button.click(method_name, toolbar_event);\n",
       "        button.mouseover(tooltip, toolbar_mouse_event);\n",
       "\n",
       "        var icon_img = $('<span/>');\n",
       "        icon_img.addClass('ui-button-icon-primary ui-icon');\n",
       "        icon_img.addClass(image);\n",
       "        icon_img.addClass('ui-corner-all');\n",
       "\n",
       "        var tooltip_span = $('<span/>');\n",
       "        tooltip_span.addClass('ui-button-text');\n",
       "        tooltip_span.html(tooltip);\n",
       "\n",
       "        button.append(icon_img);\n",
       "        button.append(tooltip_span);\n",
       "\n",
       "        nav_element.append(button);\n",
       "    }\n",
       "\n",
       "    var fmt_picker_span = $('<span/>');\n",
       "\n",
       "    var fmt_picker = $('<select/>');\n",
       "    fmt_picker.addClass('mpl-toolbar-option ui-widget ui-widget-content');\n",
       "    fmt_picker_span.append(fmt_picker);\n",
       "    nav_element.append(fmt_picker_span);\n",
       "    this.format_dropdown = fmt_picker[0];\n",
       "\n",
       "    for (var ind in mpl.extensions) {\n",
       "        var fmt = mpl.extensions[ind];\n",
       "        var option = $(\n",
       "            '<option/>', {selected: fmt === mpl.default_extension}).html(fmt);\n",
       "        fmt_picker.append(option);\n",
       "    }\n",
       "\n",
       "    // Add hover states to the ui-buttons\n",
       "    $( \".ui-button\" ).hover(\n",
       "        function() { $(this).addClass(\"ui-state-hover\");},\n",
       "        function() { $(this).removeClass(\"ui-state-hover\");}\n",
       "    );\n",
       "\n",
       "    var status_bar = $('<span class=\"mpl-message\"/>');\n",
       "    nav_element.append(status_bar);\n",
       "    this.message = status_bar[0];\n",
       "}\n",
       "\n",
       "mpl.figure.prototype.request_resize = function(x_pixels, y_pixels) {\n",
       "    // Request matplotlib to resize the figure. Matplotlib will then trigger a resize in the client,\n",
       "    // which will in turn request a refresh of the image.\n",
       "    this.send_message('resize', {'width': x_pixels, 'height': y_pixels});\n",
       "}\n",
       "\n",
       "mpl.figure.prototype.send_message = function(type, properties) {\n",
       "    properties['type'] = type;\n",
       "    properties['figure_id'] = this.id;\n",
       "    this.ws.send(JSON.stringify(properties));\n",
       "}\n",
       "\n",
       "mpl.figure.prototype.send_draw_message = function() {\n",
       "    if (!this.waiting) {\n",
       "        this.waiting = true;\n",
       "        this.ws.send(JSON.stringify({type: \"draw\", figure_id: this.id}));\n",
       "    }\n",
       "}\n",
       "\n",
       "\n",
       "mpl.figure.prototype.handle_save = function(fig, msg) {\n",
       "    var format_dropdown = fig.format_dropdown;\n",
       "    var format = format_dropdown.options[format_dropdown.selectedIndex].value;\n",
       "    fig.ondownload(fig, format);\n",
       "}\n",
       "\n",
       "\n",
       "mpl.figure.prototype.handle_resize = function(fig, msg) {\n",
       "    var size = msg['size'];\n",
       "    if (size[0] != fig.canvas.width || size[1] != fig.canvas.height) {\n",
       "        fig._resize_canvas(size[0], size[1]);\n",
       "        fig.send_message(\"refresh\", {});\n",
       "    };\n",
       "}\n",
       "\n",
       "mpl.figure.prototype.handle_rubberband = function(fig, msg) {\n",
       "    var x0 = msg['x0'] / mpl.ratio;\n",
       "    var y0 = (fig.canvas.height - msg['y0']) / mpl.ratio;\n",
       "    var x1 = msg['x1'] / mpl.ratio;\n",
       "    var y1 = (fig.canvas.height - msg['y1']) / mpl.ratio;\n",
       "    x0 = Math.floor(x0) + 0.5;\n",
       "    y0 = Math.floor(y0) + 0.5;\n",
       "    x1 = Math.floor(x1) + 0.5;\n",
       "    y1 = Math.floor(y1) + 0.5;\n",
       "    var min_x = Math.min(x0, x1);\n",
       "    var min_y = Math.min(y0, y1);\n",
       "    var width = Math.abs(x1 - x0);\n",
       "    var height = Math.abs(y1 - y0);\n",
       "\n",
       "    fig.rubberband_context.clearRect(\n",
       "        0, 0, fig.canvas.width / mpl.ratio, fig.canvas.height / mpl.ratio);\n",
       "\n",
       "    fig.rubberband_context.strokeRect(min_x, min_y, width, height);\n",
       "}\n",
       "\n",
       "mpl.figure.prototype.handle_figure_label = function(fig, msg) {\n",
       "    // Updates the figure title.\n",
       "    fig.header.textContent = msg['label'];\n",
       "}\n",
       "\n",
       "mpl.figure.prototype.handle_cursor = function(fig, msg) {\n",
       "    var cursor = msg['cursor'];\n",
       "    switch(cursor)\n",
       "    {\n",
       "    case 0:\n",
       "        cursor = 'pointer';\n",
       "        break;\n",
       "    case 1:\n",
       "        cursor = 'default';\n",
       "        break;\n",
       "    case 2:\n",
       "        cursor = 'crosshair';\n",
       "        break;\n",
       "    case 3:\n",
       "        cursor = 'move';\n",
       "        break;\n",
       "    }\n",
       "    fig.rubberband_canvas.style.cursor = cursor;\n",
       "}\n",
       "\n",
       "mpl.figure.prototype.handle_message = function(fig, msg) {\n",
       "    fig.message.textContent = msg['message'];\n",
       "}\n",
       "\n",
       "mpl.figure.prototype.handle_draw = function(fig, msg) {\n",
       "    // Request the server to send over a new figure.\n",
       "    fig.send_draw_message();\n",
       "}\n",
       "\n",
       "mpl.figure.prototype.handle_image_mode = function(fig, msg) {\n",
       "    fig.image_mode = msg['mode'];\n",
       "}\n",
       "\n",
       "mpl.figure.prototype.updated_canvas_event = function() {\n",
       "    // Called whenever the canvas gets updated.\n",
       "    this.send_message(\"ack\", {});\n",
       "}\n",
       "\n",
       "// A function to construct a web socket function for onmessage handling.\n",
       "// Called in the figure constructor.\n",
       "mpl.figure.prototype._make_on_message_function = function(fig) {\n",
       "    return function socket_on_message(evt) {\n",
       "        if (evt.data instanceof Blob) {\n",
       "            /* FIXME: We get \"Resource interpreted as Image but\n",
       "             * transferred with MIME type text/plain:\" errors on\n",
       "             * Chrome.  But how to set the MIME type?  It doesn't seem\n",
       "             * to be part of the websocket stream */\n",
       "            evt.data.type = \"image/png\";\n",
       "\n",
       "            /* Free the memory for the previous frames */\n",
       "            if (fig.imageObj.src) {\n",
       "                (window.URL || window.webkitURL).revokeObjectURL(\n",
       "                    fig.imageObj.src);\n",
       "            }\n",
       "\n",
       "            fig.imageObj.src = (window.URL || window.webkitURL).createObjectURL(\n",
       "                evt.data);\n",
       "            fig.updated_canvas_event();\n",
       "            fig.waiting = false;\n",
       "            return;\n",
       "        }\n",
       "        else if (typeof evt.data === 'string' && evt.data.slice(0, 21) == \"data:image/png;base64\") {\n",
       "            fig.imageObj.src = evt.data;\n",
       "            fig.updated_canvas_event();\n",
       "            fig.waiting = false;\n",
       "            return;\n",
       "        }\n",
       "\n",
       "        var msg = JSON.parse(evt.data);\n",
       "        var msg_type = msg['type'];\n",
       "\n",
       "        // Call the  \"handle_{type}\" callback, which takes\n",
       "        // the figure and JSON message as its only arguments.\n",
       "        try {\n",
       "            var callback = fig[\"handle_\" + msg_type];\n",
       "        } catch (e) {\n",
       "            console.log(\"No handler for the '\" + msg_type + \"' message type: \", msg);\n",
       "            return;\n",
       "        }\n",
       "\n",
       "        if (callback) {\n",
       "            try {\n",
       "                // console.log(\"Handling '\" + msg_type + \"' message: \", msg);\n",
       "                callback(fig, msg);\n",
       "            } catch (e) {\n",
       "                console.log(\"Exception inside the 'handler_\" + msg_type + \"' callback:\", e, e.stack, msg);\n",
       "            }\n",
       "        }\n",
       "    };\n",
       "}\n",
       "\n",
       "// from http://stackoverflow.com/questions/1114465/getting-mouse-location-in-canvas\n",
       "mpl.findpos = function(e) {\n",
       "    //this section is from http://www.quirksmode.org/js/events_properties.html\n",
       "    var targ;\n",
       "    if (!e)\n",
       "        e = window.event;\n",
       "    if (e.target)\n",
       "        targ = e.target;\n",
       "    else if (e.srcElement)\n",
       "        targ = e.srcElement;\n",
       "    if (targ.nodeType == 3) // defeat Safari bug\n",
       "        targ = targ.parentNode;\n",
       "\n",
       "    // jQuery normalizes the pageX and pageY\n",
       "    // pageX,Y are the mouse positions relative to the document\n",
       "    // offset() returns the position of the element relative to the document\n",
       "    var x = e.pageX - $(targ).offset().left;\n",
       "    var y = e.pageY - $(targ).offset().top;\n",
       "\n",
       "    return {\"x\": x, \"y\": y};\n",
       "};\n",
       "\n",
       "/*\n",
       " * return a copy of an object with only non-object keys\n",
       " * we need this to avoid circular references\n",
       " * http://stackoverflow.com/a/24161582/3208463\n",
       " */\n",
       "function simpleKeys (original) {\n",
       "  return Object.keys(original).reduce(function (obj, key) {\n",
       "    if (typeof original[key] !== 'object')\n",
       "        obj[key] = original[key]\n",
       "    return obj;\n",
       "  }, {});\n",
       "}\n",
       "\n",
       "mpl.figure.prototype.mouse_event = function(event, name) {\n",
       "    var canvas_pos = mpl.findpos(event)\n",
       "\n",
       "    if (name === 'button_press')\n",
       "    {\n",
       "        this.canvas.focus();\n",
       "        this.canvas_div.focus();\n",
       "    }\n",
       "\n",
       "    var x = canvas_pos.x * mpl.ratio;\n",
       "    var y = canvas_pos.y * mpl.ratio;\n",
       "\n",
       "    this.send_message(name, {x: x, y: y, button: event.button,\n",
       "                             step: event.step,\n",
       "                             guiEvent: simpleKeys(event)});\n",
       "\n",
       "    /* This prevents the web browser from automatically changing to\n",
       "     * the text insertion cursor when the button is pressed.  We want\n",
       "     * to control all of the cursor setting manually through the\n",
       "     * 'cursor' event from matplotlib */\n",
       "    event.preventDefault();\n",
       "    return false;\n",
       "}\n",
       "\n",
       "mpl.figure.prototype._key_event_extra = function(event, name) {\n",
       "    // Handle any extra behaviour associated with a key event\n",
       "}\n",
       "\n",
       "mpl.figure.prototype.key_event = function(event, name) {\n",
       "\n",
       "    // Prevent repeat events\n",
       "    if (name == 'key_press')\n",
       "    {\n",
       "        if (event.which === this._key)\n",
       "            return;\n",
       "        else\n",
       "            this._key = event.which;\n",
       "    }\n",
       "    if (name == 'key_release')\n",
       "        this._key = null;\n",
       "\n",
       "    var value = '';\n",
       "    if (event.ctrlKey && event.which != 17)\n",
       "        value += \"ctrl+\";\n",
       "    if (event.altKey && event.which != 18)\n",
       "        value += \"alt+\";\n",
       "    if (event.shiftKey && event.which != 16)\n",
       "        value += \"shift+\";\n",
       "\n",
       "    value += 'k';\n",
       "    value += event.which.toString();\n",
       "\n",
       "    this._key_event_extra(event, name);\n",
       "\n",
       "    this.send_message(name, {key: value,\n",
       "                             guiEvent: simpleKeys(event)});\n",
       "    return false;\n",
       "}\n",
       "\n",
       "mpl.figure.prototype.toolbar_button_onclick = function(name) {\n",
       "    if (name == 'download') {\n",
       "        this.handle_save(this, null);\n",
       "    } else {\n",
       "        this.send_message(\"toolbar_button\", {name: name});\n",
       "    }\n",
       "};\n",
       "\n",
       "mpl.figure.prototype.toolbar_button_onmouseover = function(tooltip) {\n",
       "    this.message.textContent = tooltip;\n",
       "};\n",
       "mpl.toolbar_items = [[\"Home\", \"Reset original view\", \"fa fa-home icon-home\", \"home\"], [\"Back\", \"Back to previous view\", \"fa fa-arrow-left icon-arrow-left\", \"back\"], [\"Forward\", \"Forward to next view\", \"fa fa-arrow-right icon-arrow-right\", \"forward\"], [\"\", \"\", \"\", \"\"], [\"Pan\", \"Pan axes with left mouse, zoom with right\", \"fa fa-arrows icon-move\", \"pan\"], [\"Zoom\", \"Zoom to rectangle\", \"fa fa-square-o icon-check-empty\", \"zoom\"], [\"\", \"\", \"\", \"\"], [\"Download\", \"Download plot\", \"fa fa-floppy-o icon-save\", \"download\"]];\n",
       "\n",
       "mpl.extensions = [\"eps\", \"jpeg\", \"pdf\", \"png\", \"ps\", \"raw\", \"svg\", \"tif\"];\n",
       "\n",
       "mpl.default_extension = \"png\";var comm_websocket_adapter = function(comm) {\n",
       "    // Create a \"websocket\"-like object which calls the given IPython comm\n",
       "    // object with the appropriate methods. Currently this is a non binary\n",
       "    // socket, so there is still some room for performance tuning.\n",
       "    var ws = {};\n",
       "\n",
       "    ws.close = function() {\n",
       "        comm.close()\n",
       "    };\n",
       "    ws.send = function(m) {\n",
       "        //console.log('sending', m);\n",
       "        comm.send(m);\n",
       "    };\n",
       "    // Register the callback with on_msg.\n",
       "    comm.on_msg(function(msg) {\n",
       "        //console.log('receiving', msg['content']['data'], msg);\n",
       "        // Pass the mpl event to the overridden (by mpl) onmessage function.\n",
       "        ws.onmessage(msg['content']['data'])\n",
       "    });\n",
       "    return ws;\n",
       "}\n",
       "\n",
       "mpl.mpl_figure_comm = function(comm, msg) {\n",
       "    // This is the function which gets called when the mpl process\n",
       "    // starts-up an IPython Comm through the \"matplotlib\" channel.\n",
       "\n",
       "    var id = msg.content.data.id;\n",
       "    // Get hold of the div created by the display call when the Comm\n",
       "    // socket was opened in Python.\n",
       "    var element = $(\"#\" + id);\n",
       "    var ws_proxy = comm_websocket_adapter(comm)\n",
       "\n",
       "    function ondownload(figure, format) {\n",
       "        window.open(figure.imageObj.src);\n",
       "    }\n",
       "\n",
       "    var fig = new mpl.figure(id, ws_proxy,\n",
       "                           ondownload,\n",
       "                           element.get(0));\n",
       "\n",
       "    // Call onopen now - mpl needs it, as it is assuming we've passed it a real\n",
       "    // web socket which is closed, not our websocket->open comm proxy.\n",
       "    ws_proxy.onopen();\n",
       "\n",
       "    fig.parent_element = element.get(0);\n",
       "    fig.cell_info = mpl.find_output_cell(\"<div id='\" + id + \"'></div>\");\n",
       "    if (!fig.cell_info) {\n",
       "        console.error(\"Failed to find cell for figure\", id, fig);\n",
       "        return;\n",
       "    }\n",
       "\n",
       "    var output_index = fig.cell_info[2]\n",
       "    var cell = fig.cell_info[0];\n",
       "\n",
       "};\n",
       "\n",
       "mpl.figure.prototype.handle_close = function(fig, msg) {\n",
       "    var width = fig.canvas.width/mpl.ratio\n",
       "    fig.root.unbind('remove')\n",
       "\n",
       "    // Update the output cell to use the data from the current canvas.\n",
       "    fig.push_to_output();\n",
       "    var dataURL = fig.canvas.toDataURL();\n",
       "    // Re-enable the keyboard manager in IPython - without this line, in FF,\n",
       "    // the notebook keyboard shortcuts fail.\n",
       "    IPython.keyboard_manager.enable()\n",
       "    $(fig.parent_element).html('<img src=\"' + dataURL + '\" width=\"' + width + '\">');\n",
       "    fig.close_ws(fig, msg);\n",
       "}\n",
       "\n",
       "mpl.figure.prototype.close_ws = function(fig, msg){\n",
       "    fig.send_message('closing', msg);\n",
       "    // fig.ws.close()\n",
       "}\n",
       "\n",
       "mpl.figure.prototype.push_to_output = function(remove_interactive) {\n",
       "    // Turn the data on the canvas into data in the output cell.\n",
       "    var width = this.canvas.width/mpl.ratio\n",
       "    var dataURL = this.canvas.toDataURL();\n",
       "    this.cell_info[1]['text/html'] = '<img src=\"' + dataURL + '\" width=\"' + width + '\">';\n",
       "}\n",
       "\n",
       "mpl.figure.prototype.updated_canvas_event = function() {\n",
       "    // Tell IPython that the notebook contents must change.\n",
       "    IPython.notebook.set_dirty(true);\n",
       "    this.send_message(\"ack\", {});\n",
       "    var fig = this;\n",
       "    // Wait a second, then push the new image to the DOM so\n",
       "    // that it is saved nicely (might be nice to debounce this).\n",
       "    setTimeout(function () { fig.push_to_output() }, 1000);\n",
       "}\n",
       "\n",
       "mpl.figure.prototype._init_toolbar = function() {\n",
       "    var fig = this;\n",
       "\n",
       "    var nav_element = $('<div/>');\n",
       "    nav_element.attr('style', 'width: 100%');\n",
       "    this.root.append(nav_element);\n",
       "\n",
       "    // Define a callback function for later on.\n",
       "    function toolbar_event(event) {\n",
       "        return fig.toolbar_button_onclick(event['data']);\n",
       "    }\n",
       "    function toolbar_mouse_event(event) {\n",
       "        return fig.toolbar_button_onmouseover(event['data']);\n",
       "    }\n",
       "\n",
       "    for(var toolbar_ind in mpl.toolbar_items){\n",
       "        var name = mpl.toolbar_items[toolbar_ind][0];\n",
       "        var tooltip = mpl.toolbar_items[toolbar_ind][1];\n",
       "        var image = mpl.toolbar_items[toolbar_ind][2];\n",
       "        var method_name = mpl.toolbar_items[toolbar_ind][3];\n",
       "\n",
       "        if (!name) { continue; };\n",
       "\n",
       "        var button = $('<button class=\"btn btn-default\" href=\"#\" title=\"' + name + '\"><i class=\"fa ' + image + ' fa-lg\"></i></button>');\n",
       "        button.click(method_name, toolbar_event);\n",
       "        button.mouseover(tooltip, toolbar_mouse_event);\n",
       "        nav_element.append(button);\n",
       "    }\n",
       "\n",
       "    // Add the status bar.\n",
       "    var status_bar = $('<span class=\"mpl-message\" style=\"text-align:right; float: right;\"/>');\n",
       "    nav_element.append(status_bar);\n",
       "    this.message = status_bar[0];\n",
       "\n",
       "    // Add the close button to the window.\n",
       "    var buttongrp = $('<div class=\"btn-group inline pull-right\"></div>');\n",
       "    var button = $('<button class=\"btn btn-mini btn-primary\" href=\"#\" title=\"Stop Interaction\"><i class=\"fa fa-power-off icon-remove icon-large\"></i></button>');\n",
       "    button.click(function (evt) { fig.handle_close(fig, {}); } );\n",
       "    button.mouseover('Stop Interaction', toolbar_mouse_event);\n",
       "    buttongrp.append(button);\n",
       "    var titlebar = this.root.find($('.ui-dialog-titlebar'));\n",
       "    titlebar.prepend(buttongrp);\n",
       "}\n",
       "\n",
       "mpl.figure.prototype._root_extra_style = function(el){\n",
       "    var fig = this\n",
       "    el.on(\"remove\", function(){\n",
       "\tfig.close_ws(fig, {});\n",
       "    });\n",
       "}\n",
       "\n",
       "mpl.figure.prototype._canvas_extra_style = function(el){\n",
       "    // this is important to make the div 'focusable\n",
       "    el.attr('tabindex', 0)\n",
       "    // reach out to IPython and tell the keyboard manager to turn it's self\n",
       "    // off when our div gets focus\n",
       "\n",
       "    // location in version 3\n",
       "    if (IPython.notebook.keyboard_manager) {\n",
       "        IPython.notebook.keyboard_manager.register_events(el);\n",
       "    }\n",
       "    else {\n",
       "        // location in version 2\n",
       "        IPython.keyboard_manager.register_events(el);\n",
       "    }\n",
       "\n",
       "}\n",
       "\n",
       "mpl.figure.prototype._key_event_extra = function(event, name) {\n",
       "    var manager = IPython.notebook.keyboard_manager;\n",
       "    if (!manager)\n",
       "        manager = IPython.keyboard_manager;\n",
       "\n",
       "    // Check for shift+enter\n",
       "    if (event.shiftKey && event.which == 13) {\n",
       "        this.canvas_div.blur();\n",
       "        // select the cell after this one\n",
       "        var index = IPython.notebook.find_cell_index(this.cell_info[0]);\n",
       "        IPython.notebook.select(index + 1);\n",
       "    }\n",
       "}\n",
       "\n",
       "mpl.figure.prototype.handle_save = function(fig, msg) {\n",
       "    fig.ondownload(fig, null);\n",
       "}\n",
       "\n",
       "\n",
       "mpl.find_output_cell = function(html_output) {\n",
       "    // Return the cell and output element which can be found *uniquely* in the notebook.\n",
       "    // Note - this is a bit hacky, but it is done because the \"notebook_saving.Notebook\"\n",
       "    // IPython event is triggered only after the cells have been serialised, which for\n",
       "    // our purposes (turning an active figure into a static one), is too late.\n",
       "    var cells = IPython.notebook.get_cells();\n",
       "    var ncells = cells.length;\n",
       "    for (var i=0; i<ncells; i++) {\n",
       "        var cell = cells[i];\n",
       "        if (cell.cell_type === 'code'){\n",
       "            for (var j=0; j<cell.output_area.outputs.length; j++) {\n",
       "                var data = cell.output_area.outputs[j];\n",
       "                if (data.data) {\n",
       "                    // IPython >= 3 moved mimebundle to data attribute of output\n",
       "                    data = data.data;\n",
       "                }\n",
       "                if (data['text/html'] == html_output) {\n",
       "                    return [cell, data, j];\n",
       "                }\n",
       "            }\n",
       "        }\n",
       "    }\n",
       "}\n",
       "\n",
       "// Register the function which deals with the matplotlib target/channel.\n",
       "// The kernel may be null if the page has been refreshed.\n",
       "if (IPython.notebook.kernel != null) {\n",
       "    IPython.notebook.kernel.comm_manager.register_target('matplotlib', mpl.mpl_figure_comm);\n",
       "}\n"
      ],
      "text/plain": [
       "<IPython.core.display.Javascript object>"
      ]
     },
     "metadata": {},
     "output_type": "display_data"
    },
    {
     "data": {
      "text/html": [
       "<img src=\"data:image/png;base64,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\" width=\"640\">"
      ],
      "text/plain": [
       "<IPython.core.display.HTML object>"
      ]
     },
     "metadata": {},
     "output_type": "display_data"
    },
    {
     "data": {
      "text/plain": [
       "<sympy.plotting.plot.Plot at 0x7ff989803990>"
      ]
     },
     "execution_count": 35,
     "metadata": {},
     "output_type": "execute_result"
    }
   ],
   "source": [
    "plot3d(f, (x,-3,3), (y,-3,3))"
   ]
  },
  {
   "cell_type": "code",
   "execution_count": 36,
   "metadata": {},
   "outputs": [],
   "source": [
    "%matplotlib inline"
   ]
  },
  {
   "cell_type": "code",
   "execution_count": 37,
   "metadata": {},
   "outputs": [
    {
     "data": {
      "image/png": "[encoded data removed]",
      "text/plain": [
       "<Figure size 432x288 with 1 Axes>"
      ]
     },
     "metadata": {
      "needs_background": "light"
     },
     "output_type": "display_data"
    },
    {
     "data": {
      "text/plain": [
       "<sympy.plotting.plot.Plot at 0x7ff9893d6bd0>"
      ]
     },
     "execution_count": 37,
     "metadata": {},
     "output_type": "execute_result"
    }
   ],
   "source": [
    "plot3d(f, (x,-3,3), (y,-3,3))"
   ]
  },
  {
   "cell_type": "code",
   "execution_count": 38,
   "metadata": {},
   "outputs": [
    {
     "data": {
      "text/latex": [
       "$\\displaystyle \\int \\frac{x^{2} + 1}{x - 1}\\, dx$"
      ],
      "text/plain": [
       "Integral((x**2 + 1)/(x - 1), x)"
      ]
     },
     "execution_count": 38,
     "metadata": {},
     "output_type": "execute_result"
    }
   ],
   "source": [
    "sp.Integral((x**2+1)/(x-1))"
   ]
  },
  {
   "cell_type": "code",
   "execution_count": 39,
   "metadata": {},
   "outputs": [],
   "source": [
    "integ = sp.Integral((x**2+1)/(x-1))"
   ]
  },
  {
   "cell_type": "code",
   "execution_count": 48,
   "metadata": {},
   "outputs": [
    {
     "data": {
      "text/plain": [
       "sympy.integrals.integrals.Integral"
      ]
     },
     "execution_count": 48,
     "metadata": {},
     "output_type": "execute_result"
    }
   ],
   "source": [
    "type(integ)"
   ]
  },
  {
   "cell_type": "code",
   "execution_count": 42,
   "metadata": {},
   "outputs": [
    {
     "data": {
      "text/plain": [
       "{x}"
      ]
     },
     "execution_count": 42,
     "metadata": {},
     "output_type": "execute_result"
    }
   ],
   "source": [
    "integ.free_symbols"
   ]
  },
  {
   "cell_type": "code",
   "execution_count": 41,
   "metadata": {},
   "outputs": [
    {
     "data": {
      "text/latex": [
       "$\\displaystyle \\frac{x^{2}}{2} + x + 2 \\log{\\left(x - 1 \\right)}$"
      ],
      "text/plain": [
       "x**2/2 + x + 2*log(x - 1)"
      ]
     },
     "execution_count": 41,
     "metadata": {},
     "output_type": "execute_result"
    }
   ],
   "source": [
    "integ.doit()"
   ]
  },
  {
   "cell_type": "code",
   "execution_count": 44,
   "metadata": {},
   "outputs": [],
   "source": [
    "a = (1,2,3)"
   ]
  },
  {
   "cell_type": "code",
   "execution_count": 45,
   "metadata": {},
   "outputs": [
    {
     "data": {
      "text/plain": [
       "tuple"
      ]
     },
     "execution_count": 45,
     "metadata": {},
     "output_type": "execute_result"
    }
   ],
   "source": [
    "type(a)"
   ]
  },
  {
   "cell_type": "code",
   "execution_count": 46,
   "metadata": {},
   "outputs": [
    {
     "data": {
      "text/plain": [
       "1"
      ]
     },
     "execution_count": 46,
     "metadata": {},
     "output_type": "execute_result"
    }
   ],
   "source": [
    "a[0]"
   ]
  },
  {
   "cell_type": "code",
   "execution_count": 47,
   "metadata": {},
   "outputs": [
    {
     "ename": "TypeError",
     "evalue": "'tuple' object does not support item assignment",
     "output_type": "error",
     "traceback": [
      "\u001b[0;31m---------------------------------------------------------------------------\u001b[0m",
      "\u001b[0;31mTypeError\u001b[0m                                 Traceback (most recent call last)",
      "\u001b[0;32m<ipython-input-47-9bdca909cd90>\u001b[0m in \u001b[0;36m<module>\u001b[0;34m\u001b[0m\n\u001b[0;32m----> 1\u001b[0;31m \u001b[0ma\u001b[0m\u001b[0;34m[\u001b[0m\u001b[0;36m0\u001b[0m\u001b[0;34m]\u001b[0m\u001b[0;34m=\u001b[0m\u001b[0;36m6\u001b[0m\u001b[0;34m\u001b[0m\u001b[0;34m\u001b[0m\u001b[0m\n\u001b[0m",
      "\u001b[0;31mTypeError\u001b[0m: 'tuple' object does not support item assignment"
     ]
    }
   ],
   "source": [
    "a[0]=6"
   ]
  },
  {
   "cell_type": "code",
   "execution_count": 51,
   "metadata": {},
   "outputs": [],
   "source": [
    "mat = sp.Matrix(((1,2,3),(4,5,6),(7,8,9)))"
   ]
  },
  {
   "cell_type": "code",
   "execution_count": 52,
   "metadata": {},
   "outputs": [
    {
     "data": {
      "text/latex": [
       "$\\displaystyle \\left[\\begin{matrix}1 & 2 & 3\\\\4 & 5 & 6\\\\7 & 8 & 9\\end{matrix}\\right]$"
      ],
      "text/plain": [
       "Matrix([\n",
       "[1, 2, 3],\n",
       "[4, 5, 6],\n",
       "[7, 8, 9]])"
      ]
     },
     "execution_count": 52,
     "metadata": {},
     "output_type": "execute_result"
    }
   ],
   "source": [
    "mat"
   ]
  },
  {
   "cell_type": "code",
   "execution_count": 53,
   "metadata": {},
   "outputs": [
    {
     "data": {
      "text/latex": [
       "$\\displaystyle \\left[\\begin{matrix}-3 & 6 & -3\\\\6 & -12 & 6\\\\-3 & 6 & -3\\end{matrix}\\right]$"
      ],
      "text/plain": [
       "Matrix([\n",
       "[-3,   6, -3],\n",
       "[ 6, -12,  6],\n",
       "[-3,   6, -3]])"
      ]
     },
     "execution_count": 53,
     "metadata": {},
     "output_type": "execute_result"
    }
   ],
   "source": [
    "mat.cofactor_matrix()"
   ]
  },
  {
   "cell_type": "code",
   "execution_count": 54,
   "metadata": {},
   "outputs": [
    {
     "ename": "NonInvertibleMatrixError",
     "evalue": "Matrix det == 0; not invertible.",
     "output_type": "error",
     "traceback": [
      "\u001b[0;31m---------------------------------------------------------------------------\u001b[0m",
      "\u001b[0;31mNonInvertibleMatrixError\u001b[0m                  Traceback (most recent call last)",
      "\u001b[0;32m<ipython-input-54-c0108b5e72e2>\u001b[0m in \u001b[0;36m<module>\u001b[0;34m\u001b[0m\n\u001b[0;32m----> 1\u001b[0;31m \u001b[0minv\u001b[0m \u001b[0;34m=\u001b[0m \u001b[0mmat\u001b[0m\u001b[0;34m.\u001b[0m\u001b[0minv\u001b[0m\u001b[0;34m(\u001b[0m\u001b[0;34m)\u001b[0m\u001b[0;34m\u001b[0m\u001b[0;34m\u001b[0m\u001b[0m\n\u001b[0m",
      "\u001b[0;32m~/miniconda3/lib/python3.7/site-packages/sympy/matrices/matrices.py\u001b[0m in \u001b[0;36minv\u001b[0;34m(self, method, **kwargs)\u001b[0m\n\u001b[1;32m   3670\u001b[0m         \u001b[0;32mif\u001b[0m \u001b[0mmethod\u001b[0m \u001b[0;32mis\u001b[0m \u001b[0;32mnot\u001b[0m \u001b[0;32mNone\u001b[0m\u001b[0;34m:\u001b[0m\u001b[0;34m\u001b[0m\u001b[0;34m\u001b[0m\u001b[0m\n\u001b[1;32m   3671\u001b[0m             \u001b[0mkwargs\u001b[0m\u001b[0;34m[\u001b[0m\u001b[0;34m'method'\u001b[0m\u001b[0;34m]\u001b[0m \u001b[0;34m=\u001b[0m \u001b[0mmethod\u001b[0m\u001b[0;34m\u001b[0m\u001b[0;34m\u001b[0m\u001b[0m\n\u001b[0;32m-> 3672\u001b[0;31m         \u001b[0;32mreturn\u001b[0m \u001b[0mself\u001b[0m\u001b[0;34m.\u001b[0m\u001b[0m_eval_inverse\u001b[0m\u001b[0;34m(\u001b[0m\u001b[0;34m**\u001b[0m\u001b[0mkwargs\u001b[0m\u001b[0;34m)\u001b[0m\u001b[0;34m\u001b[0m\u001b[0;34m\u001b[0m\u001b[0m\n\u001b[0m\u001b[1;32m   3673\u001b[0m \u001b[0;34m\u001b[0m\u001b[0m\n\u001b[1;32m   3674\u001b[0m     \u001b[0;32mdef\u001b[0m \u001b[0mis_nilpotent\u001b[0m\u001b[0;34m(\u001b[0m\u001b[0mself\u001b[0m\u001b[0;34m)\u001b[0m\u001b[0;34m:\u001b[0m\u001b[0;34m\u001b[0m\u001b[0;34m\u001b[0m\u001b[0m\n",
      "\u001b[0;32m~/miniconda3/lib/python3.7/site-packages/sympy/matrices/dense.py\u001b[0m in \u001b[0;36m_eval_inverse\u001b[0;34m(self, **kwargs)\u001b[0m\n\u001b[1;32m    263\u001b[0m         \u001b[0mM\u001b[0m \u001b[0;34m=\u001b[0m \u001b[0mself\u001b[0m\u001b[0;34m.\u001b[0m\u001b[0mas_mutable\u001b[0m\u001b[0;34m(\u001b[0m\u001b[0;34m)\u001b[0m\u001b[0;34m\u001b[0m\u001b[0;34m\u001b[0m\u001b[0m\n\u001b[1;32m    264\u001b[0m         \u001b[0;32mif\u001b[0m \u001b[0mmethod\u001b[0m \u001b[0;34m==\u001b[0m \u001b[0;34m\"GE\"\u001b[0m\u001b[0;34m:\u001b[0m\u001b[0;34m\u001b[0m\u001b[0;34m\u001b[0m\u001b[0m\n\u001b[0;32m--> 265\u001b[0;31m             \u001b[0mrv\u001b[0m \u001b[0;34m=\u001b[0m \u001b[0mM\u001b[0m\u001b[0;34m.\u001b[0m\u001b[0minverse_GE\u001b[0m\u001b[0;34m(\u001b[0m\u001b[0miszerofunc\u001b[0m\u001b[0;34m=\u001b[0m\u001b[0miszerofunc\u001b[0m\u001b[0;34m)\u001b[0m\u001b[0;34m\u001b[0m\u001b[0;34m\u001b[0m\u001b[0m\n\u001b[0m\u001b[1;32m    266\u001b[0m         \u001b[0;32melif\u001b[0m \u001b[0mmethod\u001b[0m \u001b[0;34m==\u001b[0m \u001b[0;34m\"LU\"\u001b[0m\u001b[0;34m:\u001b[0m\u001b[0;34m\u001b[0m\u001b[0;34m\u001b[0m\u001b[0m\n\u001b[1;32m    267\u001b[0m             \u001b[0mrv\u001b[0m \u001b[0;34m=\u001b[0m \u001b[0mM\u001b[0m\u001b[0;34m.\u001b[0m\u001b[0minverse_LU\u001b[0m\u001b[0;34m(\u001b[0m\u001b[0miszerofunc\u001b[0m\u001b[0;34m=\u001b[0m\u001b[0miszerofunc\u001b[0m\u001b[0;34m)\u001b[0m\u001b[0;34m\u001b[0m\u001b[0;34m\u001b[0m\u001b[0m\n",
      "\u001b[0;32m~/miniconda3/lib/python3.7/site-packages/sympy/matrices/matrices.py\u001b[0m in \u001b[0;36minverse_GE\u001b[0;34m(self, iszerofunc)\u001b[0m\n\u001b[1;32m   3585\u001b[0m         \u001b[0mred\u001b[0m \u001b[0;34m=\u001b[0m \u001b[0mbig\u001b[0m\u001b[0;34m.\u001b[0m\u001b[0mrref\u001b[0m\u001b[0;34m(\u001b[0m\u001b[0miszerofunc\u001b[0m\u001b[0;34m=\u001b[0m\u001b[0miszerofunc\u001b[0m\u001b[0;34m,\u001b[0m \u001b[0msimplify\u001b[0m\u001b[0;34m=\u001b[0m\u001b[0;32mTrue\u001b[0m\u001b[0;34m)\u001b[0m\u001b[0;34m[\u001b[0m\u001b[0;36m0\u001b[0m\u001b[0;34m]\u001b[0m\u001b[0;34m\u001b[0m\u001b[0;34m\u001b[0m\u001b[0m\n\u001b[1;32m   3586\u001b[0m         \u001b[0;32mif\u001b[0m \u001b[0many\u001b[0m\u001b[0;34m(\u001b[0m\u001b[0miszerofunc\u001b[0m\u001b[0;34m(\u001b[0m\u001b[0mred\u001b[0m\u001b[0;34m[\u001b[0m\u001b[0mj\u001b[0m\u001b[0;34m,\u001b[0m \u001b[0mj\u001b[0m\u001b[0;34m]\u001b[0m\u001b[0;34m)\u001b[0m \u001b[0;32mfor\u001b[0m \u001b[0mj\u001b[0m \u001b[0;32min\u001b[0m \u001b[0mrange\u001b[0m\u001b[0;34m(\u001b[0m\u001b[0mred\u001b[0m\u001b[0;34m.\u001b[0m\u001b[0mrows\u001b[0m\u001b[0;34m)\u001b[0m\u001b[0;34m)\u001b[0m\u001b[0;34m:\u001b[0m\u001b[0;34m\u001b[0m\u001b[0;34m\u001b[0m\u001b[0m\n\u001b[0;32m-> 3587\u001b[0;31m             \u001b[0;32mraise\u001b[0m \u001b[0mNonInvertibleMatrixError\u001b[0m\u001b[0;34m(\u001b[0m\u001b[0;34m\"Matrix det == 0; not invertible.\"\u001b[0m\u001b[0;34m)\u001b[0m\u001b[0;34m\u001b[0m\u001b[0;34m\u001b[0m\u001b[0m\n\u001b[0m\u001b[1;32m   3588\u001b[0m \u001b[0;34m\u001b[0m\u001b[0m\n\u001b[1;32m   3589\u001b[0m         \u001b[0;32mreturn\u001b[0m \u001b[0mself\u001b[0m\u001b[0;34m.\u001b[0m\u001b[0m_new\u001b[0m\u001b[0;34m(\u001b[0m\u001b[0mred\u001b[0m\u001b[0;34m[\u001b[0m\u001b[0;34m:\u001b[0m\u001b[0;34m,\u001b[0m \u001b[0mbig\u001b[0m\u001b[0;34m.\u001b[0m\u001b[0mrows\u001b[0m\u001b[0;34m:\u001b[0m\u001b[0;34m]\u001b[0m\u001b[0;34m)\u001b[0m\u001b[0;34m\u001b[0m\u001b[0;34m\u001b[0m\u001b[0m\n",
      "\u001b[0;31mNonInvertibleMatrixError\u001b[0m: Matrix det == 0; not invertible."
     ]
    }
   ],
   "source": [
    "inv = mat.inv()"
   ]
  },
  {
   "cell_type": "code",
   "execution_count": 55,
   "metadata": {},
   "outputs": [],
   "source": [
    "mat = sp.Matrix(((1,2,3),(4,5,6),(7,8,-9)))"
   ]
  },
  {
   "cell_type": "code",
   "execution_count": 56,
   "metadata": {},
   "outputs": [
    {
     "data": {
      "text/latex": [
       "$\\displaystyle \\left[\\begin{matrix}- \\frac{31}{18} & \\frac{7}{9} & - \\frac{1}{18}\\\\\\frac{13}{9} & - \\frac{5}{9} & \\frac{1}{9}\\\\- \\frac{1}{18} & \\frac{1}{9} & - \\frac{1}{18}\\end{matrix}\\right]$"
      ],
      "text/plain": [
       "Matrix([\n",
       "[-31/18,  7/9, -1/18],\n",
       "[  13/9, -5/9,   1/9],\n",
       "[ -1/18,  1/9, -1/18]])"
      ]
     },
     "execution_count": 56,
     "metadata": {},
     "output_type": "execute_result"
    }
   ],
   "source": [
    "mat.inv()"
   ]
  },
  {
   "cell_type": "markdown",
   "metadata": {},
   "source": [
    "## Simplificações"
   ]
  },
  {
   "cell_type": "code",
   "execution_count": 57,
   "metadata": {},
   "outputs": [],
   "source": [
    "f = sp.sin(x)**2 + sp.cos(x)**2"
   ]
  },
  {
   "cell_type": "code",
   "execution_count": 58,
   "metadata": {},
   "outputs": [
    {
     "data": {
      "text/latex": [
       "$\\displaystyle \\sin^{2}{\\left(x \\right)} + \\cos^{2}{\\left(x \\right)}$"
      ],
      "text/plain": [
       "sin(x)**2 + cos(x)**2"
      ]
     },
     "execution_count": 58,
     "metadata": {},
     "output_type": "execute_result"
    }
   ],
   "source": [
    "f"
   ]
  },
  {
   "cell_type": "code",
   "execution_count": 59,
   "metadata": {},
   "outputs": [
    {
     "data": {
      "text/latex": [
       "$\\displaystyle 1$"
      ],
      "text/plain": [
       "1"
      ]
     },
     "execution_count": 59,
     "metadata": {},
     "output_type": "execute_result"
    }
   ],
   "source": [
    "f.simplify()"
   ]
  },
  {
   "cell_type": "code",
   "execution_count": 60,
   "metadata": {},
   "outputs": [
    {
     "data": {
      "text/latex": [
       "$\\displaystyle \\sin^{2}{\\left(x \\right)} + \\cos^{2}{\\left(x \\right)}$"
      ],
      "text/plain": [
       "sin(x)**2 + cos(x)**2"
      ]
     },
     "execution_count": 60,
     "metadata": {},
     "output_type": "execute_result"
    }
   ],
   "source": [
    "f"
   ]
  },
  {
   "cell_type": "code",
   "execution_count": 61,
   "metadata": {},
   "outputs": [
    {
     "data": {
      "text/latex": [
       "$\\displaystyle 1$"
      ],
      "text/plain": [
       "1"
      ]
     },
     "execution_count": 61,
     "metadata": {},
     "output_type": "execute_result"
    }
   ],
   "source": [
    "sp.simplify(f)"
   ]
  },
  {
   "cell_type": "code",
   "execution_count": 62,
   "metadata": {},
   "outputs": [
    {
     "data": {
      "text/latex": [
       "$\\displaystyle 1$"
      ],
      "text/plain": [
       "1"
      ]
     },
     "execution_count": 62,
     "metadata": {},
     "output_type": "execute_result"
    }
   ],
   "source": [
    "f.trigsimp()"
   ]
  },
  {
   "cell_type": "code",
   "execution_count": 66,
   "metadata": {},
   "outputs": [],
   "source": [
    "f = x**3 - x**2 +x - 1"
   ]
  },
  {
   "cell_type": "code",
   "execution_count": 67,
   "metadata": {},
   "outputs": [
    {
     "data": {
      "text/latex": [
       "$\\displaystyle x^{3} - x^{2} + x - 1$"
      ],
      "text/plain": [
       "x**3 - x**2 + x - 1"
      ]
     },
     "execution_count": 67,
     "metadata": {},
     "output_type": "execute_result"
    }
   ],
   "source": [
    "f"
   ]
  },
  {
   "cell_type": "code",
   "execution_count": 68,
   "metadata": {},
   "outputs": [
    {
     "data": {
      "text/latex": [
       "$\\displaystyle \\left(x - 1\\right) \\left(x^{2} + 1\\right)$"
      ],
      "text/plain": [
       "(x - 1)*(x**2 + 1)"
      ]
     },
     "execution_count": 68,
     "metadata": {},
     "output_type": "execute_result"
    }
   ],
   "source": [
    "f.factor()"
   ]
  },
  {
   "cell_type": "code",
   "execution_count": 69,
   "metadata": {},
   "outputs": [],
   "source": [
    "a, b = sp.symbols('a b')"
   ]
  },
  {
   "cell_type": "code",
   "execution_count": 70,
   "metadata": {},
   "outputs": [
    {
     "data": {
      "text/latex": [
       "$\\displaystyle a$"
      ],
      "text/plain": [
       "a"
      ]
     },
     "execution_count": 70,
     "metadata": {},
     "output_type": "execute_result"
    }
   ],
   "source": [
    "a"
   ]
  },
  {
   "cell_type": "code",
   "execution_count": 71,
   "metadata": {},
   "outputs": [],
   "source": [
    "exp = a*x**2 + b*x**2 + a*x - b*x"
   ]
  },
  {
   "cell_type": "code",
   "execution_count": 72,
   "metadata": {},
   "outputs": [
    {
     "data": {
      "text/latex": [
       "$\\displaystyle a x^{2} + a x + b x^{2} - b x$"
      ],
      "text/plain": [
       "a*x**2 + a*x + b*x**2 - b*x"
      ]
     },
     "execution_count": 72,
     "metadata": {},
     "output_type": "execute_result"
    }
   ],
   "source": [
    "exp"
   ]
  },
  {
   "cell_type": "code",
   "execution_count": 73,
   "metadata": {},
   "outputs": [
    {
     "data": {
      "text/latex": [
       "$\\displaystyle x^{2} \\left(a + b\\right) + x \\left(a - b\\right)$"
      ],
      "text/plain": [
       "x**2*(a + b) + x*(a - b)"
      ]
     },
     "execution_count": 73,
     "metadata": {},
     "output_type": "execute_result"
    }
   ],
   "source": [
    "sp.collect(exp, x)"
   ]
  },
  {
   "cell_type": "code",
   "execution_count": 74,
   "metadata": {},
   "outputs": [],
   "source": [
    "e = (x**2-1)/(x+1)"
   ]
  },
  {
   "cell_type": "code",
   "execution_count": 75,
   "metadata": {},
   "outputs": [
    {
     "data": {
      "text/latex": [
       "$\\displaystyle \\frac{x^{2} - 1}{x + 1}$"
      ],
      "text/plain": [
       "(x**2 - 1)/(x + 1)"
      ]
     },
     "execution_count": 75,
     "metadata": {},
     "output_type": "execute_result"
    }
   ],
   "source": [
    "e"
   ]
  },
  {
   "cell_type": "code",
   "execution_count": 76,
   "metadata": {},
   "outputs": [
    {
     "data": {
      "text/latex": [
       "$\\displaystyle x - 1$"
      ],
      "text/plain": [
       "x - 1"
      ]
     },
     "execution_count": 76,
     "metadata": {},
     "output_type": "execute_result"
    }
   ],
   "source": [
    "e.simplify()"
   ]
  },
  {
   "cell_type": "code",
   "execution_count": 77,
   "metadata": {},
   "outputs": [
    {
     "data": {
      "text/latex": [
       "$\\displaystyle x - 1$"
      ],
      "text/plain": [
       "x - 1"
      ]
     },
     "execution_count": 77,
     "metadata": {},
     "output_type": "execute_result"
    }
   ],
   "source": [
    "sp.cancel(e)"
   ]
  },
  {
   "cell_type": "code",
   "execution_count": 79,
   "metadata": {},
   "outputs": [],
   "source": [
    "exp = x**a * x**b"
   ]
  },
  {
   "cell_type": "code",
   "execution_count": 80,
   "metadata": {},
   "outputs": [
    {
     "data": {
      "text/latex": [
       "$\\displaystyle x^{a} x^{b}$"
      ],
      "text/plain": [
       "x**a*x**b"
      ]
     },
     "execution_count": 80,
     "metadata": {},
     "output_type": "execute_result"
    }
   ],
   "source": [
    "exp"
   ]
  },
  {
   "cell_type": "code",
   "execution_count": 81,
   "metadata": {},
   "outputs": [
    {
     "data": {
      "text/latex": [
       "$\\displaystyle x^{a + b}$"
      ],
      "text/plain": [
       "x**(a + b)"
      ]
     },
     "execution_count": 81,
     "metadata": {},
     "output_type": "execute_result"
    }
   ],
   "source": [
    "exp.simplify()"
   ]
  },
  {
   "cell_type": "code",
   "execution_count": 82,
   "metadata": {},
   "outputs": [
    {
     "data": {
      "text/latex": [
       "$\\displaystyle x^{a + b}$"
      ],
      "text/plain": [
       "x**(a + b)"
      ]
     },
     "execution_count": 82,
     "metadata": {},
     "output_type": "execute_result"
    }
   ],
   "source": [
    "sp.powsimp(exp)"
   ]
  },
  {
   "cell_type": "code",
   "execution_count": 83,
   "metadata": {},
   "outputs": [],
   "source": [
    "l = a*sp.log(x)"
   ]
  },
  {
   "cell_type": "code",
   "execution_count": 84,
   "metadata": {},
   "outputs": [
    {
     "data": {
      "text/latex": [
       "$\\displaystyle a \\log{\\left(x \\right)}$"
      ],
      "text/plain": [
       "a*log(x)"
      ]
     },
     "execution_count": 84,
     "metadata": {},
     "output_type": "execute_result"
    }
   ],
   "source": [
    "l"
   ]
  },
  {
   "cell_type": "code",
   "execution_count": 86,
   "metadata": {},
   "outputs": [
    {
     "data": {
      "text/latex": [
       "$\\displaystyle \\log{\\left(x^{a} \\right)}$"
      ],
      "text/plain": [
       "log(x**a)"
      ]
     },
     "execution_count": 86,
     "metadata": {},
     "output_type": "execute_result"
    }
   ],
   "source": [
    "sp.logcombine(l, force=True)"
   ]
  },
  {
   "cell_type": "markdown",
   "metadata": {},
   "source": [
    "## Operações"
   ]
  },
  {
   "cell_type": "code",
   "execution_count": 87,
   "metadata": {},
   "outputs": [],
   "source": [
    "f = (x+a)**24"
   ]
  },
  {
   "cell_type": "code",
   "execution_count": 88,
   "metadata": {},
   "outputs": [
    {
     "data": {
      "text/latex": [
       "$\\displaystyle \\left(a + x\\right)^{24}$"
      ],
      "text/plain": [
       "(a + x)**24"
      ]
     },
     "execution_count": 88,
     "metadata": {},
     "output_type": "execute_result"
    }
   ],
   "source": [
    "f"
   ]
  },
  {
   "cell_type": "code",
   "execution_count": 89,
   "metadata": {},
   "outputs": [
    {
     "data": {
      "text/latex": [
       "$\\displaystyle a^{24} + 24 a^{23} x + 276 a^{22} x^{2} + 2024 a^{21} x^{3} + 10626 a^{20} x^{4} + 42504 a^{19} x^{5} + 134596 a^{18} x^{6} + 346104 a^{17} x^{7} + 735471 a^{16} x^{8} + 1307504 a^{15} x^{9} + 1961256 a^{14} x^{10} + 2496144 a^{13} x^{11} + 2704156 a^{12} x^{12} + 2496144 a^{11} x^{13} + 1961256 a^{10} x^{14} + 1307504 a^{9} x^{15} + 735471 a^{8} x^{16} + 346104 a^{7} x^{17} + 134596 a^{6} x^{18} + 42504 a^{5} x^{19} + 10626 a^{4} x^{20} + 2024 a^{3} x^{21} + 276 a^{2} x^{22} + 24 a x^{23} + x^{24}$"
      ],
      "text/plain": [
       "a**24 + 24*a**23*x + 276*a**22*x**2 + 2024*a**21*x**3 + 10626*a**20*x**4 + 42504*a**19*x**5 + 134596*a**18*x**6 + 346104*a**17*x**7 + 735471*a**16*x**8 + 1307504*a**15*x**9 + 1961256*a**14*x**10 + 2496144*a**13*x**11 + 2704156*a**12*x**12 + 2496144*a**11*x**13 + 1961256*a**10*x**14 + 1307504*a**9*x**15 + 735471*a**8*x**16 + 346104*a**7*x**17 + 134596*a**6*x**18 + 42504*a**5*x**19 + 10626*a**4*x**20 + 2024*a**3*x**21 + 276*a**2*x**22 + 24*a*x**23 + x**24"
      ]
     },
     "execution_count": 89,
     "metadata": {},
     "output_type": "execute_result"
    }
   ],
   "source": [
    "f.expand()"
   ]
  },
  {
   "cell_type": "code",
   "execution_count": 90,
   "metadata": {},
   "outputs": [],
   "source": [
    "g = sp.sin(x+a)"
   ]
  },
  {
   "cell_type": "code",
   "execution_count": 91,
   "metadata": {},
   "outputs": [
    {
     "data": {
      "text/latex": [
       "$\\displaystyle \\sin{\\left(a + x \\right)}$"
      ],
      "text/plain": [
       "sin(a + x)"
      ]
     },
     "execution_count": 91,
     "metadata": {},
     "output_type": "execute_result"
    }
   ],
   "source": [
    "g"
   ]
  },
  {
   "cell_type": "code",
   "execution_count": 92,
   "metadata": {},
   "outputs": [
    {
     "data": {
      "text/latex": [
       "$\\displaystyle \\sin{\\left(a + x \\right)}$"
      ],
      "text/plain": [
       "sin(a + x)"
      ]
     },
     "execution_count": 92,
     "metadata": {},
     "output_type": "execute_result"
    }
   ],
   "source": [
    "g.expand()"
   ]
  },
  {
   "cell_type": "code",
   "execution_count": 93,
   "metadata": {},
   "outputs": [
    {
     "ename": "AttributeError",
     "evalue": "'sin' object has no attribute 'expand_trig'",
     "output_type": "error",
     "traceback": [
      "\u001b[0;31m---------------------------------------------------------------------------\u001b[0m",
      "\u001b[0;31mAttributeError\u001b[0m                            Traceback (most recent call last)",
      "\u001b[0;32m<ipython-input-93-f780339705ea>\u001b[0m in \u001b[0;36m<module>\u001b[0;34m\u001b[0m\n\u001b[0;32m----> 1\u001b[0;31m \u001b[0mg\u001b[0m\u001b[0;34m.\u001b[0m\u001b[0mexpand_trig\u001b[0m\u001b[0;34m(\u001b[0m\u001b[0;34m)\u001b[0m\u001b[0;34m\u001b[0m\u001b[0;34m\u001b[0m\u001b[0m\n\u001b[0m",
      "\u001b[0;31mAttributeError\u001b[0m: 'sin' object has no attribute 'expand_trig'"
     ]
    }
   ],
   "source": [
    "g.expand_trig()"
   ]
  },
  {
   "cell_type": "code",
   "execution_count": 94,
   "metadata": {},
   "outputs": [
    {
     "data": {
      "text/latex": [
       "$\\displaystyle \\sin{\\left(a \\right)} \\cos{\\left(x \\right)} + \\sin{\\left(x \\right)} \\cos{\\left(a \\right)}$"
      ],
      "text/plain": [
       "sin(a)*cos(x) + sin(x)*cos(a)"
      ]
     },
     "execution_count": 94,
     "metadata": {},
     "output_type": "execute_result"
    }
   ],
   "source": [
    "sp.expand_trig(g)"
   ]
  },
  {
   "cell_type": "code",
   "execution_count": 95,
   "metadata": {},
   "outputs": [],
   "source": [
    "f = (4*x**3 + 21*x**2 + 10*x + 12)/(x**4 + 5*x**3 + 5*x**2 + 4*x)"
   ]
  },
  {
   "cell_type": "code",
   "execution_count": 96,
   "metadata": {},
   "outputs": [
    {
     "data": {
      "text/latex": [
       "$\\displaystyle \\frac{4 x^{3} + 21 x^{2} + 10 x + 12}{x^{4} + 5 x^{3} + 5 x^{2} + 4 x}$"
      ],
      "text/plain": [
       "(4*x**3 + 21*x**2 + 10*x + 12)/(x**4 + 5*x**3 + 5*x**2 + 4*x)"
      ]
     },
     "execution_count": 96,
     "metadata": {},
     "output_type": "execute_result"
    }
   ],
   "source": [
    "f"
   ]
  },
  {
   "cell_type": "code",
   "execution_count": 97,
   "metadata": {},
   "outputs": [
    {
     "data": {
      "text/latex": [
       "$\\displaystyle \\frac{2 x - 1}{x^{2} + x + 1} - \\frac{1}{x + 4} + \\frac{3}{x}$"
      ],
      "text/plain": [
       "(2*x - 1)/(x**2 + x + 1) - 1/(x + 4) + 3/x"
      ]
     },
     "execution_count": 97,
     "metadata": {},
     "output_type": "execute_result"
    }
   ],
   "source": [
    "sp.apart(f)"
   ]
  },
  {
   "cell_type": "code",
   "execution_count": 98,
   "metadata": {},
   "outputs": [
    {
     "data": {
      "text/latex": [
       "$\\displaystyle {\\binom{x}{a}}$"
      ],
      "text/plain": [
       "binomial(x, a)"
      ]
     },
     "execution_count": 98,
     "metadata": {},
     "output_type": "execute_result"
    }
   ],
   "source": [
    "sp.binomial(x,a)"
   ]
  },
  {
   "cell_type": "markdown",
   "metadata": {},
   "source": [
    "## Calculo"
   ]
  },
  {
   "cell_type": "code",
   "execution_count": 99,
   "metadata": {},
   "outputs": [],
   "source": [
    "f = sp.cos(x*y)"
   ]
  },
  {
   "cell_type": "code",
   "execution_count": 100,
   "metadata": {},
   "outputs": [
    {
     "data": {
      "text/latex": [
       "$\\displaystyle \\cos{\\left(x y \\right)}$"
      ],
      "text/plain": [
       "cos(x*y)"
      ]
     },
     "execution_count": 100,
     "metadata": {},
     "output_type": "execute_result"
    }
   ],
   "source": [
    "f"
   ]
  },
  {
   "cell_type": "code",
   "execution_count": 101,
   "metadata": {},
   "outputs": [
    {
     "data": {
      "text/latex": [
       "$\\displaystyle - y \\sin{\\left(x y \\right)}$"
      ],
      "text/plain": [
       "-y*sin(x*y)"
      ]
     },
     "execution_count": 101,
     "metadata": {},
     "output_type": "execute_result"
    }
   ],
   "source": [
    "f.diff(x)"
   ]
  },
  {
   "cell_type": "code",
   "execution_count": 102,
   "metadata": {},
   "outputs": [
    {
     "data": {
      "text/latex": [
       "$\\displaystyle - x \\sin{\\left(x y \\right)}$"
      ],
      "text/plain": [
       "-x*sin(x*y)"
      ]
     },
     "execution_count": 102,
     "metadata": {},
     "output_type": "execute_result"
    }
   ],
   "source": [
    "f.diff(y)"
   ]
  },
  {
   "cell_type": "code",
   "execution_count": 103,
   "metadata": {},
   "outputs": [
    {
     "data": {
      "text/latex": [
       "$\\displaystyle - (x y \\cos{\\left(x y \\right)} + \\sin{\\left(x y \\right)})$"
      ],
      "text/plain": [
       "-(x*y*cos(x*y) + sin(x*y))"
      ]
     },
     "execution_count": 103,
     "metadata": {},
     "output_type": "execute_result"
    }
   ],
   "source": [
    "f.diff(x,y)"
   ]
  },
  {
   "cell_type": "code",
   "execution_count": 104,
   "metadata": {},
   "outputs": [
    {
     "data": {
      "text/latex": [
       "$\\displaystyle - y^{2} \\cos{\\left(x y \\right)}$"
      ],
      "text/plain": [
       "-y**2*cos(x*y)"
      ]
     },
     "execution_count": 104,
     "metadata": {},
     "output_type": "execute_result"
    }
   ],
   "source": [
    "f.diff(x,2)"
   ]
  },
  {
   "cell_type": "code",
   "execution_count": 106,
   "metadata": {},
   "outputs": [
    {
     "data": {
      "text/latex": [
       "$\\displaystyle \\begin{cases} \\frac{\\sin{\\left(y^{2} \\right)}}{y} & \\text{for}\\: y \\neq 0 \\\\y & \\text{otherwise} \\end{cases}$"
      ],
      "text/plain": [
       "Piecewise((sin(y**2)/y, Ne(y, 0)), (y, True))"
      ]
     },
     "execution_count": 106,
     "metadata": {},
     "output_type": "execute_result"
    }
   ],
   "source": [
    "sp.integrate(f, (x,y))"
   ]
  },
  {
   "cell_type": "code",
   "execution_count": 107,
   "metadata": {},
   "outputs": [],
   "source": [
    "g = sp.exp(-x)"
   ]
  },
  {
   "cell_type": "code",
   "execution_count": 108,
   "metadata": {},
   "outputs": [
    {
     "data": {
      "text/latex": [
       "$\\displaystyle - e^{- x}$"
      ],
      "text/plain": [
       "-exp(-x)"
      ]
     },
     "execution_count": 108,
     "metadata": {},
     "output_type": "execute_result"
    }
   ],
   "source": [
    "sp.integrate(g)"
   ]
  },
  {
   "cell_type": "code",
   "execution_count": 109,
   "metadata": {},
   "outputs": [
    {
     "data": {
      "text/latex": [
       "$\\displaystyle - \\frac{1}{e^{2}} + e^{2}$"
      ],
      "text/plain": [
       "-exp(-2) + exp(2)"
      ]
     },
     "execution_count": 109,
     "metadata": {},
     "output_type": "execute_result"
    }
   ],
   "source": [
    "sp.integrate(g, (x,-2,2))"
   ]
  },
  {
   "cell_type": "code",
   "execution_count": 110,
   "metadata": {},
   "outputs": [
    {
     "data": {
      "text/latex": [
       "$\\displaystyle 7.25372081569404$"
      ],
      "text/plain": [
       "7.25372081569404"
      ]
     },
     "execution_count": 110,
     "metadata": {},
     "output_type": "execute_result"
    }
   ],
   "source": [
    "sp.N(_)"
   ]
  },
  {
   "cell_type": "code",
   "execution_count": 111,
   "metadata": {},
   "outputs": [],
   "source": [
    "exp = sp.exp(-x**2 - y**2)"
   ]
  },
  {
   "cell_type": "code",
   "execution_count": 112,
   "metadata": {},
   "outputs": [
    {
     "data": {
      "text/latex": [
       "$\\displaystyle e^{- x^{2} - y^{2}}$"
      ],
      "text/plain": [
       "exp(-x**2 - y**2)"
      ]
     },
     "execution_count": 112,
     "metadata": {},
     "output_type": "execute_result"
    }
   ],
   "source": [
    "exp"
   ]
  },
  {
   "cell_type": "code",
   "execution_count": 115,
   "metadata": {},
   "outputs": [
    {
     "data": {
      "text/latex": [
       "$\\displaystyle - \\frac{\\pi \\operatorname{erf}^{2}{\\left(3 \\right)}}{4} + \\frac{\\pi \\operatorname{erf}^{2}{\\left(2 \\right)}}{4}$"
      ],
      "text/plain": [
       "-pi*erf(3)**2/4 + pi*erf(2)**2/4"
      ]
     },
     "execution_count": 115,
     "metadata": {},
     "output_type": "execute_result"
    }
   ],
   "source": [
    "sp.integrate(exp, (y,-x,x),(x,-3,2))"
   ]
  },
  {
   "cell_type": "code",
   "execution_count": 117,
   "metadata": {},
   "outputs": [
    {
     "data": {
      "text/latex": [
       "$\\displaystyle -0.0072958841798043$"
      ],
      "text/plain": [
       "-0.00729588417980430"
      ]
     },
     "execution_count": 117,
     "metadata": {},
     "output_type": "execute_result"
    }
   ],
   "source": [
    "sp.N(sp.integrate(exp, (y,-x,x),(x,-3,2)))"
   ]
  },
  {
   "cell_type": "code",
   "execution_count": 118,
   "metadata": {},
   "outputs": [
    {
     "data": {
      "text/latex": [
       "$\\displaystyle 1$"
      ],
      "text/plain": [
       "1"
      ]
     },
     "execution_count": 118,
     "metadata": {},
     "output_type": "execute_result"
    }
   ],
   "source": [
    "sp.limit(sp.sin(x)/x, x, 0)"
   ]
  },
  {
   "cell_type": "code",
   "execution_count": 119,
   "metadata": {},
   "outputs": [
    {
     "data": {
      "text/latex": [
       "$\\displaystyle \\infty$"
      ],
      "text/plain": [
       "oo"
      ]
     },
     "execution_count": 119,
     "metadata": {},
     "output_type": "execute_result"
    }
   ],
   "source": [
    "sp.limit(1/x,x,0, '+')"
   ]
  },
  {
   "cell_type": "code",
   "execution_count": 120,
   "metadata": {},
   "outputs": [
    {
     "data": {
      "text/latex": [
       "$\\displaystyle -\\infty$"
      ],
      "text/plain": [
       "-oo"
      ]
     },
     "execution_count": 120,
     "metadata": {},
     "output_type": "execute_result"
    }
   ],
   "source": [
    "sp.limit(1/x,x,0, '-')"
   ]
  },
  {
   "cell_type": "code",
   "execution_count": 122,
   "metadata": {},
   "outputs": [
    {
     "data": {
      "text/latex": [
       "$\\displaystyle 0$"
      ],
      "text/plain": [
       "0"
      ]
     },
     "execution_count": 122,
     "metadata": {},
     "output_type": "execute_result"
    }
   ],
   "source": [
    "sp.limit(1/x,x,-sp.oo)"
   ]
  },
  {
   "cell_type": "code",
   "execution_count": 123,
   "metadata": {},
   "outputs": [],
   "source": [
    "equ = sp.Eq(x**2,1)"
   ]
  },
  {
   "cell_type": "code",
   "execution_count": 124,
   "metadata": {},
   "outputs": [
    {
     "data": {
      "text/latex": [
       "$\\displaystyle x^{2} = 1$"
      ],
      "text/plain": [
       "Eq(x**2, 1)"
      ]
     },
     "execution_count": 124,
     "metadata": {},
     "output_type": "execute_result"
    }
   ],
   "source": [
    "equ"
   ]
  },
  {
   "cell_type": "code",
   "execution_count": 126,
   "metadata": {},
   "outputs": [
    {
     "data": {
      "text/latex": [
       "$\\displaystyle \\left\\{-1, 1\\right\\}$"
      ],
      "text/plain": [
       "FiniteSet(-1, 1)"
      ]
     },
     "execution_count": 126,
     "metadata": {},
     "output_type": "execute_result"
    }
   ],
   "source": [
    "sp.solveset(equ,x)"
   ]
  },
  {
   "cell_type": "code",
   "execution_count": 127,
   "metadata": {},
   "outputs": [
    {
     "data": {
      "text/latex": [
       "$\\displaystyle \\left\\{2 n \\pi + \\frac{\\pi}{2}\\; |\\; n \\in \\mathbb{Z}\\right\\}$"
      ],
      "text/plain": [
       "ImageSet(Lambda(_n, 2*_n*pi + pi/2), Integers)"
      ]
     },
     "execution_count": 127,
     "metadata": {},
     "output_type": "execute_result"
    }
   ],
   "source": [
    "sp.solveset(sp.sin(x)-1,x)"
   ]
  },
  {
   "cell_type": "code",
   "execution_count": 129,
   "metadata": {},
   "outputs": [
    {
     "data": {
      "text/latex": [
       "$\\displaystyle \\frac{d}{d y} F{\\left(y \\right)}$"
      ],
      "text/plain": [
       "Derivative(F(y), y)"
      ]
     },
     "execution_count": 129,
     "metadata": {},
     "output_type": "execute_result"
    }
   ],
   "source": [
    "sp.diff(F(y))"
   ]
  },
  {
   "cell_type": "code",
   "execution_count": 130,
   "metadata": {},
   "outputs": [
    {
     "data": {
      "text/latex": [
       "$\\displaystyle \\left\\{\\left( 13, \\  -14, \\  2\\right)\\right\\}$"
      ],
      "text/plain": [
       "FiniteSet((13, -14, 2))"
      ]
     },
     "execution_count": 130,
     "metadata": {},
     "output_type": "execute_result"
    }
   ],
   "source": [
    "sp.linsolve([x+y+z-1, x+y+2*z-3, 2*x+y-z -10], (x,y,z))"
   ]
  },
  {
   "cell_type": "code",
   "execution_count": 132,
   "metadata": {},
   "outputs": [
    {
     "data": {
      "text/latex": [
       "$\\displaystyle \\left\\{\\left( - y - 1, \\  y, \\  2\\right)\\right\\}$"
      ],
      "text/plain": [
       "FiniteSet((-y - 1, y, 2))"
      ]
     },
     "execution_count": 132,
     "metadata": {},
     "output_type": "execute_result"
    }
   ],
   "source": [
    "sp.linsolve([x+y+z-1, x+y+2*z-3], (x,y,z))"
   ]
  },
  {
   "cell_type": "code",
   "execution_count": 133,
   "metadata": {},
   "outputs": [
    {
     "data": {
      "text/latex": [
       "$\\displaystyle \\left\\{\\left( -1, \\  -1\\right), \\left( -1, \\  1\\right), \\left( 1, \\  -1\\right), \\left( 1, \\  1\\right)\\right\\}$"
      ],
      "text/plain": [
       "FiniteSet((-1, -1), (-1, 1), (1, -1), (1, 1))"
      ]
     },
     "execution_count": 133,
     "metadata": {},
     "output_type": "execute_result"
    }
   ],
   "source": [
    "sp.nonlinsolve((x**2-1,y**2-1),(x,y))"
   ]
  },
  {
   "cell_type": "code",
   "execution_count": 134,
   "metadata": {},
   "outputs": [
    {
     "data": {
      "text/plain": [
       "[(-1, -1), (-1, 1), (1, -1), (1, 1)]"
      ]
     },
     "execution_count": 134,
     "metadata": {},
     "output_type": "execute_result"
    }
   ],
   "source": [
    "sp.solve((x**2-1,y**2-1),(x,y))"
   ]
  },
  {
   "cell_type": "code",
   "execution_count": 136,
   "metadata": {},
   "outputs": [
    {
     "data": {
      "text/latex": [
       "$\\displaystyle \\frac{x^{5}}{120} - \\frac{x^{3}}{6} + x$"
      ],
      "text/plain": [
       "x**5/120 - x**3/6 + x"
      ]
     },
     "execution_count": 136,
     "metadata": {},
     "output_type": "execute_result"
    }
   ],
   "source": [
    "import sympy as sp\n",
    "\n",
    "x = sp.symbols('x')\n",
    "f = sp.sin(x)\n",
    "\n",
    "x0= 0\n",
    "\n",
    "j = 5\n",
    "\n",
    "def taylor(function, x0,n):\n",
    "    i, p = 0, 0\n",
    "    while i<=n:\n",
    "        p = p + (function.diff(x,i).subs(x,x0)*(x-x0)**i)/sp.factorial(i)\n",
    "        i += 1\n",
    "    return p\n",
    "\n",
    "taylor(f,x0,j)"
   ]
  },
  {
   "cell_type": "code",
   "execution_count": null,
   "metadata": {},
   "outputs": [],
   "source": []
  }
 ],
 "metadata": {
  "kernelspec": {
   "display_name": "Python 3",
   "language": "python",
   "name": "python3"
  },
  "language_info": {
   "codemirror_mode": {
    "name": "ipython",
    "version": 3
   },
   "file_extension": ".py",
   "mimetype": "text/x-python",
   "name": "python",
   "nbconvert_exporter": "python",
   "pygments_lexer": "ipython3",
   "version": "3.7.7"
  },
  "toc": {
   "base_numbering": 1,
   "nav_menu": {},
   "number_sections": true,
   "sideBar": true,
   "skip_h1_title": false,
   "title_cell": "Table of Contents",
   "title_sidebar": "Contents",
   "toc_cell": false,
   "toc_position": {},
   "toc_section_display": true,
   "toc_window_display": false
  },
  "varInspector": {
   "cols": {
    "lenName": 16,
    "lenType": 16,
    "lenVar": 40
   },
   "kernels_config": {
    "python": {
     "delete_cmd_postfix": "",
     "delete_cmd_prefix": "del ",
     "library": "var_list.py",
     "varRefreshCmd": "print(var_dic_list())"
    },
    "r": {
     "delete_cmd_postfix": ") ",
     "delete_cmd_prefix": "rm(",
     "library": "var_list.r",
     "varRefreshCmd": "cat(var_dic_list()) "
    }
   },
   "types_to_exclude": [
    "module",
    "function",
    "builtin_function_or_method",
    "instance",
    "_Feature"
   ],
   "window_display": false
  }
 },
 "nbformat": 4,
 "nbformat_minor": 4
}
