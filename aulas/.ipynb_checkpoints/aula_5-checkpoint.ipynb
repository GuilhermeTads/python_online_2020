{
 "cells": [
  {
   "cell_type": "markdown",
   "metadata": {},
   "source": [
    "# While"
   ]
  },
  {
   "cell_type": "code",
   "execution_count": null,
   "metadata": {},
   "outputs": [],
   "source": [
    "while True:\n",
    "    print(\"Eu sou legal!\")\n",
    "    "
   ]
  },
  {
   "cell_type": "code",
   "execution_count": 5,
   "metadata": {
    "scrolled": true
   },
   "outputs": [
    {
     "name": "stdout",
     "output_type": "stream",
     "text": [
      "0\n",
      "0.5\n",
      "1.0\n",
      "1.5\n",
      "2.0\n",
      "2.5\n",
      "3.0\n",
      "3.5\n",
      "4.0\n",
      "4.5\n"
     ]
    }
   ],
   "source": [
    "i = 0\n",
    "while i<5:\n",
    "    print(i)\n",
    "    i+= 0.5 # i = i + 1"
   ]
  },
  {
   "cell_type": "code",
   "execution_count": 4,
   "metadata": {},
   "outputs": [
    {
     "name": "stdout",
     "output_type": "stream",
     "text": [
      "0\n",
      "1\n",
      "2\n",
      "3\n",
      "4\n"
     ]
    }
   ],
   "source": [
    "for i in range(5):\n",
    "    print(i)"
   ]
  },
  {
   "cell_type": "code",
   "execution_count": 3,
   "metadata": {},
   "outputs": [
    {
     "name": "stdout",
     "output_type": "stream",
     "text": [
      "Eu sou legal!\n",
      "Eu sou legal!\n",
      "Eu sou legal!\n",
      "Eu sou legal!\n",
      "Eu sou legal!\n"
     ]
    }
   ],
   "source": [
    "i = 0\n",
    "while True:\n",
    "    print(\"Eu sou legal!\")\n",
    "    i+=1\n",
    "    if i == 5:\n",
    "        break"
   ]
  },
  {
   "cell_type": "code",
   "execution_count": 6,
   "metadata": {},
   "outputs": [
    {
     "name": "stdout",
     "output_type": "stream",
     "text": [
      "1\n",
      "2\n",
      "3\n",
      "6\n",
      "s\n",
      "45\n",
      "n\n"
     ]
    }
   ],
   "source": [
    "while True:\n",
    "    a = input()\n",
    "    if a =='n':\n",
    "        break"
   ]
  },
  {
   "cell_type": "code",
   "execution_count": 7,
   "metadata": {},
   "outputs": [
    {
     "name": "stdout",
     "output_type": "stream",
     "text": [
      "insere um numero ou n para finalizar1\n",
      "insere um numero ou n para finalizar2\n",
      "insere um numero ou n para finalizar3\n",
      "insere um numero ou n para finalizar4\n",
      "insere um numero ou n para finalizarg\n",
      "insere um numero ou n para finalizarvahid\n",
      "insere um numero ou n para finalizarn\n"
     ]
    }
   ],
   "source": [
    "l = []\n",
    "while True:\n",
    "    a = input('insere um numero ou n para finalizar')\n",
    "    if a =='n':\n",
    "        break\n",
    "    if .....:\n",
    "        l.append(a)\n",
    "    \n",
    "    "
   ]
  },
  {
   "cell_type": "code",
   "execution_count": 8,
   "metadata": {},
   "outputs": [
    {
     "data": {
      "text/plain": [
       "['1', '2', '3', '4', 'g', 'vahid']"
      ]
     },
     "execution_count": 8,
     "metadata": {},
     "output_type": "execute_result"
    }
   ],
   "source": [
    "l"
   ]
  },
  {
   "cell_type": "markdown",
   "metadata": {},
   "source": [
    "# Jogo"
   ]
  },
  {
   "cell_type": "code",
   "execution_count": 12,
   "metadata": {},
   "outputs": [
    {
     "name": "stdout",
     "output_type": "stream",
     "text": [
      "Imagina que você está em uma terra cheia de dragões! \n",
      "    Na sua frente, você vê duas cavernas. Em uma caverna, o dragão é amigável e \n",
      "    compartilhará seu tesouro com você. O outro dragão é ganancioso e faminto, e te comerá à vista..\n",
      "\n",
      "Em qual cavera vc entrará (1 ou 2)?3\n",
      "Em qual cavera vc entrará (1 ou 2)?j\n",
      "Em qual cavera vc entrará (1 ou 2)?1\n",
      "Vc está se aproximando .....\n",
      "É escuro e assustador ....\n",
      "um dragão grande pula na sua frente e .....\n",
      "\n",
      "te come! :(\n"
     ]
    }
   ],
   "source": [
    "import random\n",
    "import time\n",
    "\n",
    "def displayIntro():\n",
    "    print('''Imagina que você está em uma terra cheia de dragões! \n",
    "    Na sua frente, você vê duas cavernas. Em uma caverna, o dragão é amigável e \n",
    "    compartilhará seu tesouro com você. O outro dragão é ganancioso e faminto, e te comerá à vista..\\n''')\n",
    "    \n",
    "def chooseCave():\n",
    "    cave = ''\n",
    "    while cave != '1' and cave!='2':\n",
    "        cave = input(\"Em qual cavera vc entrará (1 ou 2)?\")\n",
    "    #return cave\n",
    "\n",
    "def checkCave(cave):\n",
    "    print(\"Vc está se aproximando .....\")\n",
    "    time.sleep(2)\n",
    "    print(\"É escuro e assustador ....\")\n",
    "    time.sleep(2)\n",
    "    print(\"um dragão grande pula na sua frente e .....\\n\")\n",
    "    time.sleep(3)\n",
    "    \n",
    "    \n",
    "    friendlycave = random.randint(1,2)\n",
    "    if cave == str(friendlycave):\n",
    "        print(\"presentia com muitos tesouros!\")\n",
    "    else:\n",
    "        print(\"te come! :(\")\n",
    "\n",
    "displayIntro()\n",
    "cavenumber = chooseCave()\n",
    "checkCave(cavenumber)"
   ]
  },
  {
   "cell_type": "code",
   "execution_count": 10,
   "metadata": {},
   "outputs": [
    {
     "data": {
      "text/plain": [
       "True"
      ]
     },
     "execution_count": 10,
     "metadata": {},
     "output_type": "execute_result"
    }
   ],
   "source": [
    "cave = '1'\n",
    "cave == \"1\""
   ]
  },
  {
   "cell_type": "code",
   "execution_count": 11,
   "metadata": {},
   "outputs": [
    {
     "data": {
      "text/plain": [
       "False"
      ]
     },
     "execution_count": 11,
     "metadata": {},
     "output_type": "execute_result"
    }
   ],
   "source": [
    "False and True"
   ]
  },
  {
   "cell_type": "code",
   "execution_count": 17,
   "metadata": {},
   "outputs": [
    {
     "name": "stdout",
     "output_type": "stream",
     "text": [
      "Imagina que você está em uma terra cheia de dragões! \n",
      "    Na sua frente, você vê duas cavernas. Em uma caverna, o dragão é amigável e \n",
      "    compartilhará seu tesouro com você. O outro dragão é ganancioso e faminto, e te comerá à vista..\n",
      "\n",
      "Em qual cavera vc entrará (1 ou 2)?1\n",
      "Vc está se aproximando .....\n",
      "É escuro e assustador ....\n",
      "um dragão grande pula na sua frente e .....\n",
      "\n",
      "1 1\n",
      "presentia com muitos tesouros!\n",
      "vc quer continuar? (sim ou não\n",
      ")sim\n",
      "Imagina que você está em uma terra cheia de dragões! \n",
      "    Na sua frente, você vê duas cavernas. Em uma caverna, o dragão é amigável e \n",
      "    compartilhará seu tesouro com você. O outro dragão é ganancioso e faminto, e te comerá à vista..\n",
      "\n",
      "Em qual cavera vc entrará (1 ou 2)?2\n",
      "Vc está se aproximando .....\n",
      "É escuro e assustador ....\n",
      "um dragão grande pula na sua frente e .....\n",
      "\n",
      "2 2\n",
      "presentia com muitos tesouros!\n",
      "vc quer continuar? (sim ou não\n",
      ")não\n"
     ]
    }
   ],
   "source": [
    "import random\n",
    "import time\n",
    "\n",
    "def displayIntro():\n",
    "    print('''Imagina que você está em uma terra cheia de dragões! \n",
    "    Na sua frente, você vê duas cavernas. Em uma caverna, o dragão é amigável e \n",
    "    compartilhará seu tesouro com você. O outro dragão é ganancioso e faminto, e te comerá à vista..\\n''')\n",
    "    \n",
    "def chooseCave():\n",
    "    cave = ''\n",
    "    while cave != '1' and cave!='2':\n",
    "        cave = input(\"Em qual cavera vc entrará (1 ou 2)?\")\n",
    "    return cave\n",
    "\n",
    "def checkCave(cave):\n",
    "    print(\"Vc está se aproximando .....\")\n",
    "    time.sleep(2)\n",
    "    print(\"É escuro e assustador ....\")\n",
    "    time.sleep(2)\n",
    "    print(\"um dragão grande pula na sua frente e .....\\n\")\n",
    "    time.sleep(3)\n",
    "    \n",
    "    \n",
    "    friendlycave = random.randint(1,2)\n",
    "    print(cave, friendlycave)\n",
    "    \n",
    "    if cave == str(friendlycave):\n",
    "        print(\"presentia com muitos tesouros!\")\n",
    "    else:\n",
    "        print(\"te come! :(\")\n",
    "\n",
    "quercontinuar = 'sim'\n",
    "while quercontinuar == 'sim':\n",
    "    \n",
    "    displayIntro()\n",
    "    cavenumber = chooseCave()\n",
    "    checkCave(cavenumber)\n",
    "    quercontinuar = input(\"vc quer continuar? (sim ou não\\n)\")"
   ]
  },
  {
   "cell_type": "code",
   "execution_count": 13,
   "metadata": {},
   "outputs": [],
   "source": [
    "if 1 == 'a':\n",
    "    print('oi')"
   ]
  },
  {
   "cell_type": "markdown",
   "metadata": {},
   "source": [
    "# Sympy"
   ]
  },
  {
   "cell_type": "code",
   "execution_count": 18,
   "metadata": {
    "scrolled": true
   },
   "outputs": [
    {
     "name": "stdout",
     "output_type": "stream",
     "text": [
      "Collecting package metadata (current_repodata.json): done\n",
      "Solving environment: done\n",
      "\n",
      "# All requested packages already installed.\n",
      "\n"
     ]
    }
   ],
   "source": [
    "!conda install sympy"
   ]
  },
  {
   "cell_type": "code",
   "execution_count": 20,
   "metadata": {},
   "outputs": [],
   "source": [
    "import sympy as sp\n",
    "sp.init_printing()"
   ]
  },
  {
   "cell_type": "code",
   "execution_count": 27,
   "metadata": {},
   "outputs": [],
   "source": [
    "x = 0\n",
    "y = x +1"
   ]
  },
  {
   "cell_type": "code",
   "execution_count": 23,
   "metadata": {},
   "outputs": [
    {
     "data": {
      "text/plain": [
       "1"
      ]
     },
     "execution_count": 23,
     "metadata": {},
     "output_type": "execute_result"
    }
   ],
   "source": [
    "y"
   ]
  },
  {
   "cell_type": "code",
   "execution_count": null,
   "metadata": {},
   "outputs": [],
   "source": [
    "#from sympy import *"
   ]
  },
  {
   "cell_type": "code",
   "execution_count": 37,
   "metadata": {},
   "outputs": [],
   "source": [
    "x, y, z, t = sp.symbols('x y z t')"
   ]
  },
  {
   "cell_type": "code",
   "execution_count": 38,
   "metadata": {},
   "outputs": [
    {
     "data": {
      "text/latex": [
       "$\\displaystyle x$"
      ],
      "text/plain": [
       "x"
      ]
     },
     "execution_count": 38,
     "metadata": {},
     "output_type": "execute_result"
    }
   ],
   "source": [
    "x"
   ]
  },
  {
   "cell_type": "code",
   "execution_count": 29,
   "metadata": {},
   "outputs": [],
   "source": [
    "alpha = sp.symbols('alpha')"
   ]
  },
  {
   "cell_type": "code",
   "execution_count": 30,
   "metadata": {},
   "outputs": [
    {
     "data": {
      "text/latex": [
       "$\\displaystyle \\alpha$"
      ],
      "text/plain": [
       "alpha"
      ]
     },
     "execution_count": 30,
     "metadata": {},
     "output_type": "execute_result"
    }
   ],
   "source": [
    "alpha"
   ]
  },
  {
   "cell_type": "code",
   "execution_count": 31,
   "metadata": {},
   "outputs": [],
   "source": [
    "pi = sp.symbols('pi')"
   ]
  },
  {
   "cell_type": "code",
   "execution_count": 32,
   "metadata": {},
   "outputs": [
    {
     "data": {
      "text/latex": [
       "$\\displaystyle \\pi$"
      ],
      "text/plain": [
       "pi"
      ]
     },
     "execution_count": 32,
     "metadata": {},
     "output_type": "execute_result"
    }
   ],
   "source": [
    "pi"
   ]
  },
  {
   "cell_type": "code",
   "execution_count": 33,
   "metadata": {},
   "outputs": [
    {
     "data": {
      "text/latex": [
       "$\\displaystyle \\pi$"
      ],
      "text/plain": [
       "pi"
      ]
     },
     "execution_count": 33,
     "metadata": {},
     "output_type": "execute_result"
    }
   ],
   "source": [
    "sp.pi"
   ]
  },
  {
   "cell_type": "code",
   "execution_count": 41,
   "metadata": {},
   "outputs": [],
   "source": [
    "F = sp.Function('F')"
   ]
  },
  {
   "cell_type": "code",
   "execution_count": 42,
   "metadata": {},
   "outputs": [
    {
     "data": {
      "text/latex": [
       "$\\displaystyle F{\\left(x \\right)}$"
      ],
      "text/plain": [
       "F(x)"
      ]
     },
     "execution_count": 42,
     "metadata": {},
     "output_type": "execute_result"
    }
   ],
   "source": [
    "F(x)"
   ]
  },
  {
   "cell_type": "code",
   "execution_count": 43,
   "metadata": {},
   "outputs": [
    {
     "data": {
      "text/latex": [
       "$\\displaystyle F{\\left(y \\right)}$"
      ],
      "text/plain": [
       "F(y)"
      ]
     },
     "execution_count": 43,
     "metadata": {},
     "output_type": "execute_result"
    }
   ],
   "source": [
    "F(y)"
   ]
  },
  {
   "cell_type": "code",
   "execution_count": 44,
   "metadata": {},
   "outputs": [],
   "source": [
    "f = x**2 + 4*y + 5"
   ]
  },
  {
   "cell_type": "code",
   "execution_count": 45,
   "metadata": {},
   "outputs": [
    {
     "data": {
      "text/latex": [
       "$\\displaystyle x^{2} + 4 y + 5$"
      ],
      "text/plain": [
       "x**2 + 4*y + 5"
      ]
     },
     "execution_count": 45,
     "metadata": {},
     "output_type": "execute_result"
    }
   ],
   "source": [
    "f"
   ]
  },
  {
   "cell_type": "code",
   "execution_count": 46,
   "metadata": {},
   "outputs": [
    {
     "ename": "NameError",
     "evalue": "name 'X' is not defined",
     "output_type": "error",
     "traceback": [
      "\u001b[0;31m---------------------------------------------------------------------------\u001b[0m",
      "\u001b[0;31mNameError\u001b[0m                                 Traceback (most recent call last)",
      "\u001b[0;32m<ipython-input-46-b5fec669aca1>\u001b[0m in \u001b[0;36m<module>\u001b[0;34m\u001b[0m\n\u001b[0;32m----> 1\u001b[0;31m \u001b[0mX\u001b[0m\u001b[0;34m\u001b[0m\u001b[0;34m\u001b[0m\u001b[0m\n\u001b[0m",
      "\u001b[0;31mNameError\u001b[0m: name 'X' is not defined"
     ]
    }
   ],
   "source": [
    "X"
   ]
  },
  {
   "cell_type": "code",
   "execution_count": 49,
   "metadata": {},
   "outputs": [],
   "source": [
    "g = f.subs(x,1)"
   ]
  },
  {
   "cell_type": "code",
   "execution_count": 50,
   "metadata": {},
   "outputs": [
    {
     "data": {
      "text/latex": [
       "$\\displaystyle 4 y + 6$"
      ],
      "text/plain": [
       "4*y + 6"
      ]
     },
     "execution_count": 50,
     "metadata": {},
     "output_type": "execute_result"
    }
   ],
   "source": [
    "g"
   ]
  },
  {
   "cell_type": "code",
   "execution_count": 51,
   "metadata": {},
   "outputs": [
    {
     "data": {
      "text/latex": [
       "$\\displaystyle x^{2} + 4 y + 5$"
      ],
      "text/plain": [
       "x**2 + 4*y + 5"
      ]
     },
     "execution_count": 51,
     "metadata": {},
     "output_type": "execute_result"
    }
   ],
   "source": [
    "f"
   ]
  },
  {
   "cell_type": "code",
   "execution_count": 52,
   "metadata": {},
   "outputs": [
    {
     "data": {
      "text/latex": [
       "$\\displaystyle 18$"
      ],
      "text/plain": [
       "18"
      ]
     },
     "execution_count": 52,
     "metadata": {},
     "output_type": "execute_result"
    }
   ],
   "source": [
    "f.subs(x,1).subs(y,3)"
   ]
  },
  {
   "cell_type": "code",
   "execution_count": 53,
   "metadata": {},
   "outputs": [
    {
     "data": {
      "text/latex": [
       "$\\displaystyle 6 + 4 \\pi$"
      ],
      "text/plain": [
       "6 + 4*pi"
      ]
     },
     "execution_count": 53,
     "metadata": {},
     "output_type": "execute_result"
    }
   ],
   "source": [
    "f.subs(x,1).subs(y,sp.pi)"
   ]
  },
  {
   "cell_type": "code",
   "execution_count": 54,
   "metadata": {},
   "outputs": [
    {
     "data": {
      "text/latex": [
       "$\\displaystyle 18.5663706143592$"
      ],
      "text/plain": [
       "18.5663706143592"
      ]
     },
     "execution_count": 54,
     "metadata": {},
     "output_type": "execute_result"
    }
   ],
   "source": [
    "sp.N(f.subs(x,1).subs(y,sp.pi))"
   ]
  },
  {
   "cell_type": "code",
   "execution_count": 55,
   "metadata": {
    "scrolled": true
   },
   "outputs": [
    {
     "data": {
      "text/latex": [
       "$\\displaystyle 3.14159265358979$"
      ],
      "text/plain": [
       "3.14159265358979"
      ]
     },
     "execution_count": 55,
     "metadata": {},
     "output_type": "execute_result"
    }
   ],
   "source": [
    "sp.N(sp.pi)"
   ]
  },
  {
   "cell_type": "code",
   "execution_count": 56,
   "metadata": {},
   "outputs": [
    {
     "data": {
      "text/latex": [
       "$\\displaystyle 3.14$"
      ],
      "text/plain": [
       "3.14"
      ]
     },
     "execution_count": 56,
     "metadata": {},
     "output_type": "execute_result"
    }
   ],
   "source": [
    "round(sp.N(sp.pi),2)"
   ]
  },
  {
   "cell_type": "code",
   "execution_count": 61,
   "metadata": {},
   "outputs": [
    {
     "name": "stdout",
     "output_type": "stream",
     "text": [
      "√2\n"
     ]
    }
   ],
   "source": [
    "sp.pprint(sp.sqrt(2))"
   ]
  },
  {
   "cell_type": "code",
   "execution_count": 58,
   "metadata": {},
   "outputs": [
    {
     "data": {
      "text/latex": [
       "$\\displaystyle 1.4142135623731$"
      ],
      "text/plain": [
       "1.41421356237310"
      ]
     },
     "execution_count": 58,
     "metadata": {},
     "output_type": "execute_result"
    }
   ],
   "source": [
    "sp.N(sp.sqrt(2))"
   ]
  },
  {
   "cell_type": "code",
   "execution_count": 60,
   "metadata": {},
   "outputs": [
    {
     "data": {
      "text/latex": [
       "$\\displaystyle \\int \\sin{\\left(y \\right)}\\, dy$"
      ],
      "text/plain": [
       "Integral(sin(y), y)"
      ]
     },
     "execution_count": 60,
     "metadata": {},
     "output_type": "execute_result"
    }
   ],
   "source": [
    "sp.Integral(sp.sin(y))"
   ]
  },
  {
   "cell_type": "code",
   "execution_count": 62,
   "metadata": {},
   "outputs": [
    {
     "name": "stdout",
     "output_type": "stream",
     "text": [
      "⌠          \n",
      "⎮ sin(y) dy\n",
      "⌡          \n"
     ]
    }
   ],
   "source": [
    "sp.pprint(sp.Integral(sp.sin(y)))"
   ]
  },
  {
   "cell_type": "code",
   "execution_count": null,
   "metadata": {},
   "outputs": [],
   "source": []
  }
 ],
 "metadata": {
  "kernelspec": {
   "display_name": "Python 3",
   "language": "python",
   "name": "python3"
  },
  "language_info": {
   "codemirror_mode": {
    "name": "ipython",
    "version": 3
   },
   "file_extension": ".py",
   "mimetype": "text/x-python",
   "name": "python",
   "nbconvert_exporter": "python",
   "pygments_lexer": "ipython3",
   "version": "3.7.7"
  },
  "toc": {
   "base_numbering": 1,
   "nav_menu": {},
   "number_sections": true,
   "sideBar": true,
   "skip_h1_title": false,
   "title_cell": "Table of Contents",
   "title_sidebar": "Contents",
   "toc_cell": false,
   "toc_position": {},
   "toc_section_display": true,
   "toc_window_display": false
  },
  "varInspector": {
   "cols": {
    "lenName": 16,
    "lenType": 16,
    "lenVar": 40
   },
   "kernels_config": {
    "python": {
     "delete_cmd_postfix": "",
     "delete_cmd_prefix": "del ",
     "library": "var_list.py",
     "varRefreshCmd": "print(var_dic_list())"
    },
    "r": {
     "delete_cmd_postfix": ") ",
     "delete_cmd_prefix": "rm(",
     "library": "var_list.r",
     "varRefreshCmd": "cat(var_dic_list()) "
    }
   },
   "types_to_exclude": [
    "module",
    "function",
    "builtin_function_or_method",
    "instance",
    "_Feature"
   ],
   "window_display": false
  }
 },
 "nbformat": 4,
 "nbformat_minor": 4
}
