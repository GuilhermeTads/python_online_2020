{
 "cells": [
  {
   "cell_type": "markdown",
   "metadata": {},
   "source": [
    "# Phonebook final"
   ]
  },
  {
   "cell_type": "code",
   "execution_count": null,
   "metadata": {},
   "outputs": [],
   "source": [
    "import json\n",
    "\n",
    "\n",
    "def inserir(name = False):\n",
    "    \n",
    "    if name == False:\n",
    "        name = input('insere o nome: ')\n",
    "        \n",
    "    #antes de inserir o nome vamos checar se ele já existe no phonebook\n",
    "    while check(name):\n",
    "        \n",
    "        resposta = input('Esse contato já existe, deseja repor? \"s\" ou \"n\" ')\n",
    "        # com a resposta 'sim' vamos atualizar o numero no contato\n",
    "        if resposta == 's':\n",
    "            numero = input('insere o numero: ')\n",
    "            \n",
    "            with open('phonebook.json', 'r') as file:\n",
    "                dic = json.load(file)\n",
    "                \n",
    "            dic[name.lower()] = numero\n",
    "            \n",
    "            with open('phonebook.json', 'w') as file:\n",
    "                json.dump(dic,file)\n",
    "        # com a resposta \"não\" não fazemos nada e voltamos para o 'while' externo\n",
    "        elif resposta == 'n':\n",
    "            break\n",
    "        else:\n",
    "            print('não entendi')\n",
    "     \n",
    "    # se o nome não existir no phonebook o adicionamos.\n",
    "    if not check(name):\n",
    "        numero = input('insere o numero: ')\n",
    "        with open('phonebook.json', 'r+') as file:\n",
    "            dic = json.load(file)\n",
    "                \n",
    "        dic[name.lower()] = numero\n",
    "            \n",
    "        with open('phonebook.json', 'w+') as file:\n",
    "            json.dump(dic,file)\n",
    "        \n",
    "        \n",
    "        \n",
    "def check(nome):      \n",
    "    #essa função checa se o nome inserido já existe no phonebook\n",
    "    with open('phonebook.json', 'r') as file:\n",
    "        d = json.load(file)\n",
    "    if nome in d:\n",
    "        return True\n",
    "    else:\n",
    "        return False\n",
    "  \n",
    "    \n",
    "def buscar():\n",
    "    name = input('insere o nome da pessoa: ')\n",
    "    with open('phonebook.json') as file:\n",
    "        dic = json.load(file)\n",
    "        if name.lower() in dic:\n",
    "            print(dic[name.lower()])\n",
    "        else:\n",
    "            oque = input('Esse contato não existe, deseja inserir? \"s\" ou \"n\"')\n",
    "            if oque == 's':\n",
    "                inserir(name)\n",
    "            elif oque == 'n':\n",
    "                pass\n",
    "            else:\n",
    "                print('não entendi!')\n",
    "    \n",
    "\n",
    "\n",
    "while True:\n",
    "    \n",
    "    action = input('para inserir digita \"i\", para buscar \"b\", para sair \"s\" ')\n",
    "    \n",
    "    if action == \"i\":\n",
    "        inserir()\n",
    "    elif action == 'b':\n",
    "        buscar()\n",
    "    elif action == 's':\n",
    "        break\n",
    "    else:\n",
    "        print(\"Não entendi!\")\n"
   ]
  },
  {
   "cell_type": "markdown",
   "metadata": {},
   "source": [
    "# Mexer com os arquivos e pastas (Folders ou diretorios)"
   ]
  },
  {
   "cell_type": "markdown",
   "metadata": {},
   "source": [
    "**AVISO** usem esse poder com cuidado. Os arquivos apagados não são recuperaveis!"
   ]
  },
  {
   "cell_type": "code",
   "execution_count": 1,
   "metadata": {},
   "outputs": [],
   "source": [
    "import os"
   ]
  },
  {
   "cell_type": "code",
   "execution_count": 2,
   "metadata": {},
   "outputs": [],
   "source": [
    "import shutil #shell utility"
   ]
  },
  {
   "cell_type": "code",
   "execution_count": 3,
   "metadata": {},
   "outputs": [
    {
     "name": "stdout",
     "output_type": "stream",
     "text": [
      "aula_2.ipynb  aula_5.ipynb  aula_8.ipynb  phonebook.json\r\n",
      "aula_3.ipynb  aula_6.ipynb  aula_9.ipynb  \u001b[0m\u001b[0;36m__pycache__\u001b[0m/\r\n",
      "aula_4.ipynb  aula_7.ipynb  conversor.py\r\n"
     ]
    }
   ],
   "source": [
    "ls"
   ]
  },
  {
   "cell_type": "code",
   "execution_count": 4,
   "metadata": {},
   "outputs": [
    {
     "data": {
      "text/plain": [
       "'/home/vahid/Google Drive/UERJ/Python Course/python_online_2020/aulas'"
      ]
     },
     "execution_count": 4,
     "metadata": {},
     "output_type": "execute_result"
    }
   ],
   "source": [
    "pwd"
   ]
  },
  {
   "cell_type": "code",
   "execution_count": 6,
   "metadata": {},
   "outputs": [
    {
     "data": {
      "text/plain": [
       "'/home/vahid/Google Drive/UERJ/Python Course/python_online_2020/aulas'"
      ]
     },
     "execution_count": 6,
     "metadata": {},
     "output_type": "execute_result"
    }
   ],
   "source": [
    "os.getcwd() #cwd = current working directory"
   ]
  },
  {
   "cell_type": "markdown",
   "metadata": {},
   "source": [
    "No windows em vez '/' (slash) deve aparecer r'\\\\' (back slash \\)"
   ]
  },
  {
   "cell_type": "markdown",
   "metadata": {},
   "source": [
    "C:\\\\Users\\\\Thalita"
   ]
  },
  {
   "cell_type": "code",
   "execution_count": 18,
   "metadata": {},
   "outputs": [],
   "source": [
    "os.chdir('/home/vahid/Desktop')"
   ]
  },
  {
   "cell_type": "code",
   "execution_count": 19,
   "metadata": {},
   "outputs": [
    {
     "data": {
      "text/plain": [
       "'/home/vahid/Desktop'"
      ]
     },
     "execution_count": 19,
     "metadata": {},
     "output_type": "execute_result"
    }
   ],
   "source": [
    "os.getcwd() #cwd = current working directory"
   ]
  },
  {
   "cell_type": "code",
   "execution_count": 10,
   "metadata": {},
   "outputs": [],
   "source": [
    "#ls"
   ]
  },
  {
   "cell_type": "code",
   "execution_count": 11,
   "metadata": {},
   "outputs": [
    {
     "data": {
      "text/plain": [
       "['Machine Learning Engineering',\n",
       " 'cv2cheatsheet.pdf',\n",
       " 'Programming PyTorch for Deep Learning_ Creating and Deploying Deep Learning Applications - Ian Pointer (2019).pdf',\n",
       " 'Neural Networks and Deep Learning_ A Textbook- Charu C. Aggarwal (2018).pdf',\n",
       " 'Tablet',\n",
       " 'Elko paper',\n",
       " 'Introduction to Data Science.  A Python Approach to Concepts, Techniques and Applications - Laura Igual, Santi Segu (2017).pdf',\n",
       " 'Impractical Python Projects_ Playful Programming Activities to Make You Smarter - Lee Vaughan  (2019).pdf',\n",
       " 'Billy Imperial - Como Investir na Bolsa de Valores (2017).epub',\n",
       " 'Python Crash Course_ A Hands-On, Project-Based Introduction to Programming- Eric Matthes -  (2019).pdf',\n",
       " 'Practical Deep Learning for Cloud, Mobile, and Edge_ Real-World AI & Computer-Vision Projects Using Python, Keras & TensorFlow - Anirudh Koul, Siddha Ganju, Meher Kasam (2019).pdf',\n",
       " 'Programming Computer Vision with Python_ Tools and algorithms for analyzing images - Jan Erik Solem (2012).pdf.pdf',\n",
       " 'Pyimagesearch',\n",
       " 'Sensor Projects with Raspberry Pi_ Internet of Things and Digital Image Processing - Guillermo Guillen (2019).pdf',\n",
       " 'Machine Learning',\n",
       " 'Invent Your Own Computer Games with Python-Al Sweigart (2016).pdf',\n",
       " 'Audio Poema Irã (Edit).mp3',\n",
       " 'Saldivar_JPA_2020.pdf',\n",
       " 'David Ferry - The Copenhagen Conspiracy-Pan Stanford (2019).epub',\n",
       " 'Solve It With PYTHON !_ A Programming Guide To Ease Your Science And Engineering Challenges - Javier Riverola Gurruchaga (2019).pdf.pdf',\n",
       " 'Old HD',\n",
       " '1202.5984.pdf',\n",
       " 'Python Projects - Laura Cassell, Alan Gauld (2014).pdf.pdf',\n",
       " 'eBook_Aprenda_A_Investir_Em_FIIs-1.pdf',\n",
       " 'Python for Programmers_ with Big Data and Artificial Intelligence Case Studies - Paul Deitel, Dr. Harvey Deitel (2019).pdf',\n",
       " 'Bill Lubanovic - Introducing Python_ Modern Computing in Simple Packages-O’Reilly Media (2019).epub',\n",
       " 'AI Crash Course_ A Fun and Hands-On Introduction to Reinforcement Learning, Deep Learning, and Artificial Intelligence with Python - Hadelin de Ponteves (2019).pdf',\n",
       " 'InventWithPython_resources.zip',\n",
       " 'Automate the boring stuff with python _ practical programming for total beginners- Sweigart, Al (2015).pdf',\n",
       " 'IPython Interactive Computing and Visualization Cookbook - Cyrille Rossant (2018).pdf',\n",
       " 'Python Playground_ Geeky Projects for the Curious Programmer - Mahesh Venkitachalam (2015).pdf']"
      ]
     },
     "execution_count": 11,
     "metadata": {},
     "output_type": "execute_result"
    }
   ],
   "source": [
    "os.listdir()"
   ]
  },
  {
   "cell_type": "code",
   "execution_count": 12,
   "metadata": {},
   "outputs": [],
   "source": [
    "l = os.listdir()"
   ]
  },
  {
   "cell_type": "code",
   "execution_count": 14,
   "metadata": {},
   "outputs": [
    {
     "data": {
      "text/plain": [
       "list"
      ]
     },
     "execution_count": 14,
     "metadata": {},
     "output_type": "execute_result"
    }
   ],
   "source": [
    "type(l)"
   ]
  },
  {
   "cell_type": "code",
   "execution_count": 15,
   "metadata": {},
   "outputs": [
    {
     "data": {
      "text/plain": [
       "31"
      ]
     },
     "execution_count": 15,
     "metadata": {},
     "output_type": "execute_result"
    }
   ],
   "source": [
    "len(l)"
   ]
  },
  {
   "cell_type": "code",
   "execution_count": 16,
   "metadata": {},
   "outputs": [],
   "source": []
  },
  {
   "cell_type": "code",
   "execution_count": 22,
   "metadata": {},
   "outputs": [],
   "source": [
    "arquivos = []\n",
    "pastas = []\n",
    "\n",
    "for item in l:\n",
    "    if os.path.isfile(item):\n",
    "        arquivos.append(item)\n",
    "    if os.path.isdir(item):\n",
    "        pastas.append(item)\n",
    "    "
   ]
  },
  {
   "cell_type": "code",
   "execution_count": 23,
   "metadata": {},
   "outputs": [
    {
     "name": "stdout",
     "output_type": "stream",
     "text": [
      "['Machine Learning Engineering', 'Tablet', 'Elko paper', 'Pyimagesearch', 'Machine Learning', 'Old HD']\n"
     ]
    }
   ],
   "source": [
    "print(pastas)"
   ]
  },
  {
   "cell_type": "code",
   "execution_count": 24,
   "metadata": {},
   "outputs": [
    {
     "name": "stdout",
     "output_type": "stream",
     "text": [
      "['cv2cheatsheet.pdf', 'Programming PyTorch for Deep Learning_ Creating and Deploying Deep Learning Applications - Ian Pointer (2019).pdf', 'Neural Networks and Deep Learning_ A Textbook- Charu C. Aggarwal (2018).pdf', 'Introduction to Data Science.  A Python Approach to Concepts, Techniques and Applications - Laura Igual, Santi Segu (2017).pdf', 'Impractical Python Projects_ Playful Programming Activities to Make You Smarter - Lee Vaughan  (2019).pdf', 'Billy Imperial - Como Investir na Bolsa de Valores (2017).epub', 'Python Crash Course_ A Hands-On, Project-Based Introduction to Programming- Eric Matthes -  (2019).pdf', 'Practical Deep Learning for Cloud, Mobile, and Edge_ Real-World AI & Computer-Vision Projects Using Python, Keras & TensorFlow - Anirudh Koul, Siddha Ganju, Meher Kasam (2019).pdf', 'Programming Computer Vision with Python_ Tools and algorithms for analyzing images - Jan Erik Solem (2012).pdf.pdf', 'Sensor Projects with Raspberry Pi_ Internet of Things and Digital Image Processing - Guillermo Guillen (2019).pdf', 'Invent Your Own Computer Games with Python-Al Sweigart (2016).pdf', 'Audio Poema Irã (Edit).mp3', 'Saldivar_JPA_2020.pdf', 'David Ferry - The Copenhagen Conspiracy-Pan Stanford (2019).epub', 'Solve It With PYTHON !_ A Programming Guide To Ease Your Science And Engineering Challenges - Javier Riverola Gurruchaga (2019).pdf.pdf', '1202.5984.pdf', 'Python Projects - Laura Cassell, Alan Gauld (2014).pdf.pdf', 'eBook_Aprenda_A_Investir_Em_FIIs-1.pdf', 'Python for Programmers_ with Big Data and Artificial Intelligence Case Studies - Paul Deitel, Dr. Harvey Deitel (2019).pdf', 'Bill Lubanovic - Introducing Python_ Modern Computing in Simple Packages-O’Reilly Media (2019).epub', 'AI Crash Course_ A Fun and Hands-On Introduction to Reinforcement Learning, Deep Learning, and Artificial Intelligence with Python - Hadelin de Ponteves (2019).pdf', 'InventWithPython_resources.zip', 'Automate the boring stuff with python _ practical programming for total beginners- Sweigart, Al (2015).pdf', 'IPython Interactive Computing and Visualization Cookbook - Cyrille Rossant (2018).pdf', 'Python Playground_ Geeky Projects for the Curious Programmer - Mahesh Venkitachalam (2015).pdf']\n"
     ]
    }
   ],
   "source": [
    "print(arquivos)"
   ]
  },
  {
   "cell_type": "code",
   "execution_count": 25,
   "metadata": {},
   "outputs": [],
   "source": [
    "os.chdir('/home/vahid/Google Drive/UERJ/Python Course/python_online_2020/aulas')"
   ]
  },
  {
   "cell_type": "code",
   "execution_count": 26,
   "metadata": {},
   "outputs": [
    {
     "data": {
      "text/plain": [
       "'/home/vahid/Google Drive/UERJ/Python Course/python_online_2020/aulas'"
      ]
     },
     "execution_count": 26,
     "metadata": {},
     "output_type": "execute_result"
    }
   ],
   "source": [
    "os.getcwd()"
   ]
  },
  {
   "cell_type": "code",
   "execution_count": 27,
   "metadata": {},
   "outputs": [
    {
     "data": {
      "text/plain": [
       "['aula_3.ipynb',\n",
       " 'aula_2.ipynb',\n",
       " 'conversor.py',\n",
       " 'aula_4.ipynb',\n",
       " '.ipynb_checkpoints',\n",
       " 'aula_5.ipynb',\n",
       " 'aula_7.ipynb',\n",
       " 'aula_8.ipynb',\n",
       " '__pycache__',\n",
       " 'phonebook.json',\n",
       " 'aula_9.ipynb',\n",
       " 'aula_6.ipynb']"
      ]
     },
     "execution_count": 27,
     "metadata": {},
     "output_type": "execute_result"
    }
   ],
   "source": [
    "os.listdir()"
   ]
  },
  {
   "cell_type": "code",
   "execution_count": 28,
   "metadata": {},
   "outputs": [],
   "source": [
    "f = open('arq_test.txt', 'w+')\n",
    "f.close()"
   ]
  },
  {
   "cell_type": "code",
   "execution_count": 29,
   "metadata": {},
   "outputs": [
    {
     "data": {
      "text/plain": [
       "['aula_3.ipynb',\n",
       " 'aula_2.ipynb',\n",
       " 'conversor.py',\n",
       " 'aula_4.ipynb',\n",
       " '.ipynb_checkpoints',\n",
       " 'aula_5.ipynb',\n",
       " 'arq_test.txt',\n",
       " 'aula_7.ipynb',\n",
       " 'aula_8.ipynb',\n",
       " '__pycache__',\n",
       " 'phonebook.json',\n",
       " 'aula_9.ipynb',\n",
       " 'aula_6.ipynb']"
      ]
     },
     "execution_count": 29,
     "metadata": {},
     "output_type": "execute_result"
    }
   ],
   "source": [
    "os.listdir()"
   ]
  },
  {
   "cell_type": "code",
   "execution_count": 30,
   "metadata": {},
   "outputs": [],
   "source": [
    "os.mkdir('pasta_test')\n",
    "os.mkdir('pasta_test_1') #mkdir = make directory"
   ]
  },
  {
   "cell_type": "code",
   "execution_count": 31,
   "metadata": {},
   "outputs": [
    {
     "data": {
      "text/plain": [
       "['aula_3.ipynb',\n",
       " 'aula_2.ipynb',\n",
       " 'conversor.py',\n",
       " 'aula_4.ipynb',\n",
       " '.ipynb_checkpoints',\n",
       " 'aula_5.ipynb',\n",
       " 'arq_test.txt',\n",
       " 'aula_7.ipynb',\n",
       " 'aula_8.ipynb',\n",
       " '__pycache__',\n",
       " 'pasta_test',\n",
       " 'pasta_test_1',\n",
       " 'phonebook.json',\n",
       " 'aula_9.ipynb',\n",
       " 'aula_6.ipynb']"
      ]
     },
     "execution_count": 31,
     "metadata": {},
     "output_type": "execute_result"
    }
   ],
   "source": [
    "os.listdir()"
   ]
  },
  {
   "cell_type": "code",
   "execution_count": 32,
   "metadata": {},
   "outputs": [
    {
     "data": {
      "text/plain": [
       "'pasta_test/arq_test.txt'"
      ]
     },
     "execution_count": 32,
     "metadata": {},
     "output_type": "execute_result"
    }
   ],
   "source": [
    "shutil.copy('arq_test.txt', 'pasta_test')"
   ]
  },
  {
   "cell_type": "code",
   "execution_count": 33,
   "metadata": {},
   "outputs": [
    {
     "data": {
      "text/plain": [
       "['arq_test.txt']"
      ]
     },
     "execution_count": 33,
     "metadata": {},
     "output_type": "execute_result"
    }
   ],
   "source": [
    "os.listdir('./pasta_test/')"
   ]
  },
  {
   "cell_type": "code",
   "execution_count": 34,
   "metadata": {},
   "outputs": [
    {
     "data": {
      "text/plain": [
       "['aula_3.ipynb',\n",
       " 'aula_2.ipynb',\n",
       " 'conversor.py',\n",
       " 'aula_4.ipynb',\n",
       " '.ipynb_checkpoints',\n",
       " 'aula_5.ipynb',\n",
       " 'arq_test.txt',\n",
       " 'aula_7.ipynb',\n",
       " 'aula_8.ipynb',\n",
       " '__pycache__',\n",
       " 'pasta_test',\n",
       " 'pasta_test_1',\n",
       " 'phonebook.json',\n",
       " 'aula_9.ipynb',\n",
       " 'aula_6.ipynb']"
      ]
     },
     "execution_count": 34,
     "metadata": {},
     "output_type": "execute_result"
    }
   ],
   "source": [
    "os.listdir()"
   ]
  },
  {
   "cell_type": "markdown",
   "metadata": {},
   "source": [
    "## copiar"
   ]
  },
  {
   "cell_type": "code",
   "execution_count": 35,
   "metadata": {},
   "outputs": [
    {
     "data": {
      "text/plain": [
       "'arq_test.txt_1'"
      ]
     },
     "execution_count": 35,
     "metadata": {},
     "output_type": "execute_result"
    }
   ],
   "source": [
    "shutil.copy('arq_test.txt', 'arq_test.txt_1')"
   ]
  },
  {
   "cell_type": "code",
   "execution_count": 36,
   "metadata": {},
   "outputs": [
    {
     "data": {
      "text/plain": [
       "['aula_3.ipynb',\n",
       " 'aula_2.ipynb',\n",
       " 'conversor.py',\n",
       " 'aula_4.ipynb',\n",
       " '.ipynb_checkpoints',\n",
       " 'aula_5.ipynb',\n",
       " 'arq_test.txt',\n",
       " 'aula_7.ipynb',\n",
       " 'aula_8.ipynb',\n",
       " '__pycache__',\n",
       " 'pasta_test',\n",
       " 'pasta_test_1',\n",
       " 'phonebook.json',\n",
       " 'arq_test.txt_1',\n",
       " 'aula_9.ipynb',\n",
       " 'aula_6.ipynb']"
      ]
     },
     "execution_count": 36,
     "metadata": {},
     "output_type": "execute_result"
    }
   ],
   "source": [
    "os.listdir()"
   ]
  },
  {
   "cell_type": "markdown",
   "metadata": {},
   "source": [
    "## remover"
   ]
  },
  {
   "cell_type": "code",
   "execution_count": 37,
   "metadata": {},
   "outputs": [
    {
     "data": {
      "text/plain": [
       "'pasta_test_1/arq_test.txt_1'"
      ]
     },
     "execution_count": 37,
     "metadata": {},
     "output_type": "execute_result"
    }
   ],
   "source": [
    "shutil.move('arq_test.txt_1', 'pasta_test_1/')"
   ]
  },
  {
   "cell_type": "code",
   "execution_count": 38,
   "metadata": {},
   "outputs": [
    {
     "data": {
      "text/plain": [
       "['aula_3.ipynb',\n",
       " 'aula_2.ipynb',\n",
       " 'conversor.py',\n",
       " 'aula_4.ipynb',\n",
       " '.ipynb_checkpoints',\n",
       " 'aula_5.ipynb',\n",
       " 'arq_test.txt',\n",
       " 'aula_7.ipynb',\n",
       " 'aula_8.ipynb',\n",
       " '__pycache__',\n",
       " 'pasta_test',\n",
       " 'pasta_test_1',\n",
       " 'phonebook.json',\n",
       " 'aula_9.ipynb',\n",
       " 'aula_6.ipynb']"
      ]
     },
     "execution_count": 38,
     "metadata": {},
     "output_type": "execute_result"
    }
   ],
   "source": [
    "os.listdir()"
   ]
  },
  {
   "cell_type": "markdown",
   "metadata": {},
   "source": [
    "## renomear"
   ]
  },
  {
   "cell_type": "code",
   "execution_count": 39,
   "metadata": {
    "scrolled": true
   },
   "outputs": [
    {
     "data": {
      "text/plain": [
       "'arq_test.txt_2'"
      ]
     },
     "execution_count": 39,
     "metadata": {},
     "output_type": "execute_result"
    }
   ],
   "source": [
    "shutil.move('arq_test.txt', 'arq_test.txt_2')"
   ]
  },
  {
   "cell_type": "code",
   "execution_count": 40,
   "metadata": {},
   "outputs": [
    {
     "data": {
      "text/plain": [
       "['aula_3.ipynb',\n",
       " 'aula_2.ipynb',\n",
       " 'conversor.py',\n",
       " 'aula_4.ipynb',\n",
       " '.ipynb_checkpoints',\n",
       " 'aula_5.ipynb',\n",
       " 'aula_7.ipynb',\n",
       " 'aula_8.ipynb',\n",
       " 'arq_test.txt_2',\n",
       " '__pycache__',\n",
       " 'pasta_test',\n",
       " 'pasta_test_1',\n",
       " 'phonebook.json',\n",
       " 'aula_9.ipynb',\n",
       " 'aula_6.ipynb']"
      ]
     },
     "execution_count": 40,
     "metadata": {},
     "output_type": "execute_result"
    }
   ],
   "source": [
    "os.listdir()"
   ]
  },
  {
   "cell_type": "code",
   "execution_count": 41,
   "metadata": {},
   "outputs": [
    {
     "data": {
      "text/plain": [
       "'pasta_test_1/pasta_test'"
      ]
     },
     "execution_count": 41,
     "metadata": {},
     "output_type": "execute_result"
    }
   ],
   "source": [
    "shutil.move('pasta_test', 'pasta_test_1')"
   ]
  },
  {
   "cell_type": "code",
   "execution_count": 43,
   "metadata": {},
   "outputs": [
    {
     "data": {
      "text/plain": [
       "['pasta_test', 'arq_test.txt_1']"
      ]
     },
     "execution_count": 43,
     "metadata": {},
     "output_type": "execute_result"
    }
   ],
   "source": [
    "os.listdir(\"./pasta_test_1\")"
   ]
  },
  {
   "cell_type": "markdown",
   "metadata": {},
   "source": [
    "## deletar"
   ]
  },
  {
   "cell_type": "code",
   "execution_count": 44,
   "metadata": {},
   "outputs": [],
   "source": [
    "shutil.rmtree('pasta_test_1') #remove tree"
   ]
  },
  {
   "cell_type": "code",
   "execution_count": 45,
   "metadata": {},
   "outputs": [
    {
     "data": {
      "text/plain": [
       "['aula_3.ipynb',\n",
       " 'aula_2.ipynb',\n",
       " 'conversor.py',\n",
       " 'aula_4.ipynb',\n",
       " '.ipynb_checkpoints',\n",
       " 'aula_5.ipynb',\n",
       " 'aula_7.ipynb',\n",
       " 'aula_8.ipynb',\n",
       " 'arq_test.txt_2',\n",
       " '__pycache__',\n",
       " 'phonebook.json',\n",
       " 'aula_9.ipynb',\n",
       " 'aula_6.ipynb']"
      ]
     },
     "execution_count": 45,
     "metadata": {},
     "output_type": "execute_result"
    }
   ],
   "source": [
    "os.listdir()"
   ]
  },
  {
   "cell_type": "code",
   "execution_count": 46,
   "metadata": {},
   "outputs": [
    {
     "ename": "NotADirectoryError",
     "evalue": "[Errno 20] Not a directory: 'arq_test.txt_2'",
     "output_type": "error",
     "traceback": [
      "\u001b[0;31m---------------------------------------------------------------------------\u001b[0m",
      "\u001b[0;31mNotADirectoryError\u001b[0m                        Traceback (most recent call last)",
      "\u001b[0;32m<ipython-input-46-2810b118e253>\u001b[0m in \u001b[0;36m<module>\u001b[0;34m\u001b[0m\n\u001b[0;32m----> 1\u001b[0;31m \u001b[0mshutil\u001b[0m\u001b[0;34m.\u001b[0m\u001b[0mrmtree\u001b[0m\u001b[0;34m(\u001b[0m\u001b[0;34m'arq_test.txt_2'\u001b[0m\u001b[0;34m)\u001b[0m\u001b[0;34m\u001b[0m\u001b[0;34m\u001b[0m\u001b[0m\n\u001b[0m",
      "\u001b[0;32m~/miniconda3/lib/python3.7/shutil.py\u001b[0m in \u001b[0;36mrmtree\u001b[0;34m(path, ignore_errors, onerror)\u001b[0m\n\u001b[1;32m    492\u001b[0m         \u001b[0;32mtry\u001b[0m\u001b[0;34m:\u001b[0m\u001b[0;34m\u001b[0m\u001b[0;34m\u001b[0m\u001b[0m\n\u001b[1;32m    493\u001b[0m             \u001b[0;32mif\u001b[0m \u001b[0mos\u001b[0m\u001b[0;34m.\u001b[0m\u001b[0mpath\u001b[0m\u001b[0;34m.\u001b[0m\u001b[0msamestat\u001b[0m\u001b[0;34m(\u001b[0m\u001b[0morig_st\u001b[0m\u001b[0;34m,\u001b[0m \u001b[0mos\u001b[0m\u001b[0;34m.\u001b[0m\u001b[0mfstat\u001b[0m\u001b[0;34m(\u001b[0m\u001b[0mfd\u001b[0m\u001b[0;34m)\u001b[0m\u001b[0;34m)\u001b[0m\u001b[0;34m:\u001b[0m\u001b[0;34m\u001b[0m\u001b[0;34m\u001b[0m\u001b[0m\n\u001b[0;32m--> 494\u001b[0;31m                 \u001b[0m_rmtree_safe_fd\u001b[0m\u001b[0;34m(\u001b[0m\u001b[0mfd\u001b[0m\u001b[0;34m,\u001b[0m \u001b[0mpath\u001b[0m\u001b[0;34m,\u001b[0m \u001b[0monerror\u001b[0m\u001b[0;34m)\u001b[0m\u001b[0;34m\u001b[0m\u001b[0;34m\u001b[0m\u001b[0m\n\u001b[0m\u001b[1;32m    495\u001b[0m                 \u001b[0;32mtry\u001b[0m\u001b[0;34m:\u001b[0m\u001b[0;34m\u001b[0m\u001b[0;34m\u001b[0m\u001b[0m\n\u001b[1;32m    496\u001b[0m                     \u001b[0mos\u001b[0m\u001b[0;34m.\u001b[0m\u001b[0mrmdir\u001b[0m\u001b[0;34m(\u001b[0m\u001b[0mpath\u001b[0m\u001b[0;34m)\u001b[0m\u001b[0;34m\u001b[0m\u001b[0;34m\u001b[0m\u001b[0m\n",
      "\u001b[0;32m~/miniconda3/lib/python3.7/shutil.py\u001b[0m in \u001b[0;36m_rmtree_safe_fd\u001b[0;34m(topfd, path, onerror)\u001b[0m\n\u001b[1;32m    411\u001b[0m     \u001b[0;32mexcept\u001b[0m \u001b[0mOSError\u001b[0m \u001b[0;32mas\u001b[0m \u001b[0merr\u001b[0m\u001b[0;34m:\u001b[0m\u001b[0;34m\u001b[0m\u001b[0;34m\u001b[0m\u001b[0m\n\u001b[1;32m    412\u001b[0m         \u001b[0merr\u001b[0m\u001b[0;34m.\u001b[0m\u001b[0mfilename\u001b[0m \u001b[0;34m=\u001b[0m \u001b[0mpath\u001b[0m\u001b[0;34m\u001b[0m\u001b[0;34m\u001b[0m\u001b[0m\n\u001b[0;32m--> 413\u001b[0;31m         \u001b[0monerror\u001b[0m\u001b[0;34m(\u001b[0m\u001b[0mos\u001b[0m\u001b[0;34m.\u001b[0m\u001b[0mscandir\u001b[0m\u001b[0;34m,\u001b[0m \u001b[0mpath\u001b[0m\u001b[0;34m,\u001b[0m \u001b[0msys\u001b[0m\u001b[0;34m.\u001b[0m\u001b[0mexc_info\u001b[0m\u001b[0;34m(\u001b[0m\u001b[0;34m)\u001b[0m\u001b[0;34m)\u001b[0m\u001b[0;34m\u001b[0m\u001b[0;34m\u001b[0m\u001b[0m\n\u001b[0m\u001b[1;32m    414\u001b[0m         \u001b[0;32mreturn\u001b[0m\u001b[0;34m\u001b[0m\u001b[0;34m\u001b[0m\u001b[0m\n\u001b[1;32m    415\u001b[0m     \u001b[0;32mfor\u001b[0m \u001b[0mentry\u001b[0m \u001b[0;32min\u001b[0m \u001b[0mentries\u001b[0m\u001b[0;34m:\u001b[0m\u001b[0;34m\u001b[0m\u001b[0;34m\u001b[0m\u001b[0m\n",
      "\u001b[0;32m~/miniconda3/lib/python3.7/shutil.py\u001b[0m in \u001b[0;36m_rmtree_safe_fd\u001b[0;34m(topfd, path, onerror)\u001b[0m\n\u001b[1;32m    407\u001b[0m \u001b[0;32mdef\u001b[0m \u001b[0m_rmtree_safe_fd\u001b[0m\u001b[0;34m(\u001b[0m\u001b[0mtopfd\u001b[0m\u001b[0;34m,\u001b[0m \u001b[0mpath\u001b[0m\u001b[0;34m,\u001b[0m \u001b[0monerror\u001b[0m\u001b[0;34m)\u001b[0m\u001b[0;34m:\u001b[0m\u001b[0;34m\u001b[0m\u001b[0;34m\u001b[0m\u001b[0m\n\u001b[1;32m    408\u001b[0m     \u001b[0;32mtry\u001b[0m\u001b[0;34m:\u001b[0m\u001b[0;34m\u001b[0m\u001b[0;34m\u001b[0m\u001b[0m\n\u001b[0;32m--> 409\u001b[0;31m         \u001b[0;32mwith\u001b[0m \u001b[0mos\u001b[0m\u001b[0;34m.\u001b[0m\u001b[0mscandir\u001b[0m\u001b[0;34m(\u001b[0m\u001b[0mtopfd\u001b[0m\u001b[0;34m)\u001b[0m \u001b[0;32mas\u001b[0m \u001b[0mscandir_it\u001b[0m\u001b[0;34m:\u001b[0m\u001b[0;34m\u001b[0m\u001b[0;34m\u001b[0m\u001b[0m\n\u001b[0m\u001b[1;32m    410\u001b[0m             \u001b[0mentries\u001b[0m \u001b[0;34m=\u001b[0m \u001b[0mlist\u001b[0m\u001b[0;34m(\u001b[0m\u001b[0mscandir_it\u001b[0m\u001b[0;34m)\u001b[0m\u001b[0;34m\u001b[0m\u001b[0;34m\u001b[0m\u001b[0m\n\u001b[1;32m    411\u001b[0m     \u001b[0;32mexcept\u001b[0m \u001b[0mOSError\u001b[0m \u001b[0;32mas\u001b[0m \u001b[0merr\u001b[0m\u001b[0;34m:\u001b[0m\u001b[0;34m\u001b[0m\u001b[0;34m\u001b[0m\u001b[0m\n",
      "\u001b[0;31mNotADirectoryError\u001b[0m: [Errno 20] Not a directory: 'arq_test.txt_2'"
     ]
    }
   ],
   "source": [
    "shutil.rmtree('arq_test.txt_2')"
   ]
  },
  {
   "cell_type": "code",
   "execution_count": 47,
   "metadata": {},
   "outputs": [],
   "source": [
    "os.remove('arq_test.txt_2')"
   ]
  },
  {
   "cell_type": "code",
   "execution_count": 48,
   "metadata": {},
   "outputs": [
    {
     "data": {
      "text/plain": [
       "['aula_3.ipynb',\n",
       " 'aula_2.ipynb',\n",
       " 'conversor.py',\n",
       " 'aula_4.ipynb',\n",
       " '.ipynb_checkpoints',\n",
       " 'aula_5.ipynb',\n",
       " 'aula_7.ipynb',\n",
       " 'aula_8.ipynb',\n",
       " '__pycache__',\n",
       " 'phonebook.json',\n",
       " 'aula_9.ipynb',\n",
       " 'aula_6.ipynb']"
      ]
     },
     "execution_count": 48,
     "metadata": {},
     "output_type": "execute_result"
    }
   ],
   "source": [
    "os.listdir()"
   ]
  },
  {
   "cell_type": "markdown",
   "metadata": {},
   "source": [
    "## Organizador"
   ]
  },
  {
   "cell_type": "code",
   "execution_count": 49,
   "metadata": {},
   "outputs": [
    {
     "data": {
      "text/plain": [
       "['aula_3.ipynb']"
      ]
     },
     "execution_count": 49,
     "metadata": {},
     "output_type": "execute_result"
    }
   ],
   "source": [
    "'aula_3.ipynb'.split()"
   ]
  },
  {
   "cell_type": "code",
   "execution_count": 50,
   "metadata": {},
   "outputs": [
    {
     "data": {
      "text/plain": [
       "['aula_3', 'ipynb']"
      ]
     },
     "execution_count": 50,
     "metadata": {},
     "output_type": "execute_result"
    }
   ],
   "source": [
    "'aula_3.ipynb'.split('.')"
   ]
  },
  {
   "cell_type": "code",
   "execution_count": 51,
   "metadata": {},
   "outputs": [
    {
     "data": {
      "text/plain": [
       "[' que saudade da epoca antiga ', 'tbt']"
      ]
     },
     "execution_count": 51,
     "metadata": {},
     "output_type": "execute_result"
    }
   ],
   "source": [
    "\" que saudade da epoca antiga #tbt\".split(\"#\")"
   ]
  },
  {
   "cell_type": "code",
   "execution_count": 52,
   "metadata": {},
   "outputs": [
    {
     "data": {
      "text/plain": [
       "'tbt'"
      ]
     },
     "execution_count": 52,
     "metadata": {},
     "output_type": "execute_result"
    }
   ],
   "source": [
    "\" que saudade da epoca antiga #tbt\".split(\"#\")[1]"
   ]
  },
  {
   "cell_type": "markdown",
   "metadata": {},
   "source": [
    "Web scraping"
   ]
  },
  {
   "cell_type": "code",
   "execution_count": 53,
   "metadata": {},
   "outputs": [],
   "source": [
    "di = os.getcwd()"
   ]
  },
  {
   "cell_type": "code",
   "execution_count": 54,
   "metadata": {},
   "outputs": [
    {
     "data": {
      "text/plain": [
       "'/home/vahid/Google Drive/UERJ/Python Course/python_online_2020/aulas'"
      ]
     },
     "execution_count": 54,
     "metadata": {},
     "output_type": "execute_result"
    }
   ],
   "source": [
    "di"
   ]
  },
  {
   "cell_type": "code",
   "execution_count": 55,
   "metadata": {},
   "outputs": [],
   "source": [
    "lista = os.listdir()"
   ]
  },
  {
   "cell_type": "code",
   "execution_count": 56,
   "metadata": {},
   "outputs": [
    {
     "data": {
      "text/plain": [
       "['aula_3.ipynb',\n",
       " 'aula_2.ipynb',\n",
       " 'conversor.py',\n",
       " 'aula_4.ipynb',\n",
       " '.ipynb_checkpoints',\n",
       " 'aula_5.ipynb',\n",
       " 'aula_7.ipynb',\n",
       " 'aula_8.ipynb',\n",
       " '__pycache__',\n",
       " 'phonebook.json',\n",
       " 'aula_9.ipynb',\n",
       " 'aula_6.ipynb']"
      ]
     },
     "execution_count": 56,
     "metadata": {},
     "output_type": "execute_result"
    }
   ],
   "source": [
    "lista"
   ]
  },
  {
   "cell_type": "code",
   "execution_count": 57,
   "metadata": {},
   "outputs": [],
   "source": [
    "arq = [f for f in lista if os.path.isfile(f)]#list compreension"
   ]
  },
  {
   "cell_type": "code",
   "execution_count": 58,
   "metadata": {},
   "outputs": [
    {
     "data": {
      "text/plain": [
       "['aula_3.ipynb',\n",
       " 'aula_2.ipynb',\n",
       " 'conversor.py',\n",
       " 'aula_4.ipynb',\n",
       " 'aula_5.ipynb',\n",
       " 'aula_7.ipynb',\n",
       " 'aula_8.ipynb',\n",
       " 'phonebook.json',\n",
       " 'aula_9.ipynb',\n",
       " 'aula_6.ipynb']"
      ]
     },
     "execution_count": 58,
     "metadata": {},
     "output_type": "execute_result"
    }
   ],
   "source": [
    "arq"
   ]
  },
  {
   "cell_type": "code",
   "execution_count": 59,
   "metadata": {},
   "outputs": [],
   "source": [
    "arq1 = []\n",
    "for item in lista:\n",
    "    if os.path.isfile(item):\n",
    "        arq1.append(item)"
   ]
  },
  {
   "cell_type": "code",
   "execution_count": 60,
   "metadata": {},
   "outputs": [
    {
     "data": {
      "text/plain": [
       "['aula_3.ipynb',\n",
       " 'aula_2.ipynb',\n",
       " 'conversor.py',\n",
       " 'aula_4.ipynb',\n",
       " 'aula_5.ipynb',\n",
       " 'aula_7.ipynb',\n",
       " 'aula_8.ipynb',\n",
       " 'phonebook.json',\n",
       " 'aula_9.ipynb',\n",
       " 'aula_6.ipynb']"
      ]
     },
     "execution_count": 60,
     "metadata": {},
     "output_type": "execute_result"
    }
   ],
   "source": [
    "arq1"
   ]
  },
  {
   "cell_type": "code",
   "execution_count": 61,
   "metadata": {},
   "outputs": [],
   "source": [
    "ext = []\n",
    "for i in arq:\n",
    "    s = i.split('.')[1]\n",
    "    ext.append(s)"
   ]
  },
  {
   "cell_type": "code",
   "execution_count": 62,
   "metadata": {},
   "outputs": [
    {
     "data": {
      "text/plain": [
       "['ipynb',\n",
       " 'ipynb',\n",
       " 'py',\n",
       " 'ipynb',\n",
       " 'ipynb',\n",
       " 'ipynb',\n",
       " 'ipynb',\n",
       " 'json',\n",
       " 'ipynb',\n",
       " 'ipynb']"
      ]
     },
     "execution_count": 62,
     "metadata": {},
     "output_type": "execute_result"
    }
   ],
   "source": [
    "ext"
   ]
  },
  {
   "cell_type": "markdown",
   "metadata": {},
   "source": [
    "## set"
   ]
  },
  {
   "cell_type": "code",
   "execution_count": 63,
   "metadata": {},
   "outputs": [],
   "source": [
    "se = set(ext)"
   ]
  },
  {
   "cell_type": "code",
   "execution_count": 64,
   "metadata": {},
   "outputs": [
    {
     "data": {
      "text/plain": [
       "{'ipynb', 'json', 'py'}"
      ]
     },
     "execution_count": 64,
     "metadata": {},
     "output_type": "execute_result"
    }
   ],
   "source": [
    "se"
   ]
  },
  {
   "cell_type": "code",
   "execution_count": 65,
   "metadata": {},
   "outputs": [
    {
     "ename": "TypeError",
     "evalue": "'set' object is not subscriptable",
     "output_type": "error",
     "traceback": [
      "\u001b[0;31m---------------------------------------------------------------------------\u001b[0m",
      "\u001b[0;31mTypeError\u001b[0m                                 Traceback (most recent call last)",
      "\u001b[0;32m<ipython-input-65-c28b6a1a45b6>\u001b[0m in \u001b[0;36m<module>\u001b[0;34m\u001b[0m\n\u001b[0;32m----> 1\u001b[0;31m \u001b[0mse\u001b[0m\u001b[0;34m[\u001b[0m\u001b[0;36m0\u001b[0m\u001b[0;34m]\u001b[0m\u001b[0;34m\u001b[0m\u001b[0;34m\u001b[0m\u001b[0m\n\u001b[0m",
      "\u001b[0;31mTypeError\u001b[0m: 'set' object is not subscriptable"
     ]
    }
   ],
   "source": [
    "se[0]"
   ]
  },
  {
   "cell_type": "code",
   "execution_count": 66,
   "metadata": {},
   "outputs": [],
   "source": [
    "ext1 = list(se)"
   ]
  },
  {
   "cell_type": "code",
   "execution_count": 67,
   "metadata": {},
   "outputs": [
    {
     "data": {
      "text/plain": [
       "['json', 'py', 'ipynb']"
      ]
     },
     "execution_count": 67,
     "metadata": {},
     "output_type": "execute_result"
    }
   ],
   "source": [
    "ext1"
   ]
  },
  {
   "cell_type": "code",
   "execution_count": 68,
   "metadata": {},
   "outputs": [],
   "source": [
    "for extension in ext1:\n",
    "    dirname = extension\n",
    "    if os.path.exists(f'di/{extension}'):\n",
    "        pass\n",
    "    else:\n",
    "        os.mkdir(dirname)"
   ]
  },
  {
   "cell_type": "code",
   "execution_count": 69,
   "metadata": {},
   "outputs": [
    {
     "data": {
      "text/plain": [
       "['aula_3.ipynb',\n",
       " 'aula_2.ipynb',\n",
       " 'conversor.py',\n",
       " 'aula_4.ipynb',\n",
       " 'aula_5.ipynb',\n",
       " 'aula_7.ipynb',\n",
       " 'aula_8.ipynb',\n",
       " 'phonebook.json',\n",
       " 'aula_9.ipynb',\n",
       " 'aula_6.ipynb']"
      ]
     },
     "execution_count": 69,
     "metadata": {},
     "output_type": "execute_result"
    }
   ],
   "source": [
    "arq"
   ]
  },
  {
   "cell_type": "code",
   "execution_count": 70,
   "metadata": {},
   "outputs": [
    {
     "data": {
      "text/plain": [
       "'/home/vahid/Google Drive/UERJ/Python Course/python_online_2020/aulas'"
      ]
     },
     "execution_count": 70,
     "metadata": {},
     "output_type": "execute_result"
    }
   ],
   "source": [
    "di"
   ]
  },
  {
   "cell_type": "code",
   "execution_count": 71,
   "metadata": {},
   "outputs": [],
   "source": [
    "for item in arq:\n",
    "    s = item.split('.')[1]\n",
    "    shutil.move(item, di+'/'+ s)"
   ]
  },
  {
   "cell_type": "code",
   "execution_count": 72,
   "metadata": {},
   "outputs": [],
   "source": [
    "item = 'aula_3.ipynb'"
   ]
  },
  {
   "cell_type": "code",
   "execution_count": 73,
   "metadata": {},
   "outputs": [],
   "source": [
    "s = item.split('.')[1]"
   ]
  },
  {
   "cell_type": "code",
   "execution_count": 74,
   "metadata": {},
   "outputs": [
    {
     "data": {
      "text/plain": [
       "'ipynb'"
      ]
     },
     "execution_count": 74,
     "metadata": {},
     "output_type": "execute_result"
    }
   ],
   "source": [
    "s"
   ]
  },
  {
   "cell_type": "code",
   "execution_count": 75,
   "metadata": {},
   "outputs": [
    {
     "data": {
      "text/plain": [
       "'/home/vahid/Google Drive/UERJ/Python Course/python_online_2020/aulas/s'"
      ]
     },
     "execution_count": 75,
     "metadata": {},
     "output_type": "execute_result"
    }
   ],
   "source": [
    "di+'/'+s"
   ]
  },
  {
   "cell_type": "code",
   "execution_count": 76,
   "metadata": {},
   "outputs": [
    {
     "data": {
      "text/plain": [
       "'/home/vahid/Google Drive/UERJ/Python Course/python_online_2020/aulas/ipynb'"
      ]
     },
     "execution_count": 76,
     "metadata": {},
     "output_type": "execute_result"
    }
   ],
   "source": [
    "di+'/'+s"
   ]
  },
  {
   "cell_type": "code",
   "execution_count": null,
   "metadata": {},
   "outputs": [],
   "source": []
  }
 ],
 "metadata": {
  "kernelspec": {
   "display_name": "Python 3",
   "language": "python",
   "name": "python3"
  },
  "language_info": {
   "codemirror_mode": {
    "name": "ipython",
    "version": 3
   },
   "file_extension": ".py",
   "mimetype": "text/x-python",
   "name": "python",
   "nbconvert_exporter": "python",
   "pygments_lexer": "ipython3",
   "version": "3.7.6"
  },
  "toc": {
   "base_numbering": 1,
   "nav_menu": {},
   "number_sections": true,
   "sideBar": true,
   "skip_h1_title": false,
   "title_cell": "Table of Contents",
   "title_sidebar": "Contents",
   "toc_cell": false,
   "toc_position": {},
   "toc_section_display": true,
   "toc_window_display": false
  },
  "varInspector": {
   "cols": {
    "lenName": 16,
    "lenType": 16,
    "lenVar": 40
   },
   "kernels_config": {
    "python": {
     "delete_cmd_postfix": "",
     "delete_cmd_prefix": "del ",
     "library": "var_list.py",
     "varRefreshCmd": "print(var_dic_list())"
    },
    "r": {
     "delete_cmd_postfix": ") ",
     "delete_cmd_prefix": "rm(",
     "library": "var_list.r",
     "varRefreshCmd": "cat(var_dic_list()) "
    }
   },
   "types_to_exclude": [
    "module",
    "function",
    "builtin_function_or_method",
    "instance",
    "_Feature"
   ],
   "window_display": false
  }
 },
 "nbformat": 4,
 "nbformat_minor": 4
}
