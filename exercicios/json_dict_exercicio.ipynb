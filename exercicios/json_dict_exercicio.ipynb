{
 "cells": [
  {
   "cell_type": "markdown",
   "metadata": {},
   "source": [
    "Abra o arquivo 'sp_srag.json' e transforma ele em um diccionario. Esse arquivo contem as informações dos casos da SRAG e foi baixado do website do ministerio de saude. O formato original é 'csv'. Depois de cortar algumas informações tranformei em um 'json' para a gente investigar."
   ]
  },
  {
   "cell_type": "code",
   "execution_count": 70,
   "metadata": {},
   "outputs": [],
   "source": []
  },
  {
   "cell_type": "markdown",
   "metadata": {},
   "source": [
    "Quais são as chaves desse diccionario?"
   ]
  },
  {
   "cell_type": "code",
   "execution_count": 71,
   "metadata": {},
   "outputs": [
    {
     "output_type": "execute_result",
     "data": {
      "text/plain": "dict_keys(['estado', 'data', 'casosNovos', 'casosAcumulados', 'obitosNovos', 'obitosAcumulados'])"
     },
     "metadata": {},
     "execution_count": 71
    }
   ],
   "source": []
  },
  {
   "cell_type": "markdown",
   "metadata": {},
   "source": [
    "Agora vamos olhar para o conteudo da chave 'data'"
   ]
  },
  {
   "cell_type": "code",
   "execution_count": 90,
   "metadata": {},
   "outputs": [
    {
     "output_type": "execute_result",
     "data": {
      "text/plain": "{'1558': '2020-01-30',\n '1559': '2020-01-31',\n '1560': '2020-02-01',\n '1561': '2020-02-02',\n '1562': '2020-02-03',\n '1563': '2020-02-04',\n '1564': '2020-02-05',\n '1565': '2020-02-06',\n '1566': '2020-02-07',\n '1567': '2020-02-08',\n '1568': '2020-02-09',\n '1569': '2020-02-10',\n '1570': '2020-02-11',\n '1571': '2020-02-12',\n '1572': '2020-02-13',\n '1573': '2020-02-14',\n '1574': '2020-02-15',\n '1575': '2020-02-16',\n '1576': '2020-02-17',\n '1577': '2020-02-18',\n '1578': '2020-02-19',\n '1579': '2020-02-20',\n '1580': '2020-02-21',\n '1581': '2020-02-22',\n '1582': '2020-02-23',\n '1583': '2020-02-24',\n '1584': '2020-02-25',\n '1585': '2020-02-26',\n '1586': '2020-02-27',\n '1587': '2020-02-28',\n '1588': '2020-02-29',\n '1589': '2020-03-01',\n '1590': '2020-03-02',\n '1591': '2020-03-03',\n '1592': '2020-03-04',\n '1593': '2020-03-05',\n '1594': '2020-03-06',\n '1595': '2020-03-07',\n '1596': '2020-03-08',\n '1597': '2020-03-09',\n '1598': '2020-03-10',\n '1599': '2020-03-11',\n '1600': '2020-03-12',\n '1601': '2020-03-13',\n '1602': '2020-03-14',\n '1603': '2020-03-15',\n '1604': '2020-03-16',\n '1605': '2020-03-17',\n '1606': '2020-03-18',\n '1607': '2020-03-19',\n '1608': '2020-03-20',\n '1609': '2020-03-21',\n '1610': '2020-03-22',\n '1611': '2020-03-23',\n '1612': '2020-03-24',\n '1613': '2020-03-25',\n '1614': '2020-03-26',\n '1615': '2020-03-27',\n '1616': '2020-03-28',\n '1617': '2020-03-29',\n '1618': '2020-03-30',\n '1619': '2020-03-31',\n '1620': '2020-04-01',\n '1621': '2020-04-02',\n '1622': '2020-04-03',\n '1623': '2020-04-04',\n '1624': '2020-04-05',\n '1625': '2020-04-06',\n '1626': '2020-04-07',\n '1627': '2020-04-08',\n '1628': '2020-04-09',\n '1629': '2020-04-10',\n '1630': '2020-04-11',\n '1631': '2020-04-12',\n '1632': '2020-04-13',\n '1633': '2020-04-14',\n '1634': '2020-04-15',\n '1635': '2020-04-16',\n '1636': '2020-04-17',\n '1637': '2020-04-18',\n '1638': '2020-04-19',\n '1639': '2020-04-20'}"
     },
     "metadata": {},
     "execution_count": 90
    }
   ],
   "source": []
  },
  {
   "cell_type": "markdown",
   "metadata": {},
   "source": [
    "Qual é o formato do objeto acima?"
   ]
  },
  {
   "cell_type": "code",
   "execution_count": 83,
   "metadata": {},
   "outputs": [
    {
     "output_type": "execute_result",
     "data": {
      "text/plain": "dict"
     },
     "metadata": {},
     "execution_count": 83
    }
   ],
   "source": []
  },
  {
   "cell_type": "markdown",
   "metadata": {},
   "source": [
    "Aparentemente o valor da chave 'data' é outro diccionario! Quais são as chaves e valores desse diccionario"
   ]
  },
  {
   "cell_type": "code",
   "execution_count": 86,
   "metadata": {},
   "outputs": [
    {
     "output_type": "execute_result",
     "data": {
      "text/plain": "dict_items([('1558', '2020-01-30'), ('1559', '2020-01-31'), ('1560', '2020-02-01'), ('1561', '2020-02-02'), ('1562', '2020-02-03'), ('1563', '2020-02-04'), ('1564', '2020-02-05'), ('1565', '2020-02-06'), ('1566', '2020-02-07'), ('1567', '2020-02-08'), ('1568', '2020-02-09'), ('1569', '2020-02-10'), ('1570', '2020-02-11'), ('1571', '2020-02-12'), ('1572', '2020-02-13'), ('1573', '2020-02-14'), ('1574', '2020-02-15'), ('1575', '2020-02-16'), ('1576', '2020-02-17'), ('1577', '2020-02-18'), ('1578', '2020-02-19'), ('1579', '2020-02-20'), ('1580', '2020-02-21'), ('1581', '2020-02-22'), ('1582', '2020-02-23'), ('1583', '2020-02-24'), ('1584', '2020-02-25'), ('1585', '2020-02-26'), ('1586', '2020-02-27'), ('1587', '2020-02-28'), ('1588', '2020-02-29'), ('1589', '2020-03-01'), ('1590', '2020-03-02'), ('1591', '2020-03-03'), ('1592', '2020-03-04'), ('1593', '2020-03-05'), ('1594', '2020-03-06'), ('1595', '2020-03-07'), ('1596', '2020-03-08'), ('1597', '2020-03-09'), ('1598', '2020-03-10'), ('1599', '2020-03-11'), ('1600', '2020-03-12'), ('1601', '2020-03-13'), ('1602', '2020-03-14'), ('1603', '2020-03-15'), ('1604', '2020-03-16'), ('1605', '2020-03-17'), ('1606', '2020-03-18'), ('1607', '2020-03-19'), ('1608', '2020-03-20'), ('1609', '2020-03-21'), ('1610', '2020-03-22'), ('1611', '2020-03-23'), ('1612', '2020-03-24'), ('1613', '2020-03-25'), ('1614', '2020-03-26'), ('1615', '2020-03-27'), ('1616', '2020-03-28'), ('1617', '2020-03-29'), ('1618', '2020-03-30'), ('1619', '2020-03-31'), ('1620', '2020-04-01'), ('1621', '2020-04-02'), ('1622', '2020-04-03'), ('1623', '2020-04-04'), ('1624', '2020-04-05'), ('1625', '2020-04-06'), ('1626', '2020-04-07'), ('1627', '2020-04-08'), ('1628', '2020-04-09'), ('1629', '2020-04-10'), ('1630', '2020-04-11'), ('1631', '2020-04-12'), ('1632', '2020-04-13'), ('1633', '2020-04-14'), ('1634', '2020-04-15'), ('1635', '2020-04-16'), ('1636', '2020-04-17'), ('1637', '2020-04-18'), ('1638', '2020-04-19'), ('1639', '2020-04-20')])"
     },
     "metadata": {},
     "execution_count": 86
    }
   ],
   "source": []
  },
  {
   "cell_type": "markdown",
   "metadata": {},
   "source": [
    "Tem quantos elementos?"
   ]
  },
  {
   "cell_type": "code",
   "execution_count": 87,
   "metadata": {},
   "outputs": [
    {
     "output_type": "execute_result",
     "data": {
      "text/plain": "82"
     },
     "metadata": {},
     "execution_count": 87
    }
   ],
   "source": []
  },
  {
   "cell_type": "markdown",
   "metadata": {},
   "source": [
    "Agora vamos dar uma olhada nos valores de outra chave do diccionario 'sp_srag', por exemplo a chave 'casosNovos'"
   ]
  },
  {
   "cell_type": "code",
   "execution_count": 74,
   "metadata": {},
   "outputs": [
    {
     "output_type": "execute_result",
     "data": {
      "text/plain": "{'1558': 0,\n '1559': 0,\n '1560': 0,\n '1561': 0,\n '1562': 0,\n '1563': 0,\n '1564': 0,\n '1565': 0,\n '1566': 0,\n '1567': 0,\n '1568': 0,\n '1569': 0,\n '1570': 0,\n '1571': 0,\n '1572': 0,\n '1573': 0,\n '1574': 0,\n '1575': 0,\n '1576': 0,\n '1577': 0,\n '1578': 0,\n '1579': 0,\n '1580': 0,\n '1581': 0,\n '1582': 0,\n '1583': 0,\n '1584': 0,\n '1585': 1,\n '1586': 0,\n '1587': 0,\n '1588': 1,\n '1589': 0,\n '1590': 0,\n '1591': 0,\n '1592': 1,\n '1593': 3,\n '1594': 4,\n '1595': 3,\n '1596': 3,\n '1597': 0,\n '1598': 3,\n '1599': 11,\n '1600': 12,\n '1601': 14,\n '1602': 9,\n '1603': 71,\n '1604': 16,\n '1605': 12,\n '1606': 76,\n '1607': 46,\n '1608': 110,\n '1609': 63,\n '1610': 172,\n '1611': 114,\n '1612': 65,\n '1613': 52,\n '1614': 190,\n '1615': 171,\n '1616': 183,\n '1617': 45,\n '1618': 66,\n '1619': 822,\n '1620': 642,\n '1621': 525,\n '1622': 542,\n '1623': 418,\n '1624': 154,\n '1625': 246,\n '1626': 816,\n '1627': 1026,\n '1628': 772,\n '1629': 736,\n '1630': 203,\n '1631': 336,\n '1632': 140,\n '1633': 476,\n '1634': 1672,\n '1635': 525,\n '1636': 1273,\n '1637': 1053,\n '1638': 373,\n '1639': 313}"
     },
     "metadata": {},
     "execution_count": 74
    }
   ],
   "source": []
  },
  {
   "cell_type": "markdown",
   "metadata": {},
   "source": [
    "Tem quantos elementos?"
   ]
  },
  {
   "cell_type": "code",
   "execution_count": 88,
   "metadata": {},
   "outputs": [
    {
     "output_type": "execute_result",
     "data": {
      "text/plain": "82"
     },
     "metadata": {},
     "execution_count": 88
    }
   ],
   "source": []
  },
  {
   "cell_type": "markdown",
   "metadata": {},
   "source": [
    "Vamos resumir o que vimos até agora. O diccionario 'sp_srag' tem 6 chaves externos. Os valores dessas chaves são outros diccionarios. Esses diccionarios internos tem chaves iguais. Aparentemente atraves das chaves dos diccionarios internos podemos relacinar os conteudo das chaves externas. Vamos ver isso com um exemplo "
   ]
  },
  {
   "cell_type": "code",
   "execution_count": 91,
   "metadata": {},
   "outputs": [
    {
     "output_type": "execute_result",
     "data": {
      "text/plain": "'2020-03-16'"
     },
     "metadata": {},
     "execution_count": 91
    }
   ],
   "source": [
    "sp_srag['data']['1604']"
   ]
  },
  {
   "cell_type": "code",
   "execution_count": 92,
   "metadata": {},
   "outputs": [
    {
     "output_type": "execute_result",
     "data": {
      "text/plain": "16"
     },
     "metadata": {},
     "execution_count": 92
    }
   ],
   "source": [
    "sp_srag['casosNovos']['1604']"
   ]
  },
  {
   "cell_type": "markdown",
   "metadata": {},
   "source": [
    "Ou seja, no dia '2020-03-16' existia 16 casos novos de SRAG no estado São Paulo. Mas qual seria o numero dos casos acumulados?"
   ]
  },
  {
   "cell_type": "code",
   "execution_count": 93,
   "metadata": {},
   "outputs": [
    {
     "output_type": "execute_result",
     "data": {
      "text/plain": "152"
     },
     "metadata": {},
     "execution_count": 93
    }
   ],
   "source": []
  },
  {
   "cell_type": "markdown",
   "metadata": {},
   "source": [
    "Agora vamos investigar mais. Em que dia tivemos o maior numero de casos novos? Qual é esse numero?"
   ]
  },
  {
   "cell_type": "code",
   "execution_count": 106,
   "metadata": {},
   "outputs": [
    {
     "output_type": "stream",
     "name": "stdout",
     "text": "No dia 2020-04-15 tivemos o maior casos novos com 1672 casos\n"
    }
   ],
   "source": []
  },
  {
   "cell_type": "markdown",
   "metadata": {},
   "source": [
    "No dia anterior tinha qunatos casos novos?"
   ]
  },
  {
   "cell_type": "code",
   "execution_count": 107,
   "metadata": {},
   "outputs": [
    {
     "output_type": "stream",
     "name": "stdout",
     "text": "No dia '2020-04-14' tinha 476 casos novos\n"
    }
   ],
   "source": []
  },
  {
   "cell_type": "markdown",
   "metadata": {},
   "source": [
    "Em que dia tinha mais obitos novos?"
   ]
  },
  {
   "cell_type": "code",
   "execution_count": 108,
   "metadata": {},
   "outputs": [
    {
     "output_type": "stream",
     "name": "stdout",
     "text": "No dia 2020-04-14 tivemos o maior casos novos com 87 casos\n"
    }
   ],
   "source": []
  },
  {
   "cell_type": "markdown",
   "metadata": {},
   "source": [
    "No dia seguinte tinha qunatos obitos novos?"
   ]
  },
  {
   "cell_type": "code",
   "execution_count": 110,
   "metadata": {},
   "outputs": [
    {
     "output_type": "stream",
     "name": "stdout",
     "text": "No dia '2020-04-15' tinha 83 obitos novos\n"
    }
   ],
   "source": []
  },
  {
   "cell_type": "code",
   "execution_count": null,
   "metadata": {},
   "outputs": [],
   "source": []
  },
  {
   "cell_type": "code",
   "execution_count": null,
   "metadata": {},
   "outputs": [],
   "source": []
  }
 ],
 "metadata": {
  "language_info": {
   "codemirror_mode": {
    "name": "ipython",
    "version": 3
   },
   "file_extension": ".py",
   "mimetype": "text/x-python",
   "name": "python",
   "nbconvert_exporter": "python",
   "pygments_lexer": "ipython3",
   "version": "3.7.6-final"
  },
  "orig_nbformat": 2,
  "kernelspec": {
   "name": "python37664bitbaseconda10232f792aef4e03b085a3566ed2c3d6",
   "display_name": "Python 3.7.6 64-bit ('base': conda)"
  }
 },
 "nbformat": 4,
 "nbformat_minor": 2
}