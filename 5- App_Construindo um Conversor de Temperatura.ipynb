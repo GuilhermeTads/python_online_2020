{
 "cells": [
  {
   "cell_type": "markdown",
   "metadata": {},
   "source": [
    "# App: Construindo um conversor de temperatura"
   ]
  },
  {
   "cell_type": "markdown",
   "metadata": {},
   "source": [
    "Nesta seção, vamos criar um aplicativo de conversor de temperatura que permite ao usuário inserir temperatura em graus Fahrenheit e pressionar um botão para converter essa temperatura em graus Celsius. A gente percorre o código passo a passo. Também pode encontrar o código completo no final desta seção para sua referência."
   ]
  },
  {
   "cell_type": "markdown",
   "metadata": {},
   "source": [
    "Antes de começar a programar, a gente tem de desenhar o aplicativo. Vamos precisar de três elementos:\n",
    "- Um widget de `Entry` chamado `ent_temperature` para inserir o valor de Fahrenheit\n",
    "- Um widget de `Label` chamado `lbl_result` para exibir o resultado em graus Celsius\n",
    "- Um widget de `Button` chamado `btn_convert` que lê o valor do widget `Entry`, converte-o de Fahrenheit para Celsius e define o texto do widget `Label` como resultado quando clicado. <br>\n",
    "\n",
    "A gente pode organizá-los em um `Grid` com uma única linha (`row = 0`) e uma coluna para cada widget. Isso gera um aplicativo que funciona minimamente, mas não é muito fácil de usar. Tudo precisa ter rótulos (`Label`). <br>\n",
    "A gente coloca um rótulo (`Label`) diretamente à direita do widget `ent_temperature` que contém o símbolo Fahrenheit (℉) para que o usuário saiba que o valor `ent_temperature` deve estar em graus Fahrenheit. Para fazer isso, defina o texto do rótulo (`Label`) como `\"\\N{DEGREE FAHRENHEIT}\"`, ou `\"\\u2109\"`, que usa o suporte das caracteres Unicode definido do Python para exibir o símbolo Fahrenheit.<br>\n",
    "Nos podemos dar um pouco de talento ao `btn_convertido`, definindo o texto com o valor `\"\\N{RIGHTWARDS BLACK ARROW}\"`, ou `\"\\u2192\"` que exibe uma seta preta apontando para a direita. Também vai garantir que `lbl_result` sempre tenha o símbolo Celsius (℃) após o texto do rótulo (`Label`) `\"\\N {DEGREE CELSIUS}\"`, ou `\"\\u2103\"`, para indicar que o resultado está em graus Celsius. Mais codigos para simbolos [Unicode Character Table](https://unicode-table.com/en/). <br>\n",
    "Veja como será a janela final:\n",
    "        ![coversor](./image/conversor.webp)"
   ]
  },
  {
   "cell_type": "markdown",
   "metadata": {},
   "source": [
    "Agora que sabemos quais widgets precisamos e como será a janela, a gente pode começar a programar! Primeiro, importamos o tkinter e criamos uma nova janela:"
   ]
  },
  {
   "cell_type": "markdown",
   "metadata": {},
   "source": [
    "```python\n",
    "import tkinter as tk\n",
    "\n",
    "window = tk.Tk()\n",
    "window.title(\"Conversor de Temperatura\")\n",
    "window.mainloop()\n",
    "```"
   ]
  },
  {
   "cell_type": "markdown",
   "metadata": {},
   "source": [
    "`window.title()` define o título da janela. Quando a gente executa este aplicativo, na janela exibida o texto \"Conversor de Temperatura\" na barra de título. Em seguida, criamos o widget `ent_temperature` com um rótulo (`Label`) chamado `lbl_temp` e atribua ambos a um widget `Frame` chamado `frm_entry`:"
   ]
  },
  {
   "cell_type": "markdown",
   "metadata": {},
   "source": [
    "```python\n",
    "frm_entry = tk.Frame(master=window)\n",
    "ent_temperature = tk.Entry(master=frm_entry, width=10)\n",
    "lbl_temp = tk.Label(master=frm_entry, text=\"\\N{DEGREE FAHRENHEIT}\")\n",
    "```"
   ]
  },
  {
   "cell_type": "markdown",
   "metadata": {},
   "source": [
    "`ent_temperature` é onde o usuário digitará o valor de Fahrenheit. `lbl_temp` é usado para rotular `ent_temperature` com o símbolo Fahrenheit. `frm_entry` é um contêiner que agrupa `ent_temperature` e `lbl_temp` juntos.\n",
    "<br>\n",
    "A gente gostaria que o `lbl_temp` seja colocado diretamente à direita da `ent_temperature`. Você pode colocá-los no `frm_entry` usando o gerenciador de geometria `grid()` com uma linha (`row = 1`) e duas colunas (`column = 2`):"
   ]
  },
  {
   "cell_type": "markdown",
   "metadata": {},
   "source": [
    "```python\n",
    "ent_temperature.grid(row=0, column=0, sticky=\"e\")\n",
    "lbl_temp.grid(row=0, column=1, sticky=\"w\")\n",
    "```"
   ]
  },
  {
   "cell_type": "markdown",
   "metadata": {},
   "source": [
    "Nos definimos o parâmetro `sticky` como \"e\" para `ent_temperature`, para que ele sempre fique na extremidade mais à direita da célula da grade. Você também define `sticky` como \"w\" para `lbl_temp` para mantê-lo preso na extremidade esquerda de sua célula de grade. Isso garante que `lbl_temp` esteja sempre localizado imediatamente à direita da ent_temperature.\n",
    "<br>\n",
    "Agora, faça o `btn_convert` e o `lbl_result` para converter a temperatura inserida em ent_temperature e exibindo os resultados:"
   ]
  },
  {
   "cell_type": "markdown",
   "metadata": {},
   "source": [
    "```python\n",
    "btn_convert = tk.Button(\n",
    "    master=window,\n",
    "    text=\"\\N{RIGHTWARDS BLACK ARROW}\")\n",
    "\n",
    "y = tk.StringVar()\n",
    "y.set(\"\\N{DEGREE CELSIUS}\")\n",
    "\n",
    "lbl_result = tk.Label(master=window, textvariabel= y)\n",
    "```"
   ]
  },
  {
   "cell_type": "markdown",
   "metadata": {},
   "source": [
    "Como `frm_entry`, `btn_convert` e `lbl_result` são atribuídos à janela. Juntos, esses três widgets compõem as três células na grade principal do aplicativo. Usamos `grid()` para prosseguir e colocá-los agora:"
   ]
  },
  {
   "cell_type": "markdown",
   "metadata": {},
   "source": [
    "```python\n",
    "frm_entry.grid(row=0, column=0, padx=10)\n",
    "btn_convert.grid(row=0, column=1, pady=10)\n",
    "lbl_result.grid(row=0, column=2, padx=10)\n",
    "```"
   ]
  },
  {
   "cell_type": "markdown",
   "metadata": {},
   "source": [
    "Por fim, podemos executar o aplicativo:"
   ]
  },
  {
   "cell_type": "markdown",
   "metadata": {},
   "source": [
    "```python\n",
    "window.mainloop()\n",
    "```"
   ]
  },
  {
   "cell_type": "markdown",
   "metadata": {},
   "source": [
    "Isso parece ótimo! Mas o botão ainda não faz nada. Na parte superior do codigo, logo abaixo da linha de importação, vamos adicionar uma função chamada `fahrenheit_to_celsius()`:"
   ]
  },
  {
   "cell_type": "markdown",
   "metadata": {},
   "source": [
    "```python\n",
    "def fahrenheit_to_celsius():\n",
    "    \"\"\"Converte o valor do Fahrenheit para Celsius e insere o resultado\n",
    "    no lbl_result.\n",
    "    \"\"\"\n",
    "    fahrenheit = ent_temperature.get()\n",
    "    celsius = (5/9) * (float(fahrenheit) - 32)\n",
    "    y.set(f\"{round(celsius, 2)} \\N{DEGREE CELSIUS}\")\n",
    "```"
   ]
  },
  {
   "cell_type": "markdown",
   "metadata": {},
   "source": [
    "Essa função lê o valor de `ent_temperature`, converte-o de Fahrenheit em Celsius e, em seguida, exibe o resultado em `lbl_result`.\n",
    "<br>\n",
    "Agora desça até a linha em que você define `btn_convert` e defina seu parâmetro de comando como `fahrenheit_to_celsius`:"
   ]
  },
  {
   "cell_type": "markdown",
   "metadata": {},
   "source": [
    "```python\n",
    "btn_convert = tk.Button(\n",
    "    master=window,\n",
    "    text=\"\\N{RIGHTWARDS BLACK ARROW}\",\n",
    "    command=fahrenheit_to_celsius  \n",
    ")\n",
    "```"
   ]
  },
  {
   "cell_type": "markdown",
   "metadata": {},
   "source": [
    "É isso aí! A gente criou um aplicativo conversor de temperatura totalmente funcional em apenas 26 linhas de código! Muito legal, né? \n",
    "<br>\n",
    "Juntanto todos os peçados do codigo temos"
   ]
  },
  {
   "cell_type": "code",
   "execution_count": 21,
   "metadata": {
    "scrolled": true
   },
   "outputs": [],
   "source": [
    "import tkinter as tk\n",
    "\n",
    "def fahrenheit_to_celsius():\n",
    "    \"\"\"Converte o valor do Fahrenheit para Celsius e insere o resultado\n",
    "    no lbl_result.\n",
    "    \"\"\"\n",
    "    fahrenheit = ent_temperature.get()\n",
    "    celsius = (5/9) * (float(fahrenheit) - 32)\n",
    "    y.set(f\"{round(celsius, 2)} \\N{DEGREE CELSIUS}\")\n",
    "\n",
    "# criando uma janela\n",
    "window = tk.Tk()\n",
    "window.title(\"Temperature Converter\")\n",
    "window.resizable(width=False, height=False)\n",
    "\n",
    "\n",
    "# criando o frame de entrada do Fahrenheit com um widget de Entry\n",
    "ent_temperature = tk.Entry(master=window, width=10)\n",
    "lbl_temp = tk.Label(master=window, text=\"\\N{DEGREE FAHRENHEIT}\")\n",
    "\n",
    "# Organizango o Entry de temmperatura e Label no frm_entry\n",
    "ent_temperature.grid(row=0, column=0, sticky=\"w\")\n",
    "lbl_temp.grid(row=0, column=1, sticky=\"e\")\n",
    "\n",
    "# criar o botão de conversão e o Label para exibir o resultado \n",
    "btn_convert = tk.Button(master=window, text = \"\\u2192\", command=fahrenheit_to_celsius)\n",
    "btn_convert.grid(row=0, column=2, pady=10)\n",
    "\n",
    "y = tk.StringVar()\n",
    "y.set(\"\\N{DEGREE CELSIUS}\")\n",
    "\n",
    "lbl_result = tk.Label(master=window, textvariable = y)\n",
    "lbl_result.grid(row=0, column=3, padx=10, sticky = 'e')\n",
    "\n",
    "\n",
    "# executar o aplicativo\n",
    "window.mainloop()"
   ]
  },
  {
   "cell_type": "code",
   "execution_count": null,
   "metadata": {},
   "outputs": [],
   "source": []
  }
 ],
 "metadata": {
  "kernelspec": {
   "display_name": "Python 3",
   "language": "python",
   "name": "python3"
  },
  "language_info": {
   "codemirror_mode": {
    "name": "ipython",
    "version": 3
   },
   "file_extension": ".py",
   "mimetype": "text/x-python",
   "name": "python",
   "nbconvert_exporter": "python",
   "pygments_lexer": "ipython3",
   "version": "3.7.6"
  },
  "toc": {
   "base_numbering": 1,
   "nav_menu": {},
   "number_sections": true,
   "sideBar": true,
   "skip_h1_title": false,
   "title_cell": "Table of Contents",
   "title_sidebar": "Contents",
   "toc_cell": false,
   "toc_position": {},
   "toc_section_display": true,
   "toc_window_display": false
  },
  "varInspector": {
   "cols": {
    "lenName": 16,
    "lenType": 16,
    "lenVar": 40
   },
   "kernels_config": {
    "python": {
     "delete_cmd_postfix": "",
     "delete_cmd_prefix": "del ",
     "library": "var_list.py",
     "varRefreshCmd": "print(var_dic_list())"
    },
    "r": {
     "delete_cmd_postfix": ") ",
     "delete_cmd_prefix": "rm(",
     "library": "var_list.r",
     "varRefreshCmd": "cat(var_dic_list()) "
    }
   },
   "types_to_exclude": [
    "module",
    "function",
    "builtin_function_or_method",
    "instance",
    "_Feature"
   ],
   "window_display": false
  }
 },
 "nbformat": 4,
 "nbformat_minor": 4
}
