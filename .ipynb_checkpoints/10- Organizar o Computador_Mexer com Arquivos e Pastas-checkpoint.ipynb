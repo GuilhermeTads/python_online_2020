{
 "cells": [
  {
   "cell_type": "markdown",
   "metadata": {},
   "source": [
    "Nesta seção, vamos falar sobre diferentes operações que podemos executar em arquivos e diretórios (pastas).\n",
    "\n",
    "Você sabe, por exemplo, que usamos muito arquivos, e trabalhar com arquivos vai além de apenas abrir e fechar o arquivo. Você se lembra de quantas vezes copiou/colou um arquivo específico? Ah, ou quando você renomeou um arquivo baixado de algum site porque ele tinha um nome sem sentido? Esses são alguns tipos de operações que vamos discutir nesta seção."
   ]
  },
  {
   "cell_type": "markdown",
   "metadata": {},
   "source": [
    "## `os` e `shutil`"
   ]
  },
  {
   "cell_type": "markdown",
   "metadata": {},
   "source": [
    "A primeira coisa é nos localizar, ou seja, estamos dentro da qual pasta do computador. Para ver isso utilizamos do pacote `os` que já vem com o Python  "
   ]
  },
  {
   "cell_type": "code",
   "execution_count": 1,
   "metadata": {},
   "outputs": [
    {
     "data": {
      "text/plain": [
       "'/home/vahid/Google Drive/UERJ/Python Course/python_online_2020'"
      ]
     },
     "execution_count": 1,
     "metadata": {},
     "output_type": "execute_result"
    }
   ],
   "source": [
    "import os\n",
    "\n",
    "os.getcwd()  #cwd: current working directory"
   ]
  },
  {
   "cell_type": "markdown",
   "metadata": {},
   "source": [
    "<span style = 'color:red'>O resultado no seu computador deve ser diferente. Há uma diferença entre a forma de enderenço de um arquivo/pasta no Linux e Mac OS com o Windows. no Windows o endereço acima seria </span>\n",
    "\n",
    "<span style = 'color:red'>'C:\\\\home\\\\vahid\\\\Google Drive\\\\UERJ\\\\Python Course\\\\python_online_2020'</span>\n",
    "\n",
    "<span style = 'color:red'>Esse notebook foi criado no Linux, então se voce está usando Windows, tem que mudar `/` para `\\\\` onde aparecer!\n",
    "</span>\n",
    "\n",
    "Para mudar a pasta usamos"
   ]
  },
  {
   "cell_type": "code",
   "execution_count": 2,
   "metadata": {},
   "outputs": [],
   "source": [
    "os.chdir(\"/home/vahid/Google Drive\")  #chdir = change directory"
   ]
  },
  {
   "cell_type": "markdown",
   "metadata": {},
   "source": [
    "Vamos verigficar se realmente mudamos a pasta"
   ]
  },
  {
   "cell_type": "code",
   "execution_count": 3,
   "metadata": {},
   "outputs": [
    {
     "data": {
      "text/plain": [
       "'/home/vahid/Google Drive'"
      ]
     },
     "execution_count": 3,
     "metadata": {},
     "output_type": "execute_result"
    }
   ],
   "source": [
    "os.getcwd()"
   ]
  },
  {
   "cell_type": "markdown",
   "metadata": {},
   "source": [
    "Mas vamos voltar para a pasta inicial. "
   ]
  },
  {
   "cell_type": "code",
   "execution_count": 4,
   "metadata": {},
   "outputs": [],
   "source": [
    "os.chdir('/home/vahid/Google Drive/UERJ/Python Course/python_online_2020') "
   ]
  },
  {
   "cell_type": "markdown",
   "metadata": {},
   "source": [
    "Agora vamos verificar os arquivos e pastas que estão dentro desta pasta "
   ]
  },
  {
   "cell_type": "code",
   "execution_count": 7,
   "metadata": {},
   "outputs": [
    {
     "data": {
      "text/plain": [
       "['aulas',\n",
       " '.ipynb_checkpoints',\n",
       " '.git',\n",
       " 'README.md',\n",
       " 'image',\n",
       " 'data',\n",
       " '.gitattributes',\n",
       " 'python_pratico.ipynb']"
      ]
     },
     "execution_count": 7,
     "metadata": {},
     "output_type": "execute_result"
    }
   ],
   "source": [
    "cont = os.listdir();\n",
    "cont"
   ]
  },
  {
   "cell_type": "markdown",
   "metadata": {},
   "source": [
    "Os nomes que não tem extensão, a principio, são pastas (não sempre!). Mas o `os` ajuda a gente para separar arquivos/pastas/links"
   ]
  },
  {
   "cell_type": "code",
   "execution_count": 8,
   "metadata": {},
   "outputs": [
    {
     "name": "stdout",
     "output_type": "stream",
     "text": [
      "['README.md', '.gitattributes', 'python_pratico.ipynb']\n",
      "['aulas', '.ipynb_checkpoints', '.git', 'image', 'data']\n"
     ]
    }
   ],
   "source": [
    "arquivos = []\n",
    "pastas = []\n",
    "\n",
    "for item in cont:\n",
    "    if os.path.isfile(item):\n",
    "        arquivos.append(item)\n",
    "    if os.path.isdir(item):\n",
    "        pastas.append(item)\n",
    "print(arquivos)\n",
    "print(pastas)"
   ]
  },
  {
   "cell_type": "markdown",
   "metadata": {},
   "source": [
    "Para brincar mais vamos criar um arquivo e duas pastas."
   ]
  },
  {
   "cell_type": "code",
   "execution_count": 12,
   "metadata": {},
   "outputs": [],
   "source": [
    "f= open(\"arquivo_test.txt\",\"w+\")\n",
    "f.close()"
   ]
  },
  {
   "cell_type": "code",
   "execution_count": 14,
   "metadata": {},
   "outputs": [
    {
     "data": {
      "text/plain": [
       "['aulas',\n",
       " '.ipynb_checkpoints',\n",
       " '.git',\n",
       " 'arquivo_test.txt',\n",
       " 'README.md',\n",
       " 'image',\n",
       " 'data',\n",
       " '.gitattributes',\n",
       " 'python_pratico.ipynb']"
      ]
     },
     "execution_count": 14,
     "metadata": {},
     "output_type": "execute_result"
    }
   ],
   "source": [
    "os.listdir()"
   ]
  },
  {
   "cell_type": "markdown",
   "metadata": {},
   "source": [
    "E para criar uma pasta vazia"
   ]
  },
  {
   "cell_type": "code",
   "execution_count": null,
   "metadata": {},
   "outputs": [],
   "source": [
    "os.mkdir(\"pasta_test\")"
   ]
  },
  {
   "cell_type": "code",
   "execution_count": 21,
   "metadata": {},
   "outputs": [],
   "source": [
    "os.mkdir(\"pasta_test_1\")"
   ]
  },
  {
   "cell_type": "code",
   "execution_count": 22,
   "metadata": {},
   "outputs": [
    {
     "data": {
      "text/plain": [
       "['aulas',\n",
       " '.ipynb_checkpoints',\n",
       " '.git',\n",
       " 'arquivo_test.txt',\n",
       " 'pasta_test',\n",
       " 'README.md',\n",
       " 'pasta_test_1',\n",
       " 'image',\n",
       " 'data',\n",
       " '.gitattributes',\n",
       " 'python_pratico.ipynb']"
      ]
     },
     "execution_count": 22,
     "metadata": {},
     "output_type": "execute_result"
    }
   ],
   "source": [
    "os.listdir()"
   ]
  },
  {
   "cell_type": "markdown",
   "metadata": {},
   "source": [
    "Prestem atenção que não fornecemos o endereço exato da pasta, só o nome. Nessa maneira a pasta é criada no `cwd`."
   ]
  },
  {
   "cell_type": "markdown",
   "metadata": {},
   "source": [
    "### Copy"
   ]
  },
  {
   "cell_type": "markdown",
   "metadata": {},
   "source": [
    "Agora vamos copiar o arquivo `arquivo_test.txt` dentro da pasta `pasta_test`. Para fazer esse tipo de operação vamos precisar do pacote `shutil` "
   ]
  },
  {
   "cell_type": "code",
   "execution_count": 17,
   "metadata": {},
   "outputs": [],
   "source": [
    "import shutil"
   ]
  },
  {
   "cell_type": "code",
   "execution_count": 18,
   "metadata": {},
   "outputs": [
    {
     "data": {
      "text/plain": [
       "'pasta_test/arquivo_test.txt'"
      ]
     },
     "execution_count": 18,
     "metadata": {},
     "output_type": "execute_result"
    }
   ],
   "source": [
    "shutil.copy('arquivo_test.txt', 'pasta_test')"
   ]
  },
  {
   "cell_type": "markdown",
   "metadata": {},
   "source": [
    "De novo, não fernecemos o endereço exato nem do arquivo, nem da pasta porque os dois estão dentro do `cwd`. A forma equivalente é \n",
    "```python\n",
    "shutil.copy('/home/vahid/Google Drive/UERJ/Python Course/python_online_2020/arquivo_test.txt', '/home/vahid/Google Drive/UERJ/Python Course/python_online_2020/pasta_test')\n",
    "\n",
    "```\n",
    "Vamos ver se realmente a operação teve êxito. "
   ]
  },
  {
   "cell_type": "code",
   "execution_count": 38,
   "metadata": {},
   "outputs": [
    {
     "data": {
      "text/plain": [
       "['arquivo_test.txt']"
      ]
     },
     "execution_count": 38,
     "metadata": {},
     "output_type": "execute_result"
    }
   ],
   "source": [
    "os.listdir(\"pasta_test\") "
   ]
  },
  {
   "cell_type": "markdown",
   "metadata": {},
   "source": [
    "E o arquivo copiado ainda existe, ou seja, não foi cortado."
   ]
  },
  {
   "cell_type": "code",
   "execution_count": 23,
   "metadata": {},
   "outputs": [
    {
     "data": {
      "text/plain": [
       "['aulas',\n",
       " '.ipynb_checkpoints',\n",
       " '.git',\n",
       " 'arquivo_test.txt',\n",
       " 'pasta_test',\n",
       " 'README.md',\n",
       " 'pasta_test_1',\n",
       " 'image',\n",
       " 'data',\n",
       " '.gitattributes',\n",
       " 'python_pratico.ipynb']"
      ]
     },
     "execution_count": 23,
     "metadata": {},
     "output_type": "execute_result"
    }
   ],
   "source": [
    "os.listdir()"
   ]
  },
  {
   "cell_type": "markdown",
   "metadata": {},
   "source": [
    "E se o segundo argumento fosse um arquivo em vez de uma pasta? Em outras palavras, digamos que a gente digita o seguinte"
   ]
  },
  {
   "cell_type": "code",
   "execution_count": 41,
   "metadata": {},
   "outputs": [
    {
     "data": {
      "text/plain": [
       "'arquivo_test_1.txt'"
      ]
     },
     "execution_count": 41,
     "metadata": {},
     "output_type": "execute_result"
    }
   ],
   "source": [
    "shutil.copy('arquivo_test.txt', 'arquivo_test_1.txt')"
   ]
  },
  {
   "cell_type": "markdown",
   "metadata": {},
   "source": [
    "Nesse caso, a gente terá um novo arquivo `arquivo_test_1.txt`, que é uma cópia do arquivo original `arquivo_test.txt`. Portanto, se você abrir o `arquivo_test_1.txt`, perceberá que ele tem o mesmo conteúdo, porque na verdade é uma cópia do `arquivo_test.txt`."
   ]
  },
  {
   "cell_type": "markdown",
   "metadata": {},
   "source": [
    "Agora vamos copiar a pasta `pasta_test` para dentro da pasta `pasta_test_1`. "
   ]
  },
  {
   "cell_type": "code",
   "execution_count": 35,
   "metadata": {},
   "outputs": [
    {
     "data": {
      "text/plain": [
       "'pasta_test_1/pasta_test'"
      ]
     },
     "execution_count": 35,
     "metadata": {},
     "output_type": "execute_result"
    }
   ],
   "source": [
    "shutil.copytree('pasta_test', 'pasta_test_1/pasta_test')"
   ]
  },
  {
   "cell_type": "markdown",
   "metadata": {},
   "source": [
    "Só para confirmar"
   ]
  },
  {
   "cell_type": "code",
   "execution_count": 39,
   "metadata": {},
   "outputs": [
    {
     "data": {
      "text/plain": [
       "['pasta_test']"
      ]
     },
     "execution_count": 39,
     "metadata": {},
     "output_type": "execute_result"
    }
   ],
   "source": [
    "os.listdir(\"pasta_test_1\") "
   ]
  },
  {
   "cell_type": "code",
   "execution_count": 40,
   "metadata": {},
   "outputs": [
    {
     "data": {
      "text/plain": [
       "['arquivo_test.txt']"
      ]
     },
     "execution_count": 40,
     "metadata": {},
     "output_type": "execute_result"
    }
   ],
   "source": [
    "os.listdir(\"pasta_test_1/pasta_test/\") "
   ]
  },
  {
   "cell_type": "markdown",
   "metadata": {},
   "source": [
    "### Move"
   ]
  },
  {
   "cell_type": "markdown",
   "metadata": {},
   "source": [
    "Mover um arquivo é como fazer uma operação de cortar/colar no arquivo. Na seção anterior, vimos como fazer uma cópia de um arquivo, mantendo o arquivo original em seu local original.\n",
    "\n",
    "Nesta seção, veremos como mover (cortar) o arquivo para um novo local e removê-lo ao mesmo tempo do local original. Esta operação é simplesmente realizada usando a função `move()`, da seguinte maneira:"
   ]
  },
  {
   "cell_type": "code",
   "execution_count": 42,
   "metadata": {},
   "outputs": [
    {
     "data": {
      "text/plain": [
       "'pasta_test_1/arquivo_test.txt'"
      ]
     },
     "execution_count": 42,
     "metadata": {},
     "output_type": "execute_result"
    }
   ],
   "source": [
    "shutil.move(\"arquivo_test.txt\", \"pasta_test_1/\")"
   ]
  },
  {
   "cell_type": "markdown",
   "metadata": {},
   "source": [
    "Só para verificar"
   ]
  },
  {
   "cell_type": "code",
   "execution_count": 43,
   "metadata": {},
   "outputs": [
    {
     "data": {
      "text/plain": [
       "['aulas',\n",
       " '.ipynb_checkpoints',\n",
       " '.git',\n",
       " 'pasta_test',\n",
       " 'README.md',\n",
       " 'pasta_test_1',\n",
       " 'image',\n",
       " 'arquivo_test_1.txt',\n",
       " 'data',\n",
       " '.gitattributes',\n",
       " 'python_pratico.ipynb']"
      ]
     },
     "execution_count": 43,
     "metadata": {},
     "output_type": "execute_result"
    }
   ],
   "source": [
    "os.listdir()"
   ]
  },
  {
   "cell_type": "markdown",
   "metadata": {},
   "source": [
    "E se mudarmos o `arquivo_test_1.txt` para um novo arquivo `arquivo_test_2.txt`, da seguinte maneira?"
   ]
  },
  {
   "cell_type": "code",
   "execution_count": 44,
   "metadata": {},
   "outputs": [
    {
     "data": {
      "text/plain": [
       "'arquivo_test_2.txt'"
      ]
     },
     "execution_count": 44,
     "metadata": {},
     "output_type": "execute_result"
    }
   ],
   "source": [
    "shutil.move(\"arquivo_test_1.txt\", \"arquivo_test_2.txt\")"
   ]
  },
  {
   "cell_type": "code",
   "execution_count": 45,
   "metadata": {},
   "outputs": [
    {
     "data": {
      "text/plain": [
       "['aulas',\n",
       " '.ipynb_checkpoints',\n",
       " '.git',\n",
       " 'arquivo_test_2.txt',\n",
       " 'pasta_test',\n",
       " 'README.md',\n",
       " 'pasta_test_1',\n",
       " 'image',\n",
       " 'data',\n",
       " '.gitattributes',\n",
       " 'python_pratico.ipynb']"
      ]
     },
     "execution_count": 45,
     "metadata": {},
     "output_type": "execute_result"
    }
   ],
   "source": [
    "os.listdir()"
   ]
  },
  {
   "cell_type": "markdown",
   "metadata": {},
   "source": [
    "Nesse caso, a gente terá apenas `arquivo_test_2.txt` com o mesmo conteúdo que `arquivo_test_1.txt`, mas o `arquivo_test_1.txt` não existe mais."
   ]
  },
  {
   "cell_type": "markdown",
   "metadata": {},
   "source": [
    "A movimentação de pastas é realizada usando a mesma função que usamos para mover um arquivo, ou seja, `move()`."
   ]
  },
  {
   "cell_type": "code",
   "execution_count": 46,
   "metadata": {},
   "outputs": [
    {
     "data": {
      "text/plain": [
       "'pasta_test_2'"
      ]
     },
     "execution_count": 46,
     "metadata": {},
     "output_type": "execute_result"
    }
   ],
   "source": [
    "shutil.move('pasta_test_1', 'pasta_test_2')"
   ]
  },
  {
   "cell_type": "code",
   "execution_count": 47,
   "metadata": {
    "scrolled": true
   },
   "outputs": [
    {
     "data": {
      "text/plain": [
       "['aulas',\n",
       " '.ipynb_checkpoints',\n",
       " '.git',\n",
       " 'arquivo_test_2.txt',\n",
       " 'pasta_test_2',\n",
       " 'pasta_test',\n",
       " 'README.md',\n",
       " 'image',\n",
       " 'data',\n",
       " '.gitattributes',\n",
       " 'python_pratico.ipynb']"
      ]
     },
     "execution_count": 47,
     "metadata": {},
     "output_type": "execute_result"
    }
   ],
   "source": [
    "os.listdir()"
   ]
  },
  {
   "cell_type": "markdown",
   "metadata": {},
   "source": [
    "### Renomeando arquivos e pastas"
   ]
  },
  {
   "cell_type": "markdown",
   "metadata": {},
   "source": [
    "Adivinha? A gente também pode usar a função `move()` para renomear um arquivo ou pasta. Não repetirei os exemplos novamente nesta seção. Porém, se você notou ao aplicar a função `move()` nos arquivos e pastas acima, mencionamos que o arquivo/pasta original não existe mais, mas existe um novo arquivo/pasta com o mesmo conteúdo. É como renomear um arquivo/pasta, não é?"
   ]
  },
  {
   "cell_type": "markdown",
   "metadata": {},
   "source": [
    "### Excluindo arquivos e pastas"
   ]
  },
  {
   "cell_type": "markdown",
   "metadata": {},
   "source": [
    "Parece que o pacote `shutil` não contém uma função para excluir arquivos. No entanto, ele contém uma função para excluir pastas: `rmtree()`. **Cuidado**, pois a exclusão é permanente e, portanto, você não encontrará a pasta excluída na sua Lixeira.\n",
    "\n",
    "O exemplo abaixo mostra como podemos excluir permanentemente a pasta `pasta_test`:"
   ]
  },
  {
   "cell_type": "code",
   "execution_count": 48,
   "metadata": {},
   "outputs": [],
   "source": [
    "shutil.rmtree('pasta_test') #rmtree = remove tree"
   ]
  },
  {
   "cell_type": "code",
   "execution_count": 49,
   "metadata": {},
   "outputs": [
    {
     "data": {
      "text/plain": [
       "['aulas',\n",
       " '.ipynb_checkpoints',\n",
       " '.git',\n",
       " 'arquivo_test_2.txt',\n",
       " 'pasta_test_2',\n",
       " 'README.md',\n",
       " 'image',\n",
       " 'data',\n",
       " '.gitattributes',\n",
       " 'python_pratico.ipynb']"
      ]
     },
     "execution_count": 49,
     "metadata": {},
     "output_type": "execute_result"
    }
   ],
   "source": [
    "os.listdir()"
   ]
  },
  {
   "cell_type": "code",
   "execution_count": 50,
   "metadata": {},
   "outputs": [],
   "source": [
    "shutil.rmtree('pasta_test_2')"
   ]
  },
  {
   "cell_type": "markdown",
   "metadata": {},
   "source": [
    "Se a gente quiser excluir permanentemente um arquivo, pode usar a função `remove()` do módulo (pacote) `os` do Python, na seguinte maneira:"
   ]
  },
  {
   "cell_type": "code",
   "execution_count": 51,
   "metadata": {},
   "outputs": [],
   "source": [
    "os.remove('arquivo_test_2.txt')"
   ]
  },
  {
   "cell_type": "code",
   "execution_count": 52,
   "metadata": {},
   "outputs": [
    {
     "data": {
      "text/plain": [
       "['aulas',\n",
       " '.ipynb_checkpoints',\n",
       " '.git',\n",
       " 'README.md',\n",
       " 'image',\n",
       " 'data',\n",
       " '.gitattributes',\n",
       " 'python_pratico.ipynb']"
      ]
     },
     "execution_count": 52,
     "metadata": {},
     "output_type": "execute_result"
    }
   ],
   "source": [
    "os.listdir()"
   ]
  },
  {
   "cell_type": "markdown",
   "metadata": {},
   "source": [
    "## O programa"
   ]
  },
  {
   "cell_type": "markdown",
   "metadata": {},
   "source": [
    "Esse programa organiza os arquivos dentro de uma pasta em varias pastas. Cada pasta vai ter o nome da extensão do arquivos que estão dentro dela. "
   ]
  },
  {
   "cell_type": "code",
   "execution_count": null,
   "metadata": {},
   "outputs": [],
   "source": [
    "import os \n",
    "\n",
    "import shutil \n",
    "\n",
    "# mudando a pasta para a pasta de destino\n",
    "os.chdir(os.getcwd()) \n",
    "cwd = os.getcwd() \n",
    "\n",
    "# Criando uma lista apenas dos arquivos dentro da pasta\n",
    "\n",
    "l = [f for f in os.listdir(cwd) if os.path.isfile(f)] \n",
    "l2 = [] \n",
    "\n",
    "# Pegando a extensão dos arquivos da lista l\n",
    "\n",
    "for value in l: \n",
    "    s = value.split('.')[1] \n",
    "    l2.append(s) \n",
    "print(l, l2) \n",
    "\n",
    "# Removendo as extensões duplicada da lista l2 e chekar se existe uma pasta com nome de cada extensão,\n",
    "# e se não existir criar uma\n",
    "\n",
    "\n",
    "for extension in set(l2): \n",
    "    dirname = extension \n",
    "    if os.path.exists(cwd + '\\' + extension): \n",
    "        pass\n",
    "    else: \n",
    "    os.makedirs(dirname) \n",
    "\n",
    "\n",
    "#usamos zip() para fazer um loop sincronizado nas listas l e l2.\n",
    "# Se a extensão do arquivo é é igual o nome da pasta e o arquivo ainda não existe dentro da pasta,\n",
    "#vamos o mover para dentro da pasta com o mesmo nome da sua extensão \n",
    "\n",
    "\n",
    "for files, extension in zip(l, l2): \n",
    "    if extension in files: \n",
    "        if os.path.exists(cwd + '\\' + extension + '\\' +files): \n",
    "            pass\n",
    "        else: \n",
    "            shutil.move(cwd + '\\' + files, cwd + '\\' + extension) \n",
    "        print(extension, files) \n",
    "    else : \n",
    "        print('error') \n"
   ]
  },
  {
   "cell_type": "code",
   "execution_count": null,
   "metadata": {},
   "outputs": [],
   "source": []
  }
 ],
 "metadata": {
  "kernelspec": {
   "display_name": "Python 3",
   "language": "python",
   "name": "python3"
  },
  "language_info": {
   "codemirror_mode": {
    "name": "ipython",
    "version": 3
   },
   "file_extension": ".py",
   "mimetype": "text/x-python",
   "name": "python",
   "nbconvert_exporter": "python",
   "pygments_lexer": "ipython3",
   "version": "3.7.6"
  },
  "toc": {
   "base_numbering": 1,
   "nav_menu": {},
   "number_sections": true,
   "sideBar": true,
   "skip_h1_title": false,
   "title_cell": "Table of Contents",
   "title_sidebar": "Contents",
   "toc_cell": false,
   "toc_position": {},
   "toc_section_display": true,
   "toc_window_display": false
  },
  "varInspector": {
   "cols": {
    "lenName": 16,
    "lenType": 16,
    "lenVar": 40
   },
   "kernels_config": {
    "python": {
     "delete_cmd_postfix": "",
     "delete_cmd_prefix": "del ",
     "library": "var_list.py",
     "varRefreshCmd": "print(var_dic_list())"
    },
    "r": {
     "delete_cmd_postfix": ") ",
     "delete_cmd_prefix": "rm(",
     "library": "var_list.r",
     "varRefreshCmd": "cat(var_dic_list()) "
    }
   },
   "types_to_exclude": [
    "module",
    "function",
    "builtin_function_or_method",
    "instance",
    "_Feature"
   ],
   "window_display": false
  }
 },
 "nbformat": 4,
 "nbformat_minor": 4
}
