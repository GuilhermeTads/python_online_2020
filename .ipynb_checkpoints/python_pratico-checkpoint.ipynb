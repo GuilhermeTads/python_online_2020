{
 "cells": [
  {
   "cell_type": "markdown",
   "metadata": {},
   "source": [
    "# Tkinter: Introdução"
   ]
  },
  {
   "cell_type": "markdown",
   "metadata": {},
   "source": [
    "Neste aula vamos apredner como montar uma interface grafica (GUI) em Python usando o framework Tkinter. Essa tecnologia vem junto com o Python e não se precisa instalar separadamente. O processo basico de construir uma interface simples é demonstrado na seguinte figura\n",
    "\n",
    "\n",
    "![Construção em Tkinter](tkinter.png)"
   ]
  },
  {
   "cell_type": "markdown",
   "metadata": {},
   "source": [
    "Vamos detalhar o diagrama de fluxo acima e entender o que cada componente está manipulando!"
   ]
  },
  {
   "cell_type": "markdown",
   "metadata": {},
   "source": [
    "- Primeiro, você importa o componente principal, ou seja, o módulo `Tkinter`.\n",
    "- Como a próxima etapa, você inicializa o gerenciador de janelas com o método `window = tkinter.Tk()` e o atribui uma variável. Esse método cria uma janela em branco com botões de fechar, maximizar e minimizar na parte superior, como um GUI comum deve ter.\n",
    "- Então, como uma etapa opcional, você renomeará o título da janela como desejar com `window.title (title_of_the_window)`.\n",
    "- Em seguida, você utiliza um `widget` chamado `Label`, que é usado para inserir algum texto na janela.\n",
    "- Em seguida, você usa o atributo de `gerenciamento de geometria` (geometry management) do Tkinter chamado `pack()` para exibir o `widget` no tamanho necessário.\n",
    "- Finalmente, como a última etapa, você usa o método `mainloop()` para exibir a janela até fechá-la manualmente. Ele executa um loop infinito no backend."
   ]
  },
  {
   "cell_type": "code",
   "execution_count": 19,
   "metadata": {},
   "outputs": [],
   "source": [
    "# primeiro, vamos chamar o pacote Tkinter\n",
    "import tkinter\n",
    "\n",
    "#inicilizar o Tkinter e criar uma janela vazia\n",
    "window = tkinter.Tk()\n",
    "\n",
    "# Para renomear o titulo da janela\n",
    "window.title(\"GUI\")\n",
    "\n",
    "#criar um rotulo\n",
    "label = tkinter.Label(window, text = \"Meu primeiro programa de Python usando Tkinter!\")\n",
    "\n",
    "# adicionar o label na janela\n",
    "label.pack()\n",
    "\n",
    "#apresentar a janela\n",
    "window.mainloop()"
   ]
  },
  {
   "cell_type": "markdown",
   "metadata": {},
   "source": [
    "Gostou?! Agora vamos ver o que sifnifica cada linha do codigo acima. <br>\n",
    "- `import tkinter`: não é nada pratico inventar roda de novo para construir um carro! Na programação tambem essa logica continua valida! Não faz sentido sentar e escrever milhares de codigo para fazer um certo objetivo já que outra pessoa (mais professional do que nos) já escreveu e disponibilizou gratuitamente para a comunidade. `tkinter` é um pacote (um conjunto de milhares de codigos) para criar interfaces graficos. Para utilizar esse pacote dentro no nosso codigo temos que chamar ele. Usamos a palavra-chave `import` para chamar um pacote. Claro, primeiro temos que instalar um pacote para puder chamar! No caso do `tkinter` não foi necessario instalar porque está embutindo no Python. Para instalar um pacote que não seja embutido no Python (a maioria dos casos) na linha de comando digitamos `pip install <nome do pacote>`. Ou se voce tem Anaconda instalado pode usar o comando `conda install <nome do pacote>. \n",
    "- `window = tkinter.Tk()`: Depois de chamar o pacote `tkinter` temos que aprender como ele funciona. O(s) autor(es) de pacotes fornecem uma documentação para cada pacote (cada pacote tem um API para utilizar). Na documentação do `tkinter` está dizendo que para criar uma janela vazia temos que utiliar o comando `tkinter.TK()`. Mas não faz sentido criar uma janela sem nome! Se não tiver nome como vamos puder modifica-la e adicionar mais elementos nela? Os objetos no Python (igual qualquer linguagem de programação), como nos seres humanos devem ter nomes. Bom, as vezes não é necessario mas, neste caso, a gente precisa de um nome para a janela para chamar-la depois. Vamos chamar essa janela de `window`. A gente poderia chamar ela de outra coisa tambem, menos os nomes que o Python não permite! Em Python um nome NÃO pode começar com um digito (1window) e nem pode ter espaço no nome(first window).<br>\n",
    "- `window.title(\"GUI\")`: Cada janela pode ter um nome. Prestam atenção como o nome está sendo inserindo, dentro de `\" \"`. Quando a gente coloca uma expressão dentro de `\" \"`, na verdade, estamos criando um `string`. Um `string` é um tipo de variavel. Ao longo do curso vamos ver outras variaveis do Python.\n",
    "- `label = tkinter.Label(window, text = \"Meu primeiro programa de Python usando Tkinter!\")`: Cada pacote tem uma estrutura interna. Tem varios objetos dentro de pacote. Vamos chamar esses objetos de `class`. Mais na frente, vamos aprender como criar uma `class`. Para utilizar um `class` dentro de um pacote temos que mencionar o nome do pacote, ponto, nome da `class`. Nesta linha de codigo, queremos criar um rotulo, um espaço para escrever no texto dentro da nossa janela. Com o comando `tkinter.Label()` podemos criar um rotulo e o chamamos de `label`. Mas peraí, se a gente tiver mais de uma janela no nosso programa esse rotulo pertence a qual delas? E o texto dentro do rotulo? Para resolver essas questões inserimos os argumentos `window, text = \"Meu primeiro programa de Python usando Tkinter!\"` na hora de construir o rutulo. O `windows` quer dizer que esse rotulo pertence a janela `window`. Tem outros argumentos que podemos inserir dentro do `Label` para definir as suas caracteristicas tais como altura e largura. Mas aqui não queremos complicar demais no momento! \n",
    "- `label.pack()`: Agora é a hora de colocar o `label` na janela. Temos varias formar de organizar um elemento em uma janela. `pack()` é um deles. Esse comando cola o rotulo no centro da janela, na parte superior. \n",
    "- `window.mainloop()`: finalmente com esse comando, exibimos a janela `window`."
   ]
  },
  {
   "cell_type": "markdown",
   "metadata": {},
   "source": [
    "Gostou?! \n",
    "Da mesma forma do programa acima, a gente pode ter um botão `Button`, e a GUI exibirá um botão em vez de algum texto de um rotulo. No codigo abaixo, a unica novidade é a classe `Button`. Como o nome se diz, cria um botão. "
   ]
  },
  {
   "cell_type": "code",
   "execution_count": 13,
   "metadata": {},
   "outputs": [],
   "source": [
    "import tkinter\n",
    "\n",
    "window = tkinter.Tk()\n",
    "window.title(\"Button GUI\")\n",
    "\n",
    "button_widget = tkinter.Button(window,text=\"Meu primeiro programa de Python usando Tkinter!\")\n",
    "button_widget.pack()\n",
    "\n",
    "tkinter.mainloop()"
   ]
  },
  {
   "cell_type": "markdown",
   "metadata": {},
   "source": [
    "Outra coisa que vale a pena mencionar é que facilmente podemos mudar o tamanho da janela"
   ]
  },
  {
   "cell_type": "code",
   "execution_count": 15,
   "metadata": {},
   "outputs": [],
   "source": [
    "import tkinter\n",
    "\n",
    "window = tkinter.Tk()\n",
    "window.title(\"Button GUI\")\n",
    "window.geometry('400x250')\n",
    "\n",
    "button_widget = tkinter.Button(window,text=\"Meu primeiro programa de Python usando Tkinter!\")\n",
    "button_widget.pack()\n",
    "\n",
    "tkinter.mainloop()"
   ]
  },
  {
   "cell_type": "markdown",
   "metadata": {},
   "source": [
    "Embora a gente já tenha aprendido a usar `Widgets` no Tkinter, vamos descobrir quais outros widgets estão disponíveis no Tkinter e o funcionamento de cada um deles."
   ]
  },
  {
   "cell_type": "markdown",
   "metadata": {},
   "source": [
    "## Widgets"
   ]
  },
  {
   "cell_type": "markdown",
   "metadata": {},
   "source": [
    "Os widgets são similares em espírito aos elementos que a gente ve em qualquer aplicativo ou pagina de web. Há diferentes tipos de widgets para diferentes tipos de elementos no Tkinter. Eles são elementos padrão de um GUI e fornecem ao usuário controles como botões, texto, menus e caixas de texto e etc.<br>\n",
    "Vamos entender alguns desses widgets no Tkinter, junto com um exemplo"
   ]
  },
  {
   "cell_type": "markdown",
   "metadata": {},
   "source": [
    "- **Button (Botão):** O widget de botão possui uma propriedade para ativar/desativar. Quando o usuário clica no botão, um evento é acionado no Tkinter. O que vai fazer esse evento? Deperende do que o programador tenha planejado.<br>\n",
    "Sintax: `button_widget = tkinter.Button(window, option = placeholder)`. O `window` é o argumento para determinar a janela/frame que o widget pertence, enquanto `option` é um placeholder (espaço reservado) que pode ter vários valores como a cor do background/foreground, fonte, comando (para chamada de função), imagem, altura e largura do botão. Nos exemplos acima, o texto do `Label` é um exemplo para os argumentos opcionais. \n",
    "<br>\n",
    "- **Canvas (Tela):** A tela é usada para desenhar formas em GUI e suporta vários métodos de desenho (se lembra do Paint do Windows?). <br>\n",
    "    Sintax: `canvas_widget = tkinter.Canvas (window, option = placeholder)`. O `window` é o argumento para determinar a janela/frame que o widget pertence, enquanto `option` é um placeholder que pode ter vários valores, como largura da borda, cor do plano de fundo, altura e largura do widget.\n",
    "<br>\n",
    "- **Checkbutton (Botão de verificação):** o botão de verificação registra o estado ativado ou desativado. Permite selecionar mais de uma opção por vez e até deixá-la desmarcada. <br>\n",
    "Sintax: `checkbutton_widget = tkinter.CheckButton(window, option = placeholder)`. O `window` é o argumento para determinar a janela/frame que o widget pertence, enquanto `option` é um placeholder que pode ter vários valores como título, texto, a cor de background/foreground enquanto o widget está sob o cursor , fonte, imagem etc.\n",
    "<br>\n",
    "- **Entry (Entrada):** o widget de entrada é usado para criar campos de entrada ou obter texto de entrada do usuário no GUI. <br>\n",
    "Sintax: `entry_widget = tkinter.Entry(window, option = placeholder)`. O `window` é o argumento para determinar a janela/frame que o widget pertence, enquanto `option` é um placeholder que pode ter vários valores, como largura da borda, cor do plano de fundo (background), largura e altura do botão etc.\n",
    "<br>\n",
    "- **Text:**\tParecido com o `Entry` mas permite varias linhas de texto.\n",
    "<br>\n",
    "- **Frame (Quadro):** O quadro é usado como contêiner no Tkinter para agrupar e organizar adequadamente os widgets. <br>\n",
    "Sintax: `frame_widget = tkinter.Frame(window, option = placeholder)`. O `window` é o argumento para determinar a janela/frame que o widget pertence, enquanto `option` é um placeholder que pode ter vários valores, como largura da borda, altura e largura do widget, a cor de destaque (cor quando widget deve ser focado).\n",
    "<br>\n",
    "- **Label (rotulo):** Label é usado para criar widgets de uma única linha, como texto, imagens, etc. <br>\n",
    "Sintax: `label_widget = tkinter.Label(window, option = placeholder)`. O `window` é o argumento para determinar a janela/frame que o widget pertence, enquanto `option` é um espaço reservado que pode ter vários valores, como a fonte de um rotulo, a cor de fundo, imagem, largura e altura do rotulo."
   ]
  },
  {
   "cell_type": "markdown",
   "metadata": {},
   "source": [
    "Você pode encontrar a lista completa de widgets no site oficial do Python [documentação](https://docs.python.org/3/library/tk.html)"
   ]
  },
  {
   "cell_type": "markdown",
   "metadata": {},
   "source": [
    "## Gerenciamento de Geometria (Geometry Management)"
   ]
  },
  {
   "cell_type": "markdown",
   "metadata": {},
   "source": [
    "Todos os widgets no Tkinter têm algumas medidas de geometria. Essas medidas de geometria permitem organizar os widgets dentro dos frames ou da área do widget (sim, pode ter um botão dentro de um rotulo!).\n",
    "\n",
    "Uma das classes de gerenciamento de geometria, a `pack()`, já foi abordada aqui.\n",
    "\n",
    "No total, para esse fim, o Tkinter fornece três classes principais de gerenciador de geometria:\n",
    "- **pack()**: organiza os widgets de maneira em bloco e a largura disponível completa é ocupada por ele. É um método convencional para mostrar os widgets na janela.\n",
    "<br>\n",
    "- **grid():** organiza os widgets em uma estrutura em forma de tabela. Você aprenderá sobre isso em detalhes posteriormente neste tutorial.\n",
    "<br>\n",
    "- **place():** O seu objetivo é colocar os widgets em uma posição específica, conforme instruído pelo usuário no widget."
   ]
  },
  {
   "cell_type": "markdown",
   "metadata": {},
   "source": [
    "## Organização de Layout e Widgets"
   ]
  },
  {
   "cell_type": "markdown",
   "metadata": {},
   "source": [
    "Nesta seção do tutorial, a gente fará uso do `geometry` e dos `widgets`, e vamos ver a mágica do Tkinter."
   ]
  },
  {
   "cell_type": "markdown",
   "metadata": {},
   "source": [
    "Para organizar o layout no `window`, você utilizará uma classe de widget que se chama `Frame`. Vamos criar um programa simples para ver como o `Frame` funciona. O Frame (quadro) é uma forma de agrupar os widgets para serem mais organizados. Um tipo de \"janela\" dentra janela principal. \n",
    "- Vamos definir dois `Frame`s - superior e inferior com a ajuda da classe `pack`. A classe `Frame` ajudará na criação de uma divisão entre a janela. Basicamente, uma única janela será replicada duas vezes como superior e inferior na forma de um frame (quadro).\n",
    "- Por fim, a gente criará quatros botões na janela, dois para cada frame. a gente pode nomear e até colorir os seus botões como desejar usando os parâmetros opcionais na hora de os construir."
   ]
  },
  {
   "cell_type": "code",
   "execution_count": 9,
   "metadata": {},
   "outputs": [],
   "source": [
    "import tkinter\n",
    "\n",
    "# Vamos criar uma janela (window).\n",
    "window = tkinter.Tk()\n",
    "window.title(\"GUI\")\n",
    "\n",
    "# primeiro vc cria a divisão com a ajuda da classe Frame e depois alinha eles (frames) no topo e baixo usando pack()\n",
    "top_frame = tkinter.Frame(window).pack()\n",
    "bottom_frame = tkinter.Frame(window).pack(side = \"bottom\")\n",
    "\n",
    "#Uma vez que os frames (quadros) foram criados pode adicionar os seus widgets para cada um quadro\n",
    "btn1 = tkinter.Button(top_frame, text = \"Button1\", fg = \"red\").pack() #'fg ou foreground' é para colorir o conteudo dos botões(buttons)\n",
    "\n",
    "btn2 = tkinter.Button(top_frame, text = \"Button2\", fg = \"green\", bg = 'black').pack() # 'bg ou background' é a cor do fundo\n",
    "\n",
    "btn3 = tkinter.Button(bottom_frame, text = \"Button3\", fg = \"purple\").pack(side = \"left\") #'side' é usado para alinhar os widgets na esquerda ou direita.\n",
    "\n",
    "btn4 = tkinter.Button(bottom_frame, text = \"Button4\", fg = \"orange\").pack(side = \"left\")\n",
    "\n",
    "window.mainloop()"
   ]
  },
  {
   "cell_type": "markdown",
   "metadata": {},
   "source": [
    "# Diferentes tipos de variaveis do Python"
   ]
  },
  {
   "cell_type": "markdown",
   "metadata": {},
   "source": [
    "Antes de continuar a nossa discussão sobre a organização de uma janela vamos olhar com mais detalhes para diferentes tipos de variaveis que exitem no Python\n",
    "- Numerico (integer e float): um numero, tipo 0, 2.2, 3.0 ,-1, -24.003\n",
    "- String: um texto ou um conjunto de letras \"oi\", \"pyThOOOOn\", \"2\" (prestem atenão que um string tem `\"  \"`)\n",
    "- Booleanos: False e True\n",
    "<br>\n"
   ]
  },
  {
   "cell_type": "markdown",
   "metadata": {},
   "source": [
    "Para criar uma varivel no Python não é necessario a declarar primeiro, só criando e usando que o Python vai descobrir o seu tipo! (É facil, né?!)"
   ]
  },
  {
   "cell_type": "code",
   "execution_count": 24,
   "metadata": {},
   "outputs": [],
   "source": [
    "x = 2\n",
    "y = -3.004\n",
    "z = 'oi'"
   ]
  },
  {
   "cell_type": "markdown",
   "metadata": {},
   "source": [
    "Para verificar o tipo de uma variavel usamos da função `type()`"
   ]
  },
  {
   "cell_type": "code",
   "execution_count": 27,
   "metadata": {},
   "outputs": [
    {
     "data": {
      "text/plain": [
       "int"
      ]
     },
     "execution_count": 27,
     "metadata": {},
     "output_type": "execute_result"
    }
   ],
   "source": [
    "type(x)"
   ]
  },
  {
   "cell_type": "code",
   "execution_count": 28,
   "metadata": {},
   "outputs": [
    {
     "data": {
      "text/plain": [
       "float"
      ]
     },
     "execution_count": 28,
     "metadata": {},
     "output_type": "execute_result"
    }
   ],
   "source": [
    "type(y)"
   ]
  },
  {
   "cell_type": "code",
   "execution_count": 29,
   "metadata": {},
   "outputs": [
    {
     "data": {
      "text/plain": [
       "str"
      ]
     },
     "execution_count": 29,
     "metadata": {},
     "output_type": "execute_result"
    }
   ],
   "source": [
    "type(z)"
   ]
  },
  {
   "cell_type": "markdown",
   "metadata": {},
   "source": [
    "Para ver o conteudo dentro de uma variavel usamos da função `print()`"
   ]
  },
  {
   "cell_type": "code",
   "execution_count": 30,
   "metadata": {},
   "outputs": [
    {
     "name": "stdout",
     "output_type": "stream",
     "text": [
      "2\n"
     ]
    }
   ],
   "source": [
    "print(x)"
   ]
  },
  {
   "cell_type": "markdown",
   "metadata": {},
   "source": [
    "Podemos somar e subtrair as variaveis numericas facilmente. "
   ]
  },
  {
   "cell_type": "code",
   "execution_count": 33,
   "metadata": {},
   "outputs": [
    {
     "data": {
      "text/plain": [
       "-1.004"
      ]
     },
     "execution_count": 33,
     "metadata": {},
     "output_type": "execute_result"
    }
   ],
   "source": [
    "x+y"
   ]
  },
  {
   "cell_type": "markdown",
   "metadata": {},
   "source": [
    "No Python, diferente de muitas linguagem de programação, podemos somar dois strings"
   ]
  },
  {
   "cell_type": "code",
   "execution_count": 34,
   "metadata": {},
   "outputs": [
    {
     "data": {
      "text/plain": [
       "'oioi'"
      ]
     },
     "execution_count": 34,
     "metadata": {},
     "output_type": "execute_result"
    }
   ],
   "source": [
    "z+z"
   ]
  },
  {
   "cell_type": "markdown",
   "metadata": {},
   "source": [
    "Uma coisa muito importante é que o Python não está nos vigiando quando alteramos o tipo ou conteudo de uma variavel! Somos compeletamete livres! "
   ]
  },
  {
   "cell_type": "code",
   "execution_count": 35,
   "metadata": {},
   "outputs": [],
   "source": [
    "x = 'oi'"
   ]
  },
  {
   "cell_type": "code",
   "execution_count": 36,
   "metadata": {},
   "outputs": [
    {
     "name": "stdout",
     "output_type": "stream",
     "text": [
      "oi\n"
     ]
    }
   ],
   "source": [
    "print(x)"
   ]
  },
  {
   "cell_type": "markdown",
   "metadata": {},
   "source": [
    "Mas essa liberdade tem um preço! Muitas vezes precisamos rastrear o conteudo de uma variavel para ver como está sendo modificado. O `Tkinter` tem uma solução para isso que vamos ver na proxima seção"
   ]
  },
  {
   "cell_type": "markdown",
   "metadata": {},
   "source": [
    "# Tkniter: Grid"
   ]
  },
  {
   "cell_type": "markdown",
   "metadata": {},
   "source": [
    "Assim como um `Frame`, um grid (grade) é outra maneira de organizar os widgets. Ele usa o conceito de uma matriz (colunas e linhas). Vamos desenhar uma analogia entre a classe `Grid` e a idéia de coluna e linha com a ajuda do diagrama abaixo de uma matriz $2\\times2$.\n",
    "![alt text](grid.png \"Uma matriz quadrada 2x2\")"
   ]
  },
  {
   "cell_type": "markdown",
   "metadata": {},
   "source": [
    "O `Grid`, primeiramente, pega parâmetros de `row` (linha) e `column` (coluna). Como foi mostrado na figura acima,  `00` corresponde ao primeiro botão enquanto `01` ao segundo. E para colocar dois botões lado a lado, o `Grid` assumirá os parâmetros de linha e coluna como `00` e `01`, respectivamente.\n",
    "<br>\n",
    "Vamos usar o `CheckButton` para entender como a classe `Grid` funciona. A gente definirá dois botões de verificação e colocamos um texto para dos dois botões. O estado dos `CheckButton`s será decidido pelo `onvalue` e `offvalue`, enquanto o estado atual do checkbottun será rastreado por `IntVar()`, que será armazenado em uma variável separada. Quando `offvalue = 1` e `onvalue = 0`, o botão de verificação correspondente será marcado. Daqui a pouco vamos falar mais sobre as variaveis do `tkitner`\n",
    "<br>\n",
    "Agora, chegando à classe `Grid`, a gente passará um parâmetro de `row`, que posicionará o botão na primeira linha se `row = 0` e na segunda linha se `column = 1`."
   ]
  },
  {
   "cell_type": "code",
   "execution_count": 54,
   "metadata": {},
   "outputs": [],
   "source": [
    "# assim podemos escolher um apelido para um pacote, por motivo de preguiça (ou estetica!)\n",
    "import tkinter as tk\n",
    "\n",
    "window = tk.Tk()\n",
    "\n",
    "CheckVar1 = tk.IntVar()\n",
    "CheckVar2 = tk.IntVar()\n",
    "\n",
    "check_button1 = tk.Checkbutton(window, text = \"Machine Learning\",variable = CheckVar1, onvalue = 1, offvalue =0)\n",
    "check_button1.grid(row=0, sticky = W)\n",
    "\n",
    "check_button2 = tk.Checkbutton(window, text = \"Deep Learning\", variable = CheckVar2, onvalue = 1, offvalue =0)\n",
    "check_button2.grid(row=1, sticky = W)\n",
    "\n",
    "top.mainloop()"
   ]
  },
  {
   "cell_type": "markdown",
   "metadata": {},
   "source": [
    "O exemplo acima foi completamente ilustrativo e sem graça! Escolhendo opções diferentes nada acontecia. Agora vamos ver um exemplo melhor que ajuda agente entender melhor as variaveis rastreadas do `Tkinter`. Mas antes disso, como foi prometido, vamos ver os diferentes tipos de variaveis do `tkinter`."
   ]
  },
  {
   "cell_type": "markdown",
   "metadata": {},
   "source": [
    "# As variaveis monitoradas do Tkinter"
   ]
  },
  {
   "cell_type": "markdown",
   "metadata": {},
   "source": [
    " O Tkinter suporta algumas variáveis usadas para manipular os valores dos widgets do Tkinter. Essas variáveis funcionam como variáveis normais, mas estão sendo monitorados.\n",
    "Os métodos `set()` e `get()` são usados para definir e recuperar os valores dessas variáveis.\n",
    "Os valores dessas variáveis podem ser configurados usando o método set() ou usando o construtor dessas variáveis:\n",
    "- BooleanVar()\n",
    "- StringVar()\n",
    "- IntVar()\n",
    "- DoubleVar()\n",
    "<br>"
   ]
  },
  {
   "cell_type": "code",
   "execution_count": 46,
   "metadata": {},
   "outputs": [],
   "source": [
    "import tkinter as tk\n",
    "\n",
    "\n",
    "window = tk.Tk() \n",
    "\n",
    "# variaveis do Tkinter \n",
    "\n",
    "intvar = tk.IntVar(window, value = 25, name =\"2\") \n",
    "strvar = tk.StringVar(window, \"Hello !\") \n",
    "boolvar = tk.BooleanVar(window, True) \n",
    "doublevar = tk.DoubleVar(window, 10.25) \n"
   ]
  },
  {
   "cell_type": "markdown",
   "metadata": {},
   "source": [
    "Para verificar o conteudo dessas variaveis usamos o metodo `get()`"
   ]
  },
  {
   "cell_type": "code",
   "execution_count": 47,
   "metadata": {
    "scrolled": true
   },
   "outputs": [
    {
     "name": "stdout",
     "output_type": "stream",
     "text": [
      "Hello !\n"
     ]
    }
   ],
   "source": [
    "print(strvar.get())"
   ]
  },
  {
   "cell_type": "markdown",
   "metadata": {},
   "source": [
    "Tem outra forma de associar um valor em uma variavel do Tkinter"
   ]
  },
  {
   "cell_type": "code",
   "execution_count": 59,
   "metadata": {},
   "outputs": [],
   "source": [
    "import tkinter as tk\n",
    "\n",
    "master = tk.Tk() \n",
    "\n",
    "# Declarando as  variaveis \n",
    "intvar = tk.IntVar() \n",
    "strvar = tk.StringVar() \n",
    "boolvar = tk.BooleanVar() \n",
    "doublevar = tk.DoubleVar() \n",
    "\n",
    "\n",
    "# usando set() para inserir um valor dentro das variaveis\n",
    "intvar.set(100) \n",
    "strvar.set(\"GFG\") \n",
    "boolvar.set(False) \n",
    "doublevar.set(10.36) \n"
   ]
  },
  {
   "cell_type": "code",
   "execution_count": 60,
   "metadata": {},
   "outputs": [
    {
     "name": "stdout",
     "output_type": "stream",
     "text": [
      "GFG\n"
     ]
    }
   ],
   "source": [
    "print(strvar.get())"
   ]
  },
  {
   "cell_type": "markdown",
   "metadata": {},
   "source": [
    "## Exemplo"
   ]
  },
  {
   "cell_type": "markdown",
   "metadata": {},
   "source": [
    "Agora vamos ver um exemplo intressante do funcionamento das variaveis monitoradas. Aqui usamos um argumento novo das classe `Label` e `Entry`. Esse argumento nos permita alterar o texto dessas classe dinamicamente. "
   ]
  },
  {
   "cell_type": "code",
   "execution_count": 63,
   "metadata": {},
   "outputs": [],
   "source": [
    "from tkinter import *\n",
    "\n",
    "root = Tk()\n",
    "var = StringVar()\n",
    "var.set('hello')\n",
    "\n",
    "l = Label(root, textvariable = var)\n",
    "l.pack()\n",
    "\n",
    "t = Entry(root, textvariable = var)\n",
    "t.pack()\n",
    "\n",
    "root.mainloop() # the window is now displayed"
   ]
  },
  {
   "cell_type": "markdown",
   "metadata": {},
   "source": [
    "Vamos dar outro exemplo para entender melhor o `Grid`. Neste exemplo, a gente passará uma coluna (`column`) como parâmetro junto com a linha (`row`)."
   ]
  },
  {
   "cell_type": "code",
   "execution_count": 64,
   "metadata": {},
   "outputs": [],
   "source": [
    "import tkinter\n",
    "# Vamos criar uma janela de Tkinter\n",
    "window = tkinter.Tk()\n",
    "window.title(\"GUI\")\n",
    "\n",
    "# aqui vamos criar dois rotulos, 'username' e 'password' e dois rotulos de entrada para eles\n",
    "tkinter.Label(window, text = \"Username\").grid(row = 0) #'username' é colocado na posição 00 (row - 0 e column - 0)\n",
    "\n",
    "# A classe 'Entry' é usada para exibir um campo para que o usuario possa inserir os dados. Esse widget vai ficar do lado do rotulo acima\n",
    "tkinter.Entry(window).grid(row = 0, column = 1) # first input-field is placed on position 01 (row - 0 and column - 1)\n",
    "\n",
    "tkinter.Label(window, text = \"Password\").grid(row = 1) #'password' é posicionado na 10 (row - 1 e column - 0)\n",
    "\n",
    "tkinter.Entry(window).grid(row = 1, column = 1) #o segundo \"input field\" é posicionado na 11 (row - 1 e column - 1)\n",
    "\n",
    "# A classe 'Checkbutton' é usado para criar um checkbutton que pega um 'columnspan' no valor 2 (cobre as duas colunas)\n",
    "tkinter.Checkbutton(window, text = \"Keep Me Logged In\").grid(columnspan = 2)                 \n",
    "\n",
    "window.mainloop()"
   ]
  },
  {
   "cell_type": "markdown",
   "metadata": {},
   "source": [
    "# Tkinter: Place"
   ]
  },
  {
   "cell_type": "markdown",
   "metadata": {},
   "source": [
    "Você pode usar o metodo `place ()` para controlar o local preciso que um widget deve ocupar em uma janela ou frame. Você deve fornecer dois argumentos de palavra-chave, `x` e `y`, que especificam as coordenadas x e y para o canto superior esquerdo do widget. Ambos x e y são medidos em pixels, não em unidades de texto.\n",
    "<br>\n",
    "Lembre-se de que a origem (onde `x`e `y` são ambos `0`) é o canto superior esquerdo do quadro ou janela. Portanto, você pode pensar no argumento y de `place()` como o número de pixels da parte superior da janela e o argumento x como o número de pixels à esquerda da janela.\n",
    "<br>\n",
    "Aqui está um exemplo de como o gerenciador de geometria .place () funciona:"
   ]
  },
  {
   "cell_type": "code",
   "execution_count": 23,
   "metadata": {},
   "outputs": [],
   "source": [
    "import tkinter\n",
    "\n",
    "#vamos criar uma janela\n",
    "window = tkinter.Tk()\n",
    "\n",
    "#vamos criar um frame com largura (width) e altura (height) determinada\n",
    "frame = tkinter.Frame(master=window, width=200, height=150)\n",
    "frame.pack()\n",
    "\n",
    "#criando um \"Label\" e colocar ele na posição (0,0)\n",
    "label1 = tkinter.Label(master=frame, text=\"Estou na (0, 0)\", bg=\"red\")\n",
    "label1.place(x=0, y=0)\n",
    "\n",
    "#criando um \"Label\" e colocar ele na posição (75,75)\n",
    "label2 = tkinter.Label(master=frame, text=\"Estou na (75, 75)\", bg=\"yellow\")\n",
    "label2.place(x=75, y=75)\n",
    "\n",
    "window.mainloop()"
   ]
  },
  {
   "cell_type": "markdown",
   "metadata": {},
   "source": [
    "# Operadores Boleanos"
   ]
  },
  {
   "cell_type": "markdown",
   "metadata": {},
   "source": [
    "Na logica classica, temos dois valores boleanos, `False` e `True`. Um argumento logico (classico) ou é verdadeiro ou falso, não tem meio termo! Então na hora de decidir sobre uma condição o resultado deve ser um dos dois. Para checar uma condição no Python usamos o simbolo `==` (não errei! são dois sinais de igualidade mesmo). Vamos ver na pratica"
   ]
  },
  {
   "cell_type": "code",
   "execution_count": 5,
   "metadata": {},
   "outputs": [
    {
     "data": {
      "text/plain": [
       "False"
      ]
     },
     "execution_count": 5,
     "metadata": {},
     "output_type": "execute_result"
    }
   ],
   "source": [
    "x = 1\n",
    "y = 2\n",
    "\n",
    "x == y"
   ]
  },
  {
   "cell_type": "markdown",
   "metadata": {},
   "source": [
    "Obviamente \"1\" não é igual \"2\". Agora entra outra questão; se a gente tiver mais de uma condição para verificar, o que vamos fazer? Depende! Isso depende como a gente quer decidir. Vamos imaginar a seguinte situação. \n",
    "**Ir para praia!**<br>\n",
    "Como cada pessoa tem um gosto. decidir se a situação está favoravel para ir na praia é complicado! Eu, pessoalmente, vou na praia se a temperatura estiver entre 25-35 **ou** o ceu estiver nublado. Tem gente que vai na praia se o temperatura estiver acima de 35 **e** o ceu estiver ensolarado. Esse **ou** e **e** são importantes. Na seguinte condição eu vou na praia?\n",
    "```python\n",
    "clima = \"nublado\"\n",
    "temperatura = 38\n",
    "```\n",
    "Vamos perguntar para o Python"
   ]
  },
  {
   "cell_type": "code",
   "execution_count": 6,
   "metadata": {},
   "outputs": [
    {
     "data": {
      "text/plain": [
       "True"
      ]
     },
     "execution_count": 6,
     "metadata": {},
     "output_type": "execute_result"
    }
   ],
   "source": [
    "clima = \"nublado\"\n",
    "temperatura = 38\n",
    "clima == \"nublado\" or 25<=temperatura<=35"
   ]
  },
  {
   "cell_type": "markdown",
   "metadata": {},
   "source": [
    "Sim, eu vou! Porque uma das condições é verdadeira. Mas se eu quisesse as duas condições sejam verdadeiras (**e** no lugar de **ou**)"
   ]
  },
  {
   "cell_type": "code",
   "execution_count": 49,
   "metadata": {},
   "outputs": [
    {
     "name": "stdout",
     "output_type": "stream",
     "text": [
      "o clima de hoje é 'nublado' ou 'ensolarado'?nublado\n",
      "quanto é a tempretatura no momento38\n"
     ]
    },
    {
     "data": {
      "text/plain": [
       "False"
      ]
     },
     "execution_count": 49,
     "metadata": {},
     "output_type": "execute_result"
    }
   ],
   "source": [
    "clima = input(\"o clima de hoje é 'nublado' ou 'ensolarado'?\")\n",
    "temperatura = input(\"quanto é a tempretatura no momento\")\n",
    "clima == \"nublado\" and 25<=int(temperatura)<=35"
   ]
  },
  {
   "cell_type": "markdown",
   "metadata": {},
   "source": [
    "Então, se eu fosse uma pessoa exigente, não iria na praia hoje!"
   ]
  },
  {
   "cell_type": "markdown",
   "metadata": {},
   "source": [
    "# Estruturais condicionais no Python (if/else)"
   ]
  },
  {
   "cell_type": "markdown",
   "metadata": {},
   "source": [
    "Continuando a discussão acima, muitas vezes na vida real, dependendo de uma condição, temos que tomar uma decição. Por exemplo: \n",
    "- Se amanha estiver nublado -> pegar guarda chuva\n",
    "- Se amanha estiver ensolarado -> vestir bermuda\n",
    "- Se amanha estiver ventando muito -> levar casaco\n",
    "- Fora disso -> vestir jeans\n",
    "<br>\n",
    "Como podemos implementar isso no Python? É facil:\n",
    "\n",
    "```python\n",
    "if clima == nublado:\n",
    "    pegar guarda chuva\n",
    "elif clima == ensolarado:\n",
    "    vestir bermuda\n",
    "elif clima == ventando:\n",
    "    levar casaco\n",
    "else:\n",
    "    vestir jeans\n",
    "```\n",
    "prestem bastante atenção em `:` no final das linhas de `if`, `elif` e `else`. No Python o inicio e termino de uma estrutura condicional é determinada com a indentação. Olhem bem no codigo. `if` está no inicio da linha, mas `pegar guarda chuva` está para dentro por 4 espaçoes (1 TAB). Esse é muito importante. <br>\n",
    "Agora vamos ver um exemplo "
   ]
  },
  {
   "cell_type": "code",
   "execution_count": 50,
   "metadata": {},
   "outputs": [
    {
     "name": "stdout",
     "output_type": "stream",
     "text": [
      "qual é o seu nome? Clarice\n",
      "Não te conheço! Quem é voce?!\n"
     ]
    }
   ],
   "source": [
    "name = input(\"qual é o seu nome? \")\n",
    "\n",
    "if name == \"vahid\":\n",
    "    print(\" Olá Vahid\")\n",
    "elif name == \"bruno\":\n",
    "    print(\" Olá Bruno\")\n",
    "else:\n",
    "    print(\"Não te conheço! Quem é voce?!\")"
   ]
  },
  {
   "cell_type": "markdown",
   "metadata": {},
   "source": [
    "Agora vamos aperfeiçoar o codigo acima. Na linha `if name == \"vahid\"` estamos comparando o nome inserindo com o string \"vahid\" (com a letra 'v' em minusculo). Então se alguem inserir o nome \"Vahid\" (ou \"BRUNO\") a condição `if name == \"vahid\"` (ou `if name == \"bruno\"`)vai dar `False`, ou seja, não vai entrar no `if` e vai entrar no `else`. O que podemos fazer? O Python tem uma bagagem grande para mexer nos strings. Aqui vamos usar o atributo `.lower()` para impedir o problema acima."
   ]
  },
  {
   "cell_type": "code",
   "execution_count": 83,
   "metadata": {},
   "outputs": [
    {
     "name": "stdout",
     "output_type": "stream",
     "text": [
      "qual é o seu nome? BRUNO\n",
      " Olá Bruno\n"
     ]
    }
   ],
   "source": [
    "name = input(\"qual é o seu nome? \")\n",
    "\n",
    "if name.lower() == \"vahid\":\n",
    "    print(\" Olá Vahid\")\n",
    "elif name.lower() == \"bruno\":\n",
    "    print(\" Olá Bruno\")\n",
    "else:\n",
    "    print(\"Quem é voce?!\")"
   ]
  },
  {
   "cell_type": "markdown",
   "metadata": {},
   "source": [
    "## Exemplo"
   ]
  },
  {
   "cell_type": "markdown",
   "metadata": {},
   "source": [
    "Vamos misturar o que aprendemos sobre as estruturas condicionais e Tkinter. Aqui vamos aprender como reconfigurar um wigdet depois da criação. "
   ]
  },
  {
   "cell_type": "code",
   "execution_count": 85,
   "metadata": {},
   "outputs": [],
   "source": [
    "import tkinter as tk\n",
    " \n",
    "\n",
    "window = tk.Tk()\n",
    "window.title('My Window')\n",
    "window.geometry('150x100')\n",
    " \n",
    "l = tk.Label(window, bg='white', width=20, text='empty')\n",
    "l.pack()\n",
    " \n",
    "def print_selection():\n",
    "    if (var1.get() == 1) & (var2.get() == 0):\n",
    "        l.config(text='I love Python ')\n",
    "    elif (var1.get() == 0) & (var2.get() == 1):\n",
    "        l.config(text='I love Fortran')\n",
    "    elif (var1.get() == 0) & (var2.get() == 0):\n",
    "        l.config(text='I do not anything')\n",
    "    else:\n",
    "        l.config(text='I love both')\n",
    " \n",
    "var1 = tk.IntVar()\n",
    "var2 = tk.IntVar()\n",
    "c1 = tk.Checkbutton(window, text='Python',variable=var1, onvalue=1, offvalue=0, command=print_selection)\n",
    "c1.pack()\n",
    "c2 = tk.Checkbutton(window, text='Fortran',variable=var2, onvalue=1, offvalue=0, command=print_selection)\n",
    "c2.pack()\n",
    " \n",
    "window.mainloop()"
   ]
  },
  {
   "cell_type": "markdown",
   "metadata": {},
   "source": [
    "# Função no Python"
   ]
  },
  {
   "cell_type": "markdown",
   "metadata": {},
   "source": [
    "Uma função é definida para executar uma tarefa. Geralemente pega uma variavel como argumento e faz uma operação sob esse argumento e retorna o resultado. Iguel as funções que a gente ve no calculo. Uma função é definida na seguinte forma\n",
    "\n",
    "```python\n",
    "def my_func():\n",
    "    blah\n",
    "    blah\n",
    "    return foo\n",
    "```\n",
    "Vamos ver duas funções simples. A função a seguir pega um `string`, printa uma frase mas retorna nada. "
   ]
  },
  {
   "cell_type": "code",
   "execution_count": 65,
   "metadata": {},
   "outputs": [],
   "source": [
    "def cumprimentar(name):\n",
    "    print('oi ' + name)"
   ]
  },
  {
   "cell_type": "markdown",
   "metadata": {},
   "source": [
    "Prestam atenção que o argumento da função tem que ser inserido como um string"
   ]
  },
  {
   "cell_type": "code",
   "execution_count": 69,
   "metadata": {},
   "outputs": [
    {
     "name": "stdout",
     "output_type": "stream",
     "text": [
      "oivahid\n"
     ]
    }
   ],
   "source": [
    "cumprimentar('vahid')"
   ]
  },
  {
   "cell_type": "markdown",
   "metadata": {},
   "source": [
    "Vixi, ficou feio! Podemos usar o \"string formatado\" para gerar um resultado mais elegante"
   ]
  },
  {
   "cell_type": "code",
   "execution_count": 72,
   "metadata": {},
   "outputs": [],
   "source": [
    "def cumprimentar1(name):\n",
    "    print(f\"oi {name}\")"
   ]
  },
  {
   "cell_type": "code",
   "execution_count": 73,
   "metadata": {},
   "outputs": [
    {
     "name": "stdout",
     "output_type": "stream",
     "text": [
      "oi vahid\n"
     ]
    }
   ],
   "source": [
    "cumprimentar1(\"vahid\")"
   ]
  },
  {
   "cell_type": "markdown",
   "metadata": {},
   "source": [
    "Agora vamos ver uma função que pega um argumento e retorna um resultado"
   ]
  },
  {
   "cell_type": "code",
   "execution_count": 76,
   "metadata": {},
   "outputs": [],
   "source": [
    "def cube(numero):\n",
    "    n = numero**3\n",
    "    return n"
   ]
  },
  {
   "cell_type": "markdown",
   "metadata": {},
   "source": [
    "Na função acima, `numero**3` significa \"numero\" levado ao cubo. "
   ]
  },
  {
   "cell_type": "code",
   "execution_count": 75,
   "metadata": {},
   "outputs": [
    {
     "data": {
      "text/plain": [
       "125"
      ]
     },
     "execution_count": 75,
     "metadata": {},
     "output_type": "execute_result"
    }
   ],
   "source": [
    "cube(5)"
   ]
  },
  {
   "cell_type": "markdown",
   "metadata": {},
   "source": [
    "# Widget em ação!"
   ]
  },
  {
   "cell_type": "markdown",
   "metadata": {},
   "source": [
    "As funções de ligação (Binding) ou comando (Command) são aquelas que são chamadas quando um evento ocorre (por exemplo clicar um botão) ou é acionado (trigger)(por exemplo, mouse passado por cima de uma janela).\n",
    "Vamos dar um exemplo para entender as funções de ligação.\n",
    "Vamos definir um botão que, quando clicado, chama uma função chamada `python_uerj`. Além disso, a função `python_uerj` criará um novo rótulo com o texto `A FAT é linda` ! "
   ]
  },
  {
   "cell_type": "code",
   "execution_count": 77,
   "metadata": {},
   "outputs": [],
   "source": [
    "import tkinter\n",
    "# vamos criar uma janela\n",
    "window = tkinter.Tk()\n",
    "window.title(\"GUI\")\n",
    "\n",
    "# vamos definir uma função chamada python_uerj()\n",
    "def python_uerj():\n",
    "    tkinter.Label(window, text = \"A FAT é linda!\").pack()\n",
    "\n",
    "tkinter.Button(window, text = \"Click Me!\", command = python_uerj).pack()\n",
    "window.mainloop()"
   ]
  },
  {
   "cell_type": "markdown",
   "metadata": {},
   "source": [
    "**Clica varias vezes no botão!**"
   ]
  },
  {
   "cell_type": "markdown",
   "metadata": {},
   "source": [
    "Vamos ver outro exemplo de binding. Agora vamos criar um contador que conta quantas vezes clicams em um botão"
   ]
  },
  {
   "cell_type": "code",
   "execution_count": 1,
   "metadata": {},
   "outputs": [],
   "source": [
    "import tkinter as tk\n",
    "\n",
    "window = tk.Tk()\n",
    "\n",
    "x = tk.IntVar()\n",
    "x.set(1)\n",
    "def add():\n",
    "    x.set(x.get() + 1)\n",
    "\n",
    "label = tk.Label(window, textvariable=x)\n",
    "label.pack()\n",
    "\n",
    "button = tk.Button(window, text=\"Incremento\", command=add)\n",
    "button.pack()\n",
    "\n",
    "win.mainloop()"
   ]
  },
  {
   "cell_type": "markdown",
   "metadata": {},
   "source": [
    "Além de chamar funções de ligação (binding) com um clique do mouse, os eventos podem ser chamados com um movimento do mouse, mouse sobre, clique, rolagem, etc (trigger).<br>\n",
    "Vamos agora olhar para a função de ligação, que fornece a mesma funcionalidade que acima."
   ]
  },
  {
   "cell_type": "markdown",
   "metadata": {},
   "source": [
    "## Evento de clique do mouse via o método Bind"
   ]
  },
  {
   "cell_type": "markdown",
   "metadata": {},
   "source": [
    "O método `Bind` fornece uma abordagem muito simplista para implementar os eventos de clique do mouse. Vejamos as três funções predefinidas que podem ser usadas imediatamente com o método `Bind`.<br>\n",
    "Os eventos de clique são de três tipos: Clique esquerdo (`left click`), Clique do meio (`middle click`) e Clique direito (`right click`).<br>\n",
    "- O parâmetro `<Button-1>` do método de ligação (Binding) é o evento do botão esquerdo, ou seja, quando você clica no botão esquerdo, o método de ligação chama a função especificada como um segundo parâmetro para ele.\n",
    "- `<Button-2>` para clique do meio\n",
    "- `<Button-3>` para clique direito\n"
   ]
  },
  {
   "cell_type": "markdown",
   "metadata": {},
   "source": [
    "Agora, vamos ver como chamar uma função específica com base no evento que ocorre.\n",
    "- Execute o programa abaixo e clique nos botões esquerdo, central e direito para chamar uma função específica.\n",
    "- Essa função criará um novo rótulo com o texto especificado."
   ]
  },
  {
   "cell_type": "code",
   "execution_count": 16,
   "metadata": {},
   "outputs": [],
   "source": [
    "import tkinter\n",
    "# Vamos criar uma janela\n",
    "window = tkinter.Tk()\n",
    "window.title(\"GUI\")\n",
    "\n",
    "#Vamos criar tres funções diferentes para tres eventos diferentes\n",
    "def left_click(event):\n",
    "    tkinter.Label(window, text = \"Left Click!\").pack()\n",
    "\n",
    "def middle_click(event):\n",
    "    tkinter.Label(window, text = \"Middle Click!\").pack()\n",
    "\n",
    "def right_click(event):\n",
    "    tkinter.Label(window, text = \"Right Click!\").pack()\n",
    "\n",
    "window.bind(\"<Button-1>\", left_click)\n",
    "window.bind(\"<Button-2>\", middle_click)\n",
    "window.bind(\"<Button-3>\", right_click)\n",
    "\n",
    "window.mainloop()"
   ]
  },
  {
   "cell_type": "markdown",
   "metadata": {},
   "source": [
    "## Evento de teclado via o método Bind"
   ]
  },
  {
   "cell_type": "markdown",
   "metadata": {},
   "source": [
    "Podemos modificar o programa acima para registrar qual tecla no teclado foi apretado"
   ]
  },
  {
   "cell_type": "code",
   "execution_count": 29,
   "metadata": {},
   "outputs": [],
   "source": [
    "import tkinter\n",
    "\n",
    "window = tkinter.Tk()\n",
    "window.title(\"GUI\")\n",
    "window.geometry('300x400')\n",
    "\n",
    "def handle_keypress(event):\n",
    "    #exibe a tecla apertada\n",
    "    tkinter.Label(window, text = event.char).pack()\n",
    "    \n",
    "\n",
    "# Biding um evento do teclado com a função \"handle_keypresabss\"\n",
    "window.bind(\"<Key>\", handle_keypress)\n",
    "\n",
    "window.mainloop()"
   ]
  },
  {
   "cell_type": "markdown",
   "metadata": {},
   "source": [
    "## Caixas de alerta (Alert Boxes)"
   ]
  },
  {
   "cell_type": "markdown",
   "metadata": {},
   "source": [
    "A gente pode criar caixas de alerta no Tkinter usando o método `messagebox`. Também se pode criar perguntas usando o método `messasgebox`.\n",
    "<br>\n",
    "Aqui a gente criará uma caixa de alerta simples e também criará uma pergunta. Para gerar um alerta, você usará a função `messagebox`,  `showinfo`. Para criar uma pergunta, você usará o método `askquestion` e, com base na resposta à pergunta, produzirá um `Label` na GUI."
   ]
  },
  {
   "cell_type": "code",
   "execution_count": 15,
   "metadata": {},
   "outputs": [],
   "source": [
    "import tkinter\n",
    "import tkinter.messagebox\n",
    "\n",
    "# Vamos criar uma janela\n",
    "window = tkinter.Tk()\n",
    "window.title(\"GUI\")\n",
    "\n",
    "# Vamos criar uma caixa de alerta com a função 'messagebox'\n",
    "tkinter.messagebox.showinfo(\"Mensagem de Aviso\", \"Isso é só um aviso!\")\n",
    "\n",
    "# Vamos tbm criar uma pergunta para o usuario e dependendo da resposta [Sim ou Não] exixir uma mensagem.\n",
    "response = tkinter.messagebox.askquestion(\"A pergunta\", \"Você já ama o Python?\")\n",
    "\n",
    "# Uma bloco simple if/else onde se o usuario clicka no 'Sim', ele retorna 1 senão 0.\n",
    "# Para cada resposta vamos exibir uma mensagem com a ajuda do methodo 'Label'.\n",
    "if response == 'yes':\n",
    "    tkinter.Label(window, text = \"Sim, já me apaixonei por Python!\").pack()\n",
    "else:\n",
    "    tkinter.Label(window, text = \"Não, é terrivél!\").pack()\n",
    "\n",
    "window.mainloop()"
   ]
  },
  {
   "cell_type": "markdown",
   "metadata": {},
   "source": [
    "# Renderizando Imagens (Rendering Images)"
   ]
  },
  {
   "cell_type": "markdown",
   "metadata": {},
   "source": [
    "Se você conseguiu acompanhar até aqui, adicionar imagens e ícones à GUI deve ser fácil. Tudo que precisamos fazer é usar de duas classes do pacote `PIL`, chamadas `Image` e `ImageTk`. Usando `Image.open(blah.jpg)` pegamos a imagem e guardamos em uma variavel, depois usando `ImageTk.PhotoImage()` transformamos em um formatio adequado para o Tkinter. Finalmente podemos usar essa imagem em um `Label`"
   ]
  },
  {
   "cell_type": "markdown",
   "metadata": {},
   "source": [
    "Portanto, sem mais delongas, vamos escrever rapidamente um código para exibir uma imagem na GUI."
   ]
  },
  {
   "cell_type": "code",
   "execution_count": 3,
   "metadata": {},
   "outputs": [],
   "source": [
    "import tkinter\n",
    "\n",
    "#aqui estamos chamando duas classes do pacote PIL\n",
    "from PIL import Image, ImageTk\n",
    "\n",
    "# vamos criar uma janela\n",
    "window = tkinter.Tk()\n",
    "window.title(\"GUI\")\n",
    "\n",
    "'''A fim de exibir uma imagem em um GUI, vamos utilizar o metodo \"open()\" da classe \"Image\" do pacote \"PIL\". \n",
    "Ele vai pegar uma imagem de um diretorio (um caminho na memoria do computador (HD)) e salva-la em uma variavel.\n",
    "depois vamos usar \"ImageTk.PhotoImage\" para transformar a imagem em um formato adequado para Tkinter\n",
    "\n",
    "'''\n",
    "load = Image.open(\"1.jpg\")\n",
    "icon = ImageTk.PhotoImage(load)\n",
    "\n",
    "#finalmente para exibir a imagem vamos usar o metodo 'Label' e passar a variavel da imagem como um parametro\n",
    "label = tkinter.Label(window, image = icon)\n",
    "label.pack()\n",
    "\n",
    "window.mainloop()"
   ]
  },
  {
   "cell_type": "markdown",
   "metadata": {},
   "source": [
    "# App: Construindo um conversor de temperatura"
   ]
  },
  {
   "cell_type": "markdown",
   "metadata": {},
   "source": [
    "Nesta seção, vamos criar um aplicativo de conversor de temperatura que permite ao usuário inserir temperatura em graus Fahrenheit e pressionar um botão para converter essa temperatura em graus Celsius. A gente percorre o código passo a passo. Também pode encontrar o código completo no final desta seção para sua referência."
   ]
  },
  {
   "cell_type": "markdown",
   "metadata": {},
   "source": [
    "Antes de começar a programar, a gente tem de desenhar o aplicativo. Vamos precisar de três elementos:\n",
    "- Um widget de `Entry` chamado `ent_temperature` para inserir o valor de Fahrenheit\n",
    "- Um widget de `Label` chamado `lbl_result` para exibir o resultado em graus Celsius\n",
    "- Um widget de `Button` chamado `btn_convert` que lê o valor do widget `Entry`, converte-o de Fahrenheit para Celsius e define o texto do widget `Label` como resultado quando clicado. <br>\n",
    "\n",
    "A gente pode organizá-los em um `Grid` com uma única linha (`row = 1`) e uma coluna (`column = 1`) para cada widget. Isso gera um aplicativo que funciona minimamente, mas não é muito fácil de usar. Tudo precisa ter rótulos (`Label`). <br>\n",
    "A gente coloca um rótulo (`Label`) diretamente à direita do widget `ent_temperature` que contém o símbolo Fahrenheit (℉) para que o usuário saiba que o valor `ent_temperature` deve estar em graus Fahrenheit. Para fazer isso, defina o texto do rótulo (`Label`) como `\"\\N{DEGREE FAHRENHEIT}\"`, ou `\"\\u2109\"`, que usa o suporte das caracteres Unicode definido do Python para exibir o símbolo Fahrenheit.<br>\n",
    "Nos podemos dar um pouco de talento ao `btn_convertido`, definindo o texto com o valor `\"\\N{RIGHTWARDS BLACK ARROW}\"`, ou `\"\\u2191\"` que exibe uma seta preta apontando para a direita. Também vai garantir que `lbl_result` sempre tenha o símbolo Celsius (℃) após o texto do rótulo (`Label`) `\"\\N {DEGREE CELSIUS}\"`, ou `\"\\u2103\"`, para indicar que o resultado está em graus Celsius. Mais codigos para simbolos [Unicode Character Table](https://unicode-table.com/en/). <br>\n",
    "Veja como será a janela final:\n",
    "        ![coversor](conversor.webp)"
   ]
  },
  {
   "cell_type": "markdown",
   "metadata": {},
   "source": [
    "Agora que sabemos quais widgets precisamos e como será a janela, a gente pode começar a programar! Primeiro, importamos o tkinter e criamos uma nova janela:"
   ]
  },
  {
   "cell_type": "markdown",
   "metadata": {},
   "source": [
    "```python\n",
    "import tkinter as tk\n",
    "\n",
    "window = tk.Tk()\n",
    "window.title(\"Conversor de Temperatura\")\n",
    "window.mainloop()\n",
    "```"
   ]
  },
  {
   "cell_type": "markdown",
   "metadata": {},
   "source": [
    "`window.title()` define o título da janela. Quando a gente executa este aplicativo, na janela exibida o texto \"Conversor de Temperatura\" na barra de título. Em seguida, criamos o widget `ent_temperature` com um rótulo (`Label`) chamado `lbl_temp` e atribua ambos a um widget `Frame` chamado `frm_entry`:"
   ]
  },
  {
   "cell_type": "markdown",
   "metadata": {},
   "source": [
    "```python\n",
    "frm_entry = tk.Frame(master=window)\n",
    "ent_temperature = tk.Entry(master=frm_entry, width=10)\n",
    "lbl_temp = tk.Label(master=frm_entry, text=\"\\N{DEGREE FAHRENHEIT}\")\n",
    "```"
   ]
  },
  {
   "cell_type": "markdown",
   "metadata": {},
   "source": [
    "`ent_temperature` é onde o usuário digitará o valor de Fahrenheit. `lbl_temp` é usado para rotular `ent_temperature` com o símbolo Fahrenheit. `frm_entry` é um contêiner que agrupa `ent_temperature` e `lbl_temp` juntos.\n",
    "<br>\n",
    "A gente gostaria que o `lbl_temp` seja colocado diretamente à direita da `ent_temperature`. Você pode colocá-los no `frm_entry` usando o gerenciador de geometria `grid()` com uma linha (`row = 1`) e duas colunas (`column = 2`):"
   ]
  },
  {
   "cell_type": "markdown",
   "metadata": {},
   "source": [
    "```python\n",
    "ent_temperature.grid(row=0, column=0, sticky=\"e\")\n",
    "lbl_temp.grid(row=0, column=1, sticky=\"w\")\n",
    "```"
   ]
  },
  {
   "cell_type": "markdown",
   "metadata": {},
   "source": [
    "Nos definimos o parâmetro `sticky` como \"e\" para `ent_temperature`, para que ele sempre fique na extremidade mais à direita da célula da grade. Você também define `sticky` como \"w\" para `lbl_temp` para mantê-lo preso na extremidade esquerda de sua célula de grade. Isso garante que `lbl_temp` esteja sempre localizado imediatamente à direita da ent_temperature.\n",
    "<br>\n",
    "Agora, faça o `btn_convert` e o `lbl_result` para converter a temperatura inserida em ent_temperature e exibindo os resultados:"
   ]
  },
  {
   "cell_type": "markdown",
   "metadata": {},
   "source": [
    "```python\n",
    "btn_convert = tk.Button(\n",
    "    master=window,\n",
    "    text=\"\\N{RIGHTWARDS BLACK ARROW}\"\n",
    ")\n",
    "lbl_result = tk.Label(master=window, text=\"\\N{DEGREE CELSIUS}\")\n",
    "```"
   ]
  },
  {
   "cell_type": "markdown",
   "metadata": {},
   "source": [
    "Como `frm_entry`, `btn_convert` e `lbl_result` são atribuídos à janela. Juntos, esses três widgets compõem as três células na grade principal do aplicativo. Usamos `grid()` para prosseguir e colocá-los agora:"
   ]
  },
  {
   "cell_type": "markdown",
   "metadata": {},
   "source": [
    "```python\n",
    "frm_entry.grid(row=0, column=0, padx=10)\n",
    "btn_convert.grid(row=0, column=1, pady=10)\n",
    "lbl_result.grid(row=0, column=2, padx=10)\n",
    "```"
   ]
  },
  {
   "cell_type": "markdown",
   "metadata": {},
   "source": [
    "Por fim, podemos executar o aplicativo:"
   ]
  },
  {
   "cell_type": "markdown",
   "metadata": {},
   "source": [
    "```python\n",
    "window.mainloop()\n",
    "```"
   ]
  },
  {
   "cell_type": "markdown",
   "metadata": {},
   "source": [
    "Isso parece ótimo! Mas o botão ainda não faz nada. Na parte superior do codigo, logo abaixo da linha de importação, vamos adicionar uma função chamada `fahrenheit_to_celsius()`:"
   ]
  },
  {
   "cell_type": "markdown",
   "metadata": {},
   "source": [
    "```python\n",
    "def fahrenheit_to_celsius():\n",
    "    \"\"\"Converte o valor do Fahrenheit para Celsius e insere o resultado\n",
    "    no lbl_result.\n",
    "    \"\"\"\n",
    "    fahrenheit = ent_temperature.get()\n",
    "    celsius = (5/9) * (float(fahrenheit) - 32)\n",
    "    lbl_result[\"text\"] = f\"{round(celsius, 2)} \\N{DEGREE CELSIUS}\"\n",
    "```"
   ]
  },
  {
   "cell_type": "markdown",
   "metadata": {},
   "source": [
    "Essa função lê o valor de `ent_temperature`, converte-o de Fahrenheit em Celsius e, em seguida, exibe o resultado em `lbl_result`.\n",
    "<br>\n",
    "Agora desça até a linha em que você define `btn_convert` e defina seu parâmetro de comando como `fahrenheit_to_celsius`:"
   ]
  },
  {
   "cell_type": "markdown",
   "metadata": {},
   "source": [
    "```python\n",
    "btn_convert = tk.Button(\n",
    "    master=window,\n",
    "    text=\"\\N{RIGHTWARDS BLACK ARROW}\",\n",
    "    command=fahrenheit_to_celsius  # <--- Add this line\n",
    ")\n",
    "```"
   ]
  },
  {
   "cell_type": "markdown",
   "metadata": {},
   "source": [
    "É isso aí! A gente criou um aplicativo conversor de temperatura totalmente funcional em apenas 26 linhas de código! Muito legal, né? \n",
    "<br>\n",
    "Juntanto todos os peçados do codigo temos"
   ]
  },
  {
   "cell_type": "code",
   "execution_count": 44,
   "metadata": {},
   "outputs": [],
   "source": [
    "import tkinter as tk\n",
    "\n",
    "def fahrenheit_to_celsius():\n",
    "    \"\"\"Converte o valor do Fahrenheit para Celsius e insere o resultado\n",
    "    no lbl_result.\n",
    "    \"\"\"\n",
    "    fahrenheit = ent_temperature.get()\n",
    "    celsius = (5/9) * (float(fahrenheit) - 32)\n",
    "    lbl_result[\"text\"] = f\"{round(celsius, 2)} \\N{DEGREE CELSIUS}\"\n",
    "\n",
    "# criando uma janela\n",
    "window = tk.Tk()\n",
    "window.title(\"Temperature Converter\")\n",
    "window.resizable(width=False, height=False)\n",
    "\n",
    "# criando o frame de entrada do Fahrenheit com um widget de Entry\n",
    "frm_entry = tk.Frame(master=window)\n",
    "ent_temperature = tk.Entry(master=frm_entry, width=10)\n",
    "lbl_temp = tk.Label(master=frm_entry, text=\"\\N{DEGREE FAHRENHEIT}\")\n",
    "\n",
    "# Organizango o Entry de temmperatura e Label no frm_entry\n",
    "ent_temperature.grid(row=0, column=0, sticky=\"e\")\n",
    "lbl_temp.grid(row=0, column=1, sticky=\"w\")\n",
    "\n",
    "# criar o botão de conversão e o Label para exibir o resultado\n",
    "btn_convert = tk.Button(\n",
    "    master=window,\n",
    "    text = \"\\u2192\",\n",
    "    command=fahrenheit_to_celsius\n",
    ")\n",
    "lbl_result = tk.Label(master=window, text=\"\\N{DEGREE CELSIUS}\")\n",
    "\n",
    "# organizando a estrutura geral usando grid()\n",
    "frm_entry.grid(row=0, column=0, padx=10)\n",
    "btn_convert.grid(row=0, column=1, pady=10)\n",
    "lbl_result.grid(row=0, column=2, padx=10)\n",
    "\n",
    "# executar o aplicativo\n",
    "window.mainloop()"
   ]
  },
  {
   "cell_type": "markdown",
   "metadata": {},
   "source": [
    "# Calculo Diferencial e Integral"
   ]
  },
  {
   "cell_type": "markdown",
   "metadata": {},
   "source": [
    "O objetivo dessa seção é conhecer o pacote `sympy`. Esse pacote extente a funcionalidade do Python para calculo symbolico. No Python puro, as variaveis sempre tem que ter um valor numero, ou seja, não podemos ter uma variavel incógnita. Usando o `sympy` podemos resolver integrais e equações diferenciais analiticamente, entre outras coisas. Aqui vamos aprender como definir uma função symbolica, como calcular a integral e a derivada dela. <br>\n"
   ]
  },
  {
   "cell_type": "markdown",
   "metadata": {},
   "source": [
    "## Introdução"
   ]
  },
  {
   "cell_type": "markdown",
   "metadata": {},
   "source": [
    "O primeiro passo, depois de importar o sympy, é definir as variaveis simbolicas. Temos que ter cuidado para não associar valores numericos a essas variaveis posteriormente. Assim vão se tornar, novamente, uma variavel comum do Python. "
   ]
  },
  {
   "cell_type": "code",
   "execution_count": 81,
   "metadata": {},
   "outputs": [],
   "source": [
    "import sympy as sp\n",
    "sp.init_printing() #deixa o output mais bonito"
   ]
  },
  {
   "cell_type": "code",
   "execution_count": 11,
   "metadata": {},
   "outputs": [],
   "source": [
    "x, y, z, t = sp.symbols('x y z t')"
   ]
  },
  {
   "cell_type": "code",
   "execution_count": 83,
   "metadata": {},
   "outputs": [
    {
     "data": {
      "image/png": "[encoded data removed]",
      "text/latex": [
       "$\\displaystyle x$"
      ],
      "text/plain": [
       "x"
      ]
     },
     "execution_count": 83,
     "metadata": {},
     "output_type": "execute_result"
    }
   ],
   "source": [
    "x"
   ]
  },
  {
   "cell_type": "markdown",
   "metadata": {},
   "source": [
    "Agora podemos definir uma função"
   ]
  },
  {
   "cell_type": "code",
   "execution_count": 84,
   "metadata": {},
   "outputs": [],
   "source": [
    "f = x**2 + x + 1"
   ]
  },
  {
   "cell_type": "markdown",
   "metadata": {},
   "source": [
    "Para calcular a integral indefinida dessa função"
   ]
  },
  {
   "cell_type": "code",
   "execution_count": 85,
   "metadata": {},
   "outputs": [
    {
     "data": {
      "image/png": "[encoded data removed]",
      "text/latex": [
       "$\\displaystyle \\frac{x^{3}}{3} + \\frac{x^{2}}{2} + x$"
      ],
      "text/plain": [
       " 3    2    \n",
       "x    x     \n",
       "── + ── + x\n",
       "3    2     "
      ]
     },
     "execution_count": 85,
     "metadata": {},
     "output_type": "execute_result"
    }
   ],
   "source": [
    "sp.integrate(f,x)"
   ]
  },
  {
   "cell_type": "markdown",
   "metadata": {},
   "source": [
    "A integral definida é calculada na seguinte maneira"
   ]
  },
  {
   "cell_type": "code",
   "execution_count": 86,
   "metadata": {},
   "outputs": [
    {
     "data": {
      "image/png": "[encoded data removed]",
      "text/latex": [
       "$\\displaystyle \\pi + \\frac{\\pi^{2}}{2} + \\frac{\\pi^{3}}{3}$"
      ],
      "text/plain": [
       "     2    3\n",
       "    π    π \n",
       "π + ── + ──\n",
       "    2    3 "
      ]
     },
     "execution_count": 86,
     "metadata": {},
     "output_type": "execute_result"
    }
   ],
   "source": [
    "sp.integrate(f, (x,0,sp.pi))"
   ]
  },
  {
   "cell_type": "markdown",
   "metadata": {},
   "source": [
    "Para derivar essa função basta aplicar o operador de diferenciação"
   ]
  },
  {
   "cell_type": "code",
   "execution_count": 87,
   "metadata": {},
   "outputs": [
    {
     "data": {
      "image/png": "[encoded data removed]",
      "text/latex": [
       "$\\displaystyle 2 x + 1$"
      ],
      "text/plain": [
       "2⋅x + 1"
      ]
     },
     "execution_count": 87,
     "metadata": {},
     "output_type": "execute_result"
    }
   ],
   "source": [
    "f.diff(x)"
   ]
  },
  {
   "cell_type": "markdown",
   "metadata": {},
   "source": [
    "O `sympy` resolve um sistema de equações algebricas tambem. Vamos resolver o seguinte sistema\n",
    "$$\n",
    "\\begin{cases}\n",
    "x^2 - y -1 = 0 \\\\\n",
    "x+y = 0\n",
    "\\end{cases}\n",
    "$$"
   ]
  },
  {
   "cell_type": "code",
   "execution_count": 14,
   "metadata": {},
   "outputs": [
    {
     "data": {
      "text/plain": [
       "[(-1/2 + sqrt(5)/2, 1/2 - sqrt(5)/2), (-sqrt(5)/2 - 1/2, 1/2 + sqrt(5)/2)]"
      ]
     },
     "execution_count": 14,
     "metadata": {},
     "output_type": "execute_result"
    }
   ],
   "source": [
    "sp.solve([x**2 -y-1, y+x], [x,y])"
   ]
  },
  {
   "cell_type": "markdown",
   "metadata": {},
   "source": [
    "## Um programa para integrar e derivar"
   ]
  },
  {
   "cell_type": "markdown",
   "metadata": {},
   "source": [
    "Até agora a gente tinha de definir as variaves simbolicas para puder definir funções. Tem uma função interna do `sympy` que consegue transformar (não sempre!) uma equação no formato `string` em um equação simbolica."
   ]
  },
  {
   "cell_type": "code",
   "execution_count": 90,
   "metadata": {},
   "outputs": [],
   "source": [
    "eq = sp.sympify(\"sin(x)^2 + 3*cos(x)\")"
   ]
  },
  {
   "cell_type": "code",
   "execution_count": 91,
   "metadata": {},
   "outputs": [
    {
     "data": {
      "image/png": "[encoded data removed]",
      "text/latex": [
       "$\\displaystyle \\sin^{2}{\\left(x \\right)} + 3 \\cos{\\left(x \\right)}$"
      ],
      "text/plain": [
       "   2              \n",
       "sin (x) + 3⋅cos(x)"
      ]
     },
     "execution_count": 91,
     "metadata": {},
     "output_type": "execute_result"
    }
   ],
   "source": [
    "eq"
   ]
  },
  {
   "cell_type": "code",
   "execution_count": 92,
   "metadata": {},
   "outputs": [
    {
     "data": {
      "image/png": "[encoded data removed]",
      "text/latex": [
       "$\\displaystyle 2 \\sin{\\left(x \\right)} \\cos{\\left(x \\right)} - 3 \\sin{\\left(x \\right)}$"
      ],
      "text/plain": [
       "2⋅sin(x)⋅cos(x) - 3⋅sin(x)"
      ]
     },
     "execution_count": 92,
     "metadata": {},
     "output_type": "execute_result"
    }
   ],
   "source": [
    "eq.diff()"
   ]
  },
  {
   "cell_type": "markdown",
   "metadata": {},
   "source": [
    "Agora vamos escrever um programa com interface grafica que pede para o usuario inserir uma equação e depois calcular a integral dessa equação. O programa foi inspirado na resposta dada na questão [Displaying latex on a GUI with python](https://stackoverflow.com/questions/52211220/displaying-latex-on-a-gui-with-python)"
   ]
  },
  {
   "cell_type": "code",
   "execution_count": 10,
   "metadata": {
    "scrolled": true
   },
   "outputs": [],
   "source": [
    "import tkinter as tk\n",
    "import sympy as sp\n",
    "from io import BytesIO\n",
    "from PIL import Image, ImageTk\n",
    "\n",
    "\n",
    "\n",
    "def integrate():\n",
    "    global img # isso é importante para que o Python não elimine esse objeto via garbage collection.\n",
    "    x=sp.Symbol('x')\n",
    "    integral=sp.integrate(eq.get(),x)\n",
    "    var.set('Integration result='+ 'C\\u2081')\n",
    "    obj = BytesIO()\n",
    "    sp.preview(integral, viewer='BytesIO', output='png', outputbuffer=obj)\n",
    "    obj.seek(0)\n",
    "    img = ImageTk.PhotoImage(Image.open(obj))\n",
    "    img_lbl.configure(image=img)\n",
    "\n",
    "win=tk.Tk()   # defines window\n",
    "\n",
    "win2=tk.Frame(win)\n",
    "win2.grid(column=0, row=0)\n",
    "\n",
    "# Creates a static txt label\n",
    "eq_static=tk.Label(win2,text='Introduce the equation f(x)',font=(\"Times New Roman\", 14))\n",
    "eq_static.grid(column=0,row=0,padx=5,pady=5)\n",
    "\n",
    "eq=tk.StringVar(value='4*x')\n",
    "eq_Entered=tk.Entry(win2,width=40, textvariable=eq)\n",
    "eq_Entered.grid(column=1,row=0,padx=5,pady=5)\n",
    "# Creates a static txt label\n",
    "var=tk.StringVar()\n",
    "eq_static=tk.Label(win2,textvariable=var,font=(\"Times New Roman\", 14))\n",
    "var.set('Result')\n",
    "eq_static.grid(column=0,row=3,padx=5,pady=5)\n",
    "\n",
    "# Calculate button\n",
    "img = ''  # isso é importante para que o Python não elimine esse objeto via garbage collection.\n",
    "img_lbl = tk.Label(win2)\n",
    "img_lbl.grid()\n",
    "\n",
    "action=tk.Button(win2,text='Integrate',command=integrate)\n",
    "action.grid(column=2,row=0,padx=5,pady=5)\n",
    "win2.mainloop()"
   ]
  },
  {
   "cell_type": "markdown",
   "metadata": {},
   "source": [
    "**EXERCICIO:** Adiciona capacidade de derivar da função inserida."
   ]
  },
  {
   "cell_type": "markdown",
   "metadata": {},
   "source": [
    "# Loop `for`"
   ]
  },
  {
   "cell_type": "markdown",
   "metadata": {},
   "source": [
    "Para repetir um procedimento podemos usar `for`. Por exemplo, vamos printar os numeros entre 0 e 4 usando um loop `for`"
   ]
  },
  {
   "cell_type": "code",
   "execution_count": 8,
   "metadata": {},
   "outputs": [
    {
     "name": "stdout",
     "output_type": "stream",
     "text": [
      "0\n",
      "1\n",
      "2\n",
      "3\n",
      "4\n"
     ]
    }
   ],
   "source": [
    "for num in range(5):\n",
    "    print(num)"
   ]
  },
  {
   "cell_type": "markdown",
   "metadata": {},
   "source": [
    "Beleza! Mas o que é esse `range`?!  É uma função que gera uma sequencia de numeros, `range(primeiro, ultimo, passo)`. A `range` não mostra esses numeros para a gente, só serve para dentro de um `loop`. "
   ]
  },
  {
   "cell_type": "code",
   "execution_count": 9,
   "metadata": {},
   "outputs": [
    {
     "data": {
      "text/plain": [
       "range(1, 10, 2)"
      ]
     },
     "execution_count": 9,
     "metadata": {},
     "output_type": "execute_result"
    }
   ],
   "source": [
    "range(1,10,2)"
   ]
  },
  {
   "cell_type": "code",
   "execution_count": 10,
   "metadata": {},
   "outputs": [
    {
     "name": "stdout",
     "output_type": "stream",
     "text": [
      "1\n",
      "3\n",
      "5\n",
      "7\n",
      "9\n"
     ]
    }
   ],
   "source": [
    "for i in range(1,10,2):\n",
    "    print(i)"
   ]
  },
  {
   "cell_type": "markdown",
   "metadata": {},
   "source": [
    "Existe outra forma de gerar numero para fazer loop, criar uma lista (`list`). Uma lista é um conjunto de objetos (integer, string, ...). Para definir uma lista"
   ]
  },
  {
   "cell_type": "code",
   "execution_count": 11,
   "metadata": {},
   "outputs": [],
   "source": [
    "x = [2, 3, \"vahid\", 'FAT']"
   ]
  },
  {
   "cell_type": "code",
   "execution_count": 12,
   "metadata": {},
   "outputs": [
    {
     "name": "stdout",
     "output_type": "stream",
     "text": [
      "2\n",
      "3\n",
      "vahid\n",
      "FAT\n"
     ]
    }
   ],
   "source": [
    "for i in x:\n",
    "    print(i)"
   ]
  },
  {
   "cell_type": "markdown",
   "metadata": {},
   "source": [
    "Para acessar um elemento da lista usamos o indice do elemeto. "
   ]
  },
  {
   "cell_type": "code",
   "execution_count": 13,
   "metadata": {},
   "outputs": [
    {
     "name": "stdout",
     "output_type": "stream",
     "text": [
      "2\n"
     ]
    }
   ],
   "source": [
    "print(x[0])"
   ]
  },
  {
   "cell_type": "markdown",
   "metadata": {},
   "source": [
    "**Preste atenção que os indices começam do zero!**"
   ]
  },
  {
   "cell_type": "markdown",
   "metadata": {},
   "source": [
    "Para mudar um elemento da lista é só o substituir"
   ]
  },
  {
   "cell_type": "code",
   "execution_count": 14,
   "metadata": {},
   "outputs": [
    {
     "name": "stdout",
     "output_type": "stream",
     "text": [
      "['Python', 3, 'vahid', 'FAT']\n"
     ]
    }
   ],
   "source": [
    "x[0] = \"Python\"\n",
    "print(x)"
   ]
  },
  {
   "cell_type": "markdown",
   "metadata": {},
   "source": [
    "# Loop e condição: `while`"
   ]
  },
  {
   "cell_type": "markdown",
   "metadata": {},
   "source": [
    "`while` é a mistrua de `if` e um loop `for`, ou seja, verifica uma condição e estiver verdadeira faz uma operação e volta a verificar a condição. Então essa estrutura é um pouco perigosa! Porque se a condição não vire falsa o `while` vai continuar até o fim dos tempos! vamos ver um `while` perigoso:\n",
    "```python\n",
    "while 1<2:\n",
    "    print(\"Eu amo a minha mãe!\")\n",
    "```\n",
    "Esse loop vai printar \"Eu amo minha mãe\" eternamente! É uma excelente frase mas não executem esse codigo! kkkk <br>\n",
    "Agora um `while` bom é "
   ]
  },
  {
   "cell_type": "code",
   "execution_count": 4,
   "metadata": {
    "scrolled": false
   },
   "outputs": [
    {
     "name": "stdout",
     "output_type": "stream",
     "text": [
      "0\n",
      "1\n",
      "2\n",
      "3\n",
      "4\n"
     ]
    }
   ],
   "source": [
    "i = 0\n",
    "\n",
    "while i<5:\n",
    "    print(i)\n",
    "    i = i + 1 # i+=1"
   ]
  },
  {
   "cell_type": "markdown",
   "metadata": {},
   "source": [
    "# Numeros aleatorios (`random`)"
   ]
  },
  {
   "cell_type": "markdown",
   "metadata": {},
   "source": [
    "O python tem um modulo que gerar numeros aleatorios. Vamos gerar um numero inteiro aleatorio entre 0 e 10"
   ]
  },
  {
   "cell_type": "code",
   "execution_count": 17,
   "metadata": {},
   "outputs": [
    {
     "data": {
      "text/plain": [
       "10"
      ]
     },
     "execution_count": 17,
     "metadata": {},
     "output_type": "execute_result"
    }
   ],
   "source": [
    "random.randint(0,10)"
   ]
  },
  {
   "cell_type": "markdown",
   "metadata": {},
   "source": [
    "Agora vamos escolher aleatoriamente da lista `x` construido acima"
   ]
  },
  {
   "cell_type": "code",
   "execution_count": 18,
   "metadata": {},
   "outputs": [
    {
     "data": {
      "text/plain": [
       "3"
      ]
     },
     "execution_count": 18,
     "metadata": {},
     "output_type": "execute_result"
    }
   ],
   "source": [
    "random.choice(x)"
   ]
  },
  {
   "cell_type": "code",
   "execution_count": 19,
   "metadata": {
    "scrolled": true
   },
   "outputs": [
    {
     "data": {
      "text/plain": [
       "'Python'"
      ]
     },
     "execution_count": 19,
     "metadata": {},
     "output_type": "execute_result"
    }
   ],
   "source": [
    "random.choice(x)"
   ]
  },
  {
   "cell_type": "markdown",
   "metadata": {},
   "source": [
    "# Jogo: Advinhar um numero"
   ]
  },
  {
   "cell_type": "markdown",
   "metadata": {},
   "source": [
    "Só para distrair, vamos criar um jogo. O programa escolhe um numero aleatorio e a gente tem que advinhar qual é o numero. Nos teremos 3 chances para advinhar. Vamos ver se somos sortudos! kkkk"
   ]
  },
  {
   "cell_type": "markdown",
   "metadata": {},
   "source": [
    "O que a gente precisa? Uma interface grafica e um mecanismo para gerar u numero aleatorio e verificar se acertamos. Vamos pensar com mais calma sobre cada um dessas partes:\n",
    "- A interface grafica: a interface tem que ter um `Text` para a gente poder inserir o numero pensado. Um `Label` para mostrar se acertamos ou não. Outro `Label` para mostrar quantas vez tentamos. E finalmente um `Button` para a gente clicar depois de entrar o numero pensado.<br>\n",
    "- O mecanismo: Para gerar um numero inteiro aleatorio podemos usar do modulo `random` do Python. A gente terá 3 chances, então o programa tem que nos perguntar 3 vezes. Podemos usar um loop `for` para fazer isso. "
   ]
  },
  {
   "cell_type": "markdown",
   "metadata": {},
   "source": [
    "Aqui vamos implementar primeiro o jogo sem a interface grafica. Para montar a interface grafica, é melhor usar `while`."
   ]
  },
  {
   "cell_type": "code",
   "execution_count": 42,
   "metadata": {},
   "outputs": [
    {
     "name": "stdout",
     "output_type": "stream",
     "text": [
      "Oi! Qual é o seu nome?\n",
      "vahid\n",
      "Bem, vahid, eu estou pensando em um numero entre 1 e 20.\n",
      "Advinhe um numero: \n",
      "7\n",
      "Advinhe um numero: \n",
      "6\n",
      "Advinhe um numero: \n",
      "3\n",
      "Não. O numero que eu estava pensando era 13.\n"
     ]
    }
   ],
   "source": [
    "print('Oi! Qual é o seu nome?')\n",
    "myName = input()\n",
    "\n",
    "number = random.randint(1, 20)\n",
    "print(f'Bem, {myName}, eu estou pensando em um numero entre 1 e 20.')\n",
    "\n",
    "\n",
    "for vezes in range(3):\n",
    "    print(\"Advinhe um numero: \") # quatro espaços na frente da \"print\".\n",
    "    guess = input()\n",
    "    guess = int(guess)\n",
    "\n",
    "    if guess == number:\n",
    "        print(f'Show de bola, {myName}! Voce advinhou o meu numero em {vezes+1} tentativas!')\n",
    "        break\n",
    "\n",
    "if guess != number:\n",
    "\n",
    "    print(f'Não. O numero que eu estava pensando era {number}.')"
   ]
  },
  {
   "cell_type": "code",
   "execution_count": 32,
   "metadata": {},
   "outputs": [],
   "source": [
    "import tkinter as tk\n",
    "\n",
    "def verificar():\n",
    "    \n",
    "    for i in range(4):\n",
    "        if int(text.get())== num:\n",
    "            x.set(\"YOU WIN\")\n",
    "            break\n",
    "        \n",
    "    \n",
    "button.\n",
    "\n",
    "\n",
    "#vamos construir a interface grafica\n",
    "\n",
    "window = tk.Tk()\n",
    "window.title(\"Experiente a sua sorte!\")\n",
    "window.geometry(\"300x150\")\n",
    "\n",
    "# vamos precisar de uma variavel para registrar quantas vez ainda podemos escolher um numero e o resultado do sorteio\n",
    "\n",
    "x = tk.StringVar()\n",
    "x.set(\"voce ainda tem 3 chances\")\n",
    "\n",
    "y = tk.StringVar()\n",
    "y.set(\"\")\n",
    "\n",
    "#gerar um numero aleatorio\n",
    "\n",
    "num = random.randint(0,20)\n",
    "\n",
    "\n",
    "label1 = tk.Label(window, text = \"escolhe um numero entre 0 e 20\").pack()\n",
    "\n",
    "label2 = tk.Label(window, textvariable = x).pack()\n",
    "\n",
    "text = tk.Entry(window)\n",
    "\n",
    "button = tk.Button(window, text = \"verifique\", command = verificar).pack()\n",
    "\n",
    "label3 = tk.Label(window, textvariable = y).pack()\n",
    "\n",
    "window.mainloop()\n",
    "\n"
   ]
  },
  {
   "cell_type": "markdown",
   "metadata": {},
   "source": [
    "# Jogo: o reino do dragão!"
   ]
  },
  {
   "cell_type": "markdown",
   "metadata": {},
   "source": [
    "Nessa seção vamos programar um jogo bobo! kkkkk Mas esse jogo é bom para melhorar a nossa capacidade de programar. Este jogo foi adaptado do livro [Invert Your Own Computer Game](https://inventwithpython.com/)<br>\n",
    "Como é esse jogo? "
   ]
  },
  {
   "cell_type": "markdown",
   "metadata": {},
   "source": [
    ">Imagina que você está em uma terra cheia de dragões! Na sua frente,\n",
    "você vê duas cavernas. Em uma caverna, o dragão é amigável\n",
    "e compartilhará seu tesouro com você. O outro dragão\n",
    "é ganancioso e faminto, e o comerá à vista.<br>\n",
    "**Em qual caverna você entrará? (1 ou 2)**<br>\n",
    "1 <br>\n",
    "Você se aproxima da caverna ...<br>\n",
    "É escuro e assustador ...<br>\n",
    "Um dragão grande pula na sua frente! Ele abre as mandíbulas e ...<br>\n",
    "Devora você em uma mordida!<br>\n",
    "**Você quer jogar de novo? (sim ou não)**<br>\n",
    "não"
   ]
  },
  {
   "cell_type": "markdown",
   "metadata": {},
   "source": [
    "Antes de continuar vamos conhecer outra estrutura condicional do Python"
   ]
  },
  {
   "cell_type": "markdown",
   "metadata": {},
   "source": [
    "## O Jogo"
   ]
  },
  {
   "cell_type": "code",
   "execution_count": 3,
   "metadata": {},
   "outputs": [
    {
     "name": "stdout",
     "output_type": "stream",
     "text": [
      "Imagina que você está em uma terra cheia de dragões! \n",
      "    Na sua frente, você vê duas cavernas. Em uma caverna, o dragão é amigável e \n",
      "    compartilhará seu tesouro com você. O outro dragão é ganancioso e faminto, e o comerá à vista..\n",
      "\n",
      "Em qual caverna você entrará? (1 ou 2)\n",
      "2\n",
      "Você se aproxima da caverna ...\n",
      "É escuro e assustador ...\n",
      "Um dragão grande pula na sua frente! Ele abre as mandíbulas e ...\n",
      "\n",
      "Devora você em uma mordida!\n",
      "Você quer jogar de novo? (sim ou não)\n",
      "n\n"
     ]
    }
   ],
   "source": [
    "import random\n",
    "import time\n",
    "\n",
    "def displayIntro():\n",
    "    print('''Imagina que você está em uma terra cheia de dragões! \n",
    "    Na sua frente, você vê duas cavernas. Em uma caverna, o dragão é amigável e \n",
    "    compartilhará seu tesouro com você. O outro dragão é ganancioso e faminto, e o comerá à vista..''')\n",
    "    print()\n",
    "\n",
    "def chooseCave():\n",
    "    cave = ''\n",
    "    while cave != '1' and cave != '2':\n",
    "        print('Em qual caverna você entrará? (1 ou 2)')\n",
    "        cave = input()\n",
    "\n",
    "    return cave\n",
    "\n",
    "def checkCave(chosenCave):\n",
    "    print('Você se aproxima da caverna ...')\n",
    "    time.sleep(2)\n",
    "    print('É escuro e assustador ...')\n",
    "    time.sleep(2)\n",
    "    print('Um dragão grande pula na sua frente! Ele abre as mandíbulas e ...')\n",
    "    print()\n",
    "    time.sleep(2)\n",
    "\n",
    "    friendlyCave = random.randint(1, 2)\n",
    "\n",
    "    if chosenCave == str(friendlyCave):\n",
    "         print('Presentia voce com seu tesouro!')\n",
    "    else:\n",
    "         print('Devora você em uma mordida!')\n",
    "\n",
    "playAgain = 'sim'\n",
    "while playAgain == 'sim' or playAgain == 'sim':\n",
    "    displayIntro()\n",
    "    caveNumber = chooseCave()\n",
    "    checkCave(caveNumber)\n",
    "\n",
    "    print('Você quer jogar de novo? (sim ou não)')\n",
    "    playAgain = input()"
   ]
  },
  {
   "cell_type": "code",
   "execution_count": null,
   "metadata": {},
   "outputs": [],
   "source": [
    "import random\n",
    "import time\n",
    "\n",
    "def displayIntro():\n",
    "    print('''Imagina que você está em uma terra cheia de dragões! \n",
    "    Na sua frente, você vê duas cavernas. Em uma caverna, o dragão é amigável e \n",
    "    compartilhará seu tesouro com você. O outro dragão é ganancioso e faminto, e o comerá à vista..''')\n",
    "    print()\n",
    "\n",
    "def chooseCave():\n",
    "    cave = ''\n",
    "    while cave != '1' and cave != '2':\n",
    "        print('Em qual caverna você entrará? (1 ou 2)')\n",
    "        cave = input()\n",
    "\n",
    "    return cave\n",
    "\n",
    "def checkCave(chosenCave):\n",
    "    print('Você se aproxima da caverna ...')\n",
    "    time.sleep(2)\n",
    "    print('É escuro e assustador ...')\n",
    "    time.sleep(2)\n",
    "    print('Um dragão grande pula na sua frente! Ele abre as mandíbulas e ...')\n",
    "    print()\n",
    "    time.sleep(2)\n",
    "\n",
    "    friendlyCave = random.randint(1, 2)\n",
    "\n",
    "    if chosenCave == str(friendlyCave):\n",
    "         print('Presentia voce com seu tesouro!')\n",
    "    else:\n",
    "         print('Devora você em uma mordida!')\n",
    "\n",
    "playAgain = 'sim'\n",
    "while playAgain == 'sim' or playAgain == 'sim':\n",
    "    displayIntro()\n",
    "    caveNumber = chooseCave()\n",
    "    checkCave(caveNumber)\n",
    "\n",
    "    print('Você quer jogar de novo? (sim ou não)')\n",
    "    playAgain = input()"
   ]
  },
  {
   "cell_type": "markdown",
   "metadata": {},
   "source": [
    "# App: Phonebook"
   ]
  },
  {
   "cell_type": "markdown",
   "metadata": {},
   "source": [
    "Nesse seção vamos programar um phonebook. Um aplicativo simples para gravar e buscar os contatos telefonicos. Para fazer isso, o Python fornece uma estrutura de armazenar dados que se chama `Dictionary` (dicionario). Alem disso para salvar o phonebook na memoria do computador a gente precisa sobre a forma que vamos salvar esse banco de dados. Eu sugiro o formato `json` que recentemente está ficando muito popular. Vamos começar com um modelo bem simples e aos poucos melhoramos o nosso App.<br>\n"
   ]
  },
  {
   "cell_type": "markdown",
   "metadata": {},
   "source": [
    "## `Dictionary`"
   ]
  },
  {
   "cell_type": "markdown",
   "metadata": {},
   "source": [
    "Um dicionario é um formato mais completo em relação a lista (`List`). Cada elemento de um dicionario tem duas parte, uma chave (`key`) e um valor (`value`), ou seja\n",
    "\n",
    "```pythn\n",
    "d= {'sophia' : 5}\n",
    "```\n",
    "Neste exemplo, o termo `sophia` é a chave e `5` é o valor. Então cada elemento de um dicionario não tem indice como a lista, tem uma chave. Agora, para acessar um valor usamos a seguinte syntax:\n",
    "\n",
    "```python\n",
    "\n",
    "d['sophia']\n",
    "```"
   ]
  },
  {
   "cell_type": "code",
   "execution_count": 63,
   "metadata": {},
   "outputs": [],
   "source": [
    "d = {'sophia':5 , 'yasmin':0}"
   ]
  },
  {
   "cell_type": "markdown",
   "metadata": {},
   "source": [
    "Agora como podemos adiocionar um elemento novo nesse decionario? Tem duas formas"
   ]
  },
  {
   "cell_type": "code",
   "execution_count": 64,
   "metadata": {},
   "outputs": [],
   "source": [
    "d['heitor'] = 5"
   ]
  },
  {
   "cell_type": "code",
   "execution_count": 65,
   "metadata": {},
   "outputs": [
    {
     "data": {
      "text/plain": [
       "{'sophia': 5, 'yasmin': 0, 'heitor': 5}"
      ]
     },
     "execution_count": 65,
     "metadata": {},
     "output_type": "execute_result"
    }
   ],
   "source": [
    "d"
   ]
  },
  {
   "cell_type": "code",
   "execution_count": 66,
   "metadata": {},
   "outputs": [],
   "source": [
    "d.update({'yuri':7})"
   ]
  },
  {
   "cell_type": "code",
   "execution_count": 67,
   "metadata": {},
   "outputs": [
    {
     "data": {
      "text/plain": [
       "{'sophia': 5, 'yasmin': 0, 'heitor': 5, 'yuri': 7}"
      ]
     },
     "execution_count": 67,
     "metadata": {},
     "output_type": "execute_result"
    }
   ],
   "source": [
    "d"
   ]
  },
  {
   "cell_type": "markdown",
   "metadata": {},
   "source": [
    "Para eliminar um elemento desse dicionario faremos"
   ]
  },
  {
   "cell_type": "code",
   "execution_count": 68,
   "metadata": {},
   "outputs": [],
   "source": [
    "del d['yuri']"
   ]
  },
  {
   "cell_type": "code",
   "execution_count": 69,
   "metadata": {},
   "outputs": [
    {
     "data": {
      "text/plain": [
       "{'sophia': 5, 'yasmin': 0, 'heitor': 5}"
      ]
     },
     "execution_count": 69,
     "metadata": {},
     "output_type": "execute_result"
    }
   ],
   "source": [
    "d"
   ]
  },
  {
   "cell_type": "markdown",
   "metadata": {},
   "source": [
    "## `JSON`"
   ]
  },
  {
   "cell_type": "markdown",
   "metadata": {},
   "source": [
    "Não é de surpreender que a **J**ava**S**cript **O**bject **N**otation tenha sido inspirada em um subconjunto da linguagem de programação JavaScript que lida com a sintaxe literal do objeto. Eles têm um site bacana que explica tudo. No entanto, não se preocupe: o JSON há muito se tornou independente da linguagem e existe como seu próprio padrão, para podermos evitar o JavaScript com prazer nesta discussão.\n",
    "\n",
    "Por fim, a comunidade em geral adotou o JSON porque é fácil para humanos e máquinas criar e entender. O formato de `json` é muito parecido com dicionario. Para mexer com esse formato dentro de Python tem um pacote no mesmo nome, `json`.\n",
    "\n",
    "```json\n",
    "{\n",
    "    \"firstName\": \"Jane\",\n",
    "    \"lastName\": \"Doe\",\n",
    "    \"hobbies\": [\"running\", \"sky diving\", \"singing\"],\n",
    "    \"age\": 35,\n",
    "    \"children\": [\n",
    "        {\n",
    "            \"firstName\": \"Alice\",\n",
    "            \"age\": 6\n",
    "        },\n",
    "        {\n",
    "            \"firstName\": \"Bob\",\n",
    "            \"age\": 8\n",
    "        }\n",
    "    ]\n",
    "}\n",
    "```"
   ]
  },
  {
   "cell_type": "markdown",
   "metadata": {},
   "source": [
    "Vamos criar um arquivo de `json`, é facil. Na verdade a gente tenta para abrir um arquivo de `json` para modificar e se esse arquivo não existir o Python vai criar um vazio. "
   ]
  },
  {
   "cell_type": "code",
   "execution_count": 77,
   "metadata": {},
   "outputs": [],
   "source": [
    "import json\n",
    "\n",
    "d = {'sophia':5 , 'yasmin':0, 'heitor': 5}\n",
    "\n",
    "file = open('test.json', 'w+')\n",
    "json.dump(d, file)\n",
    "file.close()"
   ]
  },
  {
   "cell_type": "markdown",
   "metadata": {},
   "source": [
    "Vamos ver o que aconteceu com calma:\n",
    "- `import json`: chama o pacote `json` para a gente puder mexer nos arquivos no formato de `json`\n",
    "- `file = open('test.json', 'w+')`: abre o arquivo \"test.json\", o arqumento `w+` significa que o Python vai abrir para modificar (write) e se não existir um arquivo com esse nome vai criar um. Outras possibilidades são `w` (so para abrir sem criação) e `r` só para ler (read) sem puder modificar. \n",
    "- `json.dump(d, file)`: aqui a gente insere o dicionario `d` dentro do arquivo de `json` já aberto. \n",
    "- `file.close()`: fechamos o arquivo e desocupamos a memoria. <br>\n",
    "\n",
    "\n",
    "agora como podemos ler o conteudo deste arquivo?"
   ]
  },
  {
   "cell_type": "code",
   "execution_count": 78,
   "metadata": {},
   "outputs": [
    {
     "name": "stdout",
     "output_type": "stream",
     "text": [
      "{'sophia': 5, 'yasmin': 0, 'heitor': 5}\n"
     ]
    }
   ],
   "source": [
    "file = open('test.json', 'r')\n",
    "d_new = json.load(file)\n",
    "print(d_new)"
   ]
  },
  {
   "cell_type": "markdown",
   "metadata": {},
   "source": [
    "Para facilitar a vida e não se preocupar com a memoria podemos reescrever o codigo acima na seguinte forma"
   ]
  },
  {
   "cell_type": "code",
   "execution_count": 79,
   "metadata": {},
   "outputs": [
    {
     "name": "stdout",
     "output_type": "stream",
     "text": [
      "{'sophia': 5, 'yasmin': 0, 'heitor': 5}\n"
     ]
    }
   ],
   "source": [
    "with open('test.json', 'r') as file:\n",
    "    d_new = json.load(file)\n",
    "    \n",
    "\n",
    "print(d_new)"
   ]
  },
  {
   "cell_type": "markdown",
   "metadata": {},
   "source": [
    "## O phonebook"
   ]
  },
  {
   "cell_type": "markdown",
   "metadata": {},
   "source": [
    "O nosso phonebook tem umas funções, uma par buscar no banco de dados (`buscar`) e outra para inserir um contato no banco de dados (`inserir`). "
   ]
  },
  {
   "cell_type": "code",
   "execution_count": 80,
   "metadata": {},
   "outputs": [
    {
     "name": "stdout",
     "output_type": "stream",
     "text": [
      "para buscar digite 'b', para inserir 'i' e para sair 's'  s\n"
     ]
    }
   ],
   "source": [
    "import json\n",
    "\n",
    "\n",
    "def buscar():\n",
    "    name = input('insere o nome desejado: ')\n",
    "    with open(\"phone.json\", \"r\") as file:\n",
    "        dic = json.load(file)\n",
    "        if name.lower() in dic:\n",
    "            print(dic[name.lower()])\n",
    "        else:\n",
    "            print('não existe esse numero ')\n",
    "    \n",
    "    \n",
    "def inserir():\n",
    "    name = input('insere o nome ')\n",
    "    numero = input( 'insere o numero ')\n",
    "    data = {name.lower():int(numero)}\n",
    "    file = json.load(open('phone.json'))\n",
    "    file.update(data)\n",
    "    with open(\"phone.json\", \"w+\") as write_file:\n",
    "        json.dump(file, write_file)\n",
    "\n",
    "\n",
    "while True:\n",
    "    action = input(\"para buscar digite 'b', para inserir 'i' e para sair 's'  \")\n",
    "        \n",
    "    if action =='b':\n",
    "        buscar()\n",
    "    elif action == 'i':\n",
    "        inserir()\n",
    "    elif action == 's':\n",
    "        break\n",
    "    else:\n",
    "        print(\"não entendi\")\n",
    "\n"
   ]
  },
  {
   "cell_type": "markdown",
   "metadata": {},
   "source": [
    "Agora vamos construir uma interface grafica para esse phonebook"
   ]
  },
  {
   "cell_type": "code",
   "execution_count": null,
   "metadata": {},
   "outputs": [],
   "source": []
  },
  {
   "cell_type": "markdown",
   "metadata": {},
   "source": [
    "# Criando uma calculadora com o Tkinter"
   ]
  },
  {
   "cell_type": "markdown",
   "metadata": {},
   "source": [
    "Todos os aplicativos com GUI tem duas etapas.\n",
    "- Criando uma interface de usuário\n",
    "- Adicionando funcionalidades à essa interface (GUI)\n"
   ]
  },
  {
   "cell_type": "markdown",
   "metadata": {},
   "source": [
    "Vamos começar a criar a calculadora. A maior parte do código é auto-explicativa e algumas linhas de código são comentadas com explicações. Mas, no momento, ainda tem alguns detalhes que a gente não estudou aqui e vamos aprender ao longo do curso! "
   ]
  },
  {
   "cell_type": "code",
   "execution_count": 18,
   "metadata": {},
   "outputs": [],
   "source": [
    "from tkinter import *\n",
    "\n",
    "# Let's create the Tkinter window\n",
    "window = Tk()\n",
    "\n",
    "# Then, you will define the size of the window in width(312) and height(324) using the 'geometry' method\n",
    "window.geometry(\"412x324\")\n",
    "\n",
    "# In order to prevent the window from getting resized you will call 'resizable' method on the window\n",
    "window.resizable(0, 0)\n",
    "\n",
    "#Finally, define the title of the window\n",
    "window.title(\"Calcualtor\")\n",
    "\n",
    "\n",
    "# Let's now define the required functions for the Calculator to function properly.\n",
    "\n",
    "# 1. First is the button click 'btn_click' function which will continuously update the input field whenever a number is entered or any button is pressed it will act as a button click update.\n",
    "def btn_click(item):\n",
    "    global expression\n",
    "    expression = expression + str(item)\n",
    "    input_text.set(expression)\n",
    "\n",
    "# 2. Second is the button clear 'btn_clear' function clears the input field or previous calculations using the button \"C\"\n",
    "def btn_clear():\n",
    "    global expression\n",
    "    expression = \"\"\n",
    "    input_text.set(\"\")\n",
    "\n",
    "# 3. Third and the final function is button equal (\"=\") 'btn_equal' function which will calculate the expression present in input field. For example: User clicks button 2, + and 3 then clicks \"=\" will result in an output 5.\n",
    "def btn_equal():\n",
    "    global expression\n",
    "    result = str(eval(expression)) # 'eval' function is used for evaluating the string expressions directly\n",
    "    # you can also implement your own function to evalute the expression istead of 'eval' function\n",
    "    input_text.set(result)\n",
    "    expression = \"\"\n",
    "\n",
    "expression = \"\"\n",
    "# In order to get the instance of the input field 'StringVar()' is used\n",
    "input_text = StringVar()\n",
    "\n",
    "# Once all the functions are defined then comes the main section where you will start defining the structure of the calculator inside the GUI.\n",
    "\n",
    "# The first thing is to create a frame for the input field\n",
    "input_frame = Frame(window, width = 312, height = 50, bd = 0, highlightbackground = \"black\", highlightcolor = \"black\", highlightthickness = 1)\n",
    "input_frame.pack(side = TOP)\n",
    "\n",
    "\n",
    "# Then you will create an input field inside the 'Frame' that was created in the previous step. Here the digits or the output will be displayed as 'right' aligned\n",
    "input_field = Entry(input_frame, font = ('arial', 18, 'bold'), textvariable = input_text, width = 50, bg = \"#eee\", bd = 0, justify = RIGHT)\n",
    "input_field.grid(row = 0, column = 0)\n",
    "input_field.pack(ipady = 10) # 'ipady' is an internal padding to increase the height of input field\n",
    "\n",
    "\n",
    "# Once you have the input field defined then you need a separate frame which will incorporate all the buttons inside it below the 'input field'\n",
    "btns_frame = Frame(window, width = 312, height = 272.5, bg = \"grey\")\n",
    "btns_frame.pack()\n",
    "\n",
    "\n",
    "# The first row will comprise of the buttons 'Clear (C)' and 'Divide (/)'\n",
    "clear = Button(btns_frame, text = \"C\", fg = \"black\", width = 32, height = 3, bd = 0, bg = \"#eee\", cursor = \"hand2\", command = lambda: btn_clear()).grid(row = 0, column = 0, columnspan = 3, padx = 1, pady = 1)\n",
    "divide = Button(btns_frame, text = \"/\", fg = \"black\", width = 10, height = 3, bd = 0, bg = \"#eee\", cursor = \"hand2\", command = lambda: btn_click(\"/\")).grid(row = 0, column = 3, padx = 1, pady = 1)\n",
    "\n",
    "\n",
    "# The second row will comprise of the buttons '7', '8', '9' and 'Multiply (*)'\n",
    "seven = Button(btns_frame, text = \"7\", fg = \"black\", width = 10, height = 3, bd = 0, bg = \"#fff\", cursor = \"hand2\", command = lambda: btn_click(7)).grid(row = 1, column = 0, padx = 1, pady = 1)\n",
    "eight = Button(btns_frame, text = \"8\", fg = \"black\", width = 10, height = 3, bd = 0, bg = \"#fff\", cursor = \"hand2\", command = lambda: btn_click(8)).grid(row = 1, column = 1, padx = 1, pady = 1)\n",
    "nine = Button(btns_frame, text = \"9\", fg = \"black\", width = 10, height = 3, bd = 0, bg = \"#fff\", cursor = \"hand2\", command = lambda: btn_click(9)).grid(row = 1, column = 2, padx = 1, pady = 1)\n",
    "multiply = Button(btns_frame, text = \"*\", fg = \"black\", width = 10, height = 3, bd = 0, bg = \"#eee\", cursor = \"hand2\", command = lambda: btn_click(\"*\")).grid(row = 1, column = 3, padx = 1, pady = 1)\n",
    "\n",
    "\n",
    "# The third row will comprise of the buttons '4', '5', '6' and 'Subtract (-)'\n",
    "four = Button(btns_frame, text = \"4\", fg = \"black\", width = 10, height = 3, bd = 0, bg = \"#fff\", cursor = \"hand2\", command = lambda: btn_click(4)).grid(row = 2, column = 0, padx = 1, pady = 1)\n",
    "five = Button(btns_frame, text = \"5\", fg = \"black\", width = 10, height = 3, bd = 0, bg = \"#fff\", cursor = \"hand2\", command = lambda: btn_click(5)).grid(row = 2, column = 1, padx = 1, pady = 1)\n",
    "six = Button(btns_frame, text = \"6\", fg = \"black\", width = 10, height = 3, bd = 0, bg = \"#fff\", cursor = \"hand2\", command = lambda: btn_click(6)).grid(row = 2, column = 2, padx = 1, pady = 1)\n",
    "minus = Button(btns_frame, text = \"-\", fg = \"black\", width = 10, height = 3, bd = 0, bg = \"#eee\", cursor = \"hand2\", command = lambda: btn_click(\"-\")).grid(row = 2, column = 3, padx = 1, pady = 1)\n",
    "\n",
    "\n",
    "# The fourth row will comprise of the buttons '1', '2', '3' and 'Addition (+)'\n",
    "one = Button(btns_frame, text = \"1\", fg = \"black\", width = 10, height = 3, bd = 0, bg = \"#fff\", cursor = \"hand2\", command = lambda: btn_click(1)).grid(row = 3, column = 0, padx = 1, pady = 1)\n",
    "two = Button(btns_frame, text = \"2\", fg = \"black\", width = 10, height = 3, bd = 0, bg = \"#fff\", cursor = \"hand2\", command = lambda: btn_click(2)).grid(row = 3, column = 1, padx = 1, pady = 1)\n",
    "three = Button(btns_frame, text = \"3\", fg = \"black\", width = 10, height = 3, bd = 0, bg = \"#fff\", cursor = \"hand2\", command = lambda: btn_click(3)).grid(row = 3, column = 2, padx = 1, pady = 1)\n",
    "plus = Button(btns_frame, text = \"+\", fg = \"black\", width = 10, height = 3, bd = 0, bg = \"#eee\", cursor = \"hand2\", command = lambda: btn_click(\"+\")).grid(row = 3, column = 3, padx = 1, pady = 1)\n",
    "\n",
    "\n",
    "# Finally, the fifth row will comprise of the buttons '0', 'Decimal (.)', and 'Equal To (=)'\n",
    "zero = Button(btns_frame, text = \"0\", fg = \"black\", width = 21, height = 3, bd = 0, bg = \"#fff\", cursor = \"hand2\", command = lambda: btn_click(0)).grid(row = 4, column = 0, columnspan = 2, padx = 1, pady = 1)\n",
    "point = Button(btns_frame, text = \".\", fg = \"black\", width = 10, height = 3, bd = 0, bg = \"#eee\", cursor = \"hand2\", command = lambda: btn_click(\".\")).grid(row = 4, column = 2, padx = 1, pady = 1)\n",
    "equals = Button(btns_frame, text = \"=\", fg = \"black\", width = 10, height = 3, bd = 0, bg = \"#eee\", cursor = \"hand2\", command = lambda: btn_equal()).grid(row = 4, column = 3, padx = 1, pady = 1)\n",
    "\n",
    "\n",
    "window.mainloop()"
   ]
  },
  {
   "cell_type": "markdown",
   "metadata": {},
   "source": [
    "Na preparação deste tutorial foi usado das paginas [Introduction to GUI With Tkinter in Python](https://www.datacamp.com/community/tutorials/gui-tkinter-python) e [Python GUI Programming With Tkinter](https://realpython.com/python-gui-tkinter/)"
   ]
  },
  {
   "cell_type": "code",
   "execution_count": null,
   "metadata": {},
   "outputs": [],
   "source": []
  }
 ],
 "metadata": {
  "kernelspec": {
   "display_name": "Python 3",
   "language": "python",
   "name": "python3"
  },
  "language_info": {
   "codemirror_mode": {
    "name": "ipython",
    "version": 3
   },
   "file_extension": ".py",
   "mimetype": "text/x-python",
   "name": "python",
   "nbconvert_exporter": "python",
   "pygments_lexer": "ipython3",
   "version": "3.7.7"
  },
  "toc": {
   "base_numbering": 1,
   "nav_menu": {},
   "number_sections": true,
   "sideBar": true,
   "skip_h1_title": false,
   "title_cell": "Table of Contents",
   "title_sidebar": "Contents",
   "toc_cell": false,
   "toc_position": {},
   "toc_section_display": true,
   "toc_window_display": false
  },
  "varInspector": {
   "cols": {
    "lenName": 16,
    "lenType": 16,
    "lenVar": 40
   },
   "kernels_config": {
    "python": {
     "delete_cmd_postfix": "",
     "delete_cmd_prefix": "del ",
     "library": "var_list.py",
     "varRefreshCmd": "print(var_dic_list())"
    },
    "r": {
     "delete_cmd_postfix": ") ",
     "delete_cmd_prefix": "rm(",
     "library": "var_list.r",
     "varRefreshCmd": "cat(var_dic_list()) "
    }
   },
   "types_to_exclude": [
    "module",
    "function",
    "builtin_function_or_method",
    "instance",
    "_Feature"
   ],
   "window_display": false
  }
 },
 "nbformat": 4,
 "nbformat_minor": 2
}
