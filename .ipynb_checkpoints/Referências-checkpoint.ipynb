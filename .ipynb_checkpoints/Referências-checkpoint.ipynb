{
 "cells": [
  {
   "cell_type": "markdown",
   "metadata": {},
   "source": [
    "- [Introduction to GUI With Tkinter in Python](https://www.datacamp.com/community/tutorials/gui-tkinter-python)\n",
    "- [Python GUI Programming With Tkinter](https://realpython.com/python-gui-tkinter/)\n",
    "- [File and Directory Operations Using Python](https://code.tutsplus.com/tutorials/file-and-directory-operations-using-python--cms-25817)\n",
    "- [Python | Arrange the files in directories according to extensions](https://www.geeksforgeeks.org/python-arrange-the-files-in-directories-according-to-extensions/?ref=rp)\n",
    "- [Automate the Boring Stuff with Python](https://automatetheboringstuff.com/)\n",
    "- [Numerical Python](https://www.apress.com/gp/book/9781484242452)\n",
    "- [Solve it with PYTHON!](https://www.amazon.com/Solve-PYTHON-programming-engineering-challenges/dp/1689604107)"
   ]
  },
  {
   "cell_type": "code",
   "execution_count": null,
   "metadata": {},
   "outputs": [],
   "source": []
  }
 ],
 "metadata": {
  "kernelspec": {
   "display_name": "Python 3",
   "language": "python",
   "name": "python3"
  },
  "language_info": {
   "codemirror_mode": {
    "name": "ipython",
    "version": 3
   },
   "file_extension": ".py",
   "mimetype": "text/x-python",
   "name": "python",
   "nbconvert_exporter": "python",
   "pygments_lexer": "ipython3",
   "version": "3.7.6"
  },
  "toc": {
   "base_numbering": 1,
   "nav_menu": {},
   "number_sections": true,
   "sideBar": true,
   "skip_h1_title": false,
   "title_cell": "Table of Contents",
   "title_sidebar": "Contents",
   "toc_cell": false,
   "toc_position": {},
   "toc_section_display": true,
   "toc_window_display": false
  },
  "varInspector": {
   "cols": {
    "lenName": 16,
    "lenType": 16,
    "lenVar": 40
   },
   "kernels_config": {
    "python": {
     "delete_cmd_postfix": "",
     "delete_cmd_prefix": "del ",
     "library": "var_list.py",
     "varRefreshCmd": "print(var_dic_list())"
    },
    "r": {
     "delete_cmd_postfix": ") ",
     "delete_cmd_prefix": "rm(",
     "library": "var_list.r",
     "varRefreshCmd": "cat(var_dic_list()) "
    }
   },
   "types_to_exclude": [
    "module",
    "function",
    "builtin_function_or_method",
    "instance",
    "_Feature"
   ],
   "window_display": false
  }
 },
 "nbformat": 4,
 "nbformat_minor": 4
}
