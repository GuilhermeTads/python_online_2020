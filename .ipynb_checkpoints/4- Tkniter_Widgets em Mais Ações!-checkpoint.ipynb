{
 "cells": [
  {
   "cell_type": "markdown",
   "metadata": {},
   "source": [
    "# Opcional - Tkniter: Widgets em mais ações! "
   ]
  },
  {
   "cell_type": "markdown",
   "metadata": {},
   "source": [
    "Vamos agora olhar para algumas formas interessantes para responder ao usuario viade chamar funções de ligação (binding) com um clique do mouse, os eventos podem ser chamados com um movimento do mouse, mouse sobre, clique, rolagem, etc (trigger). "
   ]
  },
  {
   "cell_type": "markdown",
   "metadata": {},
   "source": [
    "## Evento de clique do mouse via o método Bind"
   ]
  },
  {
   "cell_type": "markdown",
   "metadata": {},
   "source": [
    "O método `Bind` fornece uma abordagem muito simplista para implementar os eventos de clique do mouse. Vejamos as três funções predefinidas que podem ser usadas imediatamente com o método `Bind`.<br>\n",
    "Os eventos de clique são de três tipos: Clique esquerdo (`left click`), Clique do meio (`middle click`) e Clique direito (`right click`).<br>\n",
    "- O parâmetro `<Button-1>` do método de ligação (Binding) é o evento do botão esquerdo, ou seja, quando você clica no botão esquerdo, o método de ligação chama a função especificada como um segundo parâmetro para ele.\n",
    "- `<Button-2>` para clique do meio\n",
    "- `<Button-3>` para clique direito\n"
   ]
  },
  {
   "cell_type": "markdown",
   "metadata": {},
   "source": [
    "Agora, vamos ver como chamar uma função específica com base no evento que ocorre.\n",
    "- Execute o programa abaixo e clique nos botões esquerdo, central e direito para chamar uma função específica.\n",
    "- Essa função criará um novo rótulo com o texto especificado."
   ]
  },
  {
   "cell_type": "code",
   "execution_count": 16,
   "metadata": {},
   "outputs": [],
   "source": [
    "import tkinter\n",
    "# Vamos criar uma janela\n",
    "window = tkinter.Tk()\n",
    "window.title(\"GUI\")\n",
    "\n",
    "#Vamos criar tres funções diferentes para tres eventos diferentes\n",
    "def left_click(event):\n",
    "    tkinter.Label(window, text = \"Left Click!\").pack()\n",
    "\n",
    "def middle_click(event):\n",
    "    tkinter.Label(window, text = \"Middle Click!\").pack()\n",
    "\n",
    "def right_click(event):\n",
    "    tkinter.Label(window, text = \"Right Click!\").pack()\n",
    "\n",
    "window.bind(\"<Button-1>\", left_click)\n",
    "window.bind(\"<Button-2>\", middle_click)\n",
    "window.bind(\"<Button-3>\", right_click)\n",
    "\n",
    "window.mainloop()"
   ]
  },
  {
   "cell_type": "markdown",
   "metadata": {},
   "source": [
    "## Evento de teclado via o método Bind"
   ]
  },
  {
   "cell_type": "markdown",
   "metadata": {},
   "source": [
    "Podemos modificar o programa acima para registrar qual tecla no teclado foi apretado"
   ]
  },
  {
   "cell_type": "code",
   "execution_count": 29,
   "metadata": {},
   "outputs": [],
   "source": [
    "import tkinter\n",
    "\n",
    "window = tkinter.Tk()\n",
    "window.title(\"GUI\")\n",
    "window.geometry('300x400')\n",
    "\n",
    "def handle_keypress(event):\n",
    "    #exibe a tecla apertada\n",
    "    tkinter.Label(window, text = event.char).pack()\n",
    "    \n",
    "\n",
    "# Biding um evento do teclado com a função \"handle_keypresabss\"\n",
    "window.bind(\"<Key>\", handle_keypress)\n",
    "\n",
    "window.mainloop()"
   ]
  },
  {
   "cell_type": "markdown",
   "metadata": {},
   "source": [
    "## Caixas de alerta (Alert Boxes)"
   ]
  },
  {
   "cell_type": "markdown",
   "metadata": {},
   "source": [
    "A gente pode criar caixas de alerta no Tkinter usando o método `messagebox`. Também se pode criar perguntas usando o método `messasgebox`.\n",
    "<br>\n",
    "Aqui a gente criará uma caixa de alerta simples e também criará uma pergunta. Para gerar um alerta, você usará a função `messagebox`,  `showinfo`. Para criar uma pergunta, você usará o método `askquestion` e, com base na resposta à pergunta, produzirá um `Label` na GUI."
   ]
  },
  {
   "cell_type": "code",
   "execution_count": 15,
   "metadata": {},
   "outputs": [],
   "source": [
    "import tkinter\n",
    "import tkinter.messagebox\n",
    "\n",
    "# Vamos criar uma janela\n",
    "window = tkinter.Tk()\n",
    "window.title(\"GUI\")\n",
    "\n",
    "# Vamos criar uma caixa de alerta com a função 'messagebox'\n",
    "tkinter.messagebox.showinfo(\"Mensagem de Aviso\", \"Isso é só um aviso!\")\n",
    "\n",
    "# Vamos tbm criar uma pergunta para o usuario e dependendo da resposta [Sim ou Não] exixir uma mensagem.\n",
    "response = tkinter.messagebox.askquestion(\"A pergunta\", \"Você já ama o Python?\")\n",
    "\n",
    "# Uma bloco simple if/else onde se o usuario clicka no 'Sim', ele retorna 1 senão 0.\n",
    "# Para cada resposta vamos exibir uma mensagem com a ajuda do methodo 'Label'.\n",
    "if response == 'yes':\n",
    "    tkinter.Label(window, text = \"Sim, já me apaixonei por Python!\").pack()\n",
    "else:\n",
    "    tkinter.Label(window, text = \"Não, é terrivél!\").pack()\n",
    "\n",
    "window.mainloop()"
   ]
  },
  {
   "cell_type": "code",
   "execution_count": null,
   "metadata": {},
   "outputs": [],
   "source": []
  }
 ],
 "metadata": {
  "kernelspec": {
   "display_name": "Python 3",
   "language": "python",
   "name": "python3"
  },
  "language_info": {
   "codemirror_mode": {
    "name": "ipython",
    "version": 3
   },
   "file_extension": ".py",
   "mimetype": "text/x-python",
   "name": "python",
   "nbconvert_exporter": "python",
   "pygments_lexer": "ipython3",
   "version": "3.7.6"
  },
  "toc": {
   "base_numbering": 1,
   "nav_menu": {},
   "number_sections": true,
   "sideBar": true,
   "skip_h1_title": false,
   "title_cell": "Table of Contents",
   "title_sidebar": "Contents",
   "toc_cell": false,
   "toc_position": {},
   "toc_section_display": true,
   "toc_window_display": false
  },
  "varInspector": {
   "cols": {
    "lenName": 16,
    "lenType": 16,
    "lenVar": 40
   },
   "kernels_config": {
    "python": {
     "delete_cmd_postfix": "",
     "delete_cmd_prefix": "del ",
     "library": "var_list.py",
     "varRefreshCmd": "print(var_dic_list())"
    },
    "r": {
     "delete_cmd_postfix": ") ",
     "delete_cmd_prefix": "rm(",
     "library": "var_list.r",
     "varRefreshCmd": "cat(var_dic_list()) "
    }
   },
   "types_to_exclude": [
    "module",
    "function",
    "builtin_function_or_method",
    "instance",
    "_Feature"
   ],
   "window_display": false
  }
 },
 "nbformat": 4,
 "nbformat_minor": 4
}
