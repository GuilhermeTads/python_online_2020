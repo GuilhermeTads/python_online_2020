{
 "cells": [
  {
   "cell_type": "markdown",
   "metadata": {},
   "source": [
    "# Jogo: O Reino de Dragões!!!"
   ]
  },
  {
   "cell_type": "markdown",
   "metadata": {},
   "source": [
    "Nessa seção vamos programar um jogo bobo! kkkkk Mas esse jogo é bom para melhorar a nossa capacidade de programar. Este jogo foi adaptado do livro [Invert Your Own Computer Game](https://inventwithpython.com/)<br>\n",
    "Como é esse jogo? "
   ]
  },
  {
   "cell_type": "markdown",
   "metadata": {},
   "source": [
    ">Imagina que você está em uma terra cheia de dragões! Na sua frente,\n",
    "você vê duas cavernas. Em uma caverna, o dragão é amigável\n",
    "e compartilhará seu tesouro com você. O outro dragão\n",
    "é ganancioso e faminto, e te comerá à vista.<br>\n",
    "**Em qual caverna você entrará? (1 ou 2)**<br>\n",
    "1 <br>\n",
    "Você se aproxima da caverna ...<br>\n",
    "É escuro e assustador ...<br>\n",
    "Um dragão grande pula na sua frente! Ele abre as mandíbulas e ...<br>\n",
    "Devora você em uma mordida!<br>\n",
    "**Você quer jogar de novo? (sim ou não)**<br>\n",
    "não"
   ]
  },
  {
   "cell_type": "markdown",
   "metadata": {},
   "source": [
    "Antes de continuar vamos conhecer outra estrutura condicional do Python"
   ]
  },
  {
   "cell_type": "markdown",
   "metadata": {},
   "source": [
    "## Loop e condição: `while`"
   ]
  },
  {
   "cell_type": "markdown",
   "metadata": {},
   "source": [
    "`while` é a mistrua de `if` e um loop `for`, ou seja, verifica uma condição e estiver verdadeira faz uma operação e volta a verificar a condição. Então essa estrutura é um pouco perigosa! Porque se a condição não vire falsa o `while` vai continuar até o fim dos tempos! vamos ver um `while` perigoso:\n",
    "```python\n",
    "while 1<2:\n",
    "    print(\"Eu amo a minha mãe!\")\n",
    "```\n",
    "Esse loop vai printar \"Eu amo minha mãe\" eternamente! É uma excelente frase mas não executem esse codigo! kkkk <br>\n",
    "Agora um `while` bom é "
   ]
  },
  {
   "cell_type": "code",
   "execution_count": 4,
   "metadata": {
    "scrolled": false
   },
   "outputs": [
    {
     "name": "stdout",
     "output_type": "stream",
     "text": [
      "0\n",
      "1\n",
      "2\n",
      "3\n",
      "4\n"
     ]
    }
   ],
   "source": [
    "i = 0\n",
    "\n",
    "while i<5:\n",
    "    print(i)\n",
    "    i = i + 1 # i+=1"
   ]
  },
  {
   "cell_type": "markdown",
   "metadata": {},
   "source": [
    "## O Jogo"
   ]
  },
  {
   "cell_type": "code",
   "execution_count": 22,
   "metadata": {},
   "outputs": [
    {
     "name": "stdout",
     "output_type": "stream",
     "text": [
      "Imagina que você está em uma terra cheia de dragões! \n",
      "    Na sua frente, você vê duas cavernas. Em uma caverna, o dragão é amigável e \n",
      "    compartilhará seu tesouro com você. O outro dragão é ganancioso e faminto, e te comerá à vista..\n",
      "\n",
      "Em qual caverna você entrará? (1 ou 2)\n",
      "1\n",
      "Você se aproxima da caverna ...\n",
      "É escuro e assustador ...\n",
      "Um dragão grande pula na sua frente! Ele abre as mandíbulas e ...\n",
      "\n",
      "Devora você em uma mordida!\n",
      "Você quer jogar de novo? (sim ou não)\n",
      "não\n"
     ]
    }
   ],
   "source": [
    "import random\n",
    "import time\n",
    "\n",
    "def displayIntro():\n",
    "    print('''Imagina que você está em uma terra cheia de dragões! \n",
    "    Na sua frente, você vê duas cavernas. Em uma caverna, o dragão é amigável e \n",
    "    compartilhará seu tesouro com você. O outro dragão é ganancioso e faminto, e te comerá à vista..''')\n",
    "    print()\n",
    "\n",
    "def chooseCave():\n",
    "    cave = ''\n",
    "    while cave != '1' and cave != '2':\n",
    "        print('Em qual caverna você entrará? (1 ou 2)')\n",
    "        cave = input()\n",
    "\n",
    "    return cave\n",
    "\n",
    "def checkCave(chosenCave):\n",
    "    print('Você se aproxima da caverna ...')\n",
    "    time.sleep(2)\n",
    "    print('É escuro e assustador ...')\n",
    "    time.sleep(2)\n",
    "    print('Um dragão grande pula na sua frente! Ele abre as mandíbulas e ...')\n",
    "    print()\n",
    "    time.sleep(2)\n",
    "\n",
    "    friendlyCave = random.randint(1, 2)\n",
    "\n",
    "    if chosenCave == str(friendlyCave):\n",
    "         print('Presentia voce com seu tesouro!')\n",
    "    else:\n",
    "         print('Devora você em uma mordida!')\n",
    "\n",
    "playAgain = 'sim'\n",
    "while playAgain == 'sim':\n",
    "    displayIntro()\n",
    "    caveNumber = chooseCave()\n",
    "    checkCave(caveNumber)\n",
    "\n",
    "    print('\\nVocê quer jogar de novo? (sim ou não)')\n",
    "    playAgain = input()"
   ]
  },
  {
   "cell_type": "markdown",
   "metadata": {},
   "source": [
    "Agora vamos montar uma interface grafica para o nosso jogo"
   ]
  },
  {
   "cell_type": "code",
   "execution_count": 2,
   "metadata": {},
   "outputs": [],
   "source": [
    "import tkinter as tk\n",
    "import tkinter.font as tkFont\n",
    "\n",
    "import random\n",
    "\n",
    "\n",
    "\n",
    "def one():\n",
    "    caverna.set(1)\n",
    "    checkCave(caverna.get())\n",
    "\n",
    "def two():\n",
    "    caverna.set(1)\n",
    "    checkCave(caverna.get())\n",
    "    \n",
    "def display(text, var):\n",
    "    var.set(text)\n",
    "    \n",
    "    \n",
    "def checkCave(chosenCave):\n",
    "    #x.set('Você se aproxima da caverna ...')\n",
    "    \n",
    "    window.after(1000, lambda: display('Você se aproxima da caverna ...', x))\n",
    "    window.after(3000, lambda: display('É escuro e assustador ...', y))\n",
    "    window.after(5000, lambda: display('Um dragão grande pula na sua frente! Ele abre as mandíbulas e ...', z))\n",
    "    \n",
    "    friendlyCave = random.randint(1, 2)\n",
    "    \n",
    "\n",
    "    if chosenCave == friendlyCave:\n",
    "        window.after(8000, lambda: display('Presentia voce com seu tesouro!', w))\n",
    "         \n",
    "    else:\n",
    "        window.after(8000, lambda: display('Devora você em uma mordida!', w))\n",
    "        \n",
    "\n",
    "\n",
    "window = tk.Tk()\n",
    "window.title(\"O Reino de Dragões!!!\")\n",
    "window.geometry('500x300')\n",
    "fontStyle = tkFont.Font(family=\"Lutos\", size=11)\n",
    "\n",
    "\n",
    "lbl1 = tk.Label(window, text = '''Imagina que você está em uma terra cheia de dragões! \n",
    "Na sua frente, você vê duas cavernas. \n",
    "Em uma caverna, o dragão é amigável e compartilhará seu tesouro com você. O outro dragão é ganancioso e faminto, e o comerá à vista..''',\n",
    "               wraplength=500, justify = tk.CENTER, anchor = 'w', font = fontStyle)\n",
    "lbl1.grid(row=0, column = 0, columnspan=2)    \n",
    "\n",
    "caverna = tk.IntVar()\n",
    "\n",
    "b1 = tk.Button(window, text = \"1\", pady = 15, padx = 15, command = one)\n",
    "b1.grid(row = 1, column = 0, sticky = 'e')\n",
    "\n",
    "b2 = tk.Button(window, text = \"2\", pady = 15, padx = 15, command = two)\n",
    "b2.grid(row = 1, column = 1, sticky = 'w')\n",
    "\n",
    "x = tk.StringVar()\n",
    "x.set('')\n",
    "y = tk.StringVar()\n",
    "y.set('')\n",
    "z = tk.StringVar()\n",
    "z.set('')\n",
    "w = tk.StringVar()\n",
    "w.set('')\n",
    "\n",
    "\n",
    "l1 = tk.Label(window, textvariable = x).grid(row=2, column=0, columnspan=2)\n",
    "l2 = tk.Label(window, textvariable = y).grid(row=3, column=0, columnspan=2)\n",
    "l3 = tk.Label(window, textvariable = z).grid(row=4, column=0, columnspan=2)\n",
    "l4 = tk.Label(window, textvariable = w, font = fontStyle, fg = 'red').grid(row=5, column=0, columnspan=2)\n",
    "\n",
    "\n",
    "\n",
    "window.mainloop()"
   ]
  },
  {
   "cell_type": "code",
   "execution_count": null,
   "metadata": {},
   "outputs": [],
   "source": []
  }
 ],
 "metadata": {
  "kernelspec": {
   "display_name": "Python 3",
   "language": "python",
   "name": "python3"
  },
  "language_info": {
   "codemirror_mode": {
    "name": "ipython",
    "version": 3
   },
   "file_extension": ".py",
   "mimetype": "text/x-python",
   "name": "python",
   "nbconvert_exporter": "python",
   "pygments_lexer": "ipython3",
   "version": "3.7.6"
  },
  "toc": {
   "base_numbering": 1,
   "nav_menu": {},
   "number_sections": true,
   "sideBar": true,
   "skip_h1_title": false,
   "title_cell": "Table of Contents",
   "title_sidebar": "Contents",
   "toc_cell": false,
   "toc_position": {},
   "toc_section_display": true,
   "toc_window_display": false
  },
  "varInspector": {
   "cols": {
    "lenName": 16,
    "lenType": 16,
    "lenVar": 40
   },
   "kernels_config": {
    "python": {
     "delete_cmd_postfix": "",
     "delete_cmd_prefix": "del ",
     "library": "var_list.py",
     "varRefreshCmd": "print(var_dic_list())"
    },
    "r": {
     "delete_cmd_postfix": ") ",
     "delete_cmd_prefix": "rm(",
     "library": "var_list.r",
     "varRefreshCmd": "cat(var_dic_list()) "
    }
   },
   "types_to_exclude": [
    "module",
    "function",
    "builtin_function_or_method",
    "instance",
    "_Feature"
   ],
   "window_display": false
  }
 },
 "nbformat": 4,
 "nbformat_minor": 4
}
