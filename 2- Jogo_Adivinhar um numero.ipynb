{
 "cells": [
  {
   "cell_type": "markdown",
   "metadata": {},
   "source": [
    "# Operadores Boleanos"
   ]
  },
  {
   "cell_type": "markdown",
   "metadata": {},
   "source": [
    "Na logica classica, temos dois valores boleanos, `False` e `True`. Um argumento logico (classico) ou é verdadeiro ou falso, não tem meio termo! Então na hora de decidir sobre uma condição o resultado deve ser um dos dois. Para checar uma condição no Python usamos o simbolo `==` (não errei! são dois sinais de igualidade mesmo). Vamos ver na pratica"
   ]
  },
  {
   "cell_type": "code",
   "execution_count": 5,
   "metadata": {},
   "outputs": [
    {
     "data": {
      "text/plain": [
       "False"
      ]
     },
     "execution_count": 5,
     "metadata": {},
     "output_type": "execute_result"
    }
   ],
   "source": [
    "x = 1\n",
    "y = 2\n",
    "\n",
    "x == y"
   ]
  },
  {
   "cell_type": "markdown",
   "metadata": {},
   "source": [
    "Obviamente \"1\" não é igual \"2\". Agora entra outra questão; se a gente tiver mais de uma condição para verificar, o que vamos fazer? Depende! Isso depende como a gente quer decidir. Vamos imaginar a seguinte situação. \n",
    "**Ir para praia!**<br>\n",
    "Como cada pessoa tem um gosto. decidir se a situação está favoravel para ir na praia é complicado! Eu, pessoalmente, vou na praia se a temperatura estiver entre 25-35 **ou** o ceu estiver nublado. Tem gente que vai na praia se o temperatura estiver acima de 35 **e** o ceu estiver ensolarado. Esse **ou** e **e** são importantes. Na seguinte condição eu vou na praia?\n",
    "```python\n",
    "clima = \"nublado\"\n",
    "temperatura = 38\n",
    "```\n",
    "Vamos perguntar para o Python"
   ]
  },
  {
   "cell_type": "code",
   "execution_count": 6,
   "metadata": {},
   "outputs": [
    {
     "data": {
      "text/plain": [
       "True"
      ]
     },
     "execution_count": 6,
     "metadata": {},
     "output_type": "execute_result"
    }
   ],
   "source": [
    "clima = \"nublado\"\n",
    "temperatura = 38\n",
    "clima == \"nublado\" or 25<=temperatura<=35"
   ]
  },
  {
   "cell_type": "markdown",
   "metadata": {},
   "source": [
    "Sim, eu vou! Porque uma das condições é verdadeira. Mas se eu quisesse as duas condições sejam verdadeiras (**e** no lugar de **ou**)"
   ]
  },
  {
   "cell_type": "code",
   "execution_count": 49,
   "metadata": {},
   "outputs": [
    {
     "name": "stdout",
     "output_type": "stream",
     "text": [
      "o clima de hoje é 'nublado' ou 'ensolarado'?nublado\n",
      "quanto é a tempretatura no momento38\n"
     ]
    },
    {
     "data": {
      "text/plain": [
       "False"
      ]
     },
     "execution_count": 49,
     "metadata": {},
     "output_type": "execute_result"
    }
   ],
   "source": [
    "clima = input(\"o clima de hoje é 'nublado' ou 'ensolarado'?\")\n",
    "temperatura = input(\"quanto é a tempretatura no momento\")\n",
    "clima == \"nublado\" and 25<=int(temperatura)<=35"
   ]
  },
  {
   "cell_type": "markdown",
   "metadata": {},
   "source": [
    "Então, se eu fosse uma pessoa exigente, não iria na praia hoje!"
   ]
  },
  {
   "cell_type": "markdown",
   "metadata": {},
   "source": [
    "# Estruturais condicionais no Python (if/else)"
   ]
  },
  {
   "cell_type": "markdown",
   "metadata": {},
   "source": [
    "Continuando a discussão acima, muitas vezes na vida real, dependendo de uma condição, temos que tomar uma decição. Por exemplo: \n",
    "- Se amanha estiver nublado -> pegar guarda chuva\n",
    "- Se amanha estiver ensolarado -> vestir bermuda\n",
    "- Se amanha estiver ventando muito -> levar casaco\n",
    "- Fora disso -> vestir jeans\n",
    "<br>\n",
    "Como podemos implementar isso no Python? É facil:\n",
    "\n",
    "```python\n",
    "if clima == nublado:\n",
    "    pegar guarda chuva\n",
    "elif clima == ensolarado:\n",
    "    vestir bermuda\n",
    "elif clima == ventando:\n",
    "    levar casaco\n",
    "else:\n",
    "    vestir jeans\n",
    "```\n",
    "prestem bastante atenção em `:` no final das linhas de `if`, `elif` e `else`. No Python o inicio e termino de uma estrutura condicional é determinada com a indentação. Olhem bem no codigo. `if` está no inicio da linha, mas `pegar guarda chuva` está para dentro por 4 espaçoes (1 TAB). Esse é muito importante. <br>\n",
    "Agora vamos ver um exemplo "
   ]
  },
  {
   "cell_type": "code",
   "execution_count": 50,
   "metadata": {},
   "outputs": [
    {
     "name": "stdout",
     "output_type": "stream",
     "text": [
      "qual é o seu nome? Clarice\n",
      "Não te conheço! Quem é voce?!\n"
     ]
    }
   ],
   "source": [
    "name = input(\"qual é o seu nome? \")\n",
    "\n",
    "if name == \"vahid\":\n",
    "    print(\" Olá Vahid\")\n",
    "elif name == \"bruno\":\n",
    "    print(\" Olá Bruno\")\n",
    "else:\n",
    "    print(\"Não te conheço! Quem é voce?!\")"
   ]
  },
  {
   "cell_type": "markdown",
   "metadata": {},
   "source": [
    "Agora vamos aperfeiçoar o codigo acima. Na linha `if name == \"vahid\"` estamos comparando o nome inserindo com o string \"vahid\" (com a letra 'v' em minusculo). Então se alguem inserir o nome \"Vahid\" (ou \"BRUNO\") a condição `if name == \"vahid\"` (ou `if name == \"bruno\"`)vai dar `False`, ou seja, não vai entrar no `if` e vai entrar no `else`. O que podemos fazer? O Python tem uma bagagem grande para mexer nos strings. Aqui vamos usar o atributo `.lower()` para impedir o problema acima."
   ]
  },
  {
   "cell_type": "code",
   "execution_count": 18,
   "metadata": {
    "scrolled": false
   },
   "outputs": [
    {
     "name": "stdout",
     "output_type": "stream",
     "text": [
      "qual é o seu nome? f\n",
      "Não te conheço! Quem é voce?!\n"
     ]
    }
   ],
   "source": [
    "name = input(\"qual é o seu nome? \").lower()\n",
    "\n",
    "if name == \"vahid\":\n",
    "    print(\" Olá Vahid\")\n",
    "elif name == \"bruno\":\n",
    "    print(\" Olá Bruno\")\n",
    "else:\n",
    "    print(\"Não te conheço! Quem é voce?!\")"
   ]
  },
  {
   "cell_type": "markdown",
   "metadata": {},
   "source": [
    "# Jogo: Advinhar um numero"
   ]
  },
  {
   "cell_type": "markdown",
   "metadata": {},
   "source": [
    "Só para distrair, vamos criar um jogo. O programa escolhe um numero aleatorio e a gente tem que advinhar qual é o numero. Nos teremos 3 chances para advinhar. Vamos ver se somos sortudos! kkkk"
   ]
  },
  {
   "cell_type": "markdown",
   "metadata": {},
   "source": [
    "O que a gente precisa? Uma interface grafica e um mecanismo para gerar u numero aleatorio e verificar se acertamos. Vamos pensar com mais calma sobre cada um dessas partes:\n",
    "- A interface grafica: a interface tem que ter um `Text` para a gente poder inserir o numero pensado. Um `Label` para mostrar se acertamos ou não. Outro `Label` para mostrar quantas vez tentamos. E finalmente um `Button` para a gente clicar depois de entrar o numero pensado.<br>\n",
    "- O mecanismo: Para gerar um numero inteiro aleatorio podemos usar do modulo `random` do Python. A gente terá 3 chances, então o programa tem que nos perguntar 3 vezes. Podemos usar um loop `for` para fazer isso. "
   ]
  },
  {
   "cell_type": "markdown",
   "metadata": {},
   "source": [
    "## Loop `for`"
   ]
  },
  {
   "cell_type": "markdown",
   "metadata": {},
   "source": [
    "Para repetir um procedimento podemos usar `for`. Por exemplo, vamos printar os numeros entre 0 e 4 usando um loop `for`"
   ]
  },
  {
   "cell_type": "code",
   "execution_count": 8,
   "metadata": {},
   "outputs": [
    {
     "name": "stdout",
     "output_type": "stream",
     "text": [
      "0\n",
      "1\n",
      "2\n",
      "3\n",
      "4\n"
     ]
    }
   ],
   "source": [
    "for num in range(5):\n",
    "    print(num)"
   ]
  },
  {
   "cell_type": "markdown",
   "metadata": {},
   "source": [
    "Beleza! Mas o que é esse `range`?!  É uma função que gera uma sequencia de numeros, `range(primeiro, ultimo, passo)`. A `range` não mostra esses numeros para a gente, só serve para dentro de um `loop`. "
   ]
  },
  {
   "cell_type": "code",
   "execution_count": 9,
   "metadata": {},
   "outputs": [
    {
     "data": {
      "text/plain": [
       "range(1, 10, 2)"
      ]
     },
     "execution_count": 9,
     "metadata": {},
     "output_type": "execute_result"
    }
   ],
   "source": [
    "range(1,10,2)"
   ]
  },
  {
   "cell_type": "code",
   "execution_count": 10,
   "metadata": {},
   "outputs": [
    {
     "name": "stdout",
     "output_type": "stream",
     "text": [
      "1\n",
      "3\n",
      "5\n",
      "7\n",
      "9\n"
     ]
    }
   ],
   "source": [
    "for i in range(1,10,2):\n",
    "    print(i)"
   ]
  },
  {
   "cell_type": "markdown",
   "metadata": {},
   "source": [
    "Existe outra forma de gerar numero para fazer loop, criar uma lista (`list`). Uma lista é um conjunto de objetos (integer, string, ...). Para definir uma lista"
   ]
  },
  {
   "cell_type": "code",
   "execution_count": 11,
   "metadata": {},
   "outputs": [],
   "source": [
    "x = [2, 3, \"vahid\", 'FAT']"
   ]
  },
  {
   "cell_type": "code",
   "execution_count": 12,
   "metadata": {},
   "outputs": [
    {
     "name": "stdout",
     "output_type": "stream",
     "text": [
      "2\n",
      "3\n",
      "vahid\n",
      "FAT\n"
     ]
    }
   ],
   "source": [
    "for i in x:\n",
    "    print(i)"
   ]
  },
  {
   "cell_type": "markdown",
   "metadata": {},
   "source": [
    "Para acessar um elemento da lista usamos o indice do elemeto. "
   ]
  },
  {
   "cell_type": "code",
   "execution_count": 13,
   "metadata": {},
   "outputs": [
    {
     "name": "stdout",
     "output_type": "stream",
     "text": [
      "2\n"
     ]
    }
   ],
   "source": [
    "print(x[0])"
   ]
  },
  {
   "cell_type": "markdown",
   "metadata": {},
   "source": [
    "**Preste atenção que os indices começam do zero!**"
   ]
  },
  {
   "cell_type": "markdown",
   "metadata": {},
   "source": [
    "Para mudar um elemento da lista é só o substituir"
   ]
  },
  {
   "cell_type": "code",
   "execution_count": 14,
   "metadata": {
    "scrolled": true
   },
   "outputs": [
    {
     "name": "stdout",
     "output_type": "stream",
     "text": [
      "['Python', 3, 'vahid', 'FAT']\n"
     ]
    }
   ],
   "source": [
    "x[0] = \"Python\"\n",
    "print(x)"
   ]
  },
  {
   "cell_type": "markdown",
   "metadata": {},
   "source": [
    "As listas são objetos `iteraveis` ou seja, dentro de um loop podemos iterar (andar) nos seus elementos. Podemos fazer iteração em um string tambem! "
   ]
  },
  {
   "cell_type": "code",
   "execution_count": 27,
   "metadata": {},
   "outputs": [
    {
     "name": "stdout",
     "output_type": "stream",
     "text": [
      "u\n",
      "n\n",
      "i\n",
      "v\n",
      "e\n",
      "r\n",
      "s\n",
      "i\n",
      "d\n",
      "a\n",
      "d\n",
      "e\n"
     ]
    }
   ],
   "source": [
    "x = \"universidade\"\n",
    "\n",
    "for i in x:\n",
    "    print(i)"
   ]
  },
  {
   "cell_type": "markdown",
   "metadata": {},
   "source": [
    "Para ver o tamanho de um string ou uma lista usamos o comando `len`"
   ]
  },
  {
   "cell_type": "code",
   "execution_count": 29,
   "metadata": {},
   "outputs": [
    {
     "data": {
      "text/plain": [
       "10"
      ]
     },
     "execution_count": 29,
     "metadata": {},
     "output_type": "execute_result"
    }
   ],
   "source": [
    "x = list(range(10))\n",
    "len(x)"
   ]
  },
  {
   "cell_type": "code",
   "execution_count": 30,
   "metadata": {},
   "outputs": [
    {
     "data": {
      "text/plain": [
       "12"
      ]
     },
     "execution_count": 30,
     "metadata": {},
     "output_type": "execute_result"
    }
   ],
   "source": [
    "x = \"universidade\"\n",
    "len(x)"
   ]
  },
  {
   "cell_type": "markdown",
   "metadata": {},
   "source": [
    "## Numeros Aleatorios (`random`)"
   ]
  },
  {
   "cell_type": "markdown",
   "metadata": {},
   "source": [
    "O python tem um modulo que gerar numeros aleatorios. Vamos gerar um numero inteiro aleatorio entre 0 e 10"
   ]
  },
  {
   "cell_type": "code",
   "execution_count": 17,
   "metadata": {},
   "outputs": [],
   "source": [
    "import random"
   ]
  },
  {
   "cell_type": "code",
   "execution_count": 17,
   "metadata": {},
   "outputs": [
    {
     "data": {
      "text/plain": [
       "10"
      ]
     },
     "execution_count": 17,
     "metadata": {},
     "output_type": "execute_result"
    }
   ],
   "source": [
    "random.randint(0,10)"
   ]
  },
  {
   "cell_type": "markdown",
   "metadata": {},
   "source": [
    "Agora vamos escolher aleatoriamente da lista `x` construido acima"
   ]
  },
  {
   "cell_type": "code",
   "execution_count": 18,
   "metadata": {},
   "outputs": [
    {
     "data": {
      "text/plain": [
       "3"
      ]
     },
     "execution_count": 18,
     "metadata": {},
     "output_type": "execute_result"
    }
   ],
   "source": [
    "random.choice(x)"
   ]
  },
  {
   "cell_type": "code",
   "execution_count": 19,
   "metadata": {
    "scrolled": true
   },
   "outputs": [
    {
     "data": {
      "text/plain": [
       "'Python'"
      ]
     },
     "execution_count": 19,
     "metadata": {},
     "output_type": "execute_result"
    }
   ],
   "source": [
    "random.choice(x)"
   ]
  },
  {
   "cell_type": "markdown",
   "metadata": {},
   "source": [
    "## O Jogo"
   ]
  },
  {
   "cell_type": "markdown",
   "metadata": {},
   "source": [
    "Aqui vamos implementar primeiro o jogo sem a interface grafica. Para montar a interface grafica, é melhor usar `while`."
   ]
  },
  {
   "cell_type": "code",
   "execution_count": 42,
   "metadata": {},
   "outputs": [
    {
     "name": "stdout",
     "output_type": "stream",
     "text": [
      "Oi! Qual é o seu nome?\n",
      "vahid\n",
      "Bem, vahid, eu estou pensando em um numero entre 1 e 20.\n",
      "Advinhe um numero: \n",
      "7\n",
      "Advinhe um numero: \n",
      "6\n",
      "Advinhe um numero: \n",
      "3\n",
      "Não. O numero que eu estava pensando era 13.\n"
     ]
    }
   ],
   "source": [
    "import random\n",
    "\n",
    "print('Oi! Qual é o seu nome?')\n",
    "myName = input()\n",
    "\n",
    "number = random.randint(1, 20)\n",
    "print(f'Bem, {myName}, eu estou pensando em um numero entre 1 e 20.')\n",
    "\n",
    "\n",
    "for vezes in range(3):\n",
    "    print(\"Advinhe um numero: \") # quatro espaços na frente da \"print\".\n",
    "    guess = input()\n",
    "    guess = int(guess)\n",
    "\n",
    "    if guess == number:\n",
    "        print(f'Show de bola, {myName}! Voce advinhou o meu numero em {vezes+1} tentativas!')\n",
    "        break\n",
    "\n",
    "if guess != number:\n",
    "\n",
    "    print(f'Não. O numero que eu estava pensando era {number}.')"
   ]
  },
  {
   "cell_type": "markdown",
   "metadata": {},
   "source": [
    "Para montar uma interface grafica desse jogo precisamos saber como montar uma função no Python. Vamos descutir isso na proxima seção"
   ]
  },
  {
   "cell_type": "code",
   "execution_count": null,
   "metadata": {},
   "outputs": [],
   "source": []
  }
 ],
 "metadata": {
  "kernelspec": {
   "display_name": "Python 3",
   "language": "python",
   "name": "python3"
  },
  "language_info": {
   "codemirror_mode": {
    "name": "ipython",
    "version": 3
   },
   "file_extension": ".py",
   "mimetype": "text/x-python",
   "name": "python",
   "nbconvert_exporter": "python",
   "pygments_lexer": "ipython3",
   "version": "3.7.6"
  },
  "toc": {
   "base_numbering": 1,
   "nav_menu": {},
   "number_sections": true,
   "sideBar": true,
   "skip_h1_title": false,
   "title_cell": "Table of Contents",
   "title_sidebar": "Contents",
   "toc_cell": false,
   "toc_position": {},
   "toc_section_display": true,
   "toc_window_display": false
  },
  "varInspector": {
   "cols": {
    "lenName": 16,
    "lenType": 16,
    "lenVar": 40
   },
   "kernels_config": {
    "python": {
     "delete_cmd_postfix": "",
     "delete_cmd_prefix": "del ",
     "library": "var_list.py",
     "varRefreshCmd": "print(var_dic_list())"
    },
    "r": {
     "delete_cmd_postfix": ") ",
     "delete_cmd_prefix": "rm(",
     "library": "var_list.r",
     "varRefreshCmd": "cat(var_dic_list()) "
    }
   },
   "types_to_exclude": [
    "module",
    "function",
    "builtin_function_or_method",
    "instance",
    "_Feature"
   ],
   "window_display": false
  }
 },
 "nbformat": 4,
 "nbformat_minor": 4
}
